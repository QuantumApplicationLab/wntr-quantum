{
 "cells": [
  {
   "cell_type": "markdown",
   "metadata": {},
   "source": [
    "# Define the system  "
   ]
  },
  {
   "cell_type": "code",
   "execution_count": 9,
   "metadata": {},
   "outputs": [
    {
     "data": {
      "text/plain": [
       "array([-5.03937008, -5.        , -4.96062992, -4.92125984, -4.88188976,\n",
       "       -4.84251969, -4.80314961, -4.76377953, -4.72440945, -4.68503937,\n",
       "       -4.64566929, -4.60629921, -4.56692913, -4.52755906, -4.48818898,\n",
       "       -4.4488189 , -4.40944882, -4.37007874, -4.33070866, -4.29133858,\n",
       "       -4.2519685 , -4.21259843, -4.17322835, -4.13385827, -4.09448819,\n",
       "       -4.05511811, -4.01574803, -3.97637795, -3.93700787, -3.8976378 ,\n",
       "       -3.85826772, -3.81889764, -3.77952756, -3.74015748, -3.7007874 ,\n",
       "       -3.66141732, -3.62204724, -3.58267717, -3.54330709, -3.50393701,\n",
       "       -3.46456693, -3.42519685, -3.38582677, -3.34645669, -3.30708661,\n",
       "       -3.26771654, -3.22834646, -3.18897638, -3.1496063 , -3.11023622,\n",
       "       -3.07086614, -3.03149606, -2.99212598, -2.95275591, -2.91338583,\n",
       "       -2.87401575, -2.83464567, -2.79527559, -2.75590551, -2.71653543,\n",
       "       -2.67716535, -2.63779528, -2.5984252 , -2.55905512, -2.51968504,\n",
       "       -2.48031496, -2.44094488, -2.4015748 , -2.36220472, -2.32283465,\n",
       "       -2.28346457, -2.24409449, -2.20472441, -2.16535433, -2.12598425,\n",
       "       -2.08661417, -2.04724409, -2.00787402, -1.96850394, -1.92913386,\n",
       "       -1.88976378, -1.8503937 , -1.81102362, -1.77165354, -1.73228346,\n",
       "       -1.69291339, -1.65354331, -1.61417323, -1.57480315, -1.53543307,\n",
       "       -1.49606299, -1.45669291, -1.41732283, -1.37795276, -1.33858268,\n",
       "       -1.2992126 , -1.25984252, -1.22047244, -1.18110236, -1.14173228,\n",
       "       -1.1023622 , -1.06299213, -1.02362205, -0.98425197, -0.94488189,\n",
       "       -0.90551181, -0.86614173, -0.82677165, -0.78740157, -0.7480315 ,\n",
       "       -0.70866142, -0.66929134, -0.62992126, -0.59055118, -0.5511811 ,\n",
       "       -0.51181102, -0.47244094, -0.43307087, -0.39370079, -0.35433071,\n",
       "       -0.31496063, -0.27559055, -0.23622047, -0.19685039, -0.15748031,\n",
       "       -0.11811024, -0.07874016, -0.03937008,  0.        ,  0.03937008,\n",
       "        0.07874016,  0.11811024,  0.15748031,  0.19685039,  0.23622047,\n",
       "        0.27559055,  0.31496063,  0.35433071,  0.39370079,  0.43307087,\n",
       "        0.47244094,  0.51181102,  0.5511811 ,  0.59055118,  0.62992126,\n",
       "        0.66929134,  0.70866142,  0.7480315 ,  0.78740157,  0.82677165,\n",
       "        0.86614173,  0.90551181,  0.94488189,  0.98425197,  1.02362205,\n",
       "        1.06299213,  1.1023622 ,  1.14173228,  1.18110236,  1.22047244,\n",
       "        1.25984252,  1.2992126 ,  1.33858268,  1.37795276,  1.41732283,\n",
       "        1.45669291,  1.49606299,  1.53543307,  1.57480315,  1.61417323,\n",
       "        1.65354331,  1.69291339,  1.73228346,  1.77165354,  1.81102362,\n",
       "        1.8503937 ,  1.88976378,  1.92913386,  1.96850394,  2.00787402,\n",
       "        2.04724409,  2.08661417,  2.12598425,  2.16535433,  2.20472441,\n",
       "        2.24409449,  2.28346457,  2.32283465,  2.36220472,  2.4015748 ,\n",
       "        2.44094488,  2.48031496,  2.51968504,  2.55905512,  2.5984252 ,\n",
       "        2.63779528,  2.67716535,  2.71653543,  2.75590551,  2.79527559,\n",
       "        2.83464567,  2.87401575,  2.91338583,  2.95275591,  2.99212598,\n",
       "        3.03149606,  3.07086614,  3.11023622,  3.1496063 ,  3.18897638,\n",
       "        3.22834646,  3.26771654,  3.30708661,  3.34645669,  3.38582677,\n",
       "        3.42519685,  3.46456693,  3.50393701,  3.54330709,  3.58267717,\n",
       "        3.62204724,  3.66141732,  3.7007874 ,  3.74015748,  3.77952756,\n",
       "        3.81889764,  3.85826772,  3.8976378 ,  3.93700787,  3.97637795,\n",
       "        4.01574803,  4.05511811,  4.09448819,  4.13385827,  4.17322835,\n",
       "        4.21259843,  4.2519685 ,  4.29133858,  4.33070866,  4.37007874,\n",
       "        4.40944882,  4.4488189 ,  4.48818898,  4.52755906,  4.56692913,\n",
       "        4.60629921,  4.64566929,  4.68503937,  4.72440945,  4.76377953,\n",
       "        4.80314961,  4.84251969,  4.88188976,  4.92125984,  4.96062992,\n",
       "        5.        ])"
      ]
     },
     "execution_count": 9,
     "metadata": {},
     "output_type": "execute_result"
    }
   ],
   "source": [
    "import numpy as np\n",
    "from qubols.solution_vector import SolutionVector_V2 as SolutionVector\n",
    "from qubols.mixed_solution_vector import MixedSolutionVector_V2 as MixedSolutionVector\n",
    "from qubols.encodings import  RangedEfficientEncoding, PositiveQbitEncoding\n",
    "\n",
    "\n",
    "nqbit = 5\n",
    "range = (4/(2**nqbit-1))\n",
    "flow_encoding = PositiveQbitEncoding(nqbit=nqbit, step=0.25, offset=-4, var_base_name=\"x\")\n",
    "head_encoding = PositiveQbitEncoding(nqbit=nqbit, step=0.25, offset=-4, var_base_name=\"x\")\n",
    "\n",
    "\n",
    "nqbit = 8\n",
    "flow_encoding = RangedEfficientEncoding(nqbit=nqbit, range=5., offset=+0.0, var_base_name=\"x\")\n",
    "head_encoding = RangedEfficientEncoding(nqbit=nqbit, range=5, offset=+0.0, var_base_name=\"x\")\n",
    "\n",
    "np.sort(flow_encoding.get_possible_values())\n"
   ]
  },
  {
   "cell_type": "code",
   "execution_count": 10,
   "metadata": {},
   "outputs": [],
   "source": [
    "sv1 = SolutionVector(1, encoding=flow_encoding)\n",
    "sv2 = SolutionVector(1, encoding=head_encoding)\n",
    "\n",
    "msv = MixedSolutionVector([sv1,sv2])"
   ]
  },
  {
   "cell_type": "code",
   "execution_count": 11,
   "metadata": {},
   "outputs": [
    {
     "data": {
      "text/plain": [
       "array([ 4., -3.])"
      ]
     },
     "execution_count": 11,
     "metadata": {},
     "output_type": "execute_result"
    }
   ],
   "source": [
    "import numpy as np\n",
    "A = np.array([\n",
    "    [1,   1,],\n",
    "    [ 1,  2,],\n",
    "])\n",
    "b = np.array([1,-2]).reshape(-1,1)\n",
    "ref_sol = np.linalg.solve(A, b).reshape(-1)\n",
    "ref_sol"
   ]
  },
  {
   "cell_type": "code",
   "execution_count": 12,
   "metadata": {},
   "outputs": [
    {
     "name": "stdout",
     "output_type": "stream",
     "text": [
      "ref:  [ 4. -3.] -> [4.015748031496063, -2.992125984251969]  energy:  -4.998449996899992\n",
      "sol:  [ 3.97637795 -2.99212598] -> [3.9763779527559056, -2.992125984251969]  energy:  -4.999689999380009\n",
      "[ 0.02362205 -0.00787402]\n"
     ]
    }
   ],
   "source": [
    "from qubols.qubo_poly_mixed_variables import QUBO_POLY\n",
    "import sparse \n",
    "from dwave.samplers import SimulatedAnnealingSampler\n",
    "from dwave.samplers import SteepestDescentSolver\n",
    "from dwave.samplers import TabuSampler\n",
    "from dimod import ExactSolver\n",
    "\n",
    "# sampler = TabuSampler()\n",
    "sampler = SimulatedAnnealingSampler()\n",
    "# sampler = ExactSolver() \n",
    "\n",
    "\n",
    "qubo = QUBO_POLY(msv, options={\"sampler\" : sampler} )\n",
    "matrices = tuple(sparse.COO(m) for m in [-1*b, A])\n",
    "\n",
    "bqm = qubo.create_bqm(matrices, strength=1E3)\n",
    "\n",
    "# sample\n",
    "sampleset = qubo.sample_bqm(bqm, num_reads=10000)\n",
    "\n",
    "# decode\n",
    "sol  = qubo.decode_solution(sampleset.lowest().record[0][0])\n",
    "sol = np.array(sol[0]+sol[1])\n",
    "\n",
    "data_ref, eref = qubo.compute_energy(ref_sol, bqm)\n",
    "data_sol, esol = qubo.compute_energy(sol, bqm)\n",
    "\n",
    "print('ref: ', ref_sol, '->', data_ref[0], ' energy: ', eref)\n",
    "print('sol: ', sol, '->', data_sol[0], ' energy: ', esol)\n",
    "print(ref_sol - sol)\n"
   ]
  },
  {
   "cell_type": "code",
   "execution_count": 53,
   "metadata": {},
   "outputs": [
    {
     "data": {
      "text/plain": [
       "Variables(['x_001_001', 'x_001_002', 'x_001_003', 'x_001_004', 'x_001_005', 'x_001_006', 'x_001_007', 'x_002_001', 'x_002_002', 'x_002_003', 'x_002_004', 'x_002_005', 'x_002_006', 'x_002_007', 'x_003_001', 'x_003_002', 'x_003_003', 'x_003_004', 'x_003_005', 'x_003_006', 'x_003_007', 'x_004_001', 'x_004_002', 'x_004_003', 'x_004_004', 'x_004_005', 'x_004_006', 'x_004_007'])"
      ]
     },
     "execution_count": 53,
     "metadata": {},
     "output_type": "execute_result"
    }
   ],
   "source": [
    "bqm.variables"
   ]
  },
  {
   "cell_type": "code",
   "execution_count": 54,
   "metadata": {},
   "outputs": [
    {
     "ename": "NameError",
     "evalue": "name 'net' is not defined",
     "output_type": "error",
     "traceback": [
      "\u001b[0;31m---------------------------------------------------------------------------\u001b[0m",
      "\u001b[0;31mNameError\u001b[0m                                 Traceback (most recent call last)",
      "Cell \u001b[0;32mIn[54], line 1\u001b[0m\n\u001b[0;32m----> 1\u001b[0m \u001b[43mnet\u001b[49m\u001b[38;5;241m.\u001b[39mverify_solution(sol)\n",
      "\u001b[0;31mNameError\u001b[0m: name 'net' is not defined"
     ]
    }
   ],
   "source": [
    "net.verify_solution(sol)"
   ]
  },
  {
   "cell_type": "code",
   "execution_count": null,
   "metadata": {},
   "outputs": [
    {
     "data": {
      "text/plain": [
       "[1, 1, 1]"
      ]
     },
     "execution_count": 50,
     "metadata": {},
     "output_type": "execute_result"
    }
   ],
   "source": [
    "import itertools\n",
    "def find_closest(encoding, float):\n",
    "    \"\"\"get all the posible values encoded\n",
    "\n",
    "    Returns:\n",
    "        _type_: _description_\n",
    "    \"\"\"\n",
    "\n",
    "    min_diff = 1E12\n",
    "    closest_value = None \n",
    "    binary_encoding = None\n",
    "    for data in itertools.product([0, 1], repeat=encoding.nqbit):\n",
    "        val = encoding.decode_polynom(list(data)[::-1])\n",
    "        if np.abs(val-float) < min_diff:\n",
    "            min_diff  = np.abs(val-float)\n",
    "            closest_value = val \n",
    "            binary_encoding = list(data)[::-1]\n",
    "\n",
    "    return closest_value, binary_encoding \n",
    "vmin, bins = find_closest(flow_encoding, 2.)\n",
    "vmin\n",
    "bins"
   ]
  },
  {
   "cell_type": "code",
   "execution_count": null,
   "metadata": {},
   "outputs": [],
   "source": [
    "var = sampleset.lowest().variables\n",
    "data = np.array(sampleset.lowest().record[0][0])\n",
    "data_real_var = data[qubo.index_variables]\n",
    "\n",
    "for v, d in zip(var, data):\n",
    "    if v not in qubo.mapped_variables:\n",
    "        x0, x1 = v.split('*')\n",
    "        i0 = qubo.index_variables[qubo.mapped_variables.index(x0)]\n",
    "        i1 = qubo.index_variables[qubo.mapped_variables.index(x1)]\n",
    "        assert(d == data[i0] * data[i1])"
   ]
  },
  {
   "cell_type": "code",
   "execution_count": null,
   "metadata": {},
   "outputs": [
    {
     "data": {
      "text/plain": [
       "<matplotlib.collections.PathCollection at 0x7d37f3308b50>"
      ]
     },
     "execution_count": 52,
     "metadata": {},
     "output_type": "execute_result"
    },
    {
     "data": {
      "image/png": "[encoded data removed]",
      "text/plain": [
       "<Figure size 640x480 with 1 Axes>"
      ]
     },
     "metadata": {},
     "output_type": "display_data"
    }
   ],
   "source": [
    "import matplotlib.pyplot as plt\n",
    "energy = []\n",
    "residue = []\n",
    "for s in sampleset.record:\n",
    "    energy.append(s[1])\n",
    "    sol = qubo.decode_solution(s[0])\n",
    "    r = net.verify_solution(np.array(sol).reshape(-1,))\n",
    "    residue.append(np.linalg.norm(r))\n",
    "plt.scatter(energy, (residue))\n",
    "\n",
    "el, rl = [], []\n",
    "for s in sampleset.lowest().record:\n",
    "    el.append(s[1])\n",
    "    sol = qubo.decode_solution(s[0])\n",
    "    r = net.verify_solution(np.array(sol).reshape(-1,))\n",
    "    rl.append(np.linalg.norm(r+1E-12))\n",
    "plt.scatter(el, rl, c='red')"
   ]
  },
  {
   "cell_type": "code",
   "execution_count": null,
   "metadata": {},
   "outputs": [
    {
     "name": "stderr",
     "output_type": "stream",
     "text": [
      "Exception ignored in: <bound method IPythonKernel._clean_thread_parent_frames of <ipykernel.ipkernel.IPythonKernel object at 0x7d385c05bac0>>\n",
      "Traceback (most recent call last):\n",
      "  File \"/home/nico/miniconda3/envs/vitens_wntr_1/lib/python3.9/site-packages/ipykernel/ipkernel.py\", line 775, in _clean_thread_parent_frames\n",
      "    def _clean_thread_parent_frames(\n",
      "KeyboardInterrupt: \n"
     ]
    }
   ],
   "source": [
    "from qubols.qubo_poly import QUBO_POLY\n",
    "from qubols.solution_vector import SolutionVector_V2 as SolutionVector\n",
    "import sparse \n",
    "from dwave.samplers import SimulatedAnnealingSampler\n",
    "from dwave.samplers import SteepestDescentSolver\n",
    "from dwave.samplers import TabuSampler\n",
    "\n",
    "encoding = RangedEfficientEncoding(nqbit=12, range=2.0, offset=0.0, var_base_name=\"x\")\n",
    "sol_vec = SolutionVector(4, encoding)\n",
    "\n",
    "qubo = QUBO_POLY(solution_vector=sol_vec, options={ 'num_reads':1000, 'sampler':SimulatedAnnealingSampler()})\n",
    "matrices = tuple(sparse.COO(m) for m in net.matrices)\n",
    "\n",
    "bqm = qubo.create_bqm(matrices, strength=10000)\n",
    "\n",
    "# sample\n",
    "sampleset = qubo.sample_bqm(bqm, num_reads=5000)\n",
    "\n",
    "# decode\n",
    "sol  = qubo.decode_solution(sampleset.lowest().record[0][0])\n",
    "sol = np.array(sol).reshape(-1)\n",
    "print(ref_sol)\n",
    "print(sol)\n",
    "print(ref_sol - sol)\n"
   ]
  },
  {
   "cell_type": "code",
   "execution_count": null,
   "metadata": {},
   "outputs": [],
   "source": []
  }
 ],
 "metadata": {
  "kernelspec": {
   "display_name": "vitens",
   "language": "python",
   "name": "python3"
  },
  "language_info": {
   "codemirror_mode": {
    "name": "ipython",
    "version": 3
   },
   "file_extension": ".py",
   "mimetype": "text/x-python",
   "name": "python",
   "nbconvert_exporter": "python",
   "pygments_lexer": "ipython3",
   "version": "3.9.0"
  }
 },
 "nbformat": 4,
 "nbformat_minor": 2
}
