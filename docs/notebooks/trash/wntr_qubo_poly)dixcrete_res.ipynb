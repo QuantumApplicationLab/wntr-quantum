{
 "cells": [
  {
   "cell_type": "markdown",
   "metadata": {},
   "source": [
    "# Define the system  "
   ]
  },
  {
   "cell_type": "code",
   "execution_count": 1,
   "metadata": {
    "metadata": {}
   },
   "outputs": [
    {
     "data": {
      "image/png": "[encoded data removed]",
      "text/plain": [
       "<Figure size 640x480 with 1 Axes>"
      ]
     },
     "metadata": {},
     "output_type": "display_data"
    },
    {
     "data": {
      "text/plain": [
       "<Axes: title={'center': '../networks/Net0_HW.inp'}>"
      ]
     },
     "execution_count": 1,
     "metadata": {},
     "output_type": "execute_result"
    }
   ],
   "source": [
    "import wntr\n",
    "import wntr_quantum\n",
    "\n",
    "# Create a water network model\n",
    "inp_file = '../networks/Net0_HW.inp'\n",
    "# inp_file = 'networks/Net2Loops.inp'\n",
    "wn = wntr.network.WaterNetworkModel(inp_file)\n",
    "\n",
    "# Graph the network\n",
    "wntr.graphics.plot_network(wn, title=wn.name, node_labels=True)\n"
   ]
  },
  {
   "cell_type": "markdown",
   "metadata": {},
   "source": [
    "## Expression of he network"
   ]
  },
  {
   "cell_type": "code",
   "execution_count": 2,
   "metadata": {},
   "outputs": [
    {
     "name": "stdout",
     "output_type": "stream",
     "text": [
      "cons:\n",
      "mass_balance[J1]:   ((expected_demand[J1]-flow[P1])+flow[P2])\n",
      "mass_balance[D1]:   (expected_demand[D1]-flow[P2])\n",
      "approx_hazen_williams_headloss[P1]:   (((((((-((sign(flow[P1]))))*hw_resistance[P1])*((abs(flow[P1]))**1.852))-((1e-05*(hw_resistance[P1]**0.5))*flow[P1]))-(((sign(flow[P1]))*minor_loss[P1])*(flow[P1]**2.0)))+source_head[R1])-head[J1])\n",
      "approx_hazen_williams_headloss[P2]:   (((((((-((sign(flow[P2]))))*hw_resistance[P2])*((abs(flow[P2]))**1.852))-((1e-05*(hw_resistance[P2]**0.5))*flow[P2]))-(((sign(flow[P2]))*minor_loss[P2])*(flow[P2]**2.0)))+head[J1])-head[D1])\n",
      "\n",
      "vars:\n",
      "flow[P1]:   flow[P1]\n",
      "flow[P2]:   flow[P2]\n",
      "head[J1]:   head[J1]\n",
      "head[D1]:   head[D1]\n",
      "\n"
     ]
    }
   ],
   "source": [
    "from wntr.sim.hydraulics import create_hydraulic_model\n",
    "model, updater = create_hydraulic_model(wn)\n",
    "print(model.__str__())\n"
   ]
  },
  {
   "cell_type": "code",
   "execution_count": 3,
   "metadata": {},
   "outputs": [
    {
     "name": "stdout",
     "output_type": "stream",
     "text": [
      "0.0\n",
      "0.05\n",
      "234518508.2718721\n",
      "10512430570.450115\n",
      "30.0\n"
     ]
    }
   ],
   "source": [
    "print(model.expected_demand['J1'].value)\n",
    "print(model.expected_demand['D1'].value)\n",
    "print(model.hw_resistance['P1'].value)\n",
    "print(model.hw_resistance['P2'].value)\n",
    "print(model.source_head['R1'].value)"
   ]
  },
  {
   "cell_type": "code",
   "execution_count": 11,
   "metadata": {},
   "outputs": [],
   "source": [
    "import numpy as np\n",
    "\n",
    "hw_res_list = [ {'P1':1.0, 'P2':1.0}, {'P1':2.0, 'P2':1.0}, {'P1':1.0, 'P2':2.0}, {'P1':2.0, 'P2':2.0}]\n",
    "exp_dem = {'J1':-1, 'D1':1}\n",
    "src_hd = {'R1':2.0}\n",
    "\n",
    "def network_function(input):\n",
    "    \n",
    "    flow = {'P1':input[0], 'P2':input[1]}\n",
    "    head = {'J1':input[2], 'D1':input[3]}\n",
    "\n",
    "    def mb_j1(flow):\n",
    "        return exp_dem['J1'] - flow['P1'] + flow['P2']\n",
    "    \n",
    "    def mb_d1(flow):\n",
    "        return exp_dem['D1'] - flow['P2']\n",
    "    \n",
    "    def hl_p1(head, flow):\n",
    "        return -hw_res['P1']*flow['P1']**2 + src_hd['R1'] - head['J1']\n",
    "\n",
    "    def hl_p2(head, flow):\n",
    "        return -hw_res['P2']*flow['P2']**2 + head['J1'] - head['D1']\n",
    "    \n",
    "    return np.array([\n",
    "        mb_j1(flow),\n",
    "        mb_d1(flow),\n",
    "        hl_p1(head, flow),\n",
    "        hl_p2(head, flow)\n",
    "    ])\n"
   ]
  },
  {
   "cell_type": "code",
   "execution_count": 12,
   "metadata": {},
   "outputs": [
    {
     "name": "stderr",
     "output_type": "stream",
     "text": [
      "/home/nico/QuantumApplicationLab/QuantumNewtonRaphson/quantum_newton_raphson/utils.py:74: SparseEfficiencyWarning: spsolve requires A be CSC or CSR matrix format\n",
      "  warn(\"spsolve requires A be CSC or CSR matrix format\", SparseEfficiencyWarning)\n"
     ]
    }
   ],
   "source": [
    "from quantum_newton_raphson.newton_raphson import newton_raphson\n",
    "res = []\n",
    "for hw_res in hw_res_list:\n",
    "    initial_point = np.random.rand(4)\n",
    "    res.append(newton_raphson(network_function, initial_point))\n",
    "    assert np.allclose(network_function(res[-1].solution), 0)"
   ]
  },
  {
   "cell_type": "code",
   "execution_count": 13,
   "metadata": {},
   "outputs": [
    {
     "data": {
      "text/plain": [
       "[NewtonRaphsonResult(solution=array([4.951e-22, 1.000e+00, 2.000e+00, 1.000e+00]), n_iter=2, diff=5.0058845957323683e-11, converged=True, linear_solver_results=[SPLUResult(solution=array([ 0.647, -0.356, -1.483, -1.497]), splu=<SuperLU object at 0x72d560a5a660>), SPLUResult(solution=array([-1.173e-12,  9.526e-12,  4.181e-01,  5.448e-01]), splu=<SuperLU object at 0x72d560ae8a50>)]),\n",
       " NewtonRaphsonResult(solution=array([-8.327e-17,  1.000e+00,  2.000e+00,  1.000e+00]), n_iter=2, diff=1.169997432270975e-11, converged=True, linear_solver_results=[SPLUResult(solution=array([ 0.179, -0.4  , -1.64 , -0.272]), splu=<SuperLU object at 0x72d560a5a6f0>), SPLUResult(solution=array([5.139e-12, 1.071e-11, 6.387e-02, 2.241e-01]), splu=<SuperLU object at 0x72d560ae8ae0>)]),\n",
       " NewtonRaphsonResult(solution=array([-1.093e-16,  1.000e+00,  2.000e+00,  5.409e-14]), n_iter=2, diff=1.615062250603927e-12, converged=True, linear_solver_results=[SPLUResult(solution=array([ 0.138, -0.133, -1.629,  0.405]), splu=<SuperLU object at 0x72d560ae8660>), SPLUResult(solution=array([3.961e-12, 3.545e-12, 1.898e-02, 5.409e-02]), splu=<SuperLU object at 0x72d560ae39c0>)]),\n",
       " NewtonRaphsonResult(solution=array([1.227e-21, 1.000e+00, 2.000e+00, 4.125e-11]), n_iter=2, diff=4.4402481691463436e-11, converged=True, linear_solver_results=[SPLUResult(solution=array([ 0.138, -0.836, -1.204, -1.064]), splu=<SuperLU object at 0x72d560ae86f0>), SPLUResult(solution=array([ 3.980e-12, -2.403e-11,  3.831e-02,  1.435e+00]), splu=<SuperLU object at 0x72d560a5a300>)])]"
      ]
     },
     "execution_count": 13,
     "metadata": {},
     "output_type": "execute_result"
    }
   ],
   "source": [
    "res"
   ]
  },
  {
   "cell_type": "code",
   "execution_count": 25,
   "metadata": {},
   "outputs": [],
   "source": [
    "def define_problem():\n",
    "    # system of equations\n",
    "    num_equations = 5\n",
    "    num_var = 6\n",
    "\n",
    "    P0 = np.zeros(num_equations)\n",
    "    P0[0] = exp_dem['J1']\n",
    "    P0[1] = exp_dem['D1']\n",
    "    P0[2] = src_hd['R1']\n",
    "    P0[3] = 0\n",
    "    P0[4] = 0\n",
    "\n",
    "    P1 = np.zeros((num_equations, num_var))\n",
    "    P1[0, 0] = -1\n",
    "    P1[0, 1] =  1\n",
    "    P1[0, 2] =  0 \n",
    "    P1[0, 3] =  0\n",
    "\n",
    "    P1[1, 0] =  0\n",
    "    P1[1, 1] = -1\n",
    "    P1[1, 2] =  0 \n",
    "    P1[1, 3] =  0\n",
    "\n",
    "    P1[2, 0] =  0\n",
    "    P1[2, 1] =  0\n",
    "    P1[2, 2] = -1 \n",
    "    P1[2, 3] =  0\n",
    "\n",
    "    P1[3, 0] =  0\n",
    "    P1[3, 1] =  0\n",
    "    P1[3, 2] =  1 \n",
    "    P1[3, 3] = -1\n",
    "\n",
    "    P1[4,4] = 1\n",
    "    P1[4,5] = 1\n",
    "   \n",
    "\n",
    "    P2 = np.zeros((num_equations, num_var, num_var))\n",
    "    P3 = np.zeros((num_equations, num_var, num_var, num_var))\n",
    "    P3[2, .., ..] = -1\n",
    "    P3[3, .., ..] = -1 \n",
    "\n",
    "    # search parameters\n",
    "    qubits_per_var = 2\n",
    "    basis = np.array([2**i for i in range(qubits_per_var)])\n",
    "\n",
    "    # basis_offset = np.array([-0.5, 1])\n",
    "    # basis_coeff = np.array([0.5, 1])\n",
    "\n",
    "    basis_offset = np.array([0.0, 0.0, 0.0, 0.0, 0.0, 0.0])\n",
    "    basis_coeff = np.array([1, 1, 1, 1, 1, 1])\n",
    "\n",
    "    basis_map = {\n",
    "        \"basis\": basis,\n",
    "        \"basis_offset\": basis_offset,\n",
    "        \"basis_coeff\": basis_coeff,\n",
    "    }\n",
    "\n",
    "    return (\n",
    "        num_equations,\n",
    "        num_var,\n",
    "        P0,\n",
    "        P1,\n",
    "        P2,\n",
    "        P3,\n",
    "        qubits_per_var,\n",
    "        basis,\n",
    "        basis_offset,\n",
    "        basis_coeff,\n",
    "        basis_map,\n",
    "    )"
   ]
  },
  {
   "cell_type": "code",
   "execution_count": 26,
   "metadata": {},
   "outputs": [
    {
     "name": "stdout",
     "output_type": "stream",
     "text": [
      "extended qubo\n",
      "ground state eigenvector =  [0. 0. 1. 0. 0. 1. 1. 0.]\n",
      "ground state eigenvalue  =  0.0\n",
      "solution                 =  [0.0, 1.0, 2.0, 1.0]\n",
      "\n",
      "upper triangular qubo\n",
      "ground state eigenvector =  [0. 0. 1. 0. 0. 1. 1. 0.]\n",
      "ground state eigenvalue  =  0.0\n",
      "solution                 =  [0.0, 1.0, 2.0, 1.0]\n",
      "\n",
      "reduced upper triangular qubo\n",
      "ground state eigenvector =  [0. 0. 1. 0. 0. 1. 1. 0.]\n",
      "ground state eigenvalue  =  0.0\n",
      "solution                 =  [0.0, 1.0, 2.0, 1.0]\n",
      "\n"
     ]
    }
   ],
   "source": [
    "from poly_brute_force import solve\n",
    "sol = solve(define_problem)"
   ]
  },
  {
   "cell_type": "code",
   "execution_count": null,
   "metadata": {},
   "outputs": [],
   "source": []
  }
 ],
 "metadata": {
  "kernelspec": {
   "display_name": "vitens",
   "language": "python",
   "name": "python3"
  },
  "language_info": {
   "codemirror_mode": {
    "name": "ipython",
    "version": 3
   },
   "file_extension": ".py",
   "mimetype": "text/x-python",
   "name": "python",
   "nbconvert_exporter": "python",
   "pygments_lexer": "ipython3",
   "version": "3.9.0"
  }
 },
 "nbformat": 4,
 "nbformat_minor": 2
}
