{
 "cells": [
  {
   "cell_type": "markdown",
   "metadata": {},
   "source": [
    "# Solv the sysmtem with WNTR SOLVER"
   ]
  },
  {
   "cell_type": "code",
   "execution_count": 50,
   "metadata": {
    "metadata": {}
   },
   "outputs": [
    {
     "data": {
      "image/png": "[encoded data removed]",
      "text/plain": [
       "<Figure size 640x480 with 1 Axes>"
      ]
     },
     "metadata": {},
     "output_type": "display_data"
    },
    {
     "name": "stdout",
     "output_type": "stream",
     "text": [
      "cons:\n",
      "mass_balance[J1]:   ((expected_demand[J1]-flow[P1])+flow[P2])\n",
      "mass_balance[D1]:   (expected_demand[D1]-flow[P2])\n",
      "approx_hazen_williams_headloss[P1]:   (((((((-((sign(flow[P1]))))*hw_resistance[P1])*((abs(flow[P1]))**1.852))-((1e-05*(hw_resistance[P1]**0.5))*flow[P1]))-(((sign(flow[P1]))*minor_loss[P1])*(flow[P1]**2.0)))+source_head[R1])-head[J1])\n",
      "approx_hazen_williams_headloss[P2]:   (((((((-((sign(flow[P2]))))*hw_resistance[P2])*((abs(flow[P2]))**1.852))-((1e-05*(hw_resistance[P2]**0.5))*flow[P2]))-(((sign(flow[P2]))*minor_loss[P2])*(flow[P2]**2.0)))+head[J1])-head[D1])\n",
      "\n",
      "vars:\n",
      "flow[P1]:   flow[P1]\n",
      "flow[P2]:   flow[P2]\n",
      "head[J1]:   head[J1]\n",
      "head[D1]:   head[D1]\n",
      "\n"
     ]
    }
   ],
   "source": [
    "import wntr\n",
    "import wntr_quantum\n",
    "from wntr.sim.hydraulics import create_hydraulic_model\n",
    "\n",
    "# Create a water network model\n",
    "inp_file = '../networks/Net0_HW.inp'\n",
    "# inp_file = '../networks/Net1_scenario1.inp'\n",
    "# inp_file = '../networks/Net2Loops.inp'\n",
    "wn = wntr.network.WaterNetworkModel(inp_file)\n",
    "\n",
    "# Graph the network\n",
    "wntr.graphics.plot_network(wn, title=wn.name, node_labels=True)\n",
    "\n",
    "model, updater = create_hydraulic_model(wn, HW_approx='default')\n",
    "print(model.__str__())\n"
   ]
  },
  {
   "cell_type": "code",
   "execution_count": 59,
   "metadata": {},
   "outputs": [
    {
     "name": "stdout",
     "output_type": "stream",
     "text": [
      "2357947691\n"
     ]
    }
   ],
   "source": [
    "print(11**9)"
   ]
  },
  {
   "cell_type": "code",
   "execution_count": 51,
   "metadata": {},
   "outputs": [],
   "source": [
    "# define the classical simulator\n",
    "sim = wntr.sim.WNTRSimulator(wn)\n",
    "\n",
    "# run the simulation\n",
    "results = sim.run_sim()"
   ]
  },
  {
   "cell_type": "code",
   "execution_count": 52,
   "metadata": {},
   "outputs": [
    {
     "data": {
      "text/html": [
       "<div>\n",
       "<style scoped>\n",
       "    .dataframe tbody tr th:only-of-type {\n",
       "        vertical-align: middle;\n",
       "    }\n",
       "\n",
       "    .dataframe tbody tr th {\n",
       "        vertical-align: top;\n",
       "    }\n",
       "\n",
       "    .dataframe thead th {\n",
       "        text-align: right;\n",
       "    }\n",
       "</style>\n",
       "<table border=\"1\" class=\"dataframe\">\n",
       "  <thead>\n",
       "    <tr style=\"text-align: right;\">\n",
       "      <th></th>\n",
       "      <th>J1</th>\n",
       "      <th>D1</th>\n",
       "      <th>R1</th>\n",
       "    </tr>\n",
       "  </thead>\n",
       "  <tbody>\n",
       "    <tr>\n",
       "      <th>0</th>\n",
       "      <td>-913388.01909</td>\n",
       "      <td>-4.185789e+07</td>\n",
       "      <td>0.0</td>\n",
       "    </tr>\n",
       "    <tr>\n",
       "      <th>3600</th>\n",
       "      <td>-913388.01909</td>\n",
       "      <td>-4.185789e+07</td>\n",
       "      <td>0.0</td>\n",
       "    </tr>\n",
       "  </tbody>\n",
       "</table>\n",
       "</div>"
      ],
      "text/plain": [
       "                J1            D1   R1\n",
       "0    -913388.01909 -4.185789e+07  0.0\n",
       "3600 -913388.01909 -4.185789e+07  0.0"
      ]
     },
     "execution_count": 52,
     "metadata": {},
     "output_type": "execute_result"
    }
   ],
   "source": [
    "results.node['pressure']"
   ]
  },
  {
   "cell_type": "code",
   "execution_count": 53,
   "metadata": {},
   "outputs": [
    {
     "data": {
      "text/html": [
       "<div>\n",
       "<style scoped>\n",
       "    .dataframe tbody tr th:only-of-type {\n",
       "        vertical-align: middle;\n",
       "    }\n",
       "\n",
       "    .dataframe tbody tr th {\n",
       "        vertical-align: top;\n",
       "    }\n",
       "\n",
       "    .dataframe thead th {\n",
       "        text-align: right;\n",
       "    }\n",
       "</style>\n",
       "<table border=\"1\" class=\"dataframe\">\n",
       "  <thead>\n",
       "    <tr style=\"text-align: right;\">\n",
       "      <th></th>\n",
       "      <th>P1</th>\n",
       "      <th>P2</th>\n",
       "    </tr>\n",
       "  </thead>\n",
       "  <tbody>\n",
       "    <tr>\n",
       "      <th>0</th>\n",
       "      <td>0.05</td>\n",
       "      <td>0.05</td>\n",
       "    </tr>\n",
       "    <tr>\n",
       "      <th>3600</th>\n",
       "      <td>0.05</td>\n",
       "      <td>0.05</td>\n",
       "    </tr>\n",
       "  </tbody>\n",
       "</table>\n",
       "</div>"
      ],
      "text/plain": [
       "        P1    P2\n",
       "0     0.05  0.05\n",
       "3600  0.05  0.05"
      ]
     },
     "execution_count": 53,
     "metadata": {},
     "output_type": "execute_result"
    }
   ],
   "source": [
    "results.link['flowrate']"
   ]
  },
  {
   "cell_type": "markdown",
   "metadata": {},
   "source": [
    "# SET UP THE PROBLEM WITH  DESIGNER"
   ]
  },
  {
   "cell_type": "code",
   "execution_count": 54,
   "metadata": {},
   "outputs": [
    {
     "data": {
      "image/png": "[encoded data removed]",
      "text/plain": [
       "<Figure size 640x480 with 1 Axes>"
      ]
     },
     "metadata": {},
     "output_type": "display_data"
    },
    {
     "data": {
      "text/plain": [
       "<Axes: title={'center': '../networks/Net0_CM.inp'}>"
      ]
     },
     "execution_count": 54,
     "metadata": {},
     "output_type": "execute_result"
    }
   ],
   "source": [
    "import wntr\n",
    "import wntr_quantum\n",
    "from wntr.sim.hydraulics import create_hydraulic_model\n",
    "\n",
    "# Create a water network model\n",
    "inp_file = '../networks/Net0_CM.inp'\n",
    "# inp_file = '../networks/Net2Loops.inp'\n",
    "wn = wntr.network.WaterNetworkModel(inp_file)\n",
    "\n",
    "# Graph the network\n",
    "wntr.graphics.plot_network(wn, title=wn.name, node_labels=True)\n"
   ]
  },
  {
   "cell_type": "markdown",
   "metadata": {},
   "source": [
    "## Expression of he network"
   ]
  },
  {
   "cell_type": "code",
   "execution_count": 30,
   "metadata": {},
   "outputs": [
    {
     "name": "stderr",
     "output_type": "stream",
     "text": [
      "/home/nico/QuantumApplicationLab/qubols/qubols/encodings.py:265: FutureWarning: `rcond` parameter will change to the default of machine precision times ``max(M, N)`` where M and N are the input matrix dimensions.\n",
      "To use the future default and silence this warning we advise to pass `rcond=None`, to keep using the old, explicitly pass `rcond=-1`.\n",
      "  coefs, res, rank, s = np.linalg.lstsq(A, self.discrete_values)\n"
     ]
    }
   ],
   "source": [
    "from wntr_quantum.scenario.network_design_qubo import NetworkDesign\n",
    "from qubols.solution_vector import SolutionVector_V2 as SolutionVector\n",
    "from qubols.encodings import  RangedEfficientEncoding, PositiveQbitEncoding\n",
    "\n",
    "flow_encoding = RangedEfficientEncoding(nqbit=7, range=2, offset=0, var_base_name=\"x\")\n",
    "head_encoding = RangedEfficientEncoding(nqbit=7, range=2, offset=0, var_base_name=\"x\")\n",
    "\n",
    "\n",
    "# pipe_diameters = [0.35, 0.4, 0.45, 0.55]\n",
    "pipe_diameters = [2, 4, 8]\n",
    "designer = NetworkDesign(wn, flow_encoding=flow_encoding, \n",
    "                         head_encoding=head_encoding, \n",
    "                         pipe_diameters=pipe_diameters,\n",
    "                         weight_cost=0.1)"
   ]
  },
  {
   "cell_type": "code",
   "execution_count": 31,
   "metadata": {},
   "outputs": [
    {
     "data": {
      "text/plain": [
       "array([[0.5  ],\n",
       "       [1.   ],\n",
       "       [2.   ],\n",
       "       [0.   ],\n",
       "       [0.125]])"
      ]
     },
     "execution_count": 31,
     "metadata": {},
     "output_type": "execute_result"
    }
   ],
   "source": [
    "designer.matrices[0]"
   ]
  },
  {
   "cell_type": "code",
   "execution_count": 32,
   "metadata": {},
   "outputs": [
    {
     "data": {
      "text/plain": [
       "array([[-1. ,  1. ,  0. ,  0. ,  0. ,  0. ],\n",
       "       [ 0. , -1. ,  0. ,  0. ,  0. ,  0. ],\n",
       "       [ 0. ,  0. , -1. ,  0. ,  0. ,  0. ],\n",
       "       [ 0. ,  0. ,  1. , -1. ,  0. ,  0. ],\n",
       "       [ 0. ,  0. ,  0. ,  0. , -0.1, -0.1]])"
      ]
     },
     "execution_count": 32,
     "metadata": {},
     "output_type": "execute_result"
    }
   ],
   "source": [
    "designer.matrices[1]"
   ]
  },
  {
   "cell_type": "code",
   "execution_count": 33,
   "metadata": {},
   "outputs": [
    {
     "data": {
      "text/plain": [
       "array([[ 0.,  0.,  0.,  0.,  0.,  0.],\n",
       "       [ 0.,  0.,  0.,  0.,  0.,  0.],\n",
       "       [-1.,  0.,  0.,  0.,  0.,  0.],\n",
       "       [ 0., -1.,  0.,  0.,  0.,  0.],\n",
       "       [ 0.,  0.,  0.,  0.,  0.,  0.]])"
      ]
     },
     "execution_count": 33,
     "metadata": {},
     "output_type": "execute_result"
    }
   ],
   "source": [
    "designer.matrices[3].sum(-1).sum(-1)"
   ]
  },
  {
   "cell_type": "code",
   "execution_count": 34,
   "metadata": {},
   "outputs": [
    {
     "name": "stdout",
     "output_type": "stream",
     "text": [
      "(0.12500000000000014, 0.12500000000000014) [1.5   1.    1.719 1.594]\n",
      "(0.12500000000000014, 0.25) [1.5   1.    1.719 1.469]\n",
      "(0.12500000000000014, 0.5000000000000002) [1.5   1.    1.719 1.219]\n",
      "(0.12500000000000014, 0.6250000000000001) [1.5   1.    1.719 1.094]\n",
      "(0.25, 0.12500000000000014) [1.5   1.    1.438 1.313]\n",
      "(0.25, 0.25) [1.5   1.    1.438 1.188]\n",
      "(0.25, 0.5000000000000002) [1.5   1.    1.438 0.938]\n",
      "(0.25, 0.6250000000000001) [1.5   1.    1.438 0.813]\n",
      "(0.5000000000000002, 0.12500000000000014) [1.5   1.    0.875 0.75 ]\n",
      "(0.5000000000000002, 0.25) [1.5   1.    0.875 0.625]\n",
      "(0.5000000000000002, 0.5000000000000002) [1.5   1.    0.875 0.375]\n",
      "(0.5000000000000002, 0.6250000000000001) [1.5   1.    0.875 0.25 ]\n",
      "(0.6250000000000001, 0.12500000000000014) [1.5   1.    0.594 0.469]\n",
      "(0.6250000000000001, 0.25) [1.5   1.    0.594 0.344]\n",
      "(0.6250000000000001, 0.5000000000000002) [1.5   1.    0.594 0.094]\n",
      "(0.6250000000000001, 0.6250000000000001) [ 1.5    1.     0.594 -0.031]\n"
     ]
    },
    {
     "name": "stderr",
     "output_type": "stream",
     "text": [
      "/home/nico/QuantumApplicationLab/QuantumNewtonRaphson/quantum_newton_raphson/utils.py:74: SparseEfficiencyWarning: spsolve requires A be CSC or CSR matrix format\n",
      "  warn(\"spsolve requires A be CSC or CSR matrix format\", SparseEfficiencyWarning)\n"
     ]
    }
   ],
   "source": [
    "designer.enumerates_classical_solutions()"
   ]
  },
  {
   "cell_type": "code",
   "execution_count": 35,
   "metadata": {},
   "outputs": [
    {
     "data": {
      "text/plain": [
       "[0.12500000000000014, 0.25, 0.5000000000000002, 0.6250000000000001]"
      ]
     },
     "execution_count": 35,
     "metadata": {},
     "output_type": "execute_result"
    }
   ],
   "source": [
    "designer.sol_vect_res.encoded_reals[0].get_possible_values()"
   ]
  },
  {
   "cell_type": "code",
   "execution_count": 36,
   "metadata": {},
   "outputs": [],
   "source": [
    "from qubols.qubo_poly_mixed_variables import QUBO_POLY_MIXED\n",
    "import sparse\n",
    "from dwave.samplers import SimulatedAnnealingSampler\n",
    "from dwave.samplers import SteepestDescentSolver\n",
    "from dwave.samplers import TabuSampler\n",
    "from dwave.samplers import RandomSampler\n",
    "qubo = QUBO_POLY_MIXED(designer.mixed_solution_vector, options={\"sampler\":TabuSampler()})"
   ]
  },
  {
   "cell_type": "code",
   "execution_count": 37,
   "metadata": {},
   "outputs": [],
   "source": [
    "matrices = tuple(sparse.COO(m) for m in designer.matrices)\n",
    "bqm = qubo.create_bqm(matrices, strength=1000)"
   ]
  },
  {
   "cell_type": "code",
   "execution_count": 38,
   "metadata": {},
   "outputs": [
    {
     "name": "stderr",
     "output_type": "stream",
     "text": [
      "/home/nico/miniconda3/envs/vitens_wntr_1/lib/python3.9/site-packages/dimod/binary/binary_quadratic_model.py:759: UserWarning: For constraints with fractional coefficients, multiply both sides of the inequality by an appropriate factor of ten to attain or approximate integer coefficients. \n",
      "  warnings.warn(\"For constraints with fractional coefficients, \"\n"
     ]
    }
   ],
   "source": [
    "istart = designer.sol_vect_flows.size\n",
    "for i in range(designer.sol_vect_heads.size):\n",
    "\n",
    "    bqm.add_linear_inequality_constraint(\n",
    "        qubo.all_expr[istart + i],\n",
    "        lagrange_multiplier=0.1,\n",
    "        label=\"head_%s\" % i,\n",
    "        lb=1,\n",
    "        ub=2,\n",
    "    )"
   ]
  },
  {
   "cell_type": "code",
   "execution_count": 39,
   "metadata": {},
   "outputs": [],
   "source": [
    "sampleset = qubo.sample_bqm(bqm, num_reads=10000)"
   ]
  },
  {
   "cell_type": "code",
   "execution_count": 40,
   "metadata": {},
   "outputs": [],
   "source": [
    "flow, heads, param = qubo.decode_solution(sampleset.lowest())"
   ]
  },
  {
   "cell_type": "code",
   "execution_count": 41,
   "metadata": {},
   "outputs": [
    {
     "data": {
      "text/plain": [
       "([1.5238095238095237, 1.0158730158730158],\n",
       " [1.746031746031746, 1.0793650793650793],\n",
       " [0.12500000000000014, 0.6250000000000001])"
      ]
     },
     "execution_count": 41,
     "metadata": {},
     "output_type": "execute_result"
    }
   ],
   "source": [
    "flow, heads, param"
   ]
  },
  {
   "cell_type": "code",
   "execution_count": 42,
   "metadata": {},
   "outputs": [
    {
     "data": {
      "text/plain": [
       "array([-0.008, -0.016, -0.036,  0.022])"
      ]
     },
     "execution_count": 42,
     "metadata": {},
     "output_type": "execute_result"
    }
   ],
   "source": [
    "import numpy as np\n",
    "num_heads = designer.wn.num_junctions\n",
    "designer.verify_solution(np.array(flow+heads), param)"
   ]
  },
  {
   "cell_type": "code",
   "execution_count": 43,
   "metadata": {},
   "outputs": [
    {
     "data": {
      "text/plain": [
       "([0, 0, 0, 0, 0, 0, 0, 0, 0, 0, 0, 0, 0, 0, 0, 0, 0, 0, 1, 0, 1, 0, 0, 0, 0, 0, 0, 0, 0, 0, 0, 1, 1, 0, 1, 0, 0, 0, 1, 0, 0, 0, 0, 0, 0, 0, 0, 0, 0, 0, 0, 0, 0, 0, 0, 0, 0, 0, 0, 0, 0, 0, 0, 0, 0, 0, 0, 0, 0, 0, 0, 0, 0, 0, 0, 0, 0, 0, 0, 0, 0, 0, 0, 0, 0, 0, 0, 0, 0, 0, 0, 0, 0, 0, 0, 0, 0, 0, 0, 0, 0, 0, 0, 0, 0, 0, 0, 0, 0, 0, 0, 0, 0, 0, 0, 0, 1, 0, 0, 0, 0, 0, 0, 0, 0, 0, 0, 0, 0, 0, 0, 0, 0, 0, 0, 0, 0, 0, 0, 0, 0, 0, 0, 0, 0, 0, 0, 0, 0, 0, 0, 0, 0, 1, 1, 0, 1, 1, 0, 1, 1, 0, 1, 1, 1, 1, 1, 1, 0, 0, 0, 0, 0, 0, 0, 0, 0, 0, 0, 0, 0, 0, 0, 0, 0, 0, 0, 0, 0, 0, 0, 0, 0, 0, 0, 0, 0, 0, 0, 0, 0, 0, 0, 0], -4.576, 1, 4)"
      ]
     },
     "execution_count": 43,
     "metadata": {},
     "output_type": "execute_result"
    }
   ],
   "source": [
    "sampleset.record[0]"
   ]
  },
  {
   "cell_type": "code",
   "execution_count": 44,
   "metadata": {},
   "outputs": [],
   "source": [
    "nsol = []\n",
    "cost = []\n",
    "cons = []\n",
    "colors = []\n",
    "count = dict()\n",
    "for i in range(10000):\n",
    "    flow, heads, param = qubo.decode_solution(sampleset, sol_index=i)\n",
    "    nsol.append(np.linalg.norm(designer.verify_solution(np.array(flow+heads), param)))\n",
    "    cost.append(np.sum(param))\n",
    "    cons.append(np.sum(np.array(heads)-1))\n",
    "    if nsol[-1] < 1 and cons[-1] > 0:\n",
    "        if tuple(param) not in count:\n",
    "            count[tuple(param)] = 0\n",
    "        count[tuple(param)] += 1\n",
    "    \n",
    "\n"
   ]
  },
  {
   "cell_type": "code",
   "execution_count": 45,
   "metadata": {},
   "outputs": [
    {
     "data": {
      "text/plain": [
       "<matplotlib.collections.PathCollection at 0x73f92e6d2580>"
      ]
     },
     "execution_count": 45,
     "metadata": {},
     "output_type": "execute_result"
    },
    {
     "data": {
      "image/png": "[encoded data removed]",
      "text/plain": [
       "<Figure size 640x480 with 1 Axes>"
      ]
     },
     "metadata": {},
     "output_type": "display_data"
    }
   ],
   "source": [
    "import matplotlib.pyplot as plt\n",
    "plt.scatter(nsol, cons)"
   ]
  },
  {
   "cell_type": "code",
   "execution_count": 46,
   "metadata": {},
   "outputs": [
    {
     "data": {
      "text/plain": [
       "{(0.12500000000000014, 0.12500000000000014): 465,\n",
       " (0.12500000000000014, 0.6250000000000001): 601,\n",
       " (0.6250000000000001, 0.25): 205,\n",
       " (0.5000000000000002, 0.12500000000000014): 274,\n",
       " (0.12500000000000014, 0.5000000000000002): 535,\n",
       " (0.6250000000000001, 0.5000000000000002): 166,\n",
       " (0.25, 0.6250000000000001): 281,\n",
       " (0.5000000000000002, 0.25): 186,\n",
       " (0.25, 0.25): 270,\n",
       " (0.5000000000000002, 0.6250000000000001): 146,\n",
       " (0.12500000000000014, 0.25): 499,\n",
       " (0.5000000000000002, 0.5000000000000002): 163,\n",
       " (0.6250000000000001, 0.12500000000000014): 248,\n",
       " (0.25, 0.5000000000000002): 237,\n",
       " (0.25, 0.12500000000000014): 438,\n",
       " (0.6250000000000001, 0.6250000000000001): 144}"
      ]
     },
     "execution_count": 46,
     "metadata": {},
     "output_type": "execute_result"
    }
   ],
   "source": [
    "count"
   ]
  },
  {
   "cell_type": "code",
   "execution_count": 47,
   "metadata": {},
   "outputs": [
    {
     "name": "stdout",
     "output_type": "stream",
     "text": [
      "(0.12500000000000014, 0.12500000000000014) [1.5   1.    1.719 1.594]\n",
      "(0.12500000000000014, 0.25) [1.5   1.    1.719 1.469]\n",
      "(0.12500000000000014, 0.5000000000000002) [1.5   1.    1.719 1.219]\n",
      "(0.12500000000000014, 0.6250000000000001) [1.5   1.    1.719 1.094]\n",
      "(0.25, 0.12500000000000014) [1.5   1.    1.438 1.313]\n",
      "(0.25, 0.25) [1.5   1.    1.438 1.188]\n",
      "(0.25, 0.5000000000000002) [1.5   1.    1.438 0.938]\n",
      "(0.25, 0.6250000000000001) [1.5   1.    1.438 0.813]\n",
      "(0.5000000000000002, 0.12500000000000014) [1.5   1.    0.875 0.75 ]\n",
      "(0.5000000000000002, 0.25) [1.5   1.    0.875 0.625]\n",
      "(0.5000000000000002, 0.5000000000000002) [1.5   1.    0.875 0.375]\n",
      "(0.5000000000000002, 0.6250000000000001) [1.5   1.    0.875 0.25 ]\n",
      "(0.6250000000000001, 0.12500000000000014) [1.5   1.    0.594 0.469]\n",
      "(0.6250000000000001, 0.25) [1.5   1.    0.594 0.344]\n",
      "(0.6250000000000001, 0.5000000000000002) [1.5   1.    0.594 0.094]\n",
      "(0.6250000000000001, 0.6250000000000001) [ 1.5    1.     0.594 -0.031]\n"
     ]
    }
   ],
   "source": [
    "designer.enumerates_classical_solutions()"
   ]
  },
  {
   "cell_type": "code",
   "execution_count": null,
   "metadata": {},
   "outputs": [],
   "source": []
  }
 ],
 "metadata": {
  "kernelspec": {
   "display_name": "vitens",
   "language": "python",
   "name": "python3"
  },
  "language_info": {
   "codemirror_mode": {
    "name": "ipython",
    "version": 3
   },
   "file_extension": ".py",
   "mimetype": "text/x-python",
   "name": "python",
   "nbconvert_exporter": "python",
   "pygments_lexer": "ipython3",
   "version": "3.9.0"
  }
 },
 "nbformat": 4,
 "nbformat_minor": 2
}
