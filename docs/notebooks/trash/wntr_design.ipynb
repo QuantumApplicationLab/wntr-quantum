{
 "cells": [
  {
   "cell_type": "markdown",
   "metadata": {},
   "source": [
    "# Define the system  "
   ]
  },
  {
   "cell_type": "code",
   "execution_count": 1,
   "metadata": {
    "metadata": {}
   },
   "outputs": [
    {
     "data": {
      "image/png": "[encoded data removed]",
      "text/plain": [
       "<Figure size 640x480 with 1 Axes>"
      ]
     },
     "metadata": {},
     "output_type": "display_data"
    },
    {
     "data": {
      "text/plain": [
       "<Axes: title={'center': '../networks/Net2LoopsCM.inp'}>"
      ]
     },
     "execution_count": 1,
     "metadata": {},
     "output_type": "execute_result"
    }
   ],
   "source": [
    "import wntr\n",
    "import wntr_quantum\n",
    "\n",
    "# Create a water network model\n",
    "# inp_file = '../networks/Net0_HW.inp'\n",
    "inp_file = '../networks/Net2LoopsCM.inp'\n",
    "wn = wntr.network.WaterNetworkModel(inp_file)\n",
    "\n",
    "# Graph the network\n",
    "wntr.graphics.plot_network(wn, title=wn.name, node_labels=True)\n"
   ]
  },
  {
   "cell_type": "markdown",
   "metadata": {},
   "source": [
    "## Expression of he network"
   ]
  },
  {
   "cell_type": "code",
   "execution_count": 2,
   "metadata": {},
   "outputs": [],
   "source": [
    "from wntr_quantum.scenario.network_design_qubo import NetworkDesign\n",
    "designer = NetworkDesign(wn)\n",
    "designer.m"
   ]
  },
  {
   "cell_type": "code",
   "execution_count": 3,
   "metadata": {},
   "outputs": [
    {
     "ename": "AttributeError",
     "evalue": "'Model' object has no attribute 'hw_resistance'",
     "output_type": "error",
     "traceback": [
      "\u001b[0;31m---------------------------------------------------------------------------\u001b[0m",
      "\u001b[0;31mAttributeError\u001b[0m                            Traceback (most recent call last)",
      "Cell \u001b[0;32mIn[3], line 1\u001b[0m\n\u001b[0;32m----> 1\u001b[0m m,modeler \u001b[38;5;241m=\u001b[39m \u001b[43mdesigner\u001b[49m\u001b[38;5;241;43m.\u001b[39;49m\u001b[43mcreate_cm_model\u001b[49m\u001b[43m(\u001b[49m\u001b[43mwn\u001b[49m\u001b[43m)\u001b[49m\n",
      "File \u001b[0;32m~/QuantumApplicationLab/vitens/wntr-quantum/wntr_quantum/scenario/network_design_qubo.py:63\u001b[0m, in \u001b[0;36mNetworkDesign.create_cm_model\u001b[0;34m(wn)\u001b[0m\n\u001b[1;32m     60\u001b[0m param\u001b[38;5;241m.\u001b[39mleak_poly_coeffs_param\u001b[38;5;241m.\u001b[39mbuild(m, wn, model_updater)\n\u001b[1;32m     61\u001b[0m param\u001b[38;5;241m.\u001b[39melevation_param\u001b[38;5;241m.\u001b[39mbuild(m, wn, model_updater)\n\u001b[0;32m---> 63\u001b[0m \u001b[43mcm_resistance_param\u001b[49m\u001b[38;5;241;43m.\u001b[39;49m\u001b[43mbuild\u001b[49m\u001b[43m(\u001b[49m\u001b[43mm\u001b[49m\u001b[43m,\u001b[49m\u001b[43m \u001b[49m\u001b[43mwn\u001b[49m\u001b[43m,\u001b[49m\u001b[43m \u001b[49m\u001b[43mmodel_updater\u001b[49m\u001b[43m)\u001b[49m\n\u001b[1;32m     64\u001b[0m param\u001b[38;5;241m.\u001b[39mminor_loss_param\u001b[38;5;241m.\u001b[39mbuild(m, wn, model_updater)\n\u001b[1;32m     65\u001b[0m param\u001b[38;5;241m.\u001b[39mtcv_resistance_param\u001b[38;5;241m.\u001b[39mbuild(m, wn, model_updater)\n",
      "File \u001b[0;32m~/QuantumApplicationLab/vitens/wntr-quantum/wntr_quantum/scenario/chezy_manning.py:46\u001b[0m, in \u001b[0;36mcm_resistance_param.build\u001b[0;34m(cls, m, wn, updater, index_over)\u001b[0m\n\u001b[1;32m     39\u001b[0m link \u001b[38;5;241m=\u001b[39m wn\u001b[38;5;241m.\u001b[39mget_link(link_name)\n\u001b[1;32m     40\u001b[0m value \u001b[38;5;241m=\u001b[39m (\n\u001b[1;32m     41\u001b[0m     m\u001b[38;5;241m.\u001b[39mcm_k\n\u001b[1;32m     42\u001b[0m     \u001b[38;5;241m*\u001b[39m link\u001b[38;5;241m.\u001b[39mroughness \u001b[38;5;241m*\u001b[39m\u001b[38;5;241m*\u001b[39m (m\u001b[38;5;241m.\u001b[39mcm_exp)\n\u001b[1;32m     43\u001b[0m     \u001b[38;5;241m*\u001b[39m link\u001b[38;5;241m.\u001b[39mdiameter \u001b[38;5;241m*\u001b[39m\u001b[38;5;241m*\u001b[39m (m\u001b[38;5;241m.\u001b[39mcm_diameter_exp)\n\u001b[1;32m     44\u001b[0m     \u001b[38;5;241m*\u001b[39m link\u001b[38;5;241m.\u001b[39mlength\n\u001b[1;32m     45\u001b[0m )\n\u001b[0;32m---> 46\u001b[0m \u001b[38;5;28;01mif\u001b[39;00m link_name \u001b[38;5;129;01min\u001b[39;00m \u001b[43mm\u001b[49m\u001b[38;5;241;43m.\u001b[39;49m\u001b[43mhw_resistance\u001b[49m:\n\u001b[1;32m     47\u001b[0m     m\u001b[38;5;241m.\u001b[39mcm_resistance[link_name]\u001b[38;5;241m.\u001b[39mvalue \u001b[38;5;241m=\u001b[39m value\n\u001b[1;32m     48\u001b[0m \u001b[38;5;28;01melse\u001b[39;00m:\n",
      "\u001b[0;31mAttributeError\u001b[0m: 'Model' object has no attribute 'hw_resistance'"
     ]
    }
   ],
   "source": []
  }
 ],
 "metadata": {
  "kernelspec": {
   "display_name": "vitens",
   "language": "python",
   "name": "python3"
  },
  "language_info": {
   "codemirror_mode": {
    "name": "ipython",
    "version": 3
   },
   "file_extension": ".py",
   "mimetype": "text/x-python",
   "name": "python",
   "nbconvert_exporter": "python",
   "pygments_lexer": "ipython3",
   "version": "3.9.0"
  }
 },
 "nbformat": 4,
 "nbformat_minor": 2
}
