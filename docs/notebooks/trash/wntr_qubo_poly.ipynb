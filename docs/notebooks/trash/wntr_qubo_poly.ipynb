{
 "cells": [
  {
   "cell_type": "markdown",
   "metadata": {},
   "source": [
    "# Define the system  "
   ]
  },
  {
   "cell_type": "code",
   "execution_count": 1,
   "metadata": {
    "metadata": {}
   },
   "outputs": [
    {
     "data": {
      "image/png": "[encoded data removed]",
      "text/plain": [
       "<Figure size 640x480 with 1 Axes>"
      ]
     },
     "metadata": {},
     "output_type": "display_data"
    },
    {
     "data": {
      "text/plain": [
       "<Axes: title={'center': '../networks/Net2Loops.inp'}>"
      ]
     },
     "execution_count": 1,
     "metadata": {},
     "output_type": "execute_result"
    }
   ],
   "source": [
    "import wntr\n",
    "import wntr_quantum\n",
    "\n",
    "# Create a water network model\n",
    "# inp_file = '../networks/Net0_HW.inp'\n",
    "inp_file = '../networks/Net2Loops.inp'\n",
    "wn = wntr.network.WaterNetworkModel(inp_file)\n",
    "\n",
    "# Graph the network\n",
    "wntr.graphics.plot_network(wn, title=wn.name, node_labels=True)\n"
   ]
  },
  {
   "cell_type": "markdown",
   "metadata": {},
   "source": [
    "## Expression of he network"
   ]
  },
  {
   "cell_type": "code",
   "execution_count": 64,
   "metadata": {},
   "outputs": [
    {
     "name": "stdout",
     "output_type": "stream",
     "text": [
      "cons:\n",
      "mass_balance[2]:   (((expected_demand[2]-flow[1])+flow[2])+flow[3])\n",
      "mass_balance[3]:   ((expected_demand[3]-flow[2])+flow[7])\n",
      "mass_balance[4]:   (((expected_demand[4]-flow[3])+flow[4])+flow[5])\n",
      "mass_balance[5]:   (((expected_demand[5]-flow[4])-flow[7])+flow[8])\n",
      "mass_balance[6]:   ((expected_demand[6]-flow[5])+flow[6])\n",
      "mass_balance[7]:   ((expected_demand[7]-flow[6])-flow[8])\n",
      "approx_hazen_williams_headloss[1]:   (((((((-((sign(flow[1]))))*hw_resistance[1])*((abs(flow[1]))**1.852))-((1e-05*(hw_resistance[1]**0.5))*flow[1]))-(((sign(flow[1]))*minor_loss[1])*(flow[1]**2.0)))+source_head[1])-head[2])\n",
      "approx_hazen_williams_headloss[2]:   (((((((-((sign(flow[2]))))*hw_resistance[2])*((abs(flow[2]))**1.852))-((1e-05*(hw_resistance[2]**0.5))*flow[2]))-(((sign(flow[2]))*minor_loss[2])*(flow[2]**2.0)))+head[2])-head[3])\n",
      "approx_hazen_williams_headloss[3]:   (((((((-((sign(flow[3]))))*hw_resistance[3])*((abs(flow[3]))**1.852))-((1e-05*(hw_resistance[3]**0.5))*flow[3]))-(((sign(flow[3]))*minor_loss[3])*(flow[3]**2.0)))+head[2])-head[4])\n",
      "approx_hazen_williams_headloss[4]:   (((((((-((sign(flow[4]))))*hw_resistance[4])*((abs(flow[4]))**1.852))-((1e-05*(hw_resistance[4]**0.5))*flow[4]))-(((sign(flow[4]))*minor_loss[4])*(flow[4]**2.0)))+head[4])-head[5])\n",
      "approx_hazen_williams_headloss[5]:   (((((((-((sign(flow[5]))))*hw_resistance[5])*((abs(flow[5]))**1.852))-((1e-05*(hw_resistance[5]**0.5))*flow[5]))-(((sign(flow[5]))*minor_loss[5])*(flow[5]**2.0)))+head[4])-head[6])\n",
      "approx_hazen_williams_headloss[6]:   (((((((-((sign(flow[6]))))*hw_resistance[6])*((abs(flow[6]))**1.852))-((1e-05*(hw_resistance[6]**0.5))*flow[6]))-(((sign(flow[6]))*minor_loss[6])*(flow[6]**2.0)))+head[6])-head[7])\n",
      "approx_hazen_williams_headloss[7]:   (((((((-((sign(flow[7]))))*hw_resistance[7])*((abs(flow[7]))**1.852))-((1e-05*(hw_resistance[7]**0.5))*flow[7]))-(((sign(flow[7]))*minor_loss[7])*(flow[7]**2.0)))+head[3])-head[5])\n",
      "approx_hazen_williams_headloss[8]:   (((((((-((sign(flow[8]))))*hw_resistance[8])*((abs(flow[8]))**1.852))-((1e-05*(hw_resistance[8]**0.5))*flow[8]))-(((sign(flow[8]))*minor_loss[8])*(flow[8]**2.0)))+head[5])-head[7])\n",
      "\n",
      "vars:\n",
      "flow[1]:   flow[1]\n",
      "flow[2]:   flow[2]\n",
      "flow[3]:   flow[3]\n",
      "flow[7]:   flow[7]\n",
      "flow[4]:   flow[4]\n",
      "flow[5]:   flow[5]\n",
      "flow[8]:   flow[8]\n",
      "flow[6]:   flow[6]\n",
      "head[2]:   head[2]\n",
      "head[3]:   head[3]\n",
      "head[4]:   head[4]\n",
      "head[5]:   head[5]\n",
      "head[6]:   head[6]\n",
      "head[7]:   head[7]\n",
      "\n"
     ]
    }
   ],
   "source": [
    "from wntr.sim.hydraulics import create_hydraulic_model\n",
    "model, updater = create_hydraulic_model(wn, HW_approx='default')\n",
    "print(model.__str__())\n"
   ]
  },
  {
   "cell_type": "code",
   "execution_count": 63,
   "metadata": {},
   "outputs": [
    {
     "data": {
      "text/plain": [
       "<method-wrapper '__str__' of Constraint object at 0x7005ef72e580>"
      ]
     },
     "execution_count": 63,
     "metadata": {},
     "output_type": "execute_result"
    }
   ],
   "source": [
    "list(model.cons())[0]."
   ]
  },
  {
   "cell_type": "code",
   "execution_count": 3,
   "metadata": {},
   "outputs": [
    {
     "name": "stdout",
     "output_type": "stream",
     "text": [
      "0.0\n",
      "0.05\n",
      "234518508.2718721\n",
      "10512430570.450115\n",
      "30.0\n"
     ]
    }
   ],
   "source": [
    "print(model.expected_demand['J1'].value)\n",
    "print(model.expected_demand['D1'].value)\n",
    "print(model.hw_resistance['P1'].value)\n",
    "print(model.hw_resistance['P2'].value)\n",
    "print(model.source_head['R1'].value)"
   ]
  },
  {
   "cell_type": "code",
   "execution_count": 4,
   "metadata": {},
   "outputs": [],
   "source": [
    "import numpy as np\n",
    "\n",
    "hw_res = {'P1':1.0, 'P2':1.0}\n",
    "exp_dem = {'J1':-1, 'D1':1}\n",
    "src_hd = {'R1':2.0}\n",
    "\n",
    "def network_function(input):\n",
    "    \n",
    "    flow = {'P1':input[0], 'P2':input[1]}\n",
    "    head = {'J1':input[2], 'D1':input[3]}\n",
    "\n",
    "    def mb_j1(flow):\n",
    "        return exp_dem['J1'] - flow['P1'] + flow['P2']\n",
    "    \n",
    "    def mb_d1(flow):\n",
    "        return exp_dem['D1'] - flow['P2']\n",
    "    \n",
    "    def hl_p1(head, flow):\n",
    "        return -hw_res['P1']*flow['P1']**2 + src_hd['R1'] - head['J1']\n",
    "\n",
    "    def hl_p2(head, flow):\n",
    "        return -hw_res['P2']*flow['P2']**2 + head['J1'] - head['D1']\n",
    "    \n",
    "    return np.array([\n",
    "        mb_j1(flow),\n",
    "        mb_d1(flow),\n",
    "        hl_p1(head, flow),\n",
    "        hl_p2(head, flow)\n",
    "    ])\n"
   ]
  },
  {
   "cell_type": "code",
   "execution_count": 5,
   "metadata": {},
   "outputs": [
    {
     "name": "stderr",
     "output_type": "stream",
     "text": [
      "/home/nico/QuantumApplicationLab/QuantumNewtonRaphson/quantum_newton_raphson/utils.py:74: SparseEfficiencyWarning: spsolve requires A be CSC or CSR matrix format\n",
      "  warn(\"spsolve requires A be CSC or CSR matrix format\", SparseEfficiencyWarning)\n"
     ]
    }
   ],
   "source": [
    "from quantum_newton_raphson.newton_raphson import newton_raphson\n",
    "\n",
    "initial_point = np.random.rand(4)\n",
    "res = newton_raphson(network_function, initial_point)\n",
    "assert np.allclose(network_function(res.solution), 0)"
   ]
  },
  {
   "cell_type": "code",
   "execution_count": 6,
   "metadata": {},
   "outputs": [
    {
     "data": {
      "text/plain": [
       "array([5.551e-17, 1.000e+00, 2.000e+00, 1.000e+00])"
      ]
     },
     "execution_count": 6,
     "metadata": {},
     "output_type": "execute_result"
    }
   ],
   "source": [
    "res.solution"
   ]
  },
  {
   "cell_type": "code",
   "execution_count": 25,
   "metadata": {},
   "outputs": [],
   "source": [
    "def define_problem():\n",
    "    # system of equations\n",
    "    num_equations = 4\n",
    "\n",
    "    P0 = np.zeros(num_equations)\n",
    "    P0[0] = exp_dem['J1']\n",
    "    P0[1] = exp_dem['D1']\n",
    "    P0[2] = src_hd['R1']\n",
    "    P0[3] = 0\n",
    "\n",
    "    P1 = np.zeros((num_equations, num_equations))\n",
    "    P1[0, 0] = -1\n",
    "    P1[0, 1] =  1\n",
    "    P1[0, 2] =  0 \n",
    "    P1[0, 3] =  0\n",
    "\n",
    "    P1[1, 0] =  0\n",
    "    P1[1, 1] = -1\n",
    "    P1[1, 2] =  0 \n",
    "    P1[1, 3] =  0\n",
    "\n",
    "    P1[2, 0] =  0\n",
    "    P1[2, 1] =  0\n",
    "    P1[2, 2] = -1 \n",
    "    P1[2, 3] =  0\n",
    "\n",
    "    P1[3, 0] =  0\n",
    "    P1[3, 1] =  0\n",
    "    P1[3, 2] =  1 \n",
    "    P1[3, 3] = -1\n",
    "   \n",
    "\n",
    "    P2 = np.zeros((num_equations, num_equations, num_equations))\n",
    "    P2[2, 0, 0] = -hw_res['P1']\n",
    "    P2[3, 1, 1] = -hw_res['P2']\n",
    "\n",
    "    # search parameters\n",
    "    qubits_per_var = 2\n",
    "    basis = np.array([2**i for i in range(qubits_per_var)])\n",
    "\n",
    "    # basis_offset = np.array([-0.5, 1])\n",
    "    # basis_coeff = np.array([0.5, 1])\n",
    "\n",
    "    basis_offset = np.array([0.0, 0.0, 0.0, 0.0])\n",
    "    basis_coeff = np.array([1, 1, 1, 1])\n",
    "\n",
    "    basis_map = {\n",
    "        \"basis\": basis,\n",
    "        \"basis_offset\": basis_offset,\n",
    "        \"basis_coeff\": basis_coeff,\n",
    "    }\n",
    "\n",
    "    return (\n",
    "        num_equations,\n",
    "        P0,\n",
    "        P1,\n",
    "        P2,\n",
    "        qubits_per_var,\n",
    "        basis,\n",
    "        basis_offset,\n",
    "        basis_coeff,\n",
    "        basis_map,\n",
    "    )"
   ]
  },
  {
   "cell_type": "code",
   "execution_count": 26,
   "metadata": {},
   "outputs": [
    {
     "name": "stdout",
     "output_type": "stream",
     "text": [
      "extended qubo\n",
      "ground state eigenvector =  [0. 0. 1. 0. 0. 1. 1. 0.]\n",
      "ground state eigenvalue  =  0.0\n",
      "solution                 =  [0.0, 1.0, 2.0, 1.0]\n",
      "\n",
      "upper triangular qubo\n",
      "ground state eigenvector =  [0. 0. 1. 0. 0. 1. 1. 0.]\n",
      "ground state eigenvalue  =  0.0\n",
      "solution                 =  [0.0, 1.0, 2.0, 1.0]\n",
      "\n",
      "reduced upper triangular qubo\n",
      "ground state eigenvector =  [0. 0. 1. 0. 0. 1. 1. 0.]\n",
      "ground state eigenvalue  =  0.0\n",
      "solution                 =  [0.0, 1.0, 2.0, 1.0]\n",
      "\n"
     ]
    }
   ],
   "source": [
    "from poly_brute_force import solve\n",
    "sol = solve(define_problem)"
   ]
  },
  {
   "cell_type": "code",
   "execution_count": null,
   "metadata": {},
   "outputs": [],
   "source": []
  }
 ],
 "metadata": {
  "kernelspec": {
   "display_name": "vitens",
   "language": "python",
   "name": "python3"
  },
  "language_info": {
   "codemirror_mode": {
    "name": "ipython",
    "version": 3
   },
   "file_extension": ".py",
   "mimetype": "text/x-python",
   "name": "python",
   "nbconvert_exporter": "python",
   "pygments_lexer": "ipython3",
   "version": "3.9.0"
  }
 },
 "nbformat": 4,
 "nbformat_minor": 2
}
