{
 "cells": [
  {
   "cell_type": "markdown",
   "metadata": {},
   "source": [
    "# Define the system  "
   ]
  },
  {
   "cell_type": "code",
   "execution_count": 1,
   "metadata": {
    "metadata": {}
   },
   "outputs": [
    {
     "data": {
      "image/png": "[encoded data removed]",
      "text/plain": [
       "<Figure size 640x480 with 1 Axes>"
      ]
     },
     "metadata": {},
     "output_type": "display_data"
    },
    {
     "name": "stdout",
     "output_type": "stream",
     "text": [
      "cons:\n",
      "mass_balance[J1]:   ((expected_demand[J1]-flow[P1])+flow[P2])\n",
      "mass_balance[D1]:   (expected_demand[D1]-flow[P2])\n",
      "approx_hazen_williams_headloss[P1]:   (((((((-((sign(flow[P1]))))*hw_resistance[P1])*((abs(flow[P1]))**1.852))-((1e-05*(hw_resistance[P1]**0.5))*flow[P1]))-(((sign(flow[P1]))*minor_loss[P1])*(flow[P1]**2.0)))+source_head[R1])-head[J1])\n",
      "approx_hazen_williams_headloss[P2]:   (((((((-((sign(flow[P2]))))*hw_resistance[P2])*((abs(flow[P2]))**1.852))-((1e-05*(hw_resistance[P2]**0.5))*flow[P2]))-(((sign(flow[P2]))*minor_loss[P2])*(flow[P2]**2.0)))+head[J1])-head[D1])\n",
      "\n",
      "vars:\n",
      "flow[P1]:   flow[P1]\n",
      "flow[P2]:   flow[P2]\n",
      "head[J1]:   head[J1]\n",
      "head[D1]:   head[D1]\n",
      "\n"
     ]
    }
   ],
   "source": [
    "import wntr\n",
    "import wntr_quantum\n",
    "import numpy as np \n",
    "from wntr.sim.hydraulics import create_hydraulic_model\n",
    "\n",
    "# Create a water network model\n",
    "inp_file = '../networks/Net0_HW.inp'\n",
    "# inp_file = '../networks/Net1Loops.inp'\n",
    "# inp_file = '../networks/Net2Loops.inp'\n",
    "wn = wntr.network.WaterNetworkModel(inp_file)\n",
    "\n",
    "# Graph the network\n",
    "wntr.graphics.plot_network(wn, title=wn.name, node_labels=True)\n",
    "\n",
    "model, updater = create_hydraulic_model(wn, HW_approx='default')\n",
    "print(model.__str__())\n"
   ]
  },
  {
   "cell_type": "markdown",
   "metadata": {},
   "source": [
    "## Expression of he network"
   ]
  },
  {
   "cell_type": "code",
   "execution_count": 2,
   "metadata": {},
   "outputs": [],
   "source": [
    "\n",
    "\n",
    "# Create a water network model\n",
    "inp_file = '../networks/Net0_CM.inp'\n",
    "# inp_file = '../networks/Net1Loops_CM.inp'\n",
    "# inp_file = '../networks/Net2Loops.inp'\n",
    "wn = wntr.network.WaterNetworkModel(inp_file)\n",
    "\n"
   ]
  },
  {
   "cell_type": "code",
   "execution_count": 3,
   "metadata": {},
   "outputs": [],
   "source": [
    "from wntr_quantum.scenario.network_qubo import Network\n",
    "from qubols.solution_vector import SolutionVector_V2 as SolutionVector\n",
    "from qubols.encodings import  RangedEfficientEncoding, PositiveQbitEncoding\n",
    "\n",
    "\n",
    "nqbit = 3\n",
    "range = (4/(2**nqbit-1))\n",
    "flow_encoding = PositiveQbitEncoding(nqbit=nqbit, step=0.25, offset=+0.0, var_base_name=\"x\")\n",
    "head_encoding = PositiveQbitEncoding(nqbit=nqbit, step=0.25, offset=+0.0, var_base_name=\"x\")\n",
    "\n",
    "\n",
    "net = Network(wn, flow_encoding=flow_encoding, \n",
    "              head_encoding=head_encoding)"
   ]
  },
  {
   "cell_type": "code",
   "execution_count": 4,
   "metadata": {},
   "outputs": [
    {
     "name": "stderr",
     "output_type": "stream",
     "text": [
      "/home/nico/QuantumApplicationLab/QuantumNewtonRaphson/quantum_newton_raphson/utils.py:74: SparseEfficiencyWarning: spsolve requires A be CSC or CSR matrix format\n",
      "  warn(\"spsolve requires A be CSC or CSR matrix format\", SparseEfficiencyWarning)\n"
     ]
    },
    {
     "data": {
      "text/plain": [
       "array([1.5 , 1.  , 0.75, 0.25])"
      ]
     },
     "execution_count": 4,
     "metadata": {},
     "output_type": "execute_result"
    }
   ],
   "source": [
    "ref_sol = net.classical_solutions()\n",
    "ref_sol"
   ]
  },
  {
   "cell_type": "code",
   "execution_count": 5,
   "metadata": {},
   "outputs": [
    {
     "data": {
      "text/plain": [
       "array([0.  , 0.25, 0.5 , 0.75, 1.  , 1.25, 1.5 , 1.75])"
      ]
     },
     "execution_count": 5,
     "metadata": {},
     "output_type": "execute_result"
    }
   ],
   "source": [
    "np.sort(flow_encoding.get_possible_values())"
   ]
  },
  {
   "cell_type": "code",
   "execution_count": 6,
   "metadata": {},
   "outputs": [
    {
     "data": {
      "text/plain": [
       "array([0.  , 0.25, 0.5 , 0.75, 1.  , 1.25, 1.5 , 1.75])"
      ]
     },
     "execution_count": 6,
     "metadata": {},
     "output_type": "execute_result"
    }
   ],
   "source": [
    "np.sort(head_encoding.get_possible_values())"
   ]
  },
  {
   "cell_type": "code",
   "execution_count": 7,
   "metadata": {},
   "outputs": [
    {
     "name": "stdout",
     "output_type": "stream",
     "text": [
      "[1.5  1.   0.75 0.25]\n",
      "[1.5  1.   0.75 0.25]\n",
      "[0.000e+00 2.220e-16 3.548e-11 3.803e-11]\n"
     ]
    }
   ],
   "source": [
    "from qubols.qubo_poly_mixed_variables import QUBO_POLY_MIXED\n",
    "import sparse \n",
    "from dwave.samplers import SimulatedAnnealingSampler\n",
    "from dwave.samplers import SteepestDescentSolver\n",
    "from dwave.samplers import TabuSampler\n",
    "from dimod import ExactSolver\n",
    "\n",
    "# sampler = TabuSampler()\n",
    "sampler = SimulatedAnnealingSampler()\n",
    "# sampler = ExactSolver() \n",
    "\n",
    "qubo = QUBO_POLY_MIXED(net.mixed_solution_vector, options={\"sampler\" : sampler} )\n",
    "matrices = tuple(sparse.COO(m) for m in net.matrices)\n",
    "\n",
    "bqm = qubo.create_bqm(matrices, strength=1E6)\n",
    "\n",
    "# sample\n",
    "sampleset = qubo.sample_bqm(bqm, num_reads=5000)\n",
    "\n",
    "# decode\n",
    "sol  = qubo.decode_solution(sampleset.lowest().record[0][0])\n",
    "sol = np.array(sol[0]+sol[1])\n",
    "print(ref_sol)\n",
    "print(sol)\n",
    "print(ref_sol - sol)\n"
   ]
  },
  {
   "cell_type": "code",
   "execution_count": 13,
   "metadata": {},
   "outputs": [
    {
     "data": {
      "text/plain": [
       "[x_001_001, x_001_002, x_001_003]"
      ]
     },
     "execution_count": 13,
     "metadata": {},
     "output_type": "execute_result"
    }
   ],
   "source": [
    "qubo.mixed_solution_vectors.encoded_reals[0].variables"
   ]
  },
  {
   "cell_type": "code",
   "execution_count": 21,
   "metadata": {},
   "outputs": [
    {
     "ename": "ValueError",
     "evalue": "not enough values to unpack (expected 2, got 1)",
     "output_type": "error",
     "traceback": [
      "\u001b[0;31m---------------------------------------------------------------------------\u001b[0m",
      "\u001b[0;31mValueError\u001b[0m                                Traceback (most recent call last)",
      "Cell \u001b[0;32mIn[21], line 30\u001b[0m\n\u001b[1;32m     26\u001b[0m             bqm_input_variables\u001b[38;5;241m.\u001b[39mappend(val0 \u001b[38;5;241m*\u001b[39m val1)\n\u001b[1;32m     28\u001b[0m     \u001b[38;5;28;01mreturn\u001b[39;00m closest_vec, bin_encoding_vector, encoded_variables\n\u001b[0;32m---> 30\u001b[0m \u001b[43mcompute_energy\u001b[49m\u001b[43m(\u001b[49m\u001b[43mqubo\u001b[49m\u001b[43m,\u001b[49m\u001b[43m \u001b[49m\u001b[43m[\u001b[49m\u001b[38;5;241;43m1.5\u001b[39;49m\u001b[43m,\u001b[49m\u001b[38;5;241;43m0.9\u001b[39;49m\u001b[43m,\u001b[49m\u001b[38;5;241;43m0.6\u001b[39;49m\u001b[43m,\u001b[49m\u001b[38;5;241;43m0.3\u001b[39;49m\u001b[43m]\u001b[49m\u001b[43m,\u001b[49m\u001b[43m \u001b[49m\u001b[43mbqm\u001b[49m\u001b[43m)\u001b[49m\n",
      "Cell \u001b[0;32mIn[21], line 22\u001b[0m, in \u001b[0;36mcompute_energy\u001b[0;34m(qubo, vector, bqm)\u001b[0m\n\u001b[1;32m     20\u001b[0m     bqm_input_variables\u001b[38;5;241m.\u001b[39mappend(bin_encoding_vector[idx])\n\u001b[1;32m     21\u001b[0m \u001b[38;5;28;01melse\u001b[39;00m:\n\u001b[0;32m---> 22\u001b[0m     var0, var1 \u001b[38;5;241m=\u001b[39m v\u001b[38;5;241m.\u001b[39msplit(\u001b[38;5;124m\"\u001b[39m\u001b[38;5;124m*\u001b[39m\u001b[38;5;124m\"\u001b[39m)\n\u001b[1;32m     23\u001b[0m     idx0 \u001b[38;5;241m=\u001b[39m encoded_variables\u001b[38;5;241m.\u001b[39mindex(var0)\n\u001b[1;32m     24\u001b[0m     idx1 \u001b[38;5;241m=\u001b[39m encoded_variables\u001b[38;5;241m.\u001b[39mindex(var1)\n",
      "\u001b[0;31mValueError\u001b[0m: not enough values to unpack (expected 2, got 1)"
     ]
    }
   ],
   "source": [
    "def compute_energy(qubo, vector, bqm):\n",
    "    \"\"\"Compue the QUBO energy of the vecto containing the solution of the initial problem\n",
    "\n",
    "    Args:\n",
    "        vector (_type_): _description_\n",
    "    \"\"\"\n",
    "    closest_vec = []\n",
    "    bin_encoding_vector = []\n",
    "    encoded_variables = []\n",
    "    for val, svec in zip(vector, qubo.mixed_solution_vectors.encoded_reals):\n",
    "        closest_val, bin_encoding = svec.find_closest(val)\n",
    "        closest_vec.append(closest_val)\n",
    "        bin_encoding_vector += bin_encoding\n",
    "        encoded_variables += svec.variables\n",
    "\n",
    "    bqm_input_variables = []\n",
    "    for v in bqm.variables:\n",
    "        if v in encoded_variables:\n",
    "            idx = encoded_variables.index(v)\n",
    "            bqm_input_variables.append(bin_encoding_vector[idx])\n",
    "        else:\n",
    "            print(v)\n",
    "            var0, var1 = v.split(\"*\")\n",
    "            idx0 = encoded_variables.index(var0)\n",
    "            idx1 = encoded_variables.index(var1)\n",
    "            val0, val1 = bin_encoding_vector[idx0], bin_encoding_vector[idx1]\n",
    "            bqm_input_variables.append(val0 * val1)\n",
    "\n",
    "    return closest_vec, bin_encoding_vector, encoded_variables\n",
    "\n",
    "compute_energy(qubo, [1.5,0.9,0.6,0.3], bqm)"
   ]
  },
  {
   "cell_type": "code",
   "execution_count": 20,
   "metadata": {},
   "outputs": [
    {
     "ename": "TypeError",
     "evalue": "energy() missing 1 required positional argument: 'sample'",
     "output_type": "error",
     "traceback": [
      "\u001b[0;31m---------------------------------------------------------------------------\u001b[0m",
      "\u001b[0;31mTypeError\u001b[0m                                 Traceback (most recent call last)",
      "Cell \u001b[0;32mIn[20], line 1\u001b[0m\n\u001b[0;32m----> 1\u001b[0m \u001b[43mbqm\u001b[49m\u001b[38;5;241;43m.\u001b[39;49m\u001b[43menergy\u001b[49m\u001b[43m(\u001b[49m\u001b[43m)\u001b[49m\n",
      "\u001b[0;31mTypeError\u001b[0m: energy() missing 1 required positional argument: 'sample'"
     ]
    }
   ],
   "source": [
    "bqm.energy()"
   ]
  },
  {
   "cell_type": "code",
   "execution_count": 8,
   "metadata": {},
   "outputs": [
    {
     "data": {
      "text/plain": [
       "[5.0,\n",
       " -0.07936507936507908,\n",
       " 5.079365079365079,\n",
       " 2.7755575615628914e-16,\n",
       " 5.158730158730159,\n",
       " 0.07936507936507964,\n",
       " 5.238095238095238,\n",
       " 0.158730158730159,\n",
       " 5.317460317460317,\n",
       " 0.23809523809523836,\n",
       " 5.396825396825396,\n",
       " 0.3174603174603177,\n",
       " 5.476190476190476,\n",
       " 0.3968253968253971,\n",
       " 5.555555555555555,\n",
       " 0.47619047619047644,\n",
       " 5.634920634920634,\n",
       " 0.5555555555555558,\n",
       " 5.7142857142857135,\n",
       " 0.6349206349206351,\n",
       " 5.793650793650794,\n",
       " 0.7142857142857145,\n",
       " 5.8730158730158735,\n",
       " 0.7936507936507939,\n",
       " 5.9523809523809526,\n",
       " 0.8730158730158732,\n",
       " 6.031746031746032,\n",
       " 0.9523809523809526,\n",
       " 6.111111111111111,\n",
       " 1.031746031746032,\n",
       " 6.19047619047619,\n",
       " 1.1111111111111114,\n",
       " 6.26984126984127,\n",
       " 1.1904761904761907,\n",
       " 6.349206349206349,\n",
       " 1.26984126984127,\n",
       " 6.428571428571429,\n",
       " 1.3492063492063493,\n",
       " 6.507936507936508,\n",
       " 1.4285714285714288,\n",
       " 6.587301587301587,\n",
       " 1.5079365079365081,\n",
       " 6.666666666666666,\n",
       " 1.5873015873015874,\n",
       " 6.746031746031746,\n",
       " 1.666666666666667,\n",
       " 6.825396825396825,\n",
       " 1.7460317460317463,\n",
       " 6.904761904761904,\n",
       " 1.8253968253968256,\n",
       " 6.984126984126983,\n",
       " 1.9047619047619049,\n",
       " 7.063492063492064,\n",
       " 1.9841269841269842,\n",
       " 7.142857142857143,\n",
       " 2.0634920634920637,\n",
       " 7.222222222222222,\n",
       " 2.1428571428571432,\n",
       " 7.301587301587301,\n",
       " 2.2222222222222223,\n",
       " 7.3809523809523805,\n",
       " 2.301587301587302,\n",
       " 7.46031746031746,\n",
       " 2.3809523809523814,\n",
       " 7.5396825396825395,\n",
       " 2.4603174603174605,\n",
       " 7.619047619047619,\n",
       " 2.53968253968254,\n",
       " 7.698412698412699,\n",
       " 2.619047619047619,\n",
       " 7.777777777777778,\n",
       " 2.6984126984126986,\n",
       " 7.857142857142857,\n",
       " 2.7777777777777777,\n",
       " 7.936507936507936,\n",
       " 2.857142857142857,\n",
       " 8.015873015873016,\n",
       " 2.9365079365079367,\n",
       " 8.095238095238095,\n",
       " 3.015873015873016,\n",
       " 8.174603174603174,\n",
       " 3.0952380952380953,\n",
       " 8.253968253968253,\n",
       " 3.174603174603175,\n",
       " 8.333333333333334,\n",
       " 3.253968253968254,\n",
       " 8.412698412698413,\n",
       " 3.3333333333333335,\n",
       " 8.492063492063492,\n",
       " 3.412698412698413,\n",
       " 8.571428571428571,\n",
       " 3.492063492063492,\n",
       " 8.65079365079365,\n",
       " 3.5714285714285716,\n",
       " 8.73015873015873,\n",
       " 3.650793650793651,\n",
       " 8.80952380952381,\n",
       " 3.7301587301587302,\n",
       " 8.88888888888889,\n",
       " 3.8095238095238093,\n",
       " 8.968253968253968,\n",
       " 3.888888888888889,\n",
       " 9.047619047619047,\n",
       " 3.9682539682539684,\n",
       " 9.126984126984127,\n",
       " 4.0476190476190474,\n",
       " 9.206349206349206,\n",
       " 4.1269841269841265,\n",
       " 9.285714285714285,\n",
       " 4.2063492063492065,\n",
       " 9.365079365079364,\n",
       " 4.285714285714286,\n",
       " 9.444444444444443,\n",
       " 4.365079365079366,\n",
       " 9.523809523809522,\n",
       " 4.444444444444445,\n",
       " 9.603174603174605,\n",
       " 4.523809523809524,\n",
       " 9.682539682539684,\n",
       " 4.603174603174603,\n",
       " 9.761904761904763,\n",
       " 4.682539682539683,\n",
       " 9.841269841269842,\n",
       " 4.761904761904762,\n",
       " 9.920634920634921,\n",
       " 4.841269841269842,\n",
       " 10.0,\n",
       " 4.920634920634921]"
      ]
     },
     "execution_count": 8,
     "metadata": {},
     "output_type": "execute_result"
    }
   ],
   "source": [
    "flow_encoding.get_possible_values()"
   ]
  },
  {
   "cell_type": "code",
   "execution_count": 142,
   "metadata": {},
   "outputs": [
    {
     "data": {
      "text/plain": [
       "array([ 1.394, -0.5  ,  1.223, -2.109, -1.45 ,  0.204,  0.386, -0.138,  0.154])"
      ]
     },
     "execution_count": 142,
     "metadata": {},
     "output_type": "execute_result"
    }
   ],
   "source": [
    "net.verify_solution(sol)"
   ]
  },
  {
   "cell_type": "code",
   "execution_count": 15,
   "metadata": {},
   "outputs": [
    {
     "data": {
      "text/plain": [
       "[1, 0, 1, 0, 1, 1, 0]"
      ]
     },
     "execution_count": 15,
     "metadata": {},
     "output_type": "execute_result"
    }
   ],
   "source": [
    "import itertools\n",
    "def find_closest(encoding, float):\n",
    "    \"\"\"get all the posible values encoded\n",
    "\n",
    "    Returns:\n",
    "        _type_: _description_\n",
    "    \"\"\"\n",
    "\n",
    "    min_diff = 1E12\n",
    "    closest_value = None \n",
    "    binary_encoding = None\n",
    "    for data in itertools.product([0, 1], repeat=encoding.nqbit):\n",
    "        val = encoding.decode_polynom(list(data)[::-1])\n",
    "        if np.abs(val-float) < min_diff:\n",
    "            min_diff  = np.abs(val-float)\n",
    "            closest_value = val \n",
    "            binary_encoding = list(data)[::-1]\n",
    "\n",
    "    return closest_value, binary_encoding \n",
    "vmin, bins = find_closest(flow_encoding, 2.)\n",
    "vmin\n",
    "bins"
   ]
  },
  {
   "cell_type": "code",
   "execution_count": 95,
   "metadata": {},
   "outputs": [],
   "source": [
    "var = sampleset.lowest().variables\n",
    "data = np.array(sampleset.lowest().record[0][0])\n",
    "data_real_var = data[qubo.index_variables]\n",
    "\n",
    "for v, d in zip(var, data):\n",
    "    if v not in qubo.mapped_variables:\n",
    "        x0, x1 = v.split('*')\n",
    "        i0 = qubo.index_variables[qubo.mapped_variables.index(x0)]\n",
    "        i1 = qubo.index_variables[qubo.mapped_variables.index(x1)]\n",
    "        assert(d == data[i0] * data[i1])"
   ]
  },
  {
   "cell_type": "code",
   "execution_count": 16,
   "metadata": {},
   "outputs": [
    {
     "data": {
      "text/plain": [
       "<matplotlib.collections.PathCollection at 0x7c76ad72e9d0>"
      ]
     },
     "execution_count": 16,
     "metadata": {},
     "output_type": "execute_result"
    },
    {
     "data": {
      "image/png": "[encoded data removed]",
      "text/plain": [
       "<Figure size 640x480 with 1 Axes>"
      ]
     },
     "metadata": {},
     "output_type": "display_data"
    }
   ],
   "source": [
    "import matplotlib.pyplot as plt\n",
    "energy = []\n",
    "residue = []\n",
    "for s in sampleset.record:\n",
    "    energy.append(s[1])\n",
    "    sol = qubo.decode_solution(s[0])\n",
    "    r = net.verify_solution(np.array(sol).reshape(-1,))\n",
    "    residue.append(np.linalg.norm(r))\n",
    "plt.scatter(energy, (residue))\n",
    "\n",
    "el, rl = [], []\n",
    "for s in sampleset.lowest().record:\n",
    "    el.append(s[1])\n",
    "    sol = qubo.decode_solution(s[0])\n",
    "    r = net.verify_solution(np.array(sol).reshape(-1,))\n",
    "    rl.append(np.linalg.norm(r+1E-12))\n",
    "plt.scatter(el, rl, c='red')"
   ]
  },
  {
   "cell_type": "code",
   "execution_count": 22,
   "metadata": {},
   "outputs": [
    {
     "name": "stdout",
     "output_type": "stream",
     "text": [
      "[1.5  1.   0.75 0.25]\n",
      "[1.475 0.96  0.83  0.375]\n",
      "[ 0.025  0.04  -0.08  -0.125]\n"
     ]
    }
   ],
   "source": [
    "from qubols.qubo_poly import QUBO_POLY\n",
    "from qubols.solution_vector import SolutionVector_V2 as SolutionVector\n",
    "import sparse \n",
    "from dwave.samplers import SimulatedAnnealingSampler\n",
    "from dwave.samplers import SteepestDescentSolver\n",
    "from dwave.samplers import TabuSampler\n",
    "\n",
    "encoding = RangedEfficientEncoding(nqbit=12, range=2.0, offset=0.0, var_base_name=\"x\")\n",
    "sol_vec = SolutionVector(4, encoding)\n",
    "\n",
    "qubo = QUBO_POLY(solution_vector=sol_vec, options={ 'num_reads':1000, 'sampler':SimulatedAnnealingSampler()})\n",
    "matrices = tuple(sparse.COO(m) for m in net.matrices)\n",
    "\n",
    "bqm = qubo.create_bqm(matrices, strength=10000)\n",
    "\n",
    "# sample\n",
    "sampleset = qubo.sample_bqm(bqm, num_reads=5000)\n",
    "\n",
    "# decode\n",
    "sol  = qubo.decode_solution(sampleset.lowest().record[0][0])\n",
    "sol = np.array(sol).reshape(-1)\n",
    "print(ref_sol)\n",
    "print(sol)\n",
    "print(ref_sol - sol)\n"
   ]
  },
  {
   "cell_type": "code",
   "execution_count": null,
   "metadata": {},
   "outputs": [],
   "source": []
  }
 ],
 "metadata": {
  "kernelspec": {
   "display_name": "vitens",
   "language": "python",
   "name": "python3"
  },
  "language_info": {
   "codemirror_mode": {
    "name": "ipython",
    "version": 3
   },
   "file_extension": ".py",
   "mimetype": "text/x-python",
   "name": "python",
   "nbconvert_exporter": "python",
   "pygments_lexer": "ipython3",
   "version": "3.9.0"
  }
 },
 "nbformat": 4,
 "nbformat_minor": 2
}
