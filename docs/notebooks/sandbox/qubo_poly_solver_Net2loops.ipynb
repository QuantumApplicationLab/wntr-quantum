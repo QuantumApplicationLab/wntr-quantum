{
 "cells": [
  {
   "cell_type": "markdown",
   "metadata": {},
   "source": [
    "# Define the system  "
   ]
  },
  {
   "cell_type": "code",
   "execution_count": 142,
   "metadata": {
    "metadata": {}
   },
   "outputs": [
    {
     "data": {
      "image/png": "[encoded data removed]",
      "text/plain": [
       "<Figure size 640x480 with 1 Axes>"
      ]
     },
     "metadata": {},
     "output_type": "display_data"
    },
    {
     "data": {
      "text/plain": [
       "<Axes: title={'center': '../networks/Net2LoopsCMflat.inp'}>"
      ]
     },
     "execution_count": 142,
     "metadata": {},
     "output_type": "execute_result"
    }
   ],
   "source": [
    "import wntr\n",
    "import wntr_quantum\n",
    "import numpy as np\n",
    "import os \n",
    "\n",
    "os.environ[\"EPANET_TMP\"] = \"/home/nico/.epanet_quantum\"\n",
    "os.environ[\"EPANET_QUANTUM\"] = \"/home/nico/QuantumApplicationLab/vitens/EPANET\"\n",
    "\n",
    "# Create a water network model\n",
    "# inp_file = '../networks/Net0.inp'\n",
    "# inp_file = '../networks/Net2LoopsDW.inp'\n",
    "inp_file = '../networks/Net2LoopsCMflat.inp'\n",
    "wn = wntr.network.WaterNetworkModel(inp_file)\n",
    "\n",
    "# Graph the network\n",
    "wntr.graphics.plot_network(wn, title=wn.name, node_labels=True)\n"
   ]
  },
  {
   "cell_type": "markdown",
   "metadata": {},
   "source": [
    "# Run with WNTR Simulator"
   ]
  },
  {
   "cell_type": "code",
   "execution_count": 143,
   "metadata": {},
   "outputs": [],
   "source": [
    "inp_file = '../networks/Net2LoopsFlat.inp'\n",
    "wn = wntr.network.WaterNetworkModel(inp_file)\n",
    "sim = wntr.sim.WNTRSimulator(wn)\n",
    "model, updater = wntr.sim.hydraulics.create_hydraulic_model(wn)"
   ]
  },
  {
   "cell_type": "code",
   "execution_count": 144,
   "metadata": {},
   "outputs": [
    {
     "name": "stdout",
     "output_type": "stream",
     "text": [
      "cons:\n",
      "mass_balance[2]:   (((expected_demand[2]-flow[1])+flow[2])+flow[3])\n",
      "mass_balance[3]:   ((expected_demand[3]-flow[2])+flow[7])\n",
      "mass_balance[4]:   (((expected_demand[4]-flow[3])+flow[4])+flow[5])\n",
      "mass_balance[5]:   (((expected_demand[5]-flow[4])-flow[7])+flow[8])\n",
      "mass_balance[6]:   ((expected_demand[6]-flow[5])+flow[6])\n",
      "mass_balance[7]:   ((expected_demand[7]-flow[6])-flow[8])\n",
      "approx_hazen_williams_headloss[1]:   (((((((-((sign(flow[1]))))*hw_resistance[1])*((abs(flow[1]))**1.852))-((1e-05*(hw_resistance[1]**0.5))*flow[1]))-(((sign(flow[1]))*minor_loss[1])*(flow[1]**2.0)))+source_head[1])-head[2])\n",
      "approx_hazen_williams_headloss[2]:   (((((((-((sign(flow[2]))))*hw_resistance[2])*((abs(flow[2]))**1.852))-((1e-05*(hw_resistance[2]**0.5))*flow[2]))-(((sign(flow[2]))*minor_loss[2])*(flow[2]**2.0)))+head[2])-head[3])\n",
      "approx_hazen_williams_headloss[3]:   (((((((-((sign(flow[3]))))*hw_resistance[3])*((abs(flow[3]))**1.852))-((1e-05*(hw_resistance[3]**0.5))*flow[3]))-(((sign(flow[3]))*minor_loss[3])*(flow[3]**2.0)))+head[2])-head[4])\n",
      "approx_hazen_williams_headloss[4]:   (((((((-((sign(flow[4]))))*hw_resistance[4])*((abs(flow[4]))**1.852))-((1e-05*(hw_resistance[4]**0.5))*flow[4]))-(((sign(flow[4]))*minor_loss[4])*(flow[4]**2.0)))+head[4])-head[5])\n",
      "approx_hazen_williams_headloss[5]:   (((((((-((sign(flow[5]))))*hw_resistance[5])*((abs(flow[5]))**1.852))-((1e-05*(hw_resistance[5]**0.5))*flow[5]))-(((sign(flow[5]))*minor_loss[5])*(flow[5]**2.0)))+head[4])-head[6])\n",
      "approx_hazen_williams_headloss[6]:   (((((((-((sign(flow[6]))))*hw_resistance[6])*((abs(flow[6]))**1.852))-((1e-05*(hw_resistance[6]**0.5))*flow[6]))-(((sign(flow[6]))*minor_loss[6])*(flow[6]**2.0)))+head[6])-head[7])\n",
      "approx_hazen_williams_headloss[7]:   (((((((-((sign(flow[7]))))*hw_resistance[7])*((abs(flow[7]))**1.852))-((1e-05*(hw_resistance[7]**0.5))*flow[7]))-(((sign(flow[7]))*minor_loss[7])*(flow[7]**2.0)))+head[3])-head[5])\n",
      "approx_hazen_williams_headloss[8]:   (((((((-((sign(flow[8]))))*hw_resistance[8])*((abs(flow[8]))**1.852))-((1e-05*(hw_resistance[8]**0.5))*flow[8]))-(((sign(flow[8]))*minor_loss[8])*(flow[8]**2.0)))+head[5])-head[7])\n",
      "\n",
      "vars:\n",
      "flow[1]:   flow[1]\n",
      "flow[2]:   flow[2]\n",
      "flow[3]:   flow[3]\n",
      "flow[7]:   flow[7]\n",
      "flow[4]:   flow[4]\n",
      "flow[5]:   flow[5]\n",
      "flow[8]:   flow[8]\n",
      "flow[6]:   flow[6]\n",
      "head[2]:   head[2]\n",
      "head[3]:   head[3]\n",
      "head[4]:   head[4]\n",
      "head[5]:   head[5]\n",
      "head[6]:   head[6]\n",
      "head[7]:   head[7]\n",
      "\n"
     ]
    }
   ],
   "source": [
    "print(model.__str__())"
   ]
  },
  {
   "cell_type": "code",
   "execution_count": 145,
   "metadata": {},
   "outputs": [],
   "source": [
    "res = sim.run_sim()"
   ]
  },
  {
   "cell_type": "code",
   "execution_count": 146,
   "metadata": {},
   "outputs": [
    {
     "data": {
      "text/html": [
       "<div>\n",
       "<style scoped>\n",
       "    .dataframe tbody tr th:only-of-type {\n",
       "        vertical-align: middle;\n",
       "    }\n",
       "\n",
       "    .dataframe tbody tr th {\n",
       "        vertical-align: top;\n",
       "    }\n",
       "\n",
       "    .dataframe thead th {\n",
       "        text-align: right;\n",
       "    }\n",
       "</style>\n",
       "<table border=\"1\" class=\"dataframe\">\n",
       "  <thead>\n",
       "    <tr style=\"text-align: right;\">\n",
       "      <th></th>\n",
       "      <th>1</th>\n",
       "      <th>2</th>\n",
       "      <th>3</th>\n",
       "      <th>4</th>\n",
       "      <th>5</th>\n",
       "      <th>6</th>\n",
       "      <th>7</th>\n",
       "      <th>8</th>\n",
       "    </tr>\n",
       "  </thead>\n",
       "  <tbody>\n",
       "    <tr>\n",
       "      <th>0</th>\n",
       "      <td>0.31109</td>\n",
       "      <td>0.051455</td>\n",
       "      <td>0.231865</td>\n",
       "      <td>0.031844</td>\n",
       "      <td>0.166691</td>\n",
       "      <td>0.075021</td>\n",
       "      <td>0.023685</td>\n",
       "      <td>-0.019471</td>\n",
       "    </tr>\n",
       "  </tbody>\n",
       "</table>\n",
       "</div>"
      ],
      "text/plain": [
       "         1         2         3         4         5         6         7  \\\n",
       "0  0.31109  0.051455  0.231865  0.031844  0.166691  0.075021  0.023685   \n",
       "\n",
       "          8  \n",
       "0 -0.019471  "
      ]
     },
     "execution_count": 146,
     "metadata": {},
     "output_type": "execute_result"
    }
   ],
   "source": [
    "res.link['flowrate']"
   ]
  },
  {
   "cell_type": "code",
   "execution_count": 147,
   "metadata": {},
   "outputs": [
    {
     "data": {
      "text/html": [
       "<div>\n",
       "<style scoped>\n",
       "    .dataframe tbody tr th:only-of-type {\n",
       "        vertical-align: middle;\n",
       "    }\n",
       "\n",
       "    .dataframe tbody tr th {\n",
       "        vertical-align: top;\n",
       "    }\n",
       "\n",
       "    .dataframe thead th {\n",
       "        text-align: right;\n",
       "    }\n",
       "</style>\n",
       "<table border=\"1\" class=\"dataframe\">\n",
       "  <thead>\n",
       "    <tr style=\"text-align: right;\">\n",
       "      <th></th>\n",
       "      <th>2</th>\n",
       "      <th>3</th>\n",
       "      <th>4</th>\n",
       "      <th>5</th>\n",
       "      <th>6</th>\n",
       "      <th>7</th>\n",
       "      <th>1</th>\n",
       "    </tr>\n",
       "  </thead>\n",
       "  <tbody>\n",
       "    <tr>\n",
       "      <th>0</th>\n",
       "      <td>203.24755</td>\n",
       "      <td>190.665142</td>\n",
       "      <td>199.321299</td>\n",
       "      <td>178.810032</td>\n",
       "      <td>195.547479</td>\n",
       "      <td>187.057524</td>\n",
       "      <td>0.0</td>\n",
       "    </tr>\n",
       "  </tbody>\n",
       "</table>\n",
       "</div>"
      ],
      "text/plain": [
       "           2           3           4           5           6           7    1\n",
       "0  203.24755  190.665142  199.321299  178.810032  195.547479  187.057524  0.0"
      ]
     },
     "execution_count": 147,
     "metadata": {},
     "output_type": "execute_result"
    }
   ],
   "source": [
    "res.node['pressure']"
   ]
  },
  {
   "cell_type": "markdown",
   "metadata": {},
   "source": [
    "## Run with the original Cholesky EPANET simulator"
   ]
  },
  {
   "cell_type": "code",
   "execution_count": 148,
   "metadata": {},
   "outputs": [
    {
     "data": {
      "image/png": "[encoded data removed]",
      "text/plain": [
       "<Figure size 640x480 with 2 Axes>"
      ]
     },
     "metadata": {},
     "output_type": "display_data"
    },
    {
     "data": {
      "text/plain": [
       "<Axes: title={'center': 'Pressure at 5 hours'}>"
      ]
     },
     "execution_count": 148,
     "metadata": {},
     "output_type": "execute_result"
    }
   ],
   "source": [
    "inp_file = '../networks/Net2LoopsCMflat.inp'\n",
    "wn = wntr.network.WaterNetworkModel(inp_file)\n",
    "# sim = wntr_quantum.sim.QuantumEpanetSimulator(wn)\n",
    "sim = wntr.sim.EpanetSimulator(wn)\n",
    "results = sim.run_sim()\n",
    "# Plot results on the network\n",
    "pressure_at_5hr = results.node['pressure'].loc[0, :]\n",
    "wntr.graphics.plot_network(wn, node_attribute=pressure_at_5hr, node_size=50,\n",
    "                        title='Pressure at 5 hours', node_labels=False)"
   ]
  },
  {
   "cell_type": "code",
   "execution_count": 149,
   "metadata": {},
   "outputs": [
    {
     "data": {
      "text/html": [
       "<div>\n",
       "<style scoped>\n",
       "    .dataframe tbody tr th:only-of-type {\n",
       "        vertical-align: middle;\n",
       "    }\n",
       "\n",
       "    .dataframe tbody tr th {\n",
       "        vertical-align: top;\n",
       "    }\n",
       "\n",
       "    .dataframe thead th {\n",
       "        text-align: right;\n",
       "    }\n",
       "</style>\n",
       "<table border=\"1\" class=\"dataframe\">\n",
       "  <thead>\n",
       "    <tr style=\"text-align: right;\">\n",
       "      <th>name</th>\n",
       "      <th>1</th>\n",
       "      <th>2</th>\n",
       "      <th>3</th>\n",
       "      <th>4</th>\n",
       "      <th>5</th>\n",
       "      <th>6</th>\n",
       "      <th>7</th>\n",
       "      <th>8</th>\n",
       "    </tr>\n",
       "  </thead>\n",
       "  <tbody>\n",
       "    <tr>\n",
       "      <th>0</th>\n",
       "      <td>0.31109</td>\n",
       "      <td>0.051113</td>\n",
       "      <td>0.232207</td>\n",
       "      <td>0.031075</td>\n",
       "      <td>0.167802</td>\n",
       "      <td>0.076132</td>\n",
       "      <td>0.023343</td>\n",
       "      <td>-0.020582</td>\n",
       "    </tr>\n",
       "  </tbody>\n",
       "</table>\n",
       "</div>"
      ],
      "text/plain": [
       "name        1         2         3         4         5         6         7  \\\n",
       "0     0.31109  0.051113  0.232207  0.031075  0.167802  0.076132  0.023343   \n",
       "\n",
       "name         8  \n",
       "0    -0.020582  "
      ]
     },
     "execution_count": 149,
     "metadata": {},
     "output_type": "execute_result"
    }
   ],
   "source": [
    "results.link[\"flowrate\"]"
   ]
  },
  {
   "cell_type": "code",
   "execution_count": 150,
   "metadata": {},
   "outputs": [
    {
     "data": {
      "text/plain": [
       "array([200.733, 181.735, 195.558, 163.834, 190.505, 177.75 ], dtype=float32)"
      ]
     },
     "execution_count": 150,
     "metadata": {},
     "output_type": "execute_result"
    }
   ],
   "source": [
    "ref_pressure = results.node['pressure'].values[0][:-1]\n",
    "ref_pressure"
   ]
  },
  {
   "cell_type": "code",
   "execution_count": 96,
   "metadata": {},
   "outputs": [
    {
     "data": {
      "text/html": [
       "<div>\n",
       "<style scoped>\n",
       "    .dataframe tbody tr th:only-of-type {\n",
       "        vertical-align: middle;\n",
       "    }\n",
       "\n",
       "    .dataframe tbody tr th {\n",
       "        vertical-align: top;\n",
       "    }\n",
       "\n",
       "    .dataframe thead th {\n",
       "        text-align: right;\n",
       "    }\n",
       "</style>\n",
       "<table border=\"1\" class=\"dataframe\">\n",
       "  <thead>\n",
       "    <tr style=\"text-align: right;\">\n",
       "      <th>name</th>\n",
       "      <th>2</th>\n",
       "      <th>3</th>\n",
       "      <th>4</th>\n",
       "      <th>5</th>\n",
       "      <th>6</th>\n",
       "      <th>7</th>\n",
       "      <th>1</th>\n",
       "    </tr>\n",
       "  </thead>\n",
       "  <tbody>\n",
       "    <tr>\n",
       "      <th>0</th>\n",
       "      <td>195.520416</td>\n",
       "      <td>165.836349</td>\n",
       "      <td>187.434158</td>\n",
       "      <td>137.866119</td>\n",
       "      <td>179.538773</td>\n",
       "      <td>159.609787</td>\n",
       "      <td>4.394531e-07</td>\n",
       "    </tr>\n",
       "  </tbody>\n",
       "</table>\n",
       "</div>"
      ],
      "text/plain": [
       "name           2           3           4           5           6           7  \\\n",
       "0     195.520416  165.836349  187.434158  137.866119  179.538773  159.609787   \n",
       "\n",
       "name             1  \n",
       "0     4.394531e-07  "
      ]
     },
     "execution_count": 96,
     "metadata": {},
     "output_type": "execute_result"
    }
   ],
   "source": [
    "results.node['pressure']"
   ]
  },
  {
   "cell_type": "code",
   "execution_count": 97,
   "metadata": {},
   "outputs": [],
   "source": [
    "ref_rate = results.link['flowrate'].values[0]\n",
    "ref_rate = ref_rate[[0,1,2,6,3,4,7,5]]"
   ]
  },
  {
   "cell_type": "code",
   "execution_count": 98,
   "metadata": {},
   "outputs": [
    {
     "data": {
      "text/plain": [
       "array([ 3.111e-01,  5.111e-02,  2.322e-01,  2.334e-02,  3.108e-02,  1.678e-01, -2.058e-02,  7.613e-02,  1.955e+02,  1.658e+02,  1.874e+02,  1.379e+02,  1.795e+02,  1.596e+02], dtype=float32)"
      ]
     },
     "execution_count": 98,
     "metadata": {},
     "output_type": "execute_result"
    }
   ],
   "source": [
    "ref_values = np.append(ref_rate, ref_pressure)\n",
    "ref_values"
   ]
  },
  {
   "cell_type": "markdown",
   "metadata": {},
   "source": [
    "## Run with the QUBO Polynomial Solver"
   ]
  },
  {
   "cell_type": "code",
   "execution_count": 99,
   "metadata": {},
   "outputs": [],
   "source": [
    "wn = wntr.network.WaterNetworkModel(inp_file)"
   ]
  },
  {
   "cell_type": "code",
   "execution_count": 100,
   "metadata": {},
   "outputs": [
    {
     "name": "stdout",
     "output_type": "stream",
     "text": [
      "Head Encoding : 500.000000 => 700.000000 (res: 0.391389)\n",
      "Flow Encoding : -10.000000 => 10.000000 (res: 0.039139)\n"
     ]
    }
   ],
   "source": [
    "from wntr_quantum.sim.solvers.qubo_polynomial_solver import QuboPolynomialSolver\n",
    "from qubops.solution_vector import SolutionVector_V2 as SolutionVector\n",
    "from qubops.encodings import  RangedEfficientEncoding, PositiveQbitEncoding\n",
    "\n",
    "nqbit = 9\n",
    "step = (20/(2**nqbit-1))\n",
    "flow_encoding = PositiveQbitEncoding(nqbit=nqbit, step=step, offset=-10, var_base_name=\"x\")\n",
    "\n",
    "nqbit = 9\n",
    "step = (200/(2**nqbit-1))\n",
    "head_encoding = PositiveQbitEncoding(nqbit=nqbit, step=step, offset=+500.0, var_base_name=\"x\")\n",
    "\n",
    "net = QuboPolynomialSolver(wn, flow_encoding=flow_encoding, \n",
    "              head_encoding=head_encoding)\n",
    "net.verify_encoding()"
   ]
  },
  {
   "cell_type": "code",
   "execution_count": 101,
   "metadata": {},
   "outputs": [
    {
     "data": {
      "text/plain": [
       "array([ 10.986,   1.805,   8.2  ,   0.824,   1.097,   5.926,  -0.727,   2.689, 641.471, 544.083, 614.941, 452.317, 589.038, 523.654], dtype=float32)"
      ]
     },
     "execution_count": 101,
     "metadata": {},
     "output_type": "execute_result"
    }
   ],
   "source": [
    "net.convert_solution_from_si(ref_values)"
   ]
  },
  {
   "cell_type": "markdown",
   "metadata": {},
   "source": [
    "Solve the system classically"
   ]
  },
  {
   "cell_type": "code",
   "execution_count": 107,
   "metadata": {},
   "outputs": [
    {
     "name": "stdout",
     "output_type": "stream",
     "text": [
      "Warning, we didn't reach the required tolerance within 100 iterations, error is at 194.49915433794996\n"
     ]
    },
    {
     "ename": "AssertionError",
     "evalue": "",
     "output_type": "error",
     "traceback": [
      "\u001b[0;31m---------------------------------------------------------------------------\u001b[0m",
      "\u001b[0;31mAssertionError\u001b[0m                            Traceback (most recent call last)",
      "Cell \u001b[0;32mIn[107], line 6\u001b[0m\n\u001b[1;32m      3\u001b[0m net\u001b[38;5;241m.\u001b[39mmatrices \u001b[38;5;241m=\u001b[39m net\u001b[38;5;241m.\u001b[39minitialize_matrices(model)\n\u001b[1;32m      4\u001b[0m net\u001b[38;5;241m.\u001b[39mverify_solution(net\u001b[38;5;241m.\u001b[39mconvert_solution_from_si(ref_values))\n\u001b[0;32m----> 6\u001b[0m ref_sol \u001b[38;5;241m=\u001b[39m \u001b[43mnet\u001b[49m\u001b[38;5;241;43m.\u001b[39;49m\u001b[43mclassical_solutions\u001b[49m\u001b[43m(\u001b[49m\u001b[43mmax_iter\u001b[49m\u001b[43m \u001b[49m\u001b[38;5;241;43m=\u001b[39;49m\u001b[43m \u001b[49m\u001b[38;5;241;43m100\u001b[39;49m\u001b[43m,\u001b[49m\u001b[43m \u001b[49m\u001b[43mtol\u001b[49m\u001b[38;5;241;43m=\u001b[39;49m\u001b[43m \u001b[49m\u001b[38;5;241;43m1e-3\u001b[39;49m\u001b[43m)\u001b[49m\n\u001b[1;32m      7\u001b[0m ref_sol \u001b[38;5;241m/\u001b[39m ref_values\n",
      "File \u001b[0;32m~/QuantumApplicationLab/vitens/wntr-quantum/wntr_quantum/sim/solvers/qubo_polynomial_solver.py:110\u001b[0m, in \u001b[0;36mQuboPolynomialSolver.classical_solutions\u001b[0;34m(self, max_iter, tol)\u001b[0m\n\u001b[1;32m    108\u001b[0m res \u001b[38;5;241m=\u001b[39m newton_raphson(func, initial_point, max_iter\u001b[38;5;241m=\u001b[39mmax_iter, tol\u001b[38;5;241m=\u001b[39mtol)\n\u001b[1;32m    109\u001b[0m sol \u001b[38;5;241m=\u001b[39m res\u001b[38;5;241m.\u001b[39msolution\n\u001b[0;32m--> 110\u001b[0m \u001b[38;5;28;01massert\u001b[39;00m np\u001b[38;5;241m.\u001b[39mallclose(func(sol), \u001b[38;5;241m0\u001b[39m)\n\u001b[1;32m    112\u001b[0m \u001b[38;5;66;03m# convert back to SI\u001b[39;00m\n\u001b[1;32m    113\u001b[0m sol \u001b[38;5;241m=\u001b[39m \u001b[38;5;28mself\u001b[39m\u001b[38;5;241m.\u001b[39mconvert_solution_to_si(sol)\n",
      "\u001b[0;31mAssertionError\u001b[0m: "
     ]
    }
   ],
   "source": [
    "from wntr_quantum.sim.qubo_hydraulics import create_hydraulic_model_for_qubo\n",
    "model, model_updater = create_hydraulic_model_for_qubo(wn)\n",
    "net.matrices = net.initialize_matrices(model)\n",
    "net.verify_solution(net.convert_solution_from_si(ref_values))\n",
    "\n",
    "ref_sol = net.classical_solutions(max_iter = 100, tol= 1e-3)\n",
    "ref_sol / ref_values"
   ]
  },
  {
   "cell_type": "code",
   "execution_count": 14,
   "metadata": {},
   "outputs": [
    {
     "data": {
      "text/plain": [
       "array([[  0.981],\n",
       "       [  0.981],\n",
       "       [  1.177],\n",
       "       [  2.649],\n",
       "       [  3.237],\n",
       "       [  1.962],\n",
       "       [688.976],\n",
       "       [  0.   ],\n",
       "       [  0.   ],\n",
       "       [  0.   ],\n",
       "       [  0.   ],\n",
       "       [  0.   ],\n",
       "       [  0.   ],\n",
       "       [  0.   ]])"
      ]
     },
     "execution_count": 14,
     "metadata": {},
     "output_type": "execute_result"
    }
   ],
   "source": [
    "net.matrices[0]"
   ]
  },
  {
   "cell_type": "code",
   "execution_count": 108,
   "metadata": {},
   "outputs": [],
   "source": [
    "from wntr_quantum.sim.qubo_hydraulics import create_hydraulic_model_for_qubo\n",
    "from dwave.samplers import SteepestDescentSolver\n",
    "from dwave.samplers import SimulatedAnnealingSampler\n",
    "\n",
    "sampler = SimulatedAnnealingSampler()\n",
    "model, model_updater = create_hydraulic_model_for_qubo(wn)\n",
    "net.solve(model, strength=1E6, num_reads=10000, options={\"sampler\" : sampler, })\n",
    "sol = net.extract_data_from_model(model)"
   ]
  },
  {
   "cell_type": "code",
   "execution_count": 109,
   "metadata": {},
   "outputs": [
    {
     "data": {
      "text/plain": [
       "array([  5.068,   4.403,   3.659,   5.108,   1.233,  -6.634,   1.82 ,   2.72 , 700.   , 700.   , 700.   , 500.   , 599.804, 500.   ])"
      ]
     },
     "execution_count": 109,
     "metadata": {},
     "output_type": "execute_result"
    }
   ],
   "source": [
    "net.convert_solution_from_si(sol)"
   ]
  },
  {
   "cell_type": "code",
   "execution_count": 110,
   "metadata": {},
   "outputs": [
    {
     "data": {
      "image/png": "[encoded data removed]",
      "text/plain": [
       "<Figure size 640x480 with 1 Axes>"
      ]
     },
     "metadata": {},
     "output_type": "display_data"
    }
   ],
   "source": [
    "net.plot_solution_vs_reference(sol, ref_values)"
   ]
  },
  {
   "cell_type": "code",
   "execution_count": 43,
   "metadata": {},
   "outputs": [
    {
     "name": "stdout",
     "output_type": "stream",
     "text": [
      "Head Encoding : 500.000000 => 700.000000 (res: 0.391389)\n",
      "Flow Encoding : -10.000000 => 10.000000 (res: 0.039139)\n",
      "\n",
      "\n",
      "Error (%): [ 146.136  133.609    0.963  248.009  144.582 -213.716  278.043 -268.863   -9.124  -28.657  -16.952  -10.542   -4.745    4.517]\n",
      "\n",
      "\n",
      "sol :  [-5.068e+00 -6.067e-01  8.121e+00 -1.624e+00 -2.642e+00  8.434e+00 -1.468e+00 -2.681e+00  7.000e+02  7.000e+02  7.000e+02  5.000e+02  5.998e+02  5.000e+02]\n",
      "ref :  [ 10.986   1.805   8.2     1.097   5.926   2.689   0.824  -0.727 641.471 544.083 598.537 452.317 572.634 523.654]\n",
      "diff:  [ 1.605e+01  2.412e+00  7.895e-02  2.722e+00  8.568e+00 -5.746e+00  2.292e+00  1.954e+00 -5.853e+01 -1.559e+02 -1.015e+02 -4.768e+01 -2.717e+01  2.365e+01]\n",
      "\n",
      "\n",
      "encoded_sol:  [-5.068e+00 -6.067e-01  8.121e+00 -1.624e+00 -2.642e+00  8.434e+00 -1.468e+00 -2.681e+00  7.000e+02  7.000e+02  7.000e+02  5.000e+02  5.998e+02  5.000e+02]\n",
      "encoded_ref:  [ 10.      1.82    8.2     1.115   5.93    2.681   0.841  -0.724 641.292 544.227 598.63  500.    572.798 523.483]\n",
      "diff       :  [ 1.507e+01  2.427e+00  7.828e-02  2.740e+00  8.571e+00 -5.753e+00  2.309e+00  1.957e+00 -5.871e+01 -1.558e+02 -1.014e+02  0.000e+00 -2.701e+01  2.348e+01]\n",
      "\n",
      "\n",
      "E sol   :  -549306305.587519\n",
      "R ref   :  -528587363.97844124\n",
      "Delta E : -20718941.60907781\n",
      "\n",
      "\n",
      "Residue sol   :  809.3375066786808\n",
      "Residue ref   :  4623.198980013018\n",
      "Delta Residue : -3813.861473334337\n"
     ]
    }
   ],
   "source": [
    "net.diagnostic_solution(sol, ref_values)"
   ]
  },
  {
   "cell_type": "markdown",
   "metadata": {},
   "source": [
    "# Run with the intergrated WNTR Solver"
   ]
  },
  {
   "cell_type": "code",
   "execution_count": 12,
   "metadata": {},
   "outputs": [
    {
     "data": {
      "image/png": "[encoded data removed]",
      "text/plain": [
       "<Figure size 640x480 with 2 Axes>"
      ]
     },
     "metadata": {},
     "output_type": "display_data"
    },
    {
     "data": {
      "text/plain": [
       "<Axes: title={'center': 'Pressure at 5 hours'}>"
      ]
     },
     "execution_count": 12,
     "metadata": {},
     "output_type": "execute_result"
    }
   ],
   "source": [
    "sim = wntr_quantum.sim.FullQuboPolynomialSimulator(wn, \n",
    "                                                   flow_encoding=flow_encoding, \n",
    "                                                   head_encoding=head_encoding)\n",
    "results = sim.run_sim(solver_options={\"sampler\" : sampler})\n",
    "\n",
    "# Plot results on the network\n",
    "pressure_at_5hr = results.node['pressure'].loc[0, :]\n",
    "wntr.graphics.plot_network(wn, node_attribute=pressure_at_5hr, node_size=50,\n",
    "                        title='Pressure at 5 hours', node_labels=False)"
   ]
  }
 ],
 "metadata": {
  "kernelspec": {
   "display_name": "vitens",
   "language": "python",
   "name": "python3"
  },
  "language_info": {
   "codemirror_mode": {
    "name": "ipython",
    "version": 3
   },
   "file_extension": ".py",
   "mimetype": "text/x-python",
   "name": "python",
   "nbconvert_exporter": "python",
   "pygments_lexer": "ipython3",
   "version": "3.9.0"
  }
 },
 "nbformat": 4,
 "nbformat_minor": 2
}
