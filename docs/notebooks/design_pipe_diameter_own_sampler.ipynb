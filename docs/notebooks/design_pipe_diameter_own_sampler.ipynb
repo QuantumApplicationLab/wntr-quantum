{
 "cells": [
  {
   "cell_type": "code",
   "execution_count": 1,
   "metadata": {},
   "outputs": [
    {
     "data": {
      "image/png": "[encoded data removed]",
      "text/plain": [
       "<Figure size 640x480 with 1 Axes>"
      ]
     },
     "metadata": {},
     "output_type": "display_data"
    },
    {
     "data": {
      "text/plain": [
       "<Axes: title={'center': './networks/Net0_CM.inp'}>"
      ]
     },
     "execution_count": 1,
     "metadata": {},
     "output_type": "execute_result"
    }
   ],
   "source": [
    "import wntr\n",
    "import wntr_quantum\n",
    "import numpy as np\n",
    "\n",
    "# Create a water network model\n",
    "inp_file = './networks/Net0_CM.inp'\n",
    "# inp_file = './networks/Net2LoopsDW.inp'\n",
    "wn = wntr.network.WaterNetworkModel(inp_file)\n",
    "\n",
    "# Graph the network\n",
    "wntr.graphics.plot_network(wn, title=wn.name, node_labels=True)"
   ]
  },
  {
   "cell_type": "code",
   "execution_count": 2,
   "metadata": {},
   "outputs": [
    {
     "data": {
      "image/png": "[encoded data removed]",
      "text/plain": [
       "<Figure size 640x480 with 2 Axes>"
      ]
     },
     "metadata": {},
     "output_type": "display_data"
    },
    {
     "data": {
      "text/plain": [
       "<Axes: title={'center': 'Pressure at 5 hours'}>"
      ]
     },
     "execution_count": 2,
     "metadata": {},
     "output_type": "execute_result"
    }
   ],
   "source": [
    "sim = wntr.sim.EpanetSimulator(wn)\n",
    "results = sim.run_sim()\n",
    "# Plot results on the network\n",
    "pressure_at_5hr = results.node['pressure'].loc[0, :]\n",
    "wntr.graphics.plot_network(wn, node_attribute=pressure_at_5hr, node_size=50,\n",
    "                        title='Pressure at 5 hours', node_labels=False)"
   ]
  },
  {
   "cell_type": "code",
   "execution_count": 3,
   "metadata": {},
   "outputs": [
    {
     "data": {
      "text/plain": [
       "array([ 0.05 ,  0.05 , 29.994, 29.988], dtype=float32)"
      ]
     },
     "execution_count": 3,
     "metadata": {},
     "output_type": "execute_result"
    }
   ],
   "source": [
    "ref_pressure = results.node['pressure'].values[0][:2]\n",
    "ref_rate = results.link['flowrate'].values[0]\n",
    "ref_values = np.append(ref_rate, ref_pressure)\n",
    "ref_values"
   ]
  },
  {
   "cell_type": "markdown",
   "metadata": {},
   "source": [
    "# Run with QUBO solver"
   ]
  },
  {
   "cell_type": "code",
   "execution_count": 4,
   "metadata": {},
   "outputs": [],
   "source": [
    "from wntr_quantum.sim.solvers.qubo_polynomial_solver import QuboPolynomialSolver\n",
    "from qubops.solution_vector import SolutionVector_V2 as SolutionVector\n",
    "from qubops.encodings import  RangedEfficientEncoding, PositiveQbitEncoding\n",
    "\n",
    "nqbit = 7\n",
    "step = (2./(2**nqbit-1))\n",
    "flow_encoding = PositiveQbitEncoding(nqbit=nqbit, step=step, offset=+0.0, var_base_name=\"x\")\n",
    "\n",
    "nqbit = 9\n",
    "step = (50/(2**nqbit-1))\n",
    "head_encoding = PositiveQbitEncoding(nqbit=nqbit, step=step, offset=+75.0, var_base_name=\"x\")"
   ]
  },
  {
   "cell_type": "code",
   "execution_count": 5,
   "metadata": {},
   "outputs": [],
   "source": [
    "from wntr_quantum.design.qubo_pipe_diam import QUBODesignPipeDiameter \n",
    "pipe_diameters = [250, 500, 1000]\n",
    "designer = QUBODesignPipeDiameter(wn, flow_encoding, head_encoding, pipe_diameters, head_lower_bound=80)"
   ]
  },
  {
   "cell_type": "code",
   "execution_count": 6,
   "metadata": {},
   "outputs": [
    {
     "name": "stdout",
     "output_type": "stream",
     "text": [
      "Head Encoding : 75.000000 => 125.000000 (res: 0.097847)\n",
      "Flow Encoding : -2.000000 => -0.000000 | 0.000000 => 2.000000 (res: 0.015748)\n"
     ]
    }
   ],
   "source": [
    "designer.verify_encoding()"
   ]
  },
  {
   "cell_type": "code",
   "execution_count": 7,
   "metadata": {},
   "outputs": [
    {
     "name": "stderr",
     "output_type": "stream",
     "text": [
      "/home/nico/QuantumApplicationLab/QuantumNewtonRaphson/quantum_newton_raphson/utils.py:74: SparseEfficiencyWarning: spsolve requires A be CSC or CSR matrix format\n",
      "  warn(\"spsolve requires A be CSC or CSR matrix format\", SparseEfficiencyWarning)\n"
     ]
    },
    {
     "data": {
      "text/plain": [
       "(array([ 1.766,  1.766, 97.666, 96.906]),\n",
       " array([ 1.764,  1.764, 97.701, 96.918]),\n",
       " [1,\n",
       "  1,\n",
       "  [0, 0, 0, 0, 1, 1, 1],\n",
       "  [0, 0, 0, 0, 1, 1, 1],\n",
       "  [0, 0, 0, 1, 0, 1, 1, 1, 0],\n",
       "  [0, 0, 0, 0, 0, 1, 1, 1, 0]],\n",
       " True)"
      ]
     },
     "execution_count": 7,
     "metadata": {},
     "output_type": "execute_result"
    }
   ],
   "source": [
    "designer.create_index_mapping()\n",
    "designer.matrices = designer.initialize_matrices()\n",
    "designer.classical_solution([0,1,0,0,1,0], convert_to_si=False)"
   ]
  },
  {
   "cell_type": "code",
   "execution_count": 8,
   "metadata": {},
   "outputs": [
    {
     "name": "stdout",
     "output_type": "stream",
     "text": [
      "price \t diameters \t variables\n",
      "0.16907910944516957 [250. 250.] [ 1.766  1.766 67.877 37.329]\n",
      "0.25361866416775436 [250. 500.] [ 1.766  1.766 67.877 67.118]\n",
      "0.42269777361292393 [ 250. 1000.] [ 1.766  1.766 67.877 67.858]\n",
      "0.25361866416775436 [500. 250.] [ 1.766  1.766 97.666 67.118]\n",
      "0.33815821889033915 [500. 500.] [ 1.766  1.766 97.666 96.906]\n",
      "0.5072373283355087 [ 500. 1000.] [ 1.766  1.766 97.666 97.647]\n",
      "0.42269777361292393 [1000.  250.] [ 1.766  1.766 98.406 67.858]\n",
      "0.5072373283355087 [1000.  500.] [ 1.766  1.766 98.406 97.647]\n",
      "0.6763164377806783 [1000. 1000.] [ 1.766  1.766 98.406 98.387]\n"
     ]
    }
   ],
   "source": [
    "designer.enumerates_classical_solutions(convert_to_si=False)"
   ]
  },
  {
   "cell_type": "code",
   "execution_count": 9,
   "metadata": {},
   "outputs": [
    {
     "data": {
      "text/plain": [
       "array([ 1.766,  1.766, 98.406, 98.387], dtype=float32)"
      ]
     },
     "execution_count": 9,
     "metadata": {},
     "output_type": "execute_result"
    }
   ],
   "source": [
    "designer.convert_solution_from_si(ref_values)"
   ]
  },
  {
   "cell_type": "code",
   "execution_count": 10,
   "metadata": {},
   "outputs": [],
   "source": [
    "from wntr_quantum.sampler.simulated_annealing import SimulatedAnnealing\n",
    "sampler = SimulatedAnnealing()"
   ]
  },
  {
   "cell_type": "code",
   "execution_count": 11,
   "metadata": {},
   "outputs": [],
   "source": [
    "from qubops.qubops_mixed_vars import QUBOPS_MIXED\n",
    "import sparse\n",
    "\n",
    "designer.qubo = QUBOPS_MIXED(designer.mixed_solution_vector, {\"sampler\": sampler})\n",
    "matrices = tuple(sparse.COO(m) for m in designer.matrices)\n",
    "designer.qubo.qubo_dict = designer.qubo.create_bqm(matrices, strength=0)"
   ]
  },
  {
   "cell_type": "code",
   "execution_count": 18,
   "metadata": {},
   "outputs": [
    {
     "name": "stderr",
     "output_type": "stream",
     "text": [
      "/home/nico/miniconda3/envs/vitens_wntr_1/lib/python3.9/site-packages/dimod/binary/binary_quadratic_model.py:759: UserWarning: For constraints with fractional coefficients, multiply both sides of the inequality by an appropriate factor of ten to attain or approximate integer coefficients. \n",
      "  warnings.warn(\"For constraints with fractional coefficients, \"\n"
     ]
    },
    {
     "ename": "KeyboardInterrupt",
     "evalue": "",
     "output_type": "error",
     "traceback": [
      "\u001b[0;31m---------------------------------------------------------------------------\u001b[0m",
      "\u001b[0;31mKeyboardInterrupt\u001b[0m                         Traceback (most recent call last)",
      "Cell \u001b[0;32mIn[18], line 3\u001b[0m\n\u001b[1;32m      1\u001b[0m \u001b[38;5;28;01mfrom\u001b[39;00m \u001b[38;5;21;01mdwave\u001b[39;00m\u001b[38;5;21;01m.\u001b[39;00m\u001b[38;5;21;01msamplers\u001b[39;00m \u001b[38;5;28;01mimport\u001b[39;00m SimulatedAnnealingSampler\n\u001b[1;32m      2\u001b[0m options \u001b[38;5;241m=\u001b[39m {\u001b[38;5;124m'\u001b[39m\u001b[38;5;124msampler\u001b[39m\u001b[38;5;124m'\u001b[39m: SimulatedAnnealingSampler()}\n\u001b[0;32m----> 3\u001b[0m status \u001b[38;5;241m=\u001b[39m \u001b[43mdesigner\u001b[49m\u001b[38;5;241;43m.\u001b[39;49m\u001b[43msolve\u001b[49m\u001b[43m(\u001b[49m\u001b[43mstrength\u001b[49m\u001b[38;5;241;43m=\u001b[39;49m\u001b[38;5;241;43m1E8\u001b[39;49m\u001b[43m,\u001b[49m\u001b[43m \u001b[49m\u001b[43mnum_reads\u001b[49m\u001b[38;5;241;43m=\u001b[39;49m\u001b[38;5;241;43m5000\u001b[39;49m\u001b[43m,\u001b[49m\u001b[43m  \u001b[49m\u001b[43moptions\u001b[49m\u001b[38;5;241;43m=\u001b[39;49m\u001b[43moptions\u001b[49m\u001b[43m)\u001b[49m\n",
      "File \u001b[0;32m~/QuantumApplicationLab/vitens/wntr-quantum/wntr_quantum/design/qubo_pipe_diam.py:703\u001b[0m, in \u001b[0;36mQUBODesignPipeDiameter.solve\u001b[0;34m(self, strength, num_reads, **options)\u001b[0m\n\u001b[1;32m    694\u001b[0m     \u001b[38;5;28mself\u001b[39m\u001b[38;5;241m.\u001b[39mqubo\u001b[38;5;241m.\u001b[39mqubo_dict\u001b[38;5;241m.\u001b[39madd_linear_inequality_constraint(\n\u001b[1;32m    695\u001b[0m         \u001b[38;5;28mself\u001b[39m\u001b[38;5;241m.\u001b[39mqubo\u001b[38;5;241m.\u001b[39mall_expr[istart \u001b[38;5;241m+\u001b[39m i],\n\u001b[1;32m    696\u001b[0m         lagrange_multiplier\u001b[38;5;241m=\u001b[39m\u001b[38;5;241m1\u001b[39m,\n\u001b[0;32m   (...)\u001b[0m\n\u001b[1;32m    699\u001b[0m         ub\u001b[38;5;241m=\u001b[39m\u001b[38;5;28mself\u001b[39m\u001b[38;5;241m.\u001b[39mhead_upper_bound,\n\u001b[1;32m    700\u001b[0m     )\n\u001b[1;32m    702\u001b[0m \u001b[38;5;66;03m# sample\u001b[39;00m\n\u001b[0;32m--> 703\u001b[0m \u001b[38;5;28mself\u001b[39m\u001b[38;5;241m.\u001b[39msampleset \u001b[38;5;241m=\u001b[39m \u001b[38;5;28;43mself\u001b[39;49m\u001b[38;5;241;43m.\u001b[39;49m\u001b[43mqubo\u001b[49m\u001b[38;5;241;43m.\u001b[39;49m\u001b[43msample_bqm\u001b[49m\u001b[43m(\u001b[49m\u001b[38;5;28;43mself\u001b[39;49m\u001b[38;5;241;43m.\u001b[39;49m\u001b[43mqubo\u001b[49m\u001b[38;5;241;43m.\u001b[39;49m\u001b[43mqubo_dict\u001b[49m\u001b[43m,\u001b[49m\u001b[43m \u001b[49m\u001b[43mnum_reads\u001b[49m\u001b[38;5;241;43m=\u001b[39;49m\u001b[43mnum_reads\u001b[49m\u001b[43m)\u001b[49m\n\u001b[1;32m    705\u001b[0m \u001b[38;5;66;03m# decode\u001b[39;00m\n\u001b[1;32m    706\u001b[0m sol \u001b[38;5;241m=\u001b[39m \u001b[38;5;28mself\u001b[39m\u001b[38;5;241m.\u001b[39mqubo\u001b[38;5;241m.\u001b[39mdecode_solution(\u001b[38;5;28mself\u001b[39m\u001b[38;5;241m.\u001b[39msampleset\u001b[38;5;241m.\u001b[39mlowest()\u001b[38;5;241m.\u001b[39mrecord[\u001b[38;5;241m0\u001b[39m][\u001b[38;5;241m0\u001b[39m])\n",
      "File \u001b[0;32m~/QuantumApplicationLab/qubops/qubops/qubops_mixed_vars.py:63\u001b[0m, in \u001b[0;36mQUBOPS_MIXED.sample_bqm\u001b[0;34m(self, bqm, **sampler_options)\u001b[0m\n\u001b[1;32m     61\u001b[0m \u001b[38;5;250m\u001b[39m\u001b[38;5;124;03m\"\"\"Sample the bqm\"\"\"\u001b[39;00m\n\u001b[1;32m     62\u001b[0m \u001b[38;5;28mself\u001b[39m\u001b[38;5;241m.\u001b[39mcreate_variables_mapping()\n\u001b[0;32m---> 63\u001b[0m sampleset \u001b[38;5;241m=\u001b[39m \u001b[38;5;28;43mself\u001b[39;49m\u001b[38;5;241;43m.\u001b[39;49m\u001b[43msampler\u001b[49m\u001b[38;5;241;43m.\u001b[39;49m\u001b[43msample\u001b[49m\u001b[43m(\u001b[49m\u001b[43mbqm\u001b[49m\u001b[43m,\u001b[49m\u001b[43m \u001b[49m\u001b[38;5;241;43m*\u001b[39;49m\u001b[38;5;241;43m*\u001b[39;49m\u001b[43msampler_options\u001b[49m\u001b[43m)\u001b[49m\n\u001b[1;32m     64\u001b[0m \u001b[38;5;66;03m# self.create_variables_mapping(sampleset)\u001b[39;00m\n\u001b[1;32m     65\u001b[0m \u001b[38;5;28;01mreturn\u001b[39;00m sampleset\n",
      "File \u001b[0;32m~/miniconda3/envs/vitens_wntr_1/lib/python3.9/site-packages/dwave/samplers/sa/sampler.py:409\u001b[0m, in \u001b[0;36mSimulatedAnnealingSampler.sample\u001b[0;34m(self, bqm, beta_range, num_reads, num_sweeps, num_sweeps_per_beta, beta_schedule_type, seed, interrupt_function, beta_schedule, initial_states, initial_states_generator, randomize_order, proposal_acceptance_criteria, **kwargs)\u001b[0m\n\u001b[1;32m    406\u001b[0m timestamp_sample \u001b[38;5;241m=\u001b[39m perf_counter_ns()\n\u001b[1;32m    408\u001b[0m \u001b[38;5;66;03m# run the simulated annealing algorithm\u001b[39;00m\n\u001b[0;32m--> 409\u001b[0m samples, energies \u001b[38;5;241m=\u001b[39m \u001b[43msimulated_annealing\u001b[49m\u001b[43m(\u001b[49m\n\u001b[1;32m    410\u001b[0m \u001b[43m    \u001b[49m\u001b[43mnum_reads\u001b[49m\u001b[43m,\u001b[49m\u001b[43m \u001b[49m\u001b[43mldata\u001b[49m\u001b[43m,\u001b[49m\u001b[43m \u001b[49m\u001b[43mirow\u001b[49m\u001b[43m,\u001b[49m\u001b[43m \u001b[49m\u001b[43micol\u001b[49m\u001b[43m,\u001b[49m\u001b[43m \u001b[49m\u001b[43mqdata\u001b[49m\u001b[43m,\u001b[49m\n\u001b[1;32m    411\u001b[0m \u001b[43m    \u001b[49m\u001b[43mnum_sweeps_per_beta\u001b[49m\u001b[43m,\u001b[49m\u001b[43m \u001b[49m\u001b[43mbeta_schedule\u001b[49m\u001b[43m,\u001b[49m\n\u001b[1;32m    412\u001b[0m \u001b[43m    \u001b[49m\u001b[43mseed\u001b[49m\u001b[43m,\u001b[49m\u001b[43m \u001b[49m\u001b[43minitial_states_array\u001b[49m\u001b[43m,\u001b[49m\n\u001b[1;32m    413\u001b[0m \u001b[43m    \u001b[49m\u001b[43mrandomize_order\u001b[49m\u001b[43m,\u001b[49m\u001b[43m \u001b[49m\u001b[43mproposal_acceptance_criteria\u001b[49m\u001b[43m,\u001b[49m\n\u001b[1;32m    414\u001b[0m \u001b[43m    \u001b[49m\u001b[43minterrupt_function\u001b[49m\u001b[43m)\u001b[49m\n\u001b[1;32m    415\u001b[0m timestamp_postprocess \u001b[38;5;241m=\u001b[39m perf_counter_ns()\n\u001b[1;32m    417\u001b[0m info \u001b[38;5;241m=\u001b[39m {\n\u001b[1;32m    418\u001b[0m     \u001b[38;5;124m\"\u001b[39m\u001b[38;5;124mbeta_range\u001b[39m\u001b[38;5;124m\"\u001b[39m: beta_range,\n\u001b[1;32m    419\u001b[0m     \u001b[38;5;124m\"\u001b[39m\u001b[38;5;124mbeta_schedule_type\u001b[39m\u001b[38;5;124m\"\u001b[39m: beta_schedule_type\n\u001b[1;32m    420\u001b[0m }\n",
      "\u001b[0;31mKeyboardInterrupt\u001b[0m: "
     ]
    }
   ],
   "source": [
    "from dwave.samplers import SimulatedAnnealingSampler\n",
    "options = {'sampler': SimulatedAnnealingSampler()}\n",
    "status = designer.solve(strength=1E8, num_reads=5000,  options=options)"
   ]
  },
  {
   "cell_type": "code",
   "execution_count": null,
   "metadata": {},
   "outputs": [
    {
     "data": {
      "text/plain": [
       "0.6763164377806783"
      ]
     },
     "execution_count": 69,
     "metadata": {},
     "output_type": "execute_result"
    }
   ],
   "source": [
    "designer.total_pice"
   ]
  },
  {
   "cell_type": "code",
   "execution_count": null,
   "metadata": {},
   "outputs": [
    {
     "data": {
      "text/plain": [
       "array([1000., 1000.])"
      ]
     },
     "execution_count": 70,
     "metadata": {},
     "output_type": "execute_result"
    }
   ],
   "source": [
    "designer.optimal_diameters"
   ]
  },
  {
   "cell_type": "code",
   "execution_count": null,
   "metadata": {},
   "outputs": [
    {
     "data": {
      "text/plain": [
       "438"
      ]
     },
     "execution_count": 71,
     "metadata": {},
     "output_type": "execute_result"
    }
   ],
   "source": [
    "designer.qubo.qubo_dict.num_variables"
   ]
  },
  {
   "cell_type": "code",
   "execution_count": null,
   "metadata": {},
   "outputs": [
    {
     "data": {
      "text/plain": [
       "(array([1.420e+02, 6.990e+02, 1.333e+03, 1.408e+03, 9.230e+02, 3.790e+02, 9.000e+01, 2.300e+01, 2.000e+00, 1.000e+00]),\n",
       " array([1.00e+08, 3.10e+08, 5.20e+08, 7.30e+08, 9.40e+08, 1.15e+09, 1.36e+09, 1.57e+09, 1.78e+09, 1.99e+09, 2.20e+09]),\n",
       " <BarContainer object of 10 artists>)"
      ]
     },
     "execution_count": 72,
     "metadata": {},
     "output_type": "execute_result"
    },
    {
     "data": {
      "image/png": "[encoded data removed]",
      "text/plain": [
       "<Figure size 640x480 with 1 Axes>"
      ]
     },
     "metadata": {},
     "output_type": "display_data"
    }
   ],
   "source": [
    "import matplotlib.pyplot as plt\n",
    "plt.hist(designer.sampleset.data_vectors['energy'])"
   ]
  },
  {
   "cell_type": "code",
   "execution_count": null,
   "metadata": {},
   "outputs": [],
   "source": [
    "x = designer.sampleset"
   ]
  },
  {
   "cell_type": "code",
   "execution_count": null,
   "metadata": {},
   "outputs": [
    {
     "data": {
      "text/plain": [
       "([1, 1, 1, 0, 0, 0, 0, 1, 1, 0, 0, 1, 1, 1, 1, 1, 1, 1, 1, 1, 1, 1, 1, 0, 1, 1, 1, 1, 1, 1, 1, 1, 1, 1, 1, 1, 1, 1, 1, 1, 1, 1, 1, 1, 0, 0, 0, 0, 1, 1, 1, 1, 1, 1, 1, 1, 1, 0, 1, 0, 1, 1, 1, 1, 0, 0, 1, 1, 1, 1, 1, 0, 1, 1, 1, 1, 1, 1, 1, 0, 1, 1, 1, 1, 1, 0, 1, 0, 1, 1, 1, 1, 1, 0, 0, 0, 1, 1, 1, 1, 1, 1, 1, 1, 1, 0, 0, 1, 1, 1, 1, 0, 1, 0, 1, 1, 1, 1, 0, 0, 1, 1, 1, 1, 0, 0, 0, 1, 1, 1, 1, 1, 0, 1, 1, 0, 0, 1, 0, 1, 0, 0, 0, 0, 1, 1, 1, 1, 0, 0, 0, 1, 1, 0, 0, 1, 1, 0, 0, 0, 1, 0, 0, 0, 0, 0, 0, 0, 0, 0, 0, 0, 0, 1, 1, 1, 1, 1, 1, 1, 1, 1, 1, 0, 1, 0, 1, 0, 0, 1, 1, 1, 1, 0, 0, 0, 0, 0, 0, 0, 0, 0, 0, 0, 0, 0, 0, 0, 0, 0, 1, 1, 0, 1, 0, 0, 0, 0, 0, 0, 0, 0, 0, 0, 1, 1, 1, 1, 0, 1, 1, 0, 0, 1, 0, 1, 1, 1, 0, 0, 1, 0, 1, 0, 1, 0, 0, 0, 1, 1, 0, 0, 0, 0, 0, 0, 1, 1, 0, 0, 1, 1, 0, 0, 1, 1, 0, 1, 1, 1, 1, 1, 1, 1, 0, 0, 0, 0, 0, 0, 1, 1, 1, 1, 1, 1, 1, 1, 1, 1, 0, 0, 1, 0, 1, 1, 0, 1, 0, 1, 0, 0, 0, 1, 1, 1, 1, 0, 0, 0, 0, 0, 0, 1, 1, 1, 1, 1, 1, 1, 1, 1, 1, 1, 1, 1, 1, 1, 1, 1, 1, 1, 0, 1, 1, 0, 1, 1, 1, 1, 0, 1, 1, 1, 0, 1, 1, 1, 1, 1, 1, 1, 0, 1, 0, 0, 0, 0, 0, 0, 0, 0, 0, 0, 0, 1, 1, 1, 1, 1, 1, 1, 1, 1, 1, 1, 1, 1, 0, 1, 1, 1, 1, 1, 0, 0, 1, 0, 1, 1, 1, 0, 0, 1, 1, 1, 1, 0, 0, 1, 1, 1, 1, 1, 1, 0, 0, 0, 0, 0, 0, 0, 0, 0, 0, 0, 0, 0, 1, 1, 1, 1, 1, 1, 1, 1, 1, 1, 0, 0, 0, 0, 0, 0, 1, 1, 1, 1], 1.2e+09, 1)"
      ]
     },
     "execution_count": 74,
     "metadata": {},
     "output_type": "execute_result"
    }
   ],
   "source": [
    "x.record[1]"
   ]
  },
  {
   "cell_type": "code",
   "execution_count": null,
   "metadata": {},
   "outputs": [
    {
     "name": "stdout",
     "output_type": "stream",
     "text": [
      "[1, 1, 1, 1, 1, 1]\n",
      "[1, 0, 1, 1, 0, 1]\n",
      "[1, 1, 0, 1, 1, 0]\n",
      "[1, 1, 0, 0, 1, 1]\n",
      "[1, 0, 1, 0, 1, 0]\n",
      "[1, 1, 0, 1, 0, 0]\n",
      "[0, 1, 1, 0, 0, 1]\n",
      "[1, 1, 0, 0, 0, 1]\n",
      "[1, 1, 0, 0, 0, 1]\n",
      "[0, 0, 1, 1, 1, 0]\n",
      "[0, 1, 0, 1, 0, 0]\n",
      "[0, 1, 0, 1, 0, 0]\n",
      "[1, 1, 0, 0, 1, 1]\n",
      "[0, 1, 1, 0, 1, 1]\n",
      "[1, 1, 1, 0, 1, 1]\n",
      "[0, 1, 1, 0, 1, 0]\n",
      "[1, 1, 0, 1, 1, 0]\n",
      "[1, 1, 0, 1, 0, 0]\n",
      "[1, 0, 0, 0, 1, 0]\n",
      "[1, 0, 1, 0, 0, 1]\n",
      "[1, 0, 1, 1, 1, 1]\n",
      "[0, 1, 1, 0, 1, 0]\n",
      "[1, 1, 1, 0, 1, 0]\n",
      "[1, 0, 1, 0, 0, 1]\n",
      "[1, 0, 1, 1, 0, 0]\n",
      "[0, 0, 1, 0, 1, 0]\n",
      "[1, 1, 0, 0, 0, 1]\n",
      "[1, 1, 0, 0, 1, 1]\n",
      "[1, 1, 0, 1, 0, 1]\n",
      "[1, 1, 0, 0, 1, 1]\n",
      "[1, 0, 1, 1, 0, 1]\n",
      "[0, 1, 1, 0, 1, 1]\n",
      "[1, 1, 0, 0, 0, 1]\n",
      "[1, 1, 0, 0, 0, 1]\n",
      "[1, 0, 1, 1, 0, 0]\n",
      "[0, 0, 1, 0, 1, 1]\n",
      "[1, 0, 1, 1, 0, 0]\n",
      "[1, 1, 0, 1, 0, 0]\n",
      "[0, 1, 1, 1, 1, 0]\n",
      "[1, 0, 1, 0, 1, 0]\n",
      "[0, 1, 1, 0, 0, 1]\n",
      "[1, 0, 1, 0, 1, 1]\n",
      "[1, 0, 1, 0, 1, 1]\n",
      "[1, 0, 1, 0, 1, 1]\n",
      "[0, 1, 1, 1, 0, 1]\n",
      "[0, 0, 1, 1, 0, 1]\n",
      "[0, 1, 1, 1, 0, 0]\n",
      "[0, 0, 1, 0, 1, 0]\n",
      "[0, 0, 1, 1, 1, 0]\n",
      "[1, 1, 1, 0, 0, 1]\n",
      "[1, 1, 0, 1, 1, 0]\n",
      "[1, 0, 0, 0, 1, 1]\n",
      "[1, 0, 1, 1, 0, 0]\n",
      "[1, 1, 0, 0, 1, 1]\n",
      "[1, 0, 1, 0, 1, 0]\n",
      "[1, 0, 1, 1, 0, 1]\n",
      "[1, 0, 0, 0, 1, 0]\n",
      "[0, 1, 0, 1, 1, 0]\n",
      "[0, 1, 1, 1, 1, 1]\n",
      "[1, 0, 0, 1, 0, 1]\n",
      "[1, 1, 0, 0, 1, 0]\n",
      "[0, 1, 1, 1, 0, 0]\n",
      "[1, 0, 0, 1, 1, 0]\n",
      "[0, 0, 1, 1, 0, 0]\n",
      "[0, 1, 1, 0, 1, 0]\n",
      "[0, 1, 1, 1, 0, 0]\n",
      "[0, 1, 1, 0, 0, 1]\n",
      "[1, 0, 1, 0, 1, 1]\n",
      "[1, 0, 1, 0, 0, 1]\n",
      "[1, 1, 0, 0, 1, 0]\n",
      "[1, 1, 0, 1, 1, 0]\n",
      "[1, 1, 0, 0, 0, 1]\n",
      "[1, 0, 1, 1, 1, 0]\n",
      "[1, 1, 1, 1, 1, 0]\n",
      "[1, 0, 1, 1, 0, 0]\n",
      "[1, 0, 1, 0, 0, 1]\n",
      "[0, 1, 1, 1, 0, 0]\n",
      "[1, 0, 1, 1, 0, 1]\n",
      "[1, 0, 1, 0, 1, 0]\n",
      "[1, 1, 0, 1, 1, 0]\n",
      "[0, 1, 1, 1, 0, 1]\n",
      "[1, 0, 1, 1, 1, 0]\n",
      "[1, 0, 1, 1, 0, 1]\n",
      "[0, 1, 1, 1, 0, 0]\n",
      "[1, 0, 1, 0, 1, 0]\n",
      "[1, 0, 1, 1, 0, 0]\n",
      "[0, 0, 1, 0, 1, 1]\n",
      "[1, 0, 1, 1, 0, 1]\n",
      "[0, 0, 1, 1, 1, 0]\n",
      "[1, 1, 0, 0, 1, 1]\n",
      "[1, 0, 1, 0, 1, 1]\n",
      "[1, 0, 1, 1, 1, 0]\n",
      "[0, 1, 0, 1, 0, 1]\n",
      "[1, 1, 0, 0, 1, 0]\n",
      "[1, 0, 1, 0, 1, 0]\n",
      "[1, 0, 1, 0, 1, 0]\n",
      "[0, 0, 1, 1, 0, 1]\n",
      "[1, 1, 0, 1, 0, 0]\n",
      "[1, 1, 0, 1, 1, 0]\n",
      "[0, 1, 1, 1, 0, 0]\n"
     ]
    }
   ],
   "source": [
    "for i in range(100):\n",
    "    s = designer.qubo.decode_solution(x.record[i][0])\n",
    "    print(s[3])"
   ]
  },
  {
   "cell_type": "code",
   "execution_count": null,
   "metadata": {},
   "outputs": [
    {
     "data": {
      "text/plain": [
       "array([1, 1, 1, 1, 0, 1, 1, 1, 1, 1, 1, 1, 1, 0, 0, 0, 0, 1, 0, 1, 1, 1, 1, 1, 1, 1, 1, 1, 1, 1, 1, 1, 1, 1, 1, 1, 1, 1, 1, 1, 0, 0, 0, 0, 1, 1, 1, 1, 1, 0, 0, 1, 0, 0, 1, 1, 1, 0, 0, 0, 0, 1, 0, 0, 1, 0, 0, 1, 1, 0, 0, 0, 0, 1, 1, 0, 0, 1, 1, 0, 1, 1, 1, 0, 0, 0, 0, 0, 0, 1, 0, 0, 0, 1, 1, 0, 0,\n",
       "       0, 1, 1, 0, 1, 1, 0, 0, 0, 0, 1, 0, 0, 1, 0, 0, 0, 0, 1, 0, 1, 0, 0, 0, 1, 0, 0, 1, 1, 0, 0, 0, 1, 1, 0, 1, 1, 0, 1, 0, 0, 1, 0, 0, 1, 0, 0, 1, 0, 1, 0, 1, 0, 0, 1, 0, 1, 0, 0, 1, 1, 1, 1, 0, 1, 1, 1, 1, 0, 0, 0, 0, 0, 0, 0, 0, 1, 0, 0, 0, 0, 0, 1, 1, 1, 1, 0, 1, 1, 0, 0, 0, 0, 0, 0, 0, 1,\n",
       "       1, 1, 0, 0, 0, 0, 1, 1, 1, 1, 0, 1, 1, 0, 0, 0, 1, 0, 1, 0, 0, 0, 0, 0, 1, 1, 1, 1, 0, 1, 1, 1, 1, 0, 1, 1, 0, 1, 0, 0, 0, 1, 1, 0, 1, 0, 0, 0, 1, 1, 0, 1, 0, 0, 1, 0, 1, 0, 1, 0, 0, 1, 1, 0, 1, 0, 0, 0, 0, 0, 1, 1, 1, 1, 0, 0, 0, 0, 0, 0, 1, 1, 1, 1, 1, 0, 0, 0, 0, 0, 1, 0, 0, 0, 0, 0, 0,\n",
       "       0, 0, 0, 0, 0, 0, 0, 0, 0, 0, 0, 0, 0, 0, 0, 0, 0, 0, 0, 0, 0, 0, 0, 0, 0, 0, 0, 0, 0, 0, 0, 0, 0, 0, 0, 0, 0, 0, 0, 0, 0, 0, 0, 0, 0, 0, 0, 0, 0, 0, 0, 0, 0, 0, 0, 0, 0, 0, 0, 0, 0, 0, 0, 0, 0, 0, 0, 0, 0, 0, 0, 0, 0, 0, 1, 0, 0, 0, 0, 0, 0, 0, 0, 0, 0, 0, 0, 0, 1, 1, 1, 1, 0, 0, 0, 0, 0,\n",
       "       0, 0, 0, 0, 0, 1, 1, 1, 1, 0, 0, 0, 0, 0, 0, 0, 0, 0, 0, 0, 0, 0, 0, 0, 0, 0, 0, 0, 0, 0, 1, 1, 1, 1, 1, 1, 1, 1, 1, 1, 1, 1, 1, 1, 0, 1, 1, 1, 1, 1], dtype=int8)"
      ]
     },
     "execution_count": 76,
     "metadata": {},
     "output_type": "execute_result"
    }
   ],
   "source": [
    "x.lowest().record[0][0]"
   ]
  },
  {
   "cell_type": "code",
   "execution_count": null,
   "metadata": {},
   "outputs": [],
   "source": []
  },
  {
   "cell_type": "code",
   "execution_count": null,
   "metadata": {},
   "outputs": [],
   "source": []
  }
 ],
 "metadata": {
  "kernelspec": {
   "display_name": "vitens_wntr_1",
   "language": "python",
   "name": "python3"
  },
  "language_info": {
   "codemirror_mode": {
    "name": "ipython",
    "version": 3
   },
   "file_extension": ".py",
   "mimetype": "text/x-python",
   "name": "python",
   "nbconvert_exporter": "python",
   "pygments_lexer": "ipython3",
   "version": "3.9.0"
  }
 },
 "nbformat": 4,
 "nbformat_minor": 2
}
