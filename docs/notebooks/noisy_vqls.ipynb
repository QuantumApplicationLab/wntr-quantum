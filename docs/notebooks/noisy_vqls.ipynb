{
 "cells": [
  {
   "cell_type": "markdown",
   "metadata": {},
   "source": [
    "### Set up water network model\n",
    "\n",
    "In this example, we test the VQLS quantum solver with a noisy simulator. Let's start by setting up the model:"
   ]
  },
  {
   "cell_type": "code",
   "execution_count": 1,
   "metadata": {},
   "outputs": [
    {
     "data": {
      "image/png": "[encoded data removed]",
      "text/plain": [
       "<Figure size 640x480 with 1 Axes>"
      ]
     },
     "metadata": {},
     "output_type": "display_data"
    },
    {
     "data": {
      "text/plain": [
       "<Axes: title={'center': 'networks/Net0.inp'}>"
      ]
     },
     "execution_count": 1,
     "metadata": {},
     "output_type": "execute_result"
    }
   ],
   "source": [
    "import os\n",
    "import wntr\n",
    "import wntr_quantum\n",
    "\n",
    "os.environ[\"EPANET_TMP\"] = \"/Users/murilo/scratch_dir/.epanet_quantum\"\n",
    "os.environ[\"EPANET_QUANTUM\"] = \"/Users/murilo/Documents/NLeSC_Projects/Vitens/EPANET\"\n",
    "\n",
    "# set up network model\n",
    "inp_file = 'networks/Net0.inp'\n",
    "wn = wntr.network.WaterNetworkModel(inp_file)\n",
    "\n",
    "# plot network\n",
    "wntr.graphics.plot_network(wn, title=wn.name, node_labels=True)"
   ]
  },
  {
   "cell_type": "markdown",
   "metadata": {},
   "source": [
    "### Solve model using the classical Epanet simulator\n",
    "\n",
    "We now solve the same problem using the classical Epanet simulator. Note that, by default, `QuantumEpanetSimulator` uses a classical `CholeskySolver` to iteratively solve the linear problem."
   ]
  },
  {
   "cell_type": "code",
   "execution_count": 2,
   "metadata": {},
   "outputs": [
    {
     "name": "stdout",
     "output_type": "stream",
     "text": [
      "Your EPANET quantum path: /Users/murilo/Documents/NLeSC_Projects/Vitens/EPANET\n",
      "Your EPANET temp dir: /Users/murilo/scratch_dir/.epanet_quantum\n",
      "\n",
      "* Size of the Jacobian in EPANET simulator: 2\n",
      "* Size of the b vector in EPANET simulator: 2\n"
     ]
    },
    {
     "data": {
      "text/plain": [
       "(name         J1         D1            R1\n",
       " 0     29.647690  19.167675 -9.338379e-07\n",
       " 3600  29.647692  19.167675 -9.338379e-07,\n",
       " name    P1    P2\n",
       " 0     0.05  0.05\n",
       " 3600  0.05  0.05)"
      ]
     },
     "execution_count": 2,
     "metadata": {},
     "output_type": "execute_result"
    }
   ],
   "source": [
    "import sys\n",
    "\n",
    "# define the classical EPANET simulator\n",
    "sim = wntr_quantum.sim.QuantumEpanetSimulator(wn)\n",
    "\n",
    "# run the EPANET simulation\n",
    "results_epanet = sim.run_sim()\n",
    "\n",
    "# remember to set up EPANET Quantum environment variables!\n",
    "epanet_path = os.environ[\"EPANET_QUANTUM\"]\n",
    "epanet_tmp = os.environ[\"EPANET_TMP\"]\n",
    "\n",
    "# check paths\n",
    "print(f\"Your EPANET quantum path: {epanet_path}\")\n",
    "print(f\"Your EPANET temp dir: {epanet_tmp}\\n\")\n",
    "\n",
    "# load EPANET A and b matrices from temp\n",
    "epanet_A, epanet_b = wntr_quantum.sim.epanet.load_epanet_matrix()\n",
    "\n",
    "# check the size of the A and b matrices\n",
    "epanet_A_dim = epanet_A.todense().shape[0]\n",
    "epanet_b_dim = epanet_b.shape[0]\n",
    "print(f\"* Size of the Jacobian in EPANET simulator: {epanet_A_dim}\")\n",
    "print(f\"* Size of the b vector in EPANET simulator: {epanet_b_dim}\")\n",
    "\n",
    "# save number of nodes and pipes\n",
    "n_nodes = len(results_epanet.node[\"pressure\"].iloc[0]), \n",
    "n_pipes = len(results_epanet.link[\"flowrate\"].iloc[0])\n",
    "\n",
    "results_epanet.node[\"pressure\"], results_epanet.link[\"flowrate\"]"
   ]
  },
  {
   "cell_type": "markdown",
   "metadata": {},
   "source": [
    "### Define helper functions\n",
    "\n",
    "Before proceeding to the proper quantum solution of the water network model, let's define some helper functions. These will calculate the absolute percentage error (APE) between classical and quantum results, checking also that they are within a certain tolerance `TOL`%."
   ]
  },
  {
   "cell_type": "code",
   "execution_count": 3,
   "metadata": {},
   "outputs": [],
   "source": [
    "TOL = 50  # => per cent\n",
    "DELTA = 1.0e-12\n",
    "\n",
    "\n",
    "def get_ape_from_pd_series(quantum_pd_series, classical_pd_series):\n",
    "    \"\"\"Helper function to evaluate absolute percentage error between classical and quantum results.\"\"\"\n",
    "    ape = abs(quantum_pd_series - classical_pd_series) * 100.0 / abs(classical_pd_series + DELTA)\n",
    "    return ape\n",
    "\n",
    "\n",
    "def compare_results(classical_result, quantum_result):\n",
    "    \"\"\"\n",
    "    Helper function that compares the classical and quantum simulation results.\n",
    "    \"\"\"\n",
    "    classical_data = []\n",
    "    quantum_data = []\n",
    "\n",
    "    def check_ape(classical_value, quantum_value):\n",
    "        \"\"\"Helper function to check if the absolute percentage error between classical and quantum results is within TOL.\"\"\"\n",
    "        ape = abs(quantum_value - classical_value) * 100.0 / abs(classical_value + DELTA)\n",
    "        is_close_to_classical = ape <= TOL\n",
    "        if is_close_to_classical:\n",
    "            print(f\"Quantum result {quantum_value} within {ape}% of classical result {classical_value}\")\n",
    "            quantum_data.append(quantum_value)\n",
    "            classical_data.append(classical_value)\n",
    "        return is_close_to_classical\n",
    "\n",
    "    for link in classical_result.link[\"flowrate\"].columns:\n",
    "        classical_value = classical_result.link[\"flowrate\"][link].iloc[0]\n",
    "        quantum_value = quantum_result.link[\"flowrate\"][link].iloc[0]\n",
    "        message = f\"Flowrate {link}: {quantum_value} not within {TOL}% of classical result {classical_value}\"\n",
    "        assert check_ape(classical_value, quantum_value), message\n",
    "\n",
    "    for node in classical_result.node[\"pressure\"].columns:\n",
    "        classical_value = classical_result.node[\"pressure\"][node].iloc[0]\n",
    "        quantum_value = quantum_result.node[\"pressure\"][node].iloc[0]\n",
    "        message = f\"Pressure {node}: {quantum_value} not within {TOL}% of classical result {classical_value}\"\n",
    "        assert check_ape(classical_value, quantum_value), message\n",
    "\n",
    "    return classical_data, quantum_data"
   ]
  },
  {
   "cell_type": "markdown",
   "metadata": {},
   "source": [
    "### Solve water network with `QuantumEpanetSimulator` and VQLS \n",
    "\n",
    "We now solve the model using VQLS and a noisy model."
   ]
  },
  {
   "cell_type": "code",
   "execution_count": 4,
   "metadata": {},
   "outputs": [
    {
     "name": "stdout",
     "output_type": "stream",
     "text": [
      "VQLS Iteration 1000 Cost 2.748e-01\n",
      "   Return from subroutine COBYLA because the MAXFUN limit has been reached.\n",
      "\n",
      "   NFVALS = 1000   F = 2.748454E-01    MAXCV = 0.000000E+00\n",
      "   X = 1.380570E-01  -1.927192E+00   9.330299E-02  -1.760796E+00\n",
      "Optimization terminated successfully.\n",
      "         Current function value: 0.271608\n",
      "         Iterations: 41\n",
      "         Function evaluations: 520\n",
      "         Gradient evaluations: 104\n",
      "VQLS Iteration 1000 Cost 2.716e-01\n",
      "   Return from subroutine COBYLA because the MAXFUN limit has been reached.\n",
      "\n",
      "   NFVALS = 1000   F = 2.716227E-01    MAXCV = 0.000000E+00\n",
      "   X =-6.805132E-01  -1.489260E+00   9.069092E-02  -1.312716E+00\n",
      "Optimization terminated successfully.\n",
      "         Current function value: 0.269406\n",
      "         Iterations: 25\n",
      "         Function evaluations: 295\n",
      "         Gradient evaluations: 59\n",
      "VQLS Iteration 1000 Cost 2.684e-01\n",
      "   Return from subroutine COBYLA because the MAXFUN limit has been reached.\n",
      "\n",
      "   NFVALS = 1000   F = 2.684260E-01    MAXCV = 0.000000E+00\n",
      "   X = 2.028191E+00   1.876087E+00  -3.014672E-01  -6.576657E-01\n",
      "Optimization terminated successfully.\n",
      "         Current function value: 0.266814\n",
      "         Iterations: 12\n",
      "         Function evaluations: 165\n",
      "         Gradient evaluations: 33\n",
      "VQLS Iteration 1000 Cost 2.672e-01\n",
      "   Return from subroutine COBYLA because the MAXFUN limit has been reached.\n",
      "\n",
      "   NFVALS = 1000   F = 2.671962E-01    MAXCV = 0.000000E+00\n",
      "   X = 1.796994E+00   1.111094E+00  -2.348565E-01   2.704067E-01\n",
      "Optimization terminated successfully.\n",
      "         Current function value: 0.266827\n",
      "         Iterations: 17\n",
      "         Function evaluations: 260\n",
      "         Gradient evaluations: 52\n",
      "Quantum result 0.05685112997889519 within 13.702054948105824% of classical result 0.05000009015202522\n",
      "Quantum result 0.05676191300153732 within 13.523824311167365% of classical result 0.05000000074505806\n",
      "Quantum result 29.551624298095703 within 0.324023631607135% of classical result 29.647689819335938\n",
      "Quantum result 16.23397445678711 within 15.305458584417627% of classical result 19.167675018310547\n",
      "Quantum result -9.338378959000693e-07 within 0.0% of classical result -9.338378959000693e-07\n"
     ]
    },
    {
     "data": {
      "text/plain": [
       "(name         J1         D1            R1\n",
       " 0     29.551624  16.233974 -9.338379e-07\n",
       " 3600  29.553844  16.301960 -9.338379e-07,\n",
       " name        P1        P2\n",
       " 0     0.056851  0.056762\n",
       " 3600  0.056682  0.056595)"
      ]
     },
     "execution_count": 4,
     "metadata": {},
     "output_type": "execute_result"
    }
   ],
   "source": [
    "import numpy as np\n",
    "\n",
    "from qiskit.circuit.library import RealAmplitudes\n",
    "from qiskit.primitives import Estimator\n",
    "from qiskit_algorithms import optimizers as opt\n",
    "\n",
    "from qiskit_aer import AerSimulator\n",
    "from qiskit_aer.primitives import EstimatorV2 as qiskit_aer_EstimatorV2\n",
    "from qiskit_aer.noise import NoiseModel, depolarizing_error\n",
    "from qiskit_ibm_runtime.fake_provider import FakeManilaV2\n",
    "\n",
    "from quantum_newton_raphson.vqls_solver import VQLS_SOLVER\n",
    "\n",
    "n_qubits = int(np.ceil(np.log2(epanet_A_dim)))\n",
    "\n",
    "# create a noise model from a backend\n",
    "# the model could have been created from a real hardware\n",
    "# from qiskit_ibm_runtime import QiskitRuntimeService\n",
    "# service = QiskitRuntimeService()\n",
    "# real_hardware = service.backend(\"ibm_kyoto\")\n",
    "noise_model = NoiseModel.from_backend(FakeManilaV2())\n",
    "\n",
    "# noise_model = NoiseModel()\n",
    "# cx_depolarizing_prob = 0.001  # => add later a 0.1% on every two-qubit CNOT gate\n",
    "# noise_model.add_all_qubit_quantum_error(\n",
    "#     depolarizing_error(cx_depolarizing_prob, 2), [\"cx\"]\n",
    "# )\n",
    "\n",
    "# set up quantum backend and estimator\n",
    "backend = AerSimulator()\n",
    "estimator = qiskit_aer_EstimatorV2(\n",
    "    options=dict(\n",
    "        backend_options=dict(noise_model=noise_model),\n",
    "        run_options=dict(shots=4000, seed=42)\n",
    "    )\n",
    ")\n",
    "\n",
    "qc = RealAmplitudes(n_qubits, reps=3, entanglement=\"full\")\n",
    "\n",
    "linear_solver = VQLS_SOLVER(\n",
    "    estimator=estimator,\n",
    "    ansatz=qc,\n",
    "    optimizer=[opt.COBYLA(maxiter=1000, disp=True), opt.CG(maxiter=500, disp=True)],\n",
    "    matrix_decomposition=\"symmetric\",\n",
    "    verbose=True,\n",
    "    preconditioner=\"diagonal_scaling\",\n",
    "    reorder=True,\n",
    ")\n",
    "\n",
    "sim = wntr_quantum.sim.QuantumEpanetSimulator(wn, linear_solver=linear_solver)\n",
    "results_vqls = sim.run_sim(linear_solver=linear_solver)\n",
    "\n",
    "results_classical, results_quantum = compare_results(results_epanet, results_vqls)\n",
    "\n",
    "results_vqls.node[\"pressure\"], results_vqls.link[\"flowrate\"]"
   ]
  },
  {
   "cell_type": "markdown",
   "metadata": {},
   "source": [
    "### Plot Network model with absolute percent errors\n",
    "\n",
    "To compare the results, we plot the network together with the absolute percent errors (with respect to the classical results) for the predicted pressures and flow rates."
   ]
  },
  {
   "cell_type": "code",
   "execution_count": 5,
   "metadata": {},
   "outputs": [
    {
     "data": {
      "image/png": "[encoded data removed]",
      "text/plain": [
       "<Figure size 640x480 with 3 Axes>"
      ]
     },
     "metadata": {},
     "output_type": "display_data"
    },
    {
     "data": {
      "text/plain": [
       "<Axes: title={'center': 'networks/Net0.inp: Absolute Percent Error'}>"
      ]
     },
     "execution_count": 5,
     "metadata": {},
     "output_type": "execute_result"
    }
   ],
   "source": [
    "\n",
    "wntr.graphics.plot_network(\n",
    "    wn,\n",
    "    node_attribute=get_ape_from_pd_series(\n",
    "        results_vqls.node[\"pressure\"].iloc[0],\n",
    "        results_epanet.node[\"pressure\"].iloc[0]\n",
    "    ),\n",
    "    link_attribute=get_ape_from_pd_series(\n",
    "        results_vqls.link[\"flowrate\"].iloc[0],\n",
    "        results_epanet.link[\"flowrate\"].iloc[0],\n",
    "    ),\n",
    "    node_colorbar_label='Pressures',\n",
    "    link_colorbar_label='Flows',\n",
    "    node_size=50,\n",
    "    title=f\"{inp_file}: Absolute Percent Error\",\n",
    "    node_labels=False\n",
    ")"
   ]
  },
  {
   "cell_type": "markdown",
   "metadata": {},
   "source": [
    "### Plot pressures and flow rates\n",
    "\n",
    "Let's check graphically the equivalence of the results."
   ]
  },
  {
   "cell_type": "code",
   "execution_count": 6,
   "metadata": {},
   "outputs": [
    {
     "data": {
      "image/png": "[encoded data removed]",
      "text/plain": [
       "<Figure size 640x480 with 1 Axes>"
      ]
     },
     "metadata": {},
     "output_type": "display_data"
    },
    {
     "data": {
      "text/plain": [
       "([0.05000009, 0.05, 29.64769, 19.167675, -9.338379e-07],\n",
       " [0.05685113, 0.056761913, 29.551624, 16.233974, -9.338379e-07])"
      ]
     },
     "execution_count": 6,
     "metadata": {},
     "output_type": "execute_result"
    }
   ],
   "source": [
    "import matplotlib.pyplot as plt\n",
    "plt.scatter(results_classical[:n_pipes], results_quantum[:n_pipes], label=\"Flow rates\", color=\"blue\", marker=\"o\")\n",
    "plt.scatter(results_classical[n_pipes:], results_quantum[n_pipes:], label=\"Pressures\", color=\"red\", marker=\"s\", facecolors='none')\n",
    "plt.axline((0, 0), slope=1, linestyle=\"--\", color=\"gray\", label=\"\")\n",
    "plt.xlabel(\"Classical results\")\n",
    "plt.ylabel(\"Quantum results\")\n",
    "plt.legend()\n",
    "plt.show()\n",
    "\n",
    "results_classical, results_quantum"
   ]
  },
  {
   "cell_type": "code",
   "execution_count": null,
   "metadata": {},
   "outputs": [],
   "source": []
  }
 ],
 "metadata": {
  "kernelspec": {
   "display_name": ".venv",
   "language": "python",
   "name": "python3"
  },
  "language_info": {
   "codemirror_mode": {
    "name": "ipython",
    "version": 3
   },
   "file_extension": ".py",
   "mimetype": "text/x-python",
   "name": "python",
   "nbconvert_exporter": "python",
   "pygments_lexer": "ipython3",
   "version": "3.11.7"
  }
 },
 "nbformat": 4,
 "nbformat_minor": 2
}
