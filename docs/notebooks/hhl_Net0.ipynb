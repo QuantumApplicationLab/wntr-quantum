{
 "cells": [
  {
   "cell_type": "markdown",
   "metadata": {},
   "source": [
    "### Set up water network model\n",
    "\n",
    "In this example, we test our quantum solvers into a slightly larger network as contained in `Net0.inp`. Let's start by setting up the model:|"
   ]
  },
  {
   "cell_type": "code",
   "execution_count": 1,
   "metadata": {},
   "outputs": [
    {
     "data": {
      "image/png": "[encoded data removed]",
      "text/plain": [
       "<Figure size 640x480 with 1 Axes>"
      ]
     },
     "metadata": {},
     "output_type": "display_data"
    },
    {
     "data": {
      "text/plain": [
       "<Axes: title={'center': 'networks/Net0.inp'}>"
      ]
     },
     "execution_count": 1,
     "metadata": {},
     "output_type": "execute_result"
    }
   ],
   "source": [
    "import os\n",
    "import wntr\n",
    "import wntr_quantum\n",
    "\n",
    "os.environ[\"EPANET_TMP\"] = \"/home/nico/.epanet_quantum\"\n",
    "os.environ[\"EPANET_QUANTUM\"] = \"/home/nico/QuantumApplicationLab/vitens/EPANET\"\n",
    "# set up network model\n",
    "inp_file = 'networks/Net0.inp'\n",
    "wn = wntr.network.WaterNetworkModel(inp_file)\n",
    "\n",
    "# plot network\n",
    "wntr.graphics.plot_network(wn, title=wn.name, node_labels=True)\n",
    "\n",
    "# print options\n",
    "# dict(wn.options.hydraulic)"
   ]
  },
  {
   "cell_type": "markdown",
   "metadata": {},
   "source": [
    "### Solve model using the classical Epanet simulator\n",
    "\n",
    "We now solve the same problem using the classical Epanet simulator. Note that, by default, `QuantumEpanetSimulator` uses a classical `CholeskySolver` to iteratively solve the linear problem."
   ]
  },
  {
   "cell_type": "code",
   "execution_count": 2,
   "metadata": {},
   "outputs": [
    {
     "name": "stdout",
     "output_type": "stream",
     "text": [
      "/home/nico/QuantumApplicationLab/vitens/wntr-quantum/wntr_quantum/epanet/Linux/libepanet22_amd64.so\n",
      "Your EPANET quantum path: /home/nico/QuantumApplicationLab/vitens/EPANET\n",
      "Your EPANET temp dir: /home/nico/.epanet_quantum\n",
      "\n",
      "Size of the Jacobian in EPANET simulator: 2\n",
      "Size of the b vector in EPANET simulator: 2\n"
     ]
    },
    {
     "data": {
      "text/plain": [
       "(name         J1         D1            R1\n",
       " 0     29.647690  19.167675 -9.338379e-07\n",
       " 3600  29.647692  19.167675 -9.338379e-07,\n",
       " name    P1    P2\n",
       " 0     0.05  0.05\n",
       " 3600  0.05  0.05)"
      ]
     },
     "execution_count": 2,
     "metadata": {},
     "output_type": "execute_result"
    }
   ],
   "source": [
    "import sys\n",
    "\n",
    "# define the classical EPANET simulator\n",
    "sim = wntr_quantum.sim.QuantumEpanetSimulator(wn)\n",
    "\n",
    "# run the EPANET simulation\n",
    "results_epanet = sim.run_sim()\n",
    "\n",
    "# remember to set up EPANET Quantum environment variables!\n",
    "epanet_path = os.environ[\"EPANET_QUANTUM\"]\n",
    "epanet_tmp = os.environ[\"EPANET_TMP\"]\n",
    "\n",
    "# check paths\n",
    "print(f\"Your EPANET quantum path: {epanet_path}\")\n",
    "print(f\"Your EPANET temp dir: {epanet_tmp}\\n\")\n",
    "\n",
    "util_path = os.path.join(epanet_path, 'src/py/')\n",
    "sys.path.append(util_path)\n",
    "\n",
    "from quantum_linsolve import load_json_data\n",
    "epanet_A, epanet_b = load_json_data(os.path.join(epanet_tmp,'smat.json'))\n",
    "\n",
    "# set the size of the Jacobian (A matrix)\n",
    "epanet_A_dim = epanet_A.todense().shape[0]\n",
    "print(f\"Size of the Jacobian in EPANET simulator: {epanet_A_dim}\")\n",
    "print(f\"Size of the b vector in EPANET simulator: {epanet_b.shape[0]}\")\n",
    "\n",
    "# save number of nodes and pipes\n",
    "n_nodes = len(results_epanet.node[\"pressure\"].iloc[0]), \n",
    "n_pipes = len(results_epanet.link[\"flowrate\"].iloc[0])\n",
    "\n",
    "results_epanet.node[\"pressure\"], results_epanet.link[\"flowrate\"]"
   ]
  },
  {
   "cell_type": "markdown",
   "metadata": {},
   "source": [
    "### Define a helper function\n",
    "\n",
    "Before proceeding to the proper quantum solution of the water network model, let's define a helper function. This function checks that the quantum results are within `TOL`% of those obtained classically. It also fills in lists containing the final values of pressures and flow rates obtained."
   ]
  },
  {
   "cell_type": "code",
   "execution_count": 3,
   "metadata": {},
   "outputs": [],
   "source": [
    "TOL = 5  # => per cent\n",
    "DELTA = 1.0e-12\n",
    "\n",
    "classical_res = []\n",
    "quantum_res = []\n",
    "\n",
    "\n",
    "def compare_results(classical_result, quantum_result):\n",
    "    \"\"\"\n",
    "    Helper function that compares the classical and quantum simulation results.\n",
    "    \"\"\"\n",
    "    def calculate_differences(classical_value, quantum_value):\n",
    "        \"\"\"Helper function to evaluate percentage difference between classical and quantum results.\"\"\"\n",
    "        is_close_to_classical = abs(classical_value - quantum_value) / abs(classical_value + DELTA) <= TOL / 100.0\n",
    "        if is_close_to_classical:\n",
    "            print(f\"Quantum result {quantum_value} within {TOL}% of classical result {classical_value}\")\n",
    "            quantum_res.append(quantum_value)\n",
    "            classical_res.append(classical_value)\n",
    "        return is_close_to_classical\n",
    "    \n",
    "    for link in classical_result.link[\"flowrate\"].columns:\n",
    "        classical_value = classical_result.link[\"flowrate\"][link].iloc[0]\n",
    "        quantum_value = quantum_result.link[\"flowrate\"][link].iloc[0]\n",
    "        message = f\"Flowrate {link}: {quantum_value} not within {TOL}% of classical result {classical_value}\"\n",
    "        assert calculate_differences(classical_value, quantum_value), message\n",
    "\n",
    "    for node in classical_result.node[\"pressure\"].columns:\n",
    "        classical_value = classical_result.node[\"pressure\"][node].iloc[0]\n",
    "        quantum_value = quantum_result.node[\"pressure\"][node].iloc[0]\n",
    "        message= f\"Pressure {node}: {quantum_value} not within {TOL}% of classical result {classical_value}\"\n",
    "        assert calculate_differences(classical_value, quantum_value), message"
   ]
  },
  {
   "cell_type": "markdown",
   "metadata": {},
   "source": [
    "### Solve water network with `QuantumEpanetSimulator` and VQLS \n",
    "\n",
    "We now solve the model using VQLS. In this example, we are **preconditioning** the initial linear system using *diagonal scaling* and also using a **mix of two classical optimizers**."
   ]
  },
  {
   "cell_type": "code",
   "execution_count": 5,
   "metadata": {},
   "outputs": [
    {
     "name": "stdout",
     "output_type": "stream",
     "text": [
      "/home/nico/QuantumApplicationLab/vitens/wntr-quantum/wntr_quantum/epanet/Linux/libepanet22_amd64.so\n",
      "Quantum result 0.05003536120057106 within 5% of classical result 0.05000009015202522\n",
      "Quantum result 0.05003482848405838 within 5% of classical result 0.05000000074505806\n",
      "Quantum result 29.64763641357422 within 5% of classical result 29.647689819335938\n",
      "Quantum result 19.16619110107422 within 5% of classical result 19.167675018310547\n",
      "Quantum result -9.338378959000693e-07 within 5% of classical result -9.338378959000693e-07\n"
     ]
    },
    {
     "data": {
      "text/plain": [
       "(name         J1         D1            R1\n",
       " 0     29.647636  19.166191 -9.338379e-07\n",
       " 3600  29.647129  19.150408 -9.338379e-07,\n",
       " name        P1        P2\n",
       " 0     0.050035  0.050035\n",
       " 3600  0.050042  0.050042)"
      ]
     },
     "execution_count": 5,
     "metadata": {},
     "output_type": "execute_result"
    }
   ],
   "source": [
    "import numpy as np\n",
    "from qiskit.primitives import Estimator\n",
    "from quantum_newton_raphson.hhl_solver import HHL_SOLVER\n",
    "\n",
    "n_qubits = int(np.ceil(np.log2(epanet_A_dim)))\n",
    "estimator = Estimator()\n",
    "\n",
    "linear_solver = HHL_SOLVER(\n",
    "    estimator=estimator,\n",
    "    # preconditioner=\"diagonal_scaling\",\n",
    ")\n",
    "\n",
    "sim = wntr_quantum.sim.QuantumEpanetSimulator(wn, linear_solver=linear_solver)\n",
    "results_vqls = sim.run_sim(linear_solver=linear_solver)\n",
    "\n",
    "compare_results(results_epanet, results_vqls)\n",
    "\n",
    "results_vqls.node[\"pressure\"], results_vqls.link[\"flowrate\"]"
   ]
  },
  {
   "cell_type": "markdown",
   "metadata": {},
   "source": [
    "### Plot pressures and flow rates\n",
    "\n",
    "Let's check graphically the equivalence of the results."
   ]
  },
  {
   "cell_type": "code",
   "execution_count": 6,
   "metadata": {},
   "outputs": [
    {
     "data": {
      "image/png": "[encoded data removed]",
      "text/plain": [
       "<Figure size 640x480 with 1 Axes>"
      ]
     },
     "metadata": {},
     "output_type": "display_data"
    }
   ],
   "source": [
    "import matplotlib.pyplot as plt\n",
    "plt.scatter(classical_res[:n_pipes], quantum_res[:n_pipes], label=\"Flow rates\", color=\"blue\", marker=\"o\")\n",
    "plt.scatter(classical_res[n_pipes:], quantum_res[n_pipes:], label=\"Pressures\", color=\"red\", marker=\"s\", facecolors='none')\n",
    "plt.axline((0, 0), slope=1, linestyle=\"--\", color=\"gray\", label=\"\")\n",
    "plt.xlabel(\"Classical results\")\n",
    "plt.ylabel(\"Quantum results\")\n",
    "plt.legend()\n",
    "plt.show()"
   ]
  },
  {
   "cell_type": "code",
   "execution_count": null,
   "metadata": {},
   "outputs": [],
   "source": []
  }
 ],
 "metadata": {
  "kernelspec": {
   "display_name": ".venv",
   "language": "python",
   "name": "python3"
  },
  "language_info": {
   "codemirror_mode": {
    "name": "ipython",
    "version": 3
   },
   "file_extension": ".py",
   "mimetype": "text/x-python",
   "name": "python",
   "nbconvert_exporter": "python",
   "pygments_lexer": "ipython3",
   "version": "3.9.0"
  }
 },
 "nbformat": 4,
 "nbformat_minor": 2
}
