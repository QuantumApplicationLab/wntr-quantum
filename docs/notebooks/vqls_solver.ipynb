{
 "cells": [
  {
   "cell_type": "markdown",
   "metadata": {},
   "source": [
    "# VQLS Solver Performance Analysis\n",
    "\n",
    "We test here the VQLS SOLVER in isolation to explore its performance.\n",
    "\n",
    "Wr first define the system we want to explore"
   ]
  },
  {
   "cell_type": "code",
   "execution_count": 44,
   "metadata": {},
   "outputs": [],
   "source": [
    "import os\n",
    "os.environ['EPANET_QUANTUM'] = \"/home/nico/QuantumApplicationLab/vitens/EPANET\"\n",
    "os.environ[\"EPANET_TMP\"] = \"/home/nico/.epanet_quantum/\""
   ]
  },
  {
   "cell_type": "code",
   "execution_count": 167,
   "metadata": {},
   "outputs": [
    {
     "data": {
      "image/png": "[encoded data removed]",
      "text/plain": [
       "<Figure size 640x480 with 1 Axes>"
      ]
     },
     "metadata": {},
     "output_type": "display_data"
    },
    {
     "data": {
      "text/plain": [
       "<Axes: title={'center': 'networks/Net3Loops.inp'}>"
      ]
     },
     "execution_count": 167,
     "metadata": {},
     "output_type": "execute_result"
    }
   ],
   "source": [
    "import wntr\n",
    "import wntr_quantum\n",
    "\n",
    "# Create a water network model\n",
    "# inp_file = 'networks/Net0.inp'\n",
    "# inp_file = 'networks/Net2Loops_modified.inp'\n",
    "# inp_file = 'networks/Net1Loops.inp'\n",
    "inp_file = 'networks/Net3Loops.inp'\n",
    "wn = wntr.network.WaterNetworkModel(inp_file)\n",
    "\n",
    "# Graph the network\n",
    "wntr.graphics.plot_network(wn, title=wn.name, node_labels=True)"
   ]
  },
  {
   "cell_type": "markdown",
   "metadata": {},
   "source": [
    "We then solve it with the internal Cholesky solver implemented in WNTR Quantum"
   ]
  },
  {
   "cell_type": "code",
   "execution_count": 168,
   "metadata": {},
   "outputs": [
    {
     "name": "stdout",
     "output_type": "stream",
     "text": [
      "/home/nico/QuantumApplicationLab/vitens/wntr-quantum/wntr_quantum/epanet/Linux/libepanet22_amd64.so\n",
      "Solving the linear system Ax = b with:\n",
      "A =  [[ 0.079 -0.04   0.    -0.04   0.     0.     0.     0.   ]\n",
      " [-0.04   0.079 -0.04   0.     0.     0.     0.     0.   ]\n",
      " [ 0.    -0.04   1.112 -0.197  0.     0.     0.    -0.875]\n",
      " [-0.04   0.    -0.197  0.277 -0.04   0.     0.     0.   ]\n",
      " [ 0.     0.     0.    -0.04   0.119 -0.04   0.    -0.04 ]\n",
      " [ 0.     0.     0.     0.    -0.04   0.137 -0.097  0.   ]\n",
      " [ 0.     0.     0.     0.     0.    -0.097  2.636 -1.268]\n",
      " [ 0.     0.    -0.875  0.    -0.04   0.    -1.268  2.183]]\n",
      "b =  [ -2.172  -2.354  -2.937  -1.711  -2.558  -0.911 874.005  -1.098]\n",
      "x =  [587.843 592.846 657.222 637.618 632.925 657.739 677.261 667.922]\n",
      "residue =  1.7949679892771277e-13\n",
      "Solving the linear system Ax = b with:\n",
      "A =  [[ 0.034 -0.029  0.    -0.005  0.     0.     0.     0.   ]\n",
      " [-0.029  0.033 -0.004  0.     0.     0.     0.     0.   ]\n",
      " [ 0.    -0.004  0.203 -0.035  0.     0.     0.    -0.163]\n",
      " [-0.005  0.    -0.035  0.115 -0.074  0.     0.     0.   ]\n",
      " [ 0.     0.     0.    -0.074  0.091 -0.009  0.    -0.007]\n",
      " [ 0.     0.     0.     0.    -0.009  0.031 -0.021  0.   ]\n",
      " [ 0.     0.     0.     0.     0.    -0.021  0.456 -0.237]\n",
      " [ 0.     0.    -0.163  0.    -0.007  0.    -0.237  0.407]]\n",
      "b =  [ -1.271  -1.271  -1.748  -1.059  -1.43   -0.53  135.61   -0.636]\n",
      "x =  [286.348 287.208 584.663 518.139 517.613 589.736 646.091 617.636]\n",
      "residue =  3.7150026643810154e-14\n",
      "Solving the linear system Ax = b with:\n",
      "A =  [[ 0.053 -0.048  0.    -0.005  0.     0.     0.     0.   ]\n",
      " [-0.048  0.053 -0.005  0.     0.     0.     0.     0.   ]\n",
      " [ 0.    -0.005  0.203 -0.034  0.     0.     0.    -0.164]\n",
      " [-0.005  0.    -0.034  0.123 -0.083  0.     0.     0.   ]\n",
      " [ 0.     0.     0.    -0.083  0.1   -0.009  0.    -0.008]\n",
      " [ 0.     0.     0.     0.    -0.009  0.029 -0.021  0.   ]\n",
      " [ 0.     0.     0.     0.     0.    -0.021  0.457 -0.238]\n",
      " [ 0.     0.    -0.164  0.    -0.008  0.    -0.238  0.409]]\n",
      "b =  [ -1.271  -1.271  -1.748  -1.059  -1.43   -0.53  135.611  -0.636]\n",
      "x =  [285.178 286.915 584.641 517.963 517.401 589.726 646.091 617.627]\n",
      "residue =  5.756353818672271e-14\n"
     ]
    },
    {
     "data": {
      "image/png": "[encoded data removed]",
      "text/plain": [
       "<Figure size 640x480 with 2 Axes>"
      ]
     },
     "metadata": {},
     "output_type": "display_data"
    },
    {
     "data": {
      "text/plain": [
       "<Axes: title={'center': 'Pressure at 5 hours'}>"
      ]
     },
     "execution_count": 168,
     "metadata": {},
     "output_type": "execute_result"
    }
   ],
   "source": [
    "sim = wntr_quantum.sim.QuantumEpanetSimulator(wn)\n",
    "results = sim.run_sim()\n",
    "\n",
    "# Plot results on the network\n",
    "pressure_at_5hr = results.node['pressure'].loc[0, :]\n",
    "wntr.graphics.plot_network(wn, node_attribute=pressure_at_5hr, node_size=50,\n",
    "                        title='Pressure at 5 hours', node_labels=False)"
   ]
  },
  {
   "cell_type": "markdown",
   "metadata": {},
   "source": [
    "The last matrix of the Newton Raphson has been stored in the `tmp` directory of EPANET. We can load it to further analyze how VQLS performs on it."
   ]
  },
  {
   "cell_type": "code",
   "execution_count": 169,
   "metadata": {},
   "outputs": [],
   "source": [
    "import sys\n",
    "import os \n",
    "epanet_path = os.environ[\"EPANET_QUANTUM\"]\n",
    "epanet_tmp = os.environ[\"EPANET_TMP\"]\n",
    "util_path = os.path.join(epanet_path, 'src/py/')\n",
    "sys.path.append(util_path)\n",
    "\n",
    "from quantum_linsolve import load_json_data \n",
    "A, b = load_json_data(os.path.join(epanet_tmp,'smat.json'))"
   ]
  },
  {
   "cell_type": "code",
   "execution_count": 170,
   "metadata": {},
   "outputs": [
    {
     "data": {
      "text/plain": [
       "181.65907919074067"
      ]
     },
     "execution_count": 170,
     "metadata": {},
     "output_type": "execute_result"
    }
   ],
   "source": [
    "# import scipy.sparse as spsp\n",
    "import numpy as np\n",
    "# size = 8\n",
    "# A = spsp.random(size,size, density = 0.25)\n",
    "# A=A+A.T\n",
    "# A.todense()\n",
    "\n",
    "# b = np.random.rand(size)\n",
    "np.linalg.cond(A.todense())"
   ]
  },
  {
   "cell_type": "code",
   "execution_count": 171,
   "metadata": {},
   "outputs": [
    {
     "data": {
      "text/plain": [
       "32.51322133881136"
      ]
     },
     "execution_count": 171,
     "metadata": {},
     "output_type": "execute_result"
    }
   ],
   "source": [
    "P  = np.diag(np.sqrt(np.diag(A.todense())))\n",
    "iP = np.linalg.inv(P)\n",
    "Q = iP \n",
    "QAP = Q @ A @ iP\n",
    "Qb = Q @ b\n",
    "np.linalg.cond(Q @ A @ iP)"
   ]
  },
  {
   "cell_type": "code",
   "execution_count": 172,
   "metadata": {},
   "outputs": [
    {
     "data": {
      "text/plain": [
       "array([[ 1.   , -0.909,  0.   , -0.063,  0.   ,  0.   ,  0.   ,  0.   ],\n",
       "       [-0.909,  1.   , -0.044,  0.   ,  0.   ,  0.   ,  0.   ,  0.   ],\n",
       "       [ 0.   , -0.044,  1.   , -0.218,  0.   ,  0.   ,  0.   , -0.568],\n",
       "       [-0.063,  0.   , -0.218,  1.   , -0.754,  0.   ,  0.   ,  0.   ],\n",
       "       [ 0.   ,  0.   ,  0.   , -0.754,  1.   , -0.161,  0.   , -0.037],\n",
       "       [ 0.   ,  0.   ,  0.   ,  0.   , -0.161,  1.   , -0.178,  0.   ],\n",
       "       [ 0.   ,  0.   ,  0.   ,  0.   ,  0.   , -0.178,  1.   , -0.551],\n",
       "       [ 0.   ,  0.   , -0.568,  0.   , -0.037,  0.   , -0.551,  1.   ]])"
      ]
     },
     "execution_count": 172,
     "metadata": {},
     "output_type": "execute_result"
    }
   ],
   "source": [
    "QAP"
   ]
  },
  {
   "cell_type": "code",
   "execution_count": 177,
   "metadata": {},
   "outputs": [],
   "source": [
    "from quantum_newton_raphson.vqls_solver import VQLS_SOLVER\n",
    "from qiskit.primitives import Estimator\n",
    "from qiskit.circuit.library import RealAmplitudes \n",
    "from qiskit_algorithms.optimizers import CG, COBYLA, ADAM, SPSA, AQGD\n",
    "from qiskit_algorithms.gradients import LinCombEstimatorGradient\n",
    "\n",
    "# define the ansatz\n",
    "qc = RealAmplitudes(3, reps=5, entanglement='full')\n",
    "\n",
    "# define estimator\n",
    "estimator = Estimator()\n",
    "\n",
    "# define the solver\n",
    "vqls = VQLS_SOLVER(\n",
    "    estimator = estimator,\n",
    "    ansatz = qc,\n",
    "    optimizer = [COBYLA(maxiter=500), CG(disp=True, maxiter=50)],\n",
    "    # gradient = LinCombEstimatorGradient(estimator),\n",
    "    matrix_decomposition = \"symmetric\",\n",
    "    verbose=True\n",
    ")\n",
    "# res = vqls.solve(A.todense(),b)"
   ]
  },
  {
   "cell_type": "markdown",
   "metadata": {},
   "source": [
    "We can solve the system using VQLS"
   ]
  },
  {
   "cell_type": "code",
   "execution_count": 178,
   "metadata": {},
   "outputs": [
    {
     "name": "stderr",
     "output_type": "stream",
     "text": [
      "/home/nico/QuantumApplicationLab/QuantumNewtonRaphson/quantum_newton_raphson/utils.py:74: SparseEfficiencyWarning: spsolve requires A be CSC or CSR matrix format\n",
      "  warn(\"spsolve requires A be CSC or CSR matrix format\", SparseEfficiencyWarning)\n"
     ]
    },
    {
     "name": "stdout",
     "output_type": "stream",
     "text": [
      "         Current function value: 0.000002\n",
      "         Iterations: 50\n",
      "         Function evaluations: 1824\n",
      "         Gradient evaluations: 96\n",
      "[-0.09  -0.091 -0.374 -0.257 -0.232 -0.144 -0.622 -0.562]\n"
     ]
    }
   ],
   "source": [
    "res = vqls(QAP, Qb)"
   ]
  },
  {
   "cell_type": "markdown",
   "metadata": {},
   "source": [
    "We can plot the evoluation of the los function"
   ]
  },
  {
   "cell_type": "code",
   "execution_count": 179,
   "metadata": {},
   "outputs": [
    {
     "data": {
      "text/plain": [
       "[<matplotlib.lines.Line2D at 0x75602df5ee50>]"
      ]
     },
     "execution_count": 179,
     "metadata": {},
     "output_type": "execute_result"
    },
    {
     "data": {
      "image/png": "[encoded data removed]",
      "text/plain": [
       "<Figure size 640x480 with 1 Axes>"
      ]
     },
     "metadata": {},
     "output_type": "display_data"
    }
   ],
   "source": [
    "import matplotlib.pyplot as plt\n",
    "plt.semilogy(res.logger.values)"
   ]
  },
  {
   "cell_type": "markdown",
   "metadata": {},
   "source": [
    "And plot the vqls solution compared to the LU solution"
   ]
  },
  {
   "cell_type": "code",
   "execution_count": 180,
   "metadata": {},
   "outputs": [
    {
     "data": {
      "image/png": "[encoded data removed]",
      "text/plain": [
       "<Figure size 640x480 with 1 Axes>"
      ]
     },
     "metadata": {},
     "output_type": "display_data"
    }
   ],
   "source": [
    "import numpy as np \n",
    "ref = np.linalg.solve(A.todense(),b)\n",
    "\n",
    "plt.scatter(ref, res.solution*np.diag(iP))\n",
    "plt.axline((0, 0), slope=1, linestyle=\"--\", color=\"gray\")\n",
    "plt.show()"
   ]
  },
  {
   "cell_type": "code",
   "execution_count": 181,
   "metadata": {},
   "outputs": [
    {
     "data": {
      "text/plain": [
       "array([285.178, 286.915, 584.641, 517.963, 517.401, 589.726, 646.091, 617.627])"
      ]
     },
     "execution_count": 181,
     "metadata": {},
     "output_type": "execute_result"
    }
   ],
   "source": [
    "ref "
   ]
  },
  {
   "cell_type": "code",
   "execution_count": 183,
   "metadata": {},
   "outputs": [
    {
     "data": {
      "text/plain": [
       "array([274.82 , 276.581, 582.442, 514.48 , 514.106, 588.294, 645.151, 615.983])"
      ]
     },
     "execution_count": 183,
     "metadata": {},
     "output_type": "execute_result"
    }
   ],
   "source": [
    "res.solution*np.diag(iP)"
   ]
  },
  {
   "cell_type": "code",
   "execution_count": 91,
   "metadata": {},
   "outputs": [],
   "source": [
    "Ad = A.todense()"
   ]
  },
  {
   "cell_type": "code",
   "execution_count": 97,
   "metadata": {},
   "outputs": [
    {
     "data": {
      "text/plain": [
       "array([561.597, 628.269, 682.218, 680.56 ])"
      ]
     },
     "execution_count": 97,
     "metadata": {},
     "output_type": "execute_result"
    }
   ],
   "source": [
    "np.linalg.solve(Ad-0*np.eye(4),b)+0"
   ]
  },
  {
   "cell_type": "code",
   "execution_count": 107,
   "metadata": {},
   "outputs": [
    {
     "ename": "ValueError",
     "evalue": "matmul: Input operand 1 has a mismatch in its core dimension 0, with gufunc signature (n?,k),(k,m?)->(n?,m?) (size 4 is different from 8)",
     "output_type": "error",
     "traceback": [
      "\u001b[0;31m---------------------------------------------------------------------------\u001b[0m",
      "\u001b[0;31mValueError\u001b[0m                                Traceback (most recent call last)",
      "Cell \u001b[0;32mIn[107], line 1\u001b[0m\n\u001b[0;32m----> 1\u001b[0m np\u001b[38;5;241m.\u001b[39mlinalg\u001b[38;5;241m.\u001b[39msolve(\u001b[43mM\u001b[49m\u001b[38;5;129;43m@Ad\u001b[39;49m,b)\n",
      "\u001b[0;31mValueError\u001b[0m: matmul: Input operand 1 has a mismatch in its core dimension 0, with gufunc signature (n?,k),(k,m?)->(n?,m?) (size 4 is different from 8)"
     ]
    }
   ],
   "source": [
    "np.linalg.solve(M@Ad,b)"
   ]
  },
  {
   "cell_type": "code",
   "execution_count": 184,
   "metadata": {},
   "outputs": [],
   "source": [
    "from vqls_prototype.matrix_decomposition import PauliDecomposition"
   ]
  },
  {
   "cell_type": "code",
   "execution_count": 185,
   "metadata": {},
   "outputs": [
    {
     "name": "stderr",
     "output_type": "stream",
     "text": [
      "100%|██████████| 64/64 [00:00<00:00, 1937.76it/s]\n"
     ]
    }
   ],
   "source": [
    "p1 = PauliDecomposition(A.todense())"
   ]
  },
  {
   "cell_type": "code",
   "execution_count": 186,
   "metadata": {},
   "outputs": [
    {
     "name": "stderr",
     "output_type": "stream",
     "text": [
      "100%|██████████| 64/64 [00:00<00:00, 1458.92it/s]\n"
     ]
    }
   ],
   "source": [
    "p2 = PauliDecomposition(QAP)"
   ]
  },
  {
   "cell_type": "code",
   "execution_count": 188,
   "metadata": {},
   "outputs": [
    {
     "data": {
      "text/plain": [
       "28"
      ]
     },
     "execution_count": 188,
     "metadata": {},
     "output_type": "execute_result"
    }
   ],
   "source": [
    "len(p1.strings)"
   ]
  },
  {
   "cell_type": "code",
   "execution_count": 189,
   "metadata": {},
   "outputs": [
    {
     "data": {
      "text/plain": [
       "27"
      ]
     },
     "execution_count": 189,
     "metadata": {},
     "output_type": "execute_result"
    }
   ],
   "source": [
    "len(p2.strings)"
   ]
  },
  {
   "cell_type": "code",
   "execution_count": 190,
   "metadata": {},
   "outputs": [
    {
     "data": {
      "text/plain": [
       "array([[ 1.   , -0.909,  0.   , -0.063,  0.   ,  0.   ,  0.   ,  0.   ],\n",
       "       [-0.909,  1.   , -0.044,  0.   ,  0.   ,  0.   ,  0.   ,  0.   ],\n",
       "       [ 0.   , -0.044,  1.   , -0.218,  0.   ,  0.   ,  0.   , -0.568],\n",
       "       [-0.063,  0.   , -0.218,  1.   , -0.754,  0.   ,  0.   ,  0.   ],\n",
       "       [ 0.   ,  0.   ,  0.   , -0.754,  1.   , -0.161,  0.   , -0.037],\n",
       "       [ 0.   ,  0.   ,  0.   ,  0.   , -0.161,  1.   , -0.178,  0.   ],\n",
       "       [ 0.   ,  0.   ,  0.   ,  0.   ,  0.   , -0.178,  1.   , -0.551],\n",
       "       [ 0.   ,  0.   , -0.568,  0.   , -0.037,  0.   , -0.551,  1.   ]])"
      ]
     },
     "execution_count": 190,
     "metadata": {},
     "output_type": "execute_result"
    }
   ],
   "source": [
    "QAP"
   ]
  },
  {
   "cell_type": "code",
   "execution_count": 209,
   "metadata": {},
   "outputs": [
    {
     "data": {
      "text/plain": [
       "[6, 5, 7, 4, 2, 3, 1, 0]"
      ]
     },
     "execution_count": 209,
     "metadata": {},
     "output_type": "execute_result"
    }
   ],
   "source": [
    "from qreorder.classical import ReverseCuthillMcKee, COLAMD, LexicographicBFS\n",
    "reorder = LexicographicBFS()\n",
    "idx = reorder.get_ordering(QAP)\n",
    "idx"
   ]
  },
  {
   "cell_type": "code",
   "execution_count": 210,
   "metadata": {},
   "outputs": [
    {
     "name": "stderr",
     "output_type": "stream",
     "text": [
      "100%|██████████| 64/64 [00:00<00:00, 2321.18it/s]\n"
     ]
    }
   ],
   "source": [
    "pd3 = PauliDecomposition(QAP[np.ix_(idx,idx)])"
   ]
  },
  {
   "cell_type": "code",
   "execution_count": 211,
   "metadata": {},
   "outputs": [
    {
     "data": {
      "text/plain": [
       "21"
      ]
     },
     "execution_count": 211,
     "metadata": {},
     "output_type": "execute_result"
    }
   ],
   "source": [
    "len(pd3.strings)"
   ]
  },
  {
   "cell_type": "code",
   "execution_count": 212,
   "metadata": {},
   "outputs": [
    {
     "data": {
      "text/plain": [
       "array([[ 1.   , -0.178, -0.551,  0.   ,  0.   ,  0.   ,  0.   ,  0.   ],\n",
       "       [-0.178,  1.   ,  0.   , -0.161,  0.   ,  0.   ,  0.   ,  0.   ],\n",
       "       [-0.551,  0.   ,  1.   , -0.037, -0.568,  0.   ,  0.   ,  0.   ],\n",
       "       [ 0.   , -0.161, -0.037,  1.   ,  0.   , -0.754,  0.   ,  0.   ],\n",
       "       [ 0.   ,  0.   , -0.568,  0.   ,  1.   , -0.218, -0.044,  0.   ],\n",
       "       [ 0.   ,  0.   ,  0.   , -0.754, -0.218,  1.   ,  0.   , -0.063],\n",
       "       [ 0.   ,  0.   ,  0.   ,  0.   , -0.044,  0.   ,  1.   , -0.909],\n",
       "       [ 0.   ,  0.   ,  0.   ,  0.   ,  0.   , -0.063, -0.909,  1.   ]])"
      ]
     },
     "execution_count": 212,
     "metadata": {},
     "output_type": "execute_result"
    }
   ],
   "source": [
    "QAP[np.ix_(idx,idx)]"
   ]
  },
  {
   "cell_type": "code",
   "execution_count": 213,
   "metadata": {},
   "outputs": [
    {
     "data": {
      "text/plain": [
       "[0, 1, 3, 2, 4, 7, 5, 6]"
      ]
     },
     "execution_count": 213,
     "metadata": {},
     "output_type": "execute_result"
    }
   ],
   "source": [
    "reorder = COLAMD()\n",
    "idx = reorder.get_ordering(QAP)\n",
    "idx"
   ]
  },
  {
   "cell_type": "code",
   "execution_count": 214,
   "metadata": {},
   "outputs": [
    {
     "name": "stderr",
     "output_type": "stream",
     "text": [
      "100%|██████████| 64/64 [00:00<00:00, 1762.46it/s]\n"
     ]
    },
    {
     "data": {
      "text/plain": [
       "24"
      ]
     },
     "execution_count": 214,
     "metadata": {},
     "output_type": "execute_result"
    }
   ],
   "source": [
    "pd4 = PauliDecomposition(QAP[np.ix_(idx,idx)])\n",
    "len(pd4.strings)"
   ]
  },
  {
   "cell_type": "code",
   "execution_count": 215,
   "metadata": {},
   "outputs": [
    {
     "data": {
      "text/plain": [
       "array([[ 1.   , -0.909, -0.063,  0.   ,  0.   ,  0.   ,  0.   ,  0.   ],\n",
       "       [-0.909,  1.   ,  0.   , -0.044,  0.   ,  0.   ,  0.   ,  0.   ],\n",
       "       [-0.063,  0.   ,  1.   , -0.218, -0.754,  0.   ,  0.   ,  0.   ],\n",
       "       [ 0.   , -0.044, -0.218,  1.   ,  0.   , -0.568,  0.   ,  0.   ],\n",
       "       [ 0.   ,  0.   , -0.754,  0.   ,  1.   , -0.037, -0.161,  0.   ],\n",
       "       [ 0.   ,  0.   ,  0.   , -0.568, -0.037,  1.   ,  0.   , -0.551],\n",
       "       [ 0.   ,  0.   ,  0.   ,  0.   , -0.161,  0.   ,  1.   , -0.178],\n",
       "       [ 0.   ,  0.   ,  0.   ,  0.   ,  0.   , -0.551, -0.178,  1.   ]])"
      ]
     },
     "execution_count": 215,
     "metadata": {},
     "output_type": "execute_result"
    }
   ],
   "source": [
    "QAP[np.ix_(idx,idx)]"
   ]
  },
  {
   "cell_type": "code",
   "execution_count": 221,
   "metadata": {},
   "outputs": [
    {
     "data": {
      "text/plain": [
       "['III',\n",
       " 'IIX',\n",
       " 'IIZ',\n",
       " 'IXI',\n",
       " 'IXZ',\n",
       " 'IYI',\n",
       " 'IZX',\n",
       " 'IZZ',\n",
       " 'XXI',\n",
       " 'XXZ',\n",
       " 'YYI',\n",
       " 'YYZ',\n",
       " 'ZII',\n",
       " 'ZIX',\n",
       " 'ZIZ',\n",
       " 'ZXI',\n",
       " 'ZXZ',\n",
       " 'ZYI',\n",
       " 'ZZI',\n",
       " 'ZZX',\n",
       " 'ZZZ']"
      ]
     },
     "execution_count": 221,
     "metadata": {},
     "output_type": "execute_result"
    }
   ],
   "source": [
    "pd3.strings"
   ]
  },
  {
   "cell_type": "code",
   "execution_count": 222,
   "metadata": {},
   "outputs": [
    {
     "data": {
      "text/plain": [
       "['III',\n",
       " 'IIX',\n",
       " 'IIY',\n",
       " 'IIZ',\n",
       " 'IXI',\n",
       " 'IXZ',\n",
       " 'IZI',\n",
       " 'IZX',\n",
       " 'IZY',\n",
       " 'IZZ',\n",
       " 'XXI',\n",
       " 'XXZ',\n",
       " 'YYI',\n",
       " 'YYZ',\n",
       " 'ZII',\n",
       " 'ZIX',\n",
       " 'ZIY',\n",
       " 'ZIZ',\n",
       " 'ZXI',\n",
       " 'ZXZ',\n",
       " 'ZZI',\n",
       " 'ZZX',\n",
       " 'ZZY',\n",
       " 'ZZZ']"
      ]
     },
     "execution_count": 222,
     "metadata": {},
     "output_type": "execute_result"
    }
   ],
   "source": [
    "pd4.strings"
   ]
  },
  {
   "cell_type": "code",
   "execution_count": 234,
   "metadata": {},
   "outputs": [
    {
     "data": {
      "text/plain": [
       "array([1.000e+00+0.j, 3.355e-01+0.j, 2.776e-17+0.j, 2.050e-01+0.j, 9.272e-02+0.j, 6.939e-18+0.j, 1.375e-01+0.j, 2.776e-17+0.j, 3.304e-01+0.j, 4.639e-02+0.j, 3.304e-01+0.j, 4.639e-02+0.j, 4.163e-17+0.j, 2.279e-01+0.j, 4.163e-17+0.j, 1.514e-01+0.j, 1.022e-01+0.j, 6.939e-18+0.j, 4.163e-17+0.j,\n",
       "       2.079e-01+0.j, 6.939e-17+0.j])"
      ]
     },
     "execution_count": 234,
     "metadata": {},
     "output_type": "execute_result"
    }
   ],
   "source": [
    "np.sqrt(pd3.coefficients * np.conj(pd3.coefficients))"
   ]
  },
  {
   "cell_type": "code",
   "execution_count": 236,
   "metadata": {},
   "outputs": [
    {
     "data": {
      "text/plain": [
       "13"
      ]
     },
     "execution_count": 236,
     "metadata": {},
     "output_type": "execute_result"
    }
   ],
   "source": [
    "len(pd3.coefficients[np.absolute(pd3.coefficients)>1e-8])"
   ]
  },
  {
   "cell_type": "code",
   "execution_count": 237,
   "metadata": {},
   "outputs": [
    {
     "data": {
      "text/plain": [
       "13"
      ]
     },
     "execution_count": 237,
     "metadata": {},
     "output_type": "execute_result"
    }
   ],
   "source": [
    "len(pd4.coefficients[np.absolute(pd4.coefficients)>1e-8])"
   ]
  },
  {
   "cell_type": "code",
   "execution_count": 241,
   "metadata": {},
   "outputs": [
    {
     "data": {
      "text/plain": [
       "17"
      ]
     },
     "execution_count": 241,
     "metadata": {},
     "output_type": "execute_result"
    }
   ],
   "source": [
    "len(p2.coefficients[np.absolute(p2.coefficients)>1e-8])"
   ]
  },
  {
   "cell_type": "code",
   "execution_count": 242,
   "metadata": {},
   "outputs": [
    {
     "data": {
      "text/plain": [
       "24"
      ]
     },
     "execution_count": 242,
     "metadata": {},
     "output_type": "execute_result"
    }
   ],
   "source": [
    "len(p1.coefficients[np.absolute(p1.coefficients)>1e-8])"
   ]
  },
  {
   "cell_type": "code",
   "execution_count": 229,
   "metadata": {},
   "outputs": [
    {
     "data": {
      "text/plain": [
       "array([[ 0., -1.,  0.,  0.,  0.,  0.,  0.,  0.],\n",
       "       [ 1.,  0.,  0.,  0.,  0.,  0.,  0.,  0.],\n",
       "       [ 0.,  0.,  0., -1.,  0.,  0.,  0.,  0.],\n",
       "       [ 0.,  0.,  1.,  0.,  0.,  0.,  0.,  0.],\n",
       "       [ 0.,  0.,  0.,  0.,  0., -1.,  0.,  0.],\n",
       "       [ 0.,  0.,  0.,  0.,  1.,  0.,  0.,  0.],\n",
       "       [ 0.,  0.,  0.,  0.,  0.,  0.,  0., -1.],\n",
       "       [ 0.,  0.,  0.,  0.,  0.,  0.,  1.,  0.]])"
      ]
     },
     "execution_count": 229,
     "metadata": {},
     "output_type": "execute_result"
    }
   ],
   "source": [
    "from qiskit.quantum_info import SparsePauliOp, Operator\n",
    "Operator(SparsePauliOp('IIY')).data.imag\n"
   ]
  },
  {
   "cell_type": "code",
   "execution_count": 243,
   "metadata": {},
   "outputs": [
    {
     "data": {
      "text/plain": [
       "array([[0.231, 0.   , 0.   , 0.   , 0.   , 0.   , 0.   , 0.   ],\n",
       "       [0.   , 0.229, 0.   , 0.   , 0.   , 0.   , 0.   , 0.   ],\n",
       "       [0.   , 0.   , 0.45 , 0.   , 0.   , 0.   , 0.   , 0.   ],\n",
       "       [0.   , 0.   , 0.   , 0.351, 0.   , 0.   , 0.   , 0.   ],\n",
       "       [0.   , 0.   , 0.   , 0.   , 0.316, 0.   , 0.   , 0.   ],\n",
       "       [0.   , 0.   , 0.   , 0.   , 0.   , 0.171, 0.   , 0.   ],\n",
       "       [0.   , 0.   , 0.   , 0.   , 0.   , 0.   , 0.676, 0.   ],\n",
       "       [0.   , 0.   , 0.   , 0.   , 0.   , 0.   , 0.   , 0.64 ]])"
      ]
     },
     "execution_count": 243,
     "metadata": {},
     "output_type": "execute_result"
    }
   ],
   "source": [
    "P"
   ]
  },
  {
   "cell_type": "code",
   "execution_count": 244,
   "metadata": {},
   "outputs": [
    {
     "name": "stderr",
     "output_type": "stream",
     "text": [
      "/tmp/ipykernel_4864/3591649566.py:1: RuntimeWarning: divide by zero encountered in divide\n",
      "  1/P\n"
     ]
    },
    {
     "data": {
      "text/plain": [
       "array([[4.336,   inf,   inf,   inf,   inf,   inf,   inf,   inf],\n",
       "       [  inf, 4.359,   inf,   inf,   inf,   inf,   inf,   inf],\n",
       "       [  inf,   inf, 2.222,   inf,   inf,   inf,   inf,   inf],\n",
       "       [  inf,   inf,   inf, 2.853,   inf,   inf,   inf,   inf],\n",
       "       [  inf,   inf,   inf,   inf, 3.169,   inf,   inf,   inf],\n",
       "       [  inf,   inf,   inf,   inf,   inf, 5.842,   inf,   inf],\n",
       "       [  inf,   inf,   inf,   inf,   inf,   inf, 1.48 ,   inf],\n",
       "       [  inf,   inf,   inf,   inf,   inf,   inf,   inf, 1.563]])"
      ]
     },
     "execution_count": 244,
     "metadata": {},
     "output_type": "execute_result"
    }
   ],
   "source": [
    "1/P"
   ]
  },
  {
   "cell_type": "code",
   "execution_count": 247,
   "metadata": {},
   "outputs": [
    {
     "data": {
      "text/plain": [
       "array([[4.336, 0.   , 0.   , 0.   , 0.   , 0.   , 0.   , 0.   ],\n",
       "       [0.   , 4.359, 0.   , 0.   , 0.   , 0.   , 0.   , 0.   ],\n",
       "       [0.   , 0.   , 2.222, 0.   , 0.   , 0.   , 0.   , 0.   ],\n",
       "       [0.   , 0.   , 0.   , 2.853, 0.   , 0.   , 0.   , 0.   ],\n",
       "       [0.   , 0.   , 0.   , 0.   , 3.169, 0.   , 0.   , 0.   ],\n",
       "       [0.   , 0.   , 0.   , 0.   , 0.   , 5.842, 0.   , 0.   ],\n",
       "       [0.   , 0.   , 0.   , 0.   , 0.   , 0.   , 1.48 , 0.   ],\n",
       "       [0.   , 0.   , 0.   , 0.   , 0.   , 0.   , 0.   , 1.563]])"
      ]
     },
     "execution_count": 247,
     "metadata": {},
     "output_type": "execute_result"
    }
   ],
   "source": [
    "np.diag(1./np.diag(P))"
   ]
  },
  {
   "cell_type": "code",
   "execution_count": 248,
   "metadata": {},
   "outputs": [
    {
     "data": {
      "text/plain": [
       "array([[4.336, 0.   , 0.   , 0.   , 0.   , 0.   , 0.   , 0.   ],\n",
       "       [0.   , 4.359, 0.   , 0.   , 0.   , 0.   , 0.   , 0.   ],\n",
       "       [0.   , 0.   , 2.222, 0.   , 0.   , 0.   , 0.   , 0.   ],\n",
       "       [0.   , 0.   , 0.   , 2.853, 0.   , 0.   , 0.   , 0.   ],\n",
       "       [0.   , 0.   , 0.   , 0.   , 3.169, 0.   , 0.   , 0.   ],\n",
       "       [0.   , 0.   , 0.   , 0.   , 0.   , 5.842, 0.   , 0.   ],\n",
       "       [0.   , 0.   , 0.   , 0.   , 0.   , 0.   , 1.48 , 0.   ],\n",
       "       [0.   , 0.   , 0.   , 0.   , 0.   , 0.   , 0.   , 1.563]])"
      ]
     },
     "execution_count": 248,
     "metadata": {},
     "output_type": "execute_result"
    }
   ],
   "source": [
    "np.linalg.inv(P)"
   ]
  },
  {
   "cell_type": "code",
   "execution_count": null,
   "metadata": {},
   "outputs": [],
   "source": []
  }
 ],
 "metadata": {
  "kernelspec": {
   "display_name": "vitens",
   "language": "python",
   "name": "python3"
  },
  "language_info": {
   "codemirror_mode": {
    "name": "ipython",
    "version": 3
   },
   "file_extension": ".py",
   "mimetype": "text/x-python",
   "name": "python",
   "nbconvert_exporter": "python",
   "pygments_lexer": "ipython3",
   "version": "3.9.0"
  }
 },
 "nbformat": 4,
 "nbformat_minor": 2
}
