{
    "cells": [
        {
            "cell_type": "markdown",
            "metadata": {
                "tags": [
                    "remove_cell"
                ]
            },
            "source": [
                "# QUBO formulation of the Redundant Calibration"
            ]
        },
        {
            "cell_type": "code",
            "execution_count": 1,
            "metadata": {},
            "outputs": [],
            "source": [
                "import numpy as np\n",
                "np.random.seed(20)"
            ]
        },
        {
            "cell_type": "code",
            "execution_count": 2,
            "metadata": {},
            "outputs": [],
            "source": [
                "A = np.array(\n",
                "[[ 1.000e+00, -3.779e+03,  0.000e+00, -1.000e+00],\n",
                " [-1.000e+00,  0.000e+00, -8.447e+01,  0.000e+00],\n",
                " [ 0.000e+00, -1.000e+00,  0.000e+00,  0.000e+00],\n",
                " [ 0.000e+00,  1.000e+00, -1.000e+00,  0.000e+00]])\n",
                "\n"
            ]
        },
        {
            "cell_type": "code",
            "execution_count": 3,
            "metadata": {},
            "outputs": [],
            "source": [
                "b = np.array([-1.484e+01, -2.198e-01,  6.029e-03, -1.099e-04])\n"
            ]
        },
        {
            "cell_type": "markdown",
            "metadata": {},
            "source": [
                "## Classical Solution\n",
                "\n",
                "The solution of such a small system can be obtained by a least square as implemented in numpy"
            ]
        },
        {
            "cell_type": "code",
            "execution_count": 4,
            "metadata": {},
            "outputs": [
                {
                    "name": "stdout",
                    "output_type": "stream",
                    "text": [
                        "[ 7.19786377e-01 -6.02900000e-03 -5.91910000e-03  3.83433774e+01]\n"
                    ]
                }
            ],
            "source": [
                "npsol = np.linalg.solve(A,b)\n",
                "npsol = np.asarray(npsol).flatten()\n",
                "print(npsol)"
            ]
        },
        {
            "cell_type": "code",
            "execution_count": 5,
            "metadata": {},
            "outputs": [
                {
                    "name": "stderr",
                    "output_type": "stream",
                    "text": [
                        "/tmp/ipykernel_4843/3473248641.py:1: FutureWarning: `rcond` parameter will change to the default of machine precision times ``max(M, N)`` where M and N are the input matrix dimensions.\n",
                        "To use the future default and silence this warning we advise to pass `rcond=None`, to keep using the old, explicitly pass `rcond=-1`.\n",
                        "  np.linalg.lstsq(A,b)\n"
                    ]
                },
                {
                    "data": {
                        "text/plain": [
                            "(array([ 7.19786377e-01, -6.02900000e-03, -5.91910000e-03,  3.83433774e+01]),\n",
                            " array([], dtype=float64),\n",
                            " 4,\n",
                            " array([3.77900053e+03, 8.44818368e+01, 1.21073581e-02, 2.58708269e-04]))"
                        ]
                    },
                    "execution_count": 5,
                    "metadata": {},
                    "output_type": "execute_result"
                }
            ],
            "source": [
                "np.linalg.lstsq(A,b)"
            ]
        },
        {
            "cell_type": "markdown",
            "metadata": {},
            "source": [
                "## 3. Solving the system\n",
                "\n",
                "We will use here the `SimulatedAnnealingSampler` to be able to run that code locally. Quantum solvers are available through the Leap cloud service."
            ]
        },
        {
            "cell_type": "code",
            "execution_count": 6,
            "metadata": {},
            "outputs": [],
            "source": [
                "from qubols.qubols import QUBOLS\n",
                "from qubols.encodings import RangedEfficientEncoding\n",
                "import dimod\n",
                "import neal\n",
                "\n",
                "exact = dimod.ExactSolver()\n",
                "sim = neal.SimulatedAnnealingSampler()\n",
                "\n",
                "options = {'num_reads':100, 'num_qbits':21, 'sampler': sim, \n",
                "           'encoding': RangedEfficientEncoding, 'range':10.0, 'offset':[0,0,0,0]}\n",
                "qubols= QUBOLS(options)\n",
                "# sol_num = qubols.solve(At, bt)"
            ]
        },
        {
            "cell_type": "code",
            "execution_count": 7,
            "metadata": {},
            "outputs": [],
            "source": [
                "# import matplotlib.pyplot as plt\n",
                "# plt.scatter(npsol, sol_num)\n",
                "# plt.axline( (0,0),slope=1,linestyle='--',color='gray')"
            ]
        }
    ],
    "metadata": {
        "kernelspec": {
            "display_name": "Python 3.8.0 ('qubols')",
            "language": "python",
            "name": "python3"
        },
        "language_info": {
            "codemirror_mode": {
                "name": "ipython",
                "version": 3
            },
            "file_extension": ".py",
            "mimetype": "text/x-python",
            "name": "python",
            "nbconvert_exporter": "python",
            "pygments_lexer": "ipython3",
            "version": "3.9.0"
        },
        "vscode": {
            "interpreter": {
                "hash": "390591a6667b05d6f83558ed597f55be1305d4de992db830679d199a6a0e520c"
            }
        },
        "widgets": {
            "application/vnd.jupyter.widget-state+json": {
                "state": {
                    "17046f96803d48aa8c63b99a5c89e6f3": {
                        "model_module": "@jupyter-widgets/controls",
                        "model_module_version": "1.5.0",
                        "model_name": "DescriptionStyleModel",
                        "state": {
                            "_model_module": "@jupyter-widgets/controls",
                            "_model_module_version": "1.5.0",
                            "_model_name": "DescriptionStyleModel",
                            "_view_count": null,
                            "_view_module": "@jupyter-widgets/base",
                            "_view_module_version": "1.2.0",
                            "_view_name": "StyleView",
                            "description_width": ""
                        }
                    },
                    "1a46e33438a648dd839fe5fd43b9582b": {
                        "model_module": "@jupyter-widgets/controls",
                        "model_module_version": "1.5.0",
                        "model_name": "DescriptionStyleModel",
                        "state": {
                            "_model_module": "@jupyter-widgets/controls",
                            "_model_module_version": "1.5.0",
                            "_model_name": "DescriptionStyleModel",
                            "_view_count": null,
                            "_view_module": "@jupyter-widgets/base",
                            "_view_module_version": "1.2.0",
                            "_view_name": "StyleView",
                            "description_width": ""
                        }
                    },
                    "1f812fe9a02b41b885f01e3190957acf": {
                        "model_module": "@jupyter-widgets/base",
                        "model_module_version": "1.2.0",
                        "model_name": "LayoutModel",
                        "state": {
                            "_model_module": "@jupyter-widgets/base",
                            "_model_module_version": "1.2.0",
                            "_model_name": "LayoutModel",
                            "_view_count": null,
                            "_view_module": "@jupyter-widgets/base",
                            "_view_module_version": "1.2.0",
                            "_view_name": "LayoutView",
                            "align_content": null,
                            "align_items": null,
                            "align_self": null,
                            "border": null,
                            "bottom": null,
                            "display": null,
                            "flex": null,
                            "flex_flow": null,
                            "grid_area": null,
                            "grid_auto_columns": null,
                            "grid_auto_flow": null,
                            "grid_auto_rows": null,
                            "grid_column": null,
                            "grid_gap": null,
                            "grid_row": null,
                            "grid_template_areas": "\n                                       \". . . . right \"\n                                        ",
                            "grid_template_columns": "20% 20% 20% 20% 20%",
                            "grid_template_rows": null,
                            "height": null,
                            "justify_content": null,
                            "justify_items": null,
                            "left": null,
                            "margin": null,
                            "max_height": null,
                            "max_width": null,
                            "min_height": null,
                            "min_width": null,
                            "object_fit": null,
                            "object_position": null,
                            "order": null,
                            "overflow": null,
                            "overflow_x": null,
                            "overflow_y": null,
                            "padding": null,
                            "right": null,
                            "top": null,
                            "visibility": null,
                            "width": "100%"
                        }
                    },
                    "20439ee3a84741dc9a137f7964898fc3": {
                        "model_module": "@jupyter-widgets/controls",
                        "model_module_version": "1.5.0",
                        "model_name": "HTMLModel",
                        "state": {
                            "_dom_classes": [],
                            "_model_module": "@jupyter-widgets/controls",
                            "_model_module_version": "1.5.0",
                            "_model_name": "HTMLModel",
                            "_view_count": null,
                            "_view_module": "@jupyter-widgets/controls",
                            "_view_module_version": "1.5.0",
                            "_view_name": "HTMLView",
                            "description": "",
                            "description_tooltip": null,
                            "layout": "IPY_MODEL_f0e6a746eff140269e915ef65de640c7",
                            "placeholder": "​",
                            "style": "IPY_MODEL_96316857896d44328b3898d849594ae7",
                            "value": "<h5>Status</h5>"
                        }
                    },
                    "246d39f98fdb4892bc1d5bfb88d2f1cd": {
                        "model_module": "@jupyter-widgets/controls",
                        "model_module_version": "1.5.0",
                        "model_name": "DescriptionStyleModel",
                        "state": {
                            "_model_module": "@jupyter-widgets/controls",
                            "_model_module_version": "1.5.0",
                            "_model_name": "DescriptionStyleModel",
                            "_view_count": null,
                            "_view_module": "@jupyter-widgets/base",
                            "_view_module_version": "1.2.0",
                            "_view_name": "StyleView",
                            "description_width": ""
                        }
                    },
                    "27e0478b2a9c4533b2e67eac937cbebc": {
                        "model_module": "@jupyter-widgets/controls",
                        "model_module_version": "1.5.0",
                        "model_name": "HBoxModel",
                        "state": {
                            "_dom_classes": [],
                            "_model_module": "@jupyter-widgets/controls",
                            "_model_module_version": "1.5.0",
                            "_model_name": "HBoxModel",
                            "_view_count": null,
                            "_view_module": "@jupyter-widgets/controls",
                            "_view_module_version": "1.5.0",
                            "_view_name": "HBoxView",
                            "box_style": "",
                            "children": [
                                "IPY_MODEL_ac5a0f78ef8140a2abdf035fd1751936",
                                "IPY_MODEL_5ff6f36eaa894a339210fc29fdbeedcf",
                                "IPY_MODEL_20439ee3a84741dc9a137f7964898fc3",
                                "IPY_MODEL_eef64edafd8f47c885da65fa3ca0ab8a",
                                "IPY_MODEL_a38db3ffdfc848c0b0150e42b3509be5"
                            ],
                            "layout": "IPY_MODEL_fc018f99fbb44aa9beb54a8e6be5209e"
                        }
                    },
                    "2f981df37e914685992f4564103ef872": {
                        "model_module": "@jupyter-widgets/base",
                        "model_module_version": "1.2.0",
                        "model_name": "LayoutModel",
                        "state": {
                            "_model_module": "@jupyter-widgets/base",
                            "_model_module_version": "1.2.0",
                            "_model_name": "LayoutModel",
                            "_view_count": null,
                            "_view_module": "@jupyter-widgets/base",
                            "_view_module_version": "1.2.0",
                            "_view_name": "LayoutView",
                            "align_content": null,
                            "align_items": null,
                            "align_self": null,
                            "border": null,
                            "bottom": null,
                            "display": null,
                            "flex": null,
                            "flex_flow": null,
                            "grid_area": null,
                            "grid_auto_columns": null,
                            "grid_auto_flow": null,
                            "grid_auto_rows": null,
                            "grid_column": null,
                            "grid_gap": null,
                            "grid_row": null,
                            "grid_template_areas": null,
                            "grid_template_columns": null,
                            "grid_template_rows": null,
                            "height": null,
                            "justify_content": null,
                            "justify_items": null,
                            "left": null,
                            "margin": null,
                            "max_height": null,
                            "max_width": null,
                            "min_height": null,
                            "min_width": null,
                            "object_fit": null,
                            "object_position": null,
                            "order": null,
                            "overflow": null,
                            "overflow_x": null,
                            "overflow_y": null,
                            "padding": null,
                            "right": null,
                            "top": null,
                            "visibility": null,
                            "width": null
                        }
                    },
                    "3aa67247d1a9433f87b13ce1370c8b1c": {
                        "model_module": "@jupyter-widgets/base",
                        "model_module_version": "1.2.0",
                        "model_name": "LayoutModel",
                        "state": {
                            "_model_module": "@jupyter-widgets/base",
                            "_model_module_version": "1.2.0",
                            "_model_name": "LayoutModel",
                            "_view_count": null,
                            "_view_module": "@jupyter-widgets/base",
                            "_view_module_version": "1.2.0",
                            "_view_name": "LayoutView",
                            "align_content": null,
                            "align_items": null,
                            "align_self": null,
                            "border": null,
                            "bottom": null,
                            "display": null,
                            "flex": null,
                            "flex_flow": null,
                            "grid_area": null,
                            "grid_auto_columns": null,
                            "grid_auto_flow": null,
                            "grid_auto_rows": null,
                            "grid_column": null,
                            "grid_gap": null,
                            "grid_row": null,
                            "grid_template_areas": null,
                            "grid_template_columns": null,
                            "grid_template_rows": null,
                            "height": null,
                            "justify_content": null,
                            "justify_items": null,
                            "left": null,
                            "margin": null,
                            "max_height": null,
                            "max_width": null,
                            "min_height": null,
                            "min_width": null,
                            "object_fit": null,
                            "object_position": null,
                            "order": null,
                            "overflow": null,
                            "overflow_x": null,
                            "overflow_y": null,
                            "padding": null,
                            "right": null,
                            "top": null,
                            "visibility": null,
                            "width": "190px"
                        }
                    },
                    "40a8f99fef5b4aad89f533edcb091c3f": {
                        "model_module": "@jupyter-widgets/controls",
                        "model_module_version": "1.5.0",
                        "model_name": "ButtonStyleModel",
                        "state": {
                            "_model_module": "@jupyter-widgets/controls",
                            "_model_module_version": "1.5.0",
                            "_model_name": "ButtonStyleModel",
                            "_view_count": null,
                            "_view_module": "@jupyter-widgets/base",
                            "_view_module_version": "1.2.0",
                            "_view_name": "StyleView",
                            "button_color": null,
                            "font_weight": ""
                        }
                    },
                    "46f75da5f7ab4f33b4df8618ccffde6b": {
                        "model_module": "@jupyter-widgets/controls",
                        "model_module_version": "1.5.0",
                        "model_name": "DescriptionStyleModel",
                        "state": {
                            "_model_module": "@jupyter-widgets/controls",
                            "_model_module_version": "1.5.0",
                            "_model_name": "DescriptionStyleModel",
                            "_view_count": null,
                            "_view_module": "@jupyter-widgets/base",
                            "_view_module_version": "1.2.0",
                            "_view_name": "StyleView",
                            "description_width": ""
                        }
                    },
                    "5ff6f36eaa894a339210fc29fdbeedcf": {
                        "model_module": "@jupyter-widgets/controls",
                        "model_module_version": "1.5.0",
                        "model_name": "HTMLModel",
                        "state": {
                            "_dom_classes": [],
                            "_model_module": "@jupyter-widgets/controls",
                            "_model_module_version": "1.5.0",
                            "_model_name": "HTMLModel",
                            "_view_count": null,
                            "_view_module": "@jupyter-widgets/controls",
                            "_view_module_version": "1.5.0",
                            "_view_name": "HTMLView",
                            "description": "",
                            "description_tooltip": null,
                            "layout": "IPY_MODEL_9e036ff6f31e4efb9471d371db06f533",
                            "placeholder": "​",
                            "style": "IPY_MODEL_1a46e33438a648dd839fe5fd43b9582b",
                            "value": "<h5>Backend</h5>"
                        }
                    },
                    "608e06da96f840e890006ad286afc34b": {
                        "model_module": "@jupyter-widgets/controls",
                        "model_module_version": "1.5.0",
                        "model_name": "HTMLModel",
                        "state": {
                            "_dom_classes": [],
                            "_model_module": "@jupyter-widgets/controls",
                            "_model_module_version": "1.5.0",
                            "_model_name": "HTMLModel",
                            "_view_count": null,
                            "_view_module": "@jupyter-widgets/controls",
                            "_view_module_version": "1.5.0",
                            "_view_name": "HTMLView",
                            "description": "",
                            "description_tooltip": null,
                            "layout": "IPY_MODEL_74038cd5fbe8491ba5457f6cc81f7b5a",
                            "placeholder": "​",
                            "style": "IPY_MODEL_8569084253df4279b752a85c0b99027b",
                            "value": "<p style='font-family: IBM Plex Sans, Arial, Helvetica, sans-serif; font-size: 20px; font-weight: medium;'>Circuit Properties</p>"
                        }
                    },
                    "74038cd5fbe8491ba5457f6cc81f7b5a": {
                        "model_module": "@jupyter-widgets/base",
                        "model_module_version": "1.2.0",
                        "model_name": "LayoutModel",
                        "state": {
                            "_model_module": "@jupyter-widgets/base",
                            "_model_module_version": "1.2.0",
                            "_model_name": "LayoutModel",
                            "_view_count": null,
                            "_view_module": "@jupyter-widgets/base",
                            "_view_module_version": "1.2.0",
                            "_view_name": "LayoutView",
                            "align_content": null,
                            "align_items": null,
                            "align_self": null,
                            "border": null,
                            "bottom": null,
                            "display": null,
                            "flex": null,
                            "flex_flow": null,
                            "grid_area": null,
                            "grid_auto_columns": null,
                            "grid_auto_flow": null,
                            "grid_auto_rows": null,
                            "grid_column": null,
                            "grid_gap": null,
                            "grid_row": null,
                            "grid_template_areas": null,
                            "grid_template_columns": null,
                            "grid_template_rows": null,
                            "height": null,
                            "justify_content": null,
                            "justify_items": null,
                            "left": null,
                            "margin": "0px 0px 10px 0px",
                            "max_height": null,
                            "max_width": null,
                            "min_height": null,
                            "min_width": null,
                            "object_fit": null,
                            "object_position": null,
                            "order": null,
                            "overflow": null,
                            "overflow_x": null,
                            "overflow_y": null,
                            "padding": null,
                            "right": null,
                            "top": null,
                            "visibility": null,
                            "width": null
                        }
                    },
                    "8569084253df4279b752a85c0b99027b": {
                        "model_module": "@jupyter-widgets/controls",
                        "model_module_version": "1.5.0",
                        "model_name": "DescriptionStyleModel",
                        "state": {
                            "_model_module": "@jupyter-widgets/controls",
                            "_model_module_version": "1.5.0",
                            "_model_name": "DescriptionStyleModel",
                            "_view_count": null,
                            "_view_module": "@jupyter-widgets/base",
                            "_view_module_version": "1.2.0",
                            "_view_name": "StyleView",
                            "description_width": ""
                        }
                    },
                    "917c693fd8d84f2e99f59d75cd5062c2": {
                        "model_module": "@jupyter-widgets/controls",
                        "model_module_version": "1.5.0",
                        "model_name": "GridBoxModel",
                        "state": {
                            "_dom_classes": [],
                            "_model_module": "@jupyter-widgets/controls",
                            "_model_module_version": "1.5.0",
                            "_model_name": "GridBoxModel",
                            "_view_count": null,
                            "_view_module": "@jupyter-widgets/controls",
                            "_view_module_version": "1.5.0",
                            "_view_name": "GridBoxView",
                            "box_style": "",
                            "children": [
                                "IPY_MODEL_b7e87c3bbc404502ab1550d64f86c473"
                            ],
                            "layout": "IPY_MODEL_1f812fe9a02b41b885f01e3190957acf"
                        }
                    },
                    "96316857896d44328b3898d849594ae7": {
                        "model_module": "@jupyter-widgets/controls",
                        "model_module_version": "1.5.0",
                        "model_name": "DescriptionStyleModel",
                        "state": {
                            "_model_module": "@jupyter-widgets/controls",
                            "_model_module_version": "1.5.0",
                            "_model_name": "DescriptionStyleModel",
                            "_view_count": null,
                            "_view_module": "@jupyter-widgets/base",
                            "_view_module_version": "1.2.0",
                            "_view_name": "StyleView",
                            "description_width": ""
                        }
                    },
                    "9e036ff6f31e4efb9471d371db06f533": {
                        "model_module": "@jupyter-widgets/base",
                        "model_module_version": "1.2.0",
                        "model_name": "LayoutModel",
                        "state": {
                            "_model_module": "@jupyter-widgets/base",
                            "_model_module_version": "1.2.0",
                            "_model_name": "LayoutModel",
                            "_view_count": null,
                            "_view_module": "@jupyter-widgets/base",
                            "_view_module_version": "1.2.0",
                            "_view_name": "LayoutView",
                            "align_content": null,
                            "align_items": null,
                            "align_self": null,
                            "border": null,
                            "bottom": null,
                            "display": null,
                            "flex": null,
                            "flex_flow": null,
                            "grid_area": null,
                            "grid_auto_columns": null,
                            "grid_auto_flow": null,
                            "grid_auto_rows": null,
                            "grid_column": null,
                            "grid_gap": null,
                            "grid_row": null,
                            "grid_template_areas": null,
                            "grid_template_columns": null,
                            "grid_template_rows": null,
                            "height": null,
                            "justify_content": null,
                            "justify_items": null,
                            "left": null,
                            "margin": null,
                            "max_height": null,
                            "max_width": null,
                            "min_height": null,
                            "min_width": null,
                            "object_fit": null,
                            "object_position": null,
                            "order": null,
                            "overflow": null,
                            "overflow_x": null,
                            "overflow_y": null,
                            "padding": null,
                            "right": null,
                            "top": null,
                            "visibility": null,
                            "width": "145px"
                        }
                    },
                    "a38db3ffdfc848c0b0150e42b3509be5": {
                        "model_module": "@jupyter-widgets/controls",
                        "model_module_version": "1.5.0",
                        "model_name": "HTMLModel",
                        "state": {
                            "_dom_classes": [],
                            "_model_module": "@jupyter-widgets/controls",
                            "_model_module_version": "1.5.0",
                            "_model_name": "HTMLModel",
                            "_view_count": null,
                            "_view_module": "@jupyter-widgets/controls",
                            "_view_module_version": "1.5.0",
                            "_view_name": "HTMLView",
                            "description": "",
                            "description_tooltip": null,
                            "layout": "IPY_MODEL_2f981df37e914685992f4564103ef872",
                            "placeholder": "​",
                            "style": "IPY_MODEL_246d39f98fdb4892bc1d5bfb88d2f1cd",
                            "value": "<h5>Message</h5>"
                        }
                    },
                    "ac5a0f78ef8140a2abdf035fd1751936": {
                        "model_module": "@jupyter-widgets/controls",
                        "model_module_version": "1.5.0",
                        "model_name": "HTMLModel",
                        "state": {
                            "_dom_classes": [],
                            "_model_module": "@jupyter-widgets/controls",
                            "_model_module_version": "1.5.0",
                            "_model_name": "HTMLModel",
                            "_view_count": null,
                            "_view_module": "@jupyter-widgets/controls",
                            "_view_module_version": "1.5.0",
                            "_view_name": "HTMLView",
                            "description": "",
                            "description_tooltip": null,
                            "layout": "IPY_MODEL_3aa67247d1a9433f87b13ce1370c8b1c",
                            "placeholder": "​",
                            "style": "IPY_MODEL_46f75da5f7ab4f33b4df8618ccffde6b",
                            "value": "<h5>Job ID</h5>"
                        }
                    },
                    "b7e87c3bbc404502ab1550d64f86c473": {
                        "model_module": "@jupyter-widgets/controls",
                        "model_module_version": "1.5.0",
                        "model_name": "ButtonModel",
                        "state": {
                            "_dom_classes": [],
                            "_model_module": "@jupyter-widgets/controls",
                            "_model_module_version": "1.5.0",
                            "_model_name": "ButtonModel",
                            "_view_count": null,
                            "_view_module": "@jupyter-widgets/controls",
                            "_view_module_version": "1.5.0",
                            "_view_name": "ButtonView",
                            "button_style": "primary",
                            "description": "Clear",
                            "disabled": false,
                            "icon": "",
                            "layout": "IPY_MODEL_f6a39516121743099bece32bc0c3c696",
                            "style": "IPY_MODEL_40a8f99fef5b4aad89f533edcb091c3f",
                            "tooltip": ""
                        }
                    },
                    "eef64edafd8f47c885da65fa3ca0ab8a": {
                        "model_module": "@jupyter-widgets/controls",
                        "model_module_version": "1.5.0",
                        "model_name": "HTMLModel",
                        "state": {
                            "_dom_classes": [],
                            "_model_module": "@jupyter-widgets/controls",
                            "_model_module_version": "1.5.0",
                            "_model_name": "HTMLModel",
                            "_view_count": null,
                            "_view_module": "@jupyter-widgets/controls",
                            "_view_module_version": "1.5.0",
                            "_view_name": "HTMLView",
                            "description": "",
                            "description_tooltip": null,
                            "layout": "IPY_MODEL_ef270ca07615429ab689824b66fdb1ff",
                            "placeholder": "​",
                            "style": "IPY_MODEL_17046f96803d48aa8c63b99a5c89e6f3",
                            "value": "<h5>Queue</h5>"
                        }
                    },
                    "ef270ca07615429ab689824b66fdb1ff": {
                        "model_module": "@jupyter-widgets/base",
                        "model_module_version": "1.2.0",
                        "model_name": "LayoutModel",
                        "state": {
                            "_model_module": "@jupyter-widgets/base",
                            "_model_module_version": "1.2.0",
                            "_model_name": "LayoutModel",
                            "_view_count": null,
                            "_view_module": "@jupyter-widgets/base",
                            "_view_module_version": "1.2.0",
                            "_view_name": "LayoutView",
                            "align_content": null,
                            "align_items": null,
                            "align_self": null,
                            "border": null,
                            "bottom": null,
                            "display": null,
                            "flex": null,
                            "flex_flow": null,
                            "grid_area": null,
                            "grid_auto_columns": null,
                            "grid_auto_flow": null,
                            "grid_auto_rows": null,
                            "grid_column": null,
                            "grid_gap": null,
                            "grid_row": null,
                            "grid_template_areas": null,
                            "grid_template_columns": null,
                            "grid_template_rows": null,
                            "height": null,
                            "justify_content": null,
                            "justify_items": null,
                            "left": null,
                            "margin": null,
                            "max_height": null,
                            "max_width": null,
                            "min_height": null,
                            "min_width": null,
                            "object_fit": null,
                            "object_position": null,
                            "order": null,
                            "overflow": null,
                            "overflow_x": null,
                            "overflow_y": null,
                            "padding": null,
                            "right": null,
                            "top": null,
                            "visibility": null,
                            "width": "70px"
                        }
                    },
                    "f0e6a746eff140269e915ef65de640c7": {
                        "model_module": "@jupyter-widgets/base",
                        "model_module_version": "1.2.0",
                        "model_name": "LayoutModel",
                        "state": {
                            "_model_module": "@jupyter-widgets/base",
                            "_model_module_version": "1.2.0",
                            "_model_name": "LayoutModel",
                            "_view_count": null,
                            "_view_module": "@jupyter-widgets/base",
                            "_view_module_version": "1.2.0",
                            "_view_name": "LayoutView",
                            "align_content": null,
                            "align_items": null,
                            "align_self": null,
                            "border": null,
                            "bottom": null,
                            "display": null,
                            "flex": null,
                            "flex_flow": null,
                            "grid_area": null,
                            "grid_auto_columns": null,
                            "grid_auto_flow": null,
                            "grid_auto_rows": null,
                            "grid_column": null,
                            "grid_gap": null,
                            "grid_row": null,
                            "grid_template_areas": null,
                            "grid_template_columns": null,
                            "grid_template_rows": null,
                            "height": null,
                            "justify_content": null,
                            "justify_items": null,
                            "left": null,
                            "margin": null,
                            "max_height": null,
                            "max_width": null,
                            "min_height": null,
                            "min_width": null,
                            "object_fit": null,
                            "object_position": null,
                            "order": null,
                            "overflow": null,
                            "overflow_x": null,
                            "overflow_y": null,
                            "padding": null,
                            "right": null,
                            "top": null,
                            "visibility": null,
                            "width": "95px"
                        }
                    },
                    "f6a39516121743099bece32bc0c3c696": {
                        "model_module": "@jupyter-widgets/base",
                        "model_module_version": "1.2.0",
                        "model_name": "LayoutModel",
                        "state": {
                            "_model_module": "@jupyter-widgets/base",
                            "_model_module_version": "1.2.0",
                            "_model_name": "LayoutModel",
                            "_view_count": null,
                            "_view_module": "@jupyter-widgets/base",
                            "_view_module_version": "1.2.0",
                            "_view_name": "LayoutView",
                            "align_content": null,
                            "align_items": null,
                            "align_self": null,
                            "border": null,
                            "bottom": null,
                            "display": null,
                            "flex": null,
                            "flex_flow": null,
                            "grid_area": "right",
                            "grid_auto_columns": null,
                            "grid_auto_flow": null,
                            "grid_auto_rows": null,
                            "grid_column": null,
                            "grid_gap": null,
                            "grid_row": null,
                            "grid_template_areas": null,
                            "grid_template_columns": null,
                            "grid_template_rows": null,
                            "height": null,
                            "justify_content": null,
                            "justify_items": null,
                            "left": null,
                            "margin": null,
                            "max_height": null,
                            "max_width": null,
                            "min_height": null,
                            "min_width": null,
                            "object_fit": null,
                            "object_position": null,
                            "order": null,
                            "overflow": null,
                            "overflow_x": null,
                            "overflow_y": null,
                            "padding": "0px 0px 0px 0px",
                            "right": null,
                            "top": null,
                            "visibility": null,
                            "width": "70px"
                        }
                    },
                    "fc018f99fbb44aa9beb54a8e6be5209e": {
                        "model_module": "@jupyter-widgets/base",
                        "model_module_version": "1.2.0",
                        "model_name": "LayoutModel",
                        "state": {
                            "_model_module": "@jupyter-widgets/base",
                            "_model_module_version": "1.2.0",
                            "_model_name": "LayoutModel",
                            "_view_count": null,
                            "_view_module": "@jupyter-widgets/base",
                            "_view_module_version": "1.2.0",
                            "_view_name": "LayoutView",
                            "align_content": null,
                            "align_items": null,
                            "align_self": null,
                            "border": null,
                            "bottom": null,
                            "display": null,
                            "flex": null,
                            "flex_flow": null,
                            "grid_area": null,
                            "grid_auto_columns": null,
                            "grid_auto_flow": null,
                            "grid_auto_rows": null,
                            "grid_column": null,
                            "grid_gap": null,
                            "grid_row": null,
                            "grid_template_areas": null,
                            "grid_template_columns": null,
                            "grid_template_rows": null,
                            "height": null,
                            "justify_content": null,
                            "justify_items": null,
                            "left": null,
                            "margin": "0px 0px 0px 37px",
                            "max_height": null,
                            "max_width": null,
                            "min_height": null,
                            "min_width": null,
                            "object_fit": null,
                            "object_position": null,
                            "order": null,
                            "overflow": null,
                            "overflow_x": null,
                            "overflow_y": null,
                            "padding": null,
                            "right": null,
                            "top": null,
                            "visibility": null,
                            "width": "600px"
                        }
                    }
                },
                "version_major": 2,
                "version_minor": 0
            }
        }
    },
    "nbformat": 4,
    "nbformat_minor": 2
}
