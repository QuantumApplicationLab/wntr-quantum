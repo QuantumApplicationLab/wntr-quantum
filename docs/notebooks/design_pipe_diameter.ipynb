{
 "cells": [
  {
   "cell_type": "code",
   "execution_count": 1,
   "metadata": {},
   "outputs": [
    {
     "data": {
      "image/png": "[encoded data removed]",
      "text/plain": [
       "<Figure size 640x480 with 1 Axes>"
      ]
     },
     "metadata": {},
     "output_type": "display_data"
    },
    {
     "data": {
      "text/plain": [
       "<Axes: title={'center': './networks/Net0_CM.inp'}>"
      ]
     },
     "execution_count": 1,
     "metadata": {},
     "output_type": "execute_result"
    }
   ],
   "source": [
    "import wntr\n",
    "import wntr_quantum\n",
    "import numpy as np\n",
    "\n",
    "# Create a water network model\n",
    "inp_file = './networks/Net0_CM.inp'\n",
    "# inp_file = './networks/Net2LoopsDW.inp'\n",
    "wn = wntr.network.WaterNetworkModel(inp_file)\n",
    "\n",
    "# Graph the network\n",
    "wntr.graphics.plot_network(wn, title=wn.name, node_labels=True)"
   ]
  },
  {
   "cell_type": "code",
   "execution_count": 2,
   "metadata": {},
   "outputs": [
    {
     "data": {
      "image/png": "[encoded data removed]",
      "text/plain": [
       "<Figure size 640x480 with 2 Axes>"
      ]
     },
     "metadata": {},
     "output_type": "display_data"
    },
    {
     "data": {
      "text/plain": [
       "<Axes: title={'center': 'Pressure at 5 hours'}>"
      ]
     },
     "execution_count": 2,
     "metadata": {},
     "output_type": "execute_result"
    }
   ],
   "source": [
    "sim = wntr.sim.EpanetSimulator(wn)\n",
    "results = sim.run_sim()\n",
    "# Plot results on the network\n",
    "pressure_at_5hr = results.node['pressure'].loc[0, :]\n",
    "wntr.graphics.plot_network(wn, node_attribute=pressure_at_5hr, node_size=50,\n",
    "                        title='Pressure at 5 hours', node_labels=False)"
   ]
  },
  {
   "cell_type": "code",
   "execution_count": 3,
   "metadata": {},
   "outputs": [
    {
     "data": {
      "text/plain": [
       "array([ 0.05 ,  0.05 , 29.994, 29.988], dtype=float32)"
      ]
     },
     "execution_count": 3,
     "metadata": {},
     "output_type": "execute_result"
    }
   ],
   "source": [
    "ref_pressure = results.node['pressure'].values[0][:2]\n",
    "ref_rate = results.link['flowrate'].values[0]\n",
    "ref_values = np.append(ref_rate, ref_pressure)\n",
    "ref_values"
   ]
  },
  {
   "cell_type": "code",
   "execution_count": 4,
   "metadata": {},
   "outputs": [],
   "source": [
    "from wntr_quantum.sim.solvers.qubo_polynomial_solver import QuboPolynomialSolver\n",
    "from qubops.solution_vector import SolutionVector_V2 as SolutionVector\n",
    "from qubops.encodings import  RangedEfficientEncoding, PositiveQbitEncoding\n",
    "\n",
    "nqbit = 7\n",
    "step = (2./(2**nqbit-1))\n",
    "flow_encoding = PositiveQbitEncoding(nqbit=nqbit, step=step, offset=+0.0, var_base_name=\"x\")\n",
    "\n",
    "nqbit = 9\n",
    "step = (50/(2**nqbit-1))\n",
    "head_encoding = PositiveQbitEncoding(nqbit=nqbit, step=step, offset=+50.0, var_base_name=\"x\")"
   ]
  },
  {
   "cell_type": "code",
   "execution_count": 5,
   "metadata": {},
   "outputs": [],
   "source": [
    "from wntr_quantum.design.qubo_pipe_diam import QUBODesignPipeDiameter \n",
    "pipe_diameters = [250, 500, 1000]\n",
    "designer = QUBODesignPipeDiameter(wn, flow_encoding, head_encoding, pipe_diameters, head_lower_bound=80)"
   ]
  },
  {
   "cell_type": "code",
   "execution_count": 6,
   "metadata": {},
   "outputs": [
    {
     "name": "stdout",
     "output_type": "stream",
     "text": [
      "Head Encoding : 50.000000 => 100.000000 (res: 0.097847)\n",
      "Flow Encoding : -2.000000 => -0.000000 | 0.000000 => 2.000000 (res: 0.015748)\n"
     ]
    }
   ],
   "source": [
    "designer.verify_encoding()"
   ]
  },
  {
   "cell_type": "code",
   "execution_count": 7,
   "metadata": {},
   "outputs": [
    {
     "name": "stderr",
     "output_type": "stream",
     "text": [
      "/home/nico/QuantumApplicationLab/QuantumNewtonRaphson/quantum_newton_raphson/utils.py:74: SparseEfficiencyWarning: spsolve requires A be CSC or CSR matrix format\n",
      "  warn(\"spsolve requires A be CSC or CSR matrix format\", SparseEfficiencyWarning)\n"
     ]
    },
    {
     "data": {
      "text/plain": [
       "array([ 1.766,  1.766, 97.666, 96.906])"
      ]
     },
     "execution_count": 7,
     "metadata": {},
     "output_type": "execute_result"
    }
   ],
   "source": [
    "designer.create_index_mapping()\n",
    "designer.matrices = designer.initialize_matrices()\n",
    "designer.compute_classical_solution([0,1,0,0,1,0], convert_to_si=False)"
   ]
  },
  {
   "cell_type": "code",
   "execution_count": 8,
   "metadata": {},
   "outputs": [
    {
     "name": "stdout",
     "output_type": "stream",
     "text": [
      "price \t diameters \t variables\n",
      "0.16907910944516957 [250. 250.] [ 1.766  1.766 67.877 37.329]\n",
      "0.25361866416775436 [250. 500.] [ 1.766  1.766 67.877 67.118]\n",
      "0.42269777361292393 [ 250. 1000.] [ 1.766  1.766 67.877 67.858]\n",
      "0.25361866416775436 [500. 250.] [ 1.766  1.766 97.666 67.118]\n",
      "0.33815821889033915 [500. 500.] [ 1.766  1.766 97.666 96.906]\n",
      "0.5072373283355087 [ 500. 1000.] [ 1.766  1.766 97.666 97.647]\n",
      "0.42269777361292393 [1000.  250.] [ 1.766  1.766 98.406 67.858]\n",
      "0.5072373283355087 [1000.  500.] [ 1.766  1.766 98.406 97.647]\n",
      "0.6763164377806783 [1000. 1000.] [ 1.766  1.766 98.406 98.387]\n"
     ]
    }
   ],
   "source": [
    "designer.enumerates_classical_solutions(convert_to_si=False)"
   ]
  },
  {
   "cell_type": "code",
   "execution_count": 9,
   "metadata": {},
   "outputs": [
    {
     "data": {
      "text/plain": [
       "array([ 1.766,  1.766, 98.406, 98.387], dtype=float32)"
      ]
     },
     "execution_count": 9,
     "metadata": {},
     "output_type": "execute_result"
    }
   ],
   "source": [
    "designer.convert_solution_from_si(ref_values)"
   ]
  },
  {
   "cell_type": "code",
   "execution_count": 10,
   "metadata": {},
   "outputs": [
    {
     "name": "stderr",
     "output_type": "stream",
     "text": [
      "/home/nico/miniconda3/envs/vitens_wntr_1/lib/python3.9/site-packages/dimod/binary/binary_quadratic_model.py:759: UserWarning: For constraints with fractional coefficients, multiply both sides of the inequality by an appropriate factor of ten to attain or approximate integer coefficients. \n",
      "  warnings.warn(\"For constraints with fractional coefficients, \"\n"
     ]
    },
    {
     "name": "stdout",
     "output_type": "stream",
     "text": [
      "[1, 1, 2.0, 0.8346456692913385, 98.14090019569471, 87.47553816046965]\n"
     ]
    }
   ],
   "source": [
    "from dwave.samplers import SimulatedAnnealingSampler\n",
    "options = {'sampler': SimulatedAnnealingSampler()}\n",
    "status = designer.solve(strength=1E7, num_reads=100000, options=options)"
   ]
  },
  {
   "cell_type": "code",
   "execution_count": 11,
   "metadata": {},
   "outputs": [
    {
     "data": {
      "text/plain": [
       "0.25361866416775436"
      ]
     },
     "execution_count": 11,
     "metadata": {},
     "output_type": "execute_result"
    }
   ],
   "source": [
    "designer.total_pice"
   ]
  },
  {
   "cell_type": "code",
   "execution_count": 12,
   "metadata": {},
   "outputs": [
    {
     "data": {
      "text/plain": [
       "array([500., 250.])"
      ]
     },
     "execution_count": 12,
     "metadata": {},
     "output_type": "execute_result"
    }
   ],
   "source": [
    "designer.optimal_diameters"
   ]
  },
  {
   "cell_type": "code",
   "execution_count": 13,
   "metadata": {},
   "outputs": [
    {
     "data": {
      "text/plain": [
       "437"
      ]
     },
     "execution_count": 13,
     "metadata": {},
     "output_type": "execute_result"
    }
   ],
   "source": [
    "designer.bqm.num_variables"
   ]
  },
  {
   "cell_type": "code",
   "execution_count": 21,
   "metadata": {},
   "outputs": [
    {
     "data": {
      "text/plain": [
       "(array([9.420e+02, 7.588e+03, 2.190e+04, 3.014e+04, 2.332e+04, 1.148e+04, 3.597e+03, 8.800e+02, 1.360e+02, 1.300e+01]),\n",
       " array([-2.33e+03,  2.10e+07,  4.20e+07,  6.30e+07,  8.40e+07,  1.05e+08,  1.26e+08,  1.47e+08,  1.68e+08,  1.89e+08,  2.10e+08]),\n",
       " <BarContainer object of 10 artists>)"
      ]
     },
     "execution_count": 21,
     "metadata": {},
     "output_type": "execute_result"
    },
    {
     "data": {
      "image/png": "[encoded data removed]",
      "text/plain": [
       "<Figure size 640x480 with 1 Axes>"
      ]
     },
     "metadata": {},
     "output_type": "display_data"
    }
   ],
   "source": [
    "import matplotlib.pyplot as plt\n",
    "plt.hist(designer.sampleset.data_vectors['energy'])"
   ]
  },
  {
   "cell_type": "code",
   "execution_count": 56,
   "metadata": {},
   "outputs": [],
   "source": [
    "x = designer.sampleset"
   ]
  },
  {
   "cell_type": "code",
   "execution_count": 48,
   "metadata": {},
   "outputs": [
    {
     "data": {
      "text/plain": [
       "([1, 1, 1, 0, 0, 0, 1, 0, 0, 1, 0, 1, 1, 1, 1, 1, 1, 0, 1, 1, 1, 1, 1, 1, 1, 1, 0, 1, 1, 1, 1, 1, 1, 0, 1, 1, 1, 0, 1, 0, 1, 0, 1, 0, 0, 0, 0, 0, 1, 0, 0, 0, 0, 0, 0, 1, 0, 0, 0, 0, 0, 1, 0, 0, 1, 0, 1, 1, 0, 0, 0, 1, 0, 0, 0, 0, 0, 0, 0, 1, 1, 1, 1, 1, 1, 1, 1, 0, 1, 1, 1, 1, 1, 1, 1, 1, 1, 1, 1, 1, 1, 1, 1, 0, 1, 1, 1, 0, 1, 0, 1, 1, 1, 1, 1, 0, 1, 1, 1, 1, 0, 0, 1, 0, 1, 1, 1, 1, 1, 1, 1, 1, 1, 1, 0, 1, 1, 1, 1, 1, 1, 1, 1, 1, 1, 1, 1, 1, 1, 1, 1, 1, 1, 1, 0, 1, 1, 0, 1, 1, 1, 1, 0, 0, 0, 0, 0, 0, 0, 0, 0, 0, 1, 0, 0, 0, 0, 0, 0, 1, 1, 1, 0, 1, 1, 1, 0, 1, 1, 1, 1, 1, 1, 1, 0, 0, 0, 0, 0, 0, 1, 0, 1, 1, 0, 1, 1, 1, 1, 1, 1, 1, 1, 0, 1, 0, 1, 1, 1, 1, 1, 1, 0, 1, 1, 0, 1, 1, 0, 0, 1, 0, 1, 1, 0, 1, 0, 0, 0, 1, 0, 0, 1, 0, 1, 1, 0, 0, 1, 0, 1, 1, 1, 0, 1, 1, 1, 1, 1, 0, 1, 0, 0, 0, 0, 0, 0, 1, 1, 1, 1, 0, 0, 0, 0, 0, 1, 1, 0, 1, 0, 1, 0, 1, 0, 1, 1, 1, 0, 1, 0, 0, 0, 0, 0, 0, 0, 0, 1, 1, 1, 1, 0, 1, 1, 0, 1, 1, 0, 0, 1, 1, 1, 1, 0, 0, 1, 1, 0, 0, 0, 0, 0, 0, 0, 0, 0, 1, 1, 1, 1, 1, 1, 1, 1, 1, 1, 1, 1, 1, 1, 1, 0, 1, 0, 0, 1, 0, 1, 1, 1, 1, 1, 1, 1, 0, 1, 0, 1, 1, 1, 1, 1, 1, 1, 1, 0, 0, 0, 1, 1, 1, 0, 1, 0, 0, 0, 0, 0, 0, 0, 0, 0, 0, 0, 0, 0, 0, 0, 0, 0, 0, 0, 0, 1, 1, 1, 1, 1, 1, 1, 1, 1, 1, 1, 1, 1, 0, 1, 1, 1, 1, 1, 0, 0, 1, 0, 0, 0, 0, 0, 1, 0, 0, 0, 0, 0, 0, 0, 0, 1, 0, 0, 0, 0, 0, 0], 99998077.471, 1)"
      ]
     },
     "execution_count": 48,
     "metadata": {},
     "output_type": "execute_result"
    }
   ],
   "source": [
    "x.record[1]"
   ]
  },
  {
   "cell_type": "code",
   "execution_count": 59,
   "metadata": {},
   "outputs": [
    {
     "name": "stdout",
     "output_type": "stream",
     "text": [
      "[1, 0, 1, 0, 1, 0]\n",
      "[1, 0, 1, 1, 1, 1]\n",
      "[1, 1, 0, 1, 1, 0]\n",
      "[1, 0, 1, 0, 1, 0]\n",
      "[1, 1, 0, 0, 1, 0]\n",
      "[1, 0, 1, 0, 1, 1]\n",
      "[1, 1, 0, 1, 1, 0]\n",
      "[1, 1, 0, 1, 0, 0]\n",
      "[0, 1, 1, 1, 1, 0]\n",
      "[0, 1, 1, 1, 1, 0]\n",
      "[1, 1, 0, 1, 1, 1]\n",
      "[0, 1, 1, 0, 1, 1]\n",
      "[0, 1, 1, 1, 1, 0]\n",
      "[1, 0, 1, 0, 1, 1]\n",
      "[1, 0, 0, 1, 1, 0]\n",
      "[1, 0, 1, 0, 1, 1]\n",
      "[1, 0, 0, 1, 0, 1]\n",
      "[1, 1, 0, 1, 1, 1]\n",
      "[1, 0, 0, 0, 0, 1]\n",
      "[1, 1, 0, 0, 1, 0]\n",
      "[1, 1, 0, 1, 0, 0]\n",
      "[1, 1, 1, 1, 1, 0]\n",
      "[0, 1, 1, 0, 0, 0]\n",
      "[1, 0, 1, 0, 1, 1]\n",
      "[0, 1, 0, 0, 1, 1]\n",
      "[0, 1, 1, 0, 1, 0]\n",
      "[0, 1, 0, 0, 0, 1]\n",
      "[0, 1, 1, 0, 0, 1]\n",
      "[1, 1, 0, 0, 1, 0]\n",
      "[0, 0, 1, 1, 0, 0]\n",
      "[1, 0, 1, 1, 1, 0]\n",
      "[0, 1, 0, 0, 0, 1]\n",
      "[1, 1, 0, 0, 1, 0]\n",
      "[0, 0, 1, 0, 1, 0]\n",
      "[0, 1, 1, 0, 0, 1]\n",
      "[1, 0, 1, 1, 0, 0]\n",
      "[1, 0, 1, 1, 1, 1]\n",
      "[1, 1, 0, 1, 0, 1]\n",
      "[0, 0, 1, 1, 0, 1]\n",
      "[0, 1, 1, 0, 0, 1]\n",
      "[0, 1, 0, 1, 0, 0]\n",
      "[1, 1, 0, 0, 1, 1]\n",
      "[0, 1, 1, 1, 0, 0]\n",
      "[1, 0, 1, 0, 1, 0]\n",
      "[0, 1, 0, 1, 0, 0]\n",
      "[1, 0, 0, 0, 1, 1]\n",
      "[1, 1, 0, 1, 0, 0]\n",
      "[1, 1, 0, 1, 1, 0]\n",
      "[1, 1, 0, 0, 1, 1]\n",
      "[1, 0, 0, 1, 0, 1]\n",
      "[0, 1, 1, 0, 1, 0]\n",
      "[0, 1, 1, 1, 0, 1]\n",
      "[0, 0, 1, 1, 1, 0]\n",
      "[1, 0, 0, 1, 0, 1]\n",
      "[0, 0, 1, 1, 0, 0]\n",
      "[0, 1, 1, 1, 0, 1]\n",
      "[0, 1, 0, 1, 0, 0]\n",
      "[0, 1, 0, 0, 1, 1]\n",
      "[0, 1, 0, 0, 0, 1]\n",
      "[0, 0, 1, 0, 0, 1]\n",
      "[0, 1, 1, 1, 1, 1]\n",
      "[1, 0, 1, 0, 0, 1]\n",
      "[1, 0, 0, 1, 1, 0]\n",
      "[0, 1, 1, 0, 1, 0]\n",
      "[1, 1, 0, 0, 1, 1]\n",
      "[0, 1, 0, 0, 1, 0]\n",
      "[1, 1, 0, 0, 0, 1]\n",
      "[0, 0, 1, 0, 0, 1]\n",
      "[1, 0, 1, 1, 1, 1]\n",
      "[1, 0, 1, 1, 1, 0]\n",
      "[0, 1, 0, 0, 0, 0]\n",
      "[1, 0, 1, 0, 0, 1]\n",
      "[1, 1, 0, 0, 1, 0]\n",
      "[1, 0, 1, 1, 0, 1]\n",
      "[0, 1, 1, 1, 0, 0]\n",
      "[0, 1, 0, 0, 1, 0]\n",
      "[1, 1, 0, 1, 0, 0]\n",
      "[0, 1, 1, 1, 0, 1]\n",
      "[1, 0, 1, 0, 1, 1]\n",
      "[1, 0, 1, 1, 1, 0]\n",
      "[1, 0, 1, 1, 1, 0]\n",
      "[1, 0, 0, 0, 1, 1]\n",
      "[0, 1, 1, 1, 1, 1]\n",
      "[1, 0, 0, 1, 1, 1]\n",
      "[0, 1, 1, 1, 0, 0]\n",
      "[1, 0, 1, 1, 1, 0]\n",
      "[1, 0, 1, 1, 1, 0]\n",
      "[0, 1, 0, 1, 1, 0]\n",
      "[0, 1, 1, 0, 1, 1]\n",
      "[0, 1, 1, 0, 1, 0]\n",
      "[1, 1, 0, 0, 1, 0]\n",
      "[1, 0, 1, 0, 1, 0]\n",
      "[1, 0, 1, 1, 0, 0]\n",
      "[1, 0, 1, 1, 1, 0]\n",
      "[1, 1, 0, 0, 1, 1]\n",
      "[0, 1, 0, 0, 1, 1]\n",
      "[1, 0, 1, 1, 0, 0]\n",
      "[1, 0, 1, 1, 1, 0]\n",
      "[1, 0, 0, 0, 1, 1]\n",
      "[0, 0, 1, 1, 0, 0]\n"
     ]
    }
   ],
   "source": [
    "for i in range(100):\n",
    "    s = designer.qubo.decode_solution(x.record[i][0])\n",
    "    print(s[3])"
   ]
  },
  {
   "cell_type": "code",
   "execution_count": 52,
   "metadata": {},
   "outputs": [
    {
     "data": {
      "text/plain": [
       "array([1, 0, 1, 0, 0, 0, 0, 0, 0, 1, 1, 1, 1, 1, 1, 1, 1, 1, 1, 1, 0, 1, 1, 0, 1, 1, 1, 1, 0, 0, 0, 0, 1, 1, 1, 0, 1, 0, 1, 1, 1, 1, 0, 0, 0, 1, 1, 1, 1, 1, 0, 0, 0, 0, 0, 0, 0, 0, 0, 0, 0, 0, 0, 0, 0, 0, 0, 0, 0, 0, 0, 0, 0, 0, 0, 0, 0, 0, 0, 1, 0, 0, 0, 0, 0, 0, 0, 1, 1, 1, 0, 1, 1, 1, 0, 0, 0,\n",
       "       0, 1, 0, 0, 0, 0, 1, 1, 0, 0, 0, 1, 0, 1, 1, 0, 1, 0, 0, 0, 0, 0, 0, 0, 0, 0, 0, 0, 1, 0, 1, 0, 0, 0, 0, 1, 0, 0, 1, 1, 1, 0, 1, 0, 1, 0, 1, 0, 0, 1, 0, 0, 0, 1, 0, 1, 0, 1, 1, 0, 0, 1, 1, 1, 0, 1, 0, 0, 0, 0, 0, 0, 0, 0, 0, 1, 1, 0, 0, 0, 0, 0, 0, 0, 0, 0, 0, 0, 0, 0, 0, 0, 0, 0, 0, 0, 0,\n",
       "       0, 0, 0, 0, 0, 0, 0, 0, 0, 0, 0, 0, 0, 0, 0, 0, 1, 0, 0, 0, 0, 1, 0, 0, 0, 0, 0, 1, 0, 0, 0, 0, 0, 0, 0, 0, 0, 0, 0, 0, 0, 0, 0, 0, 0, 0, 0, 0, 0, 0, 0, 0, 0, 0, 0, 0, 0, 0, 0, 0, 1, 1, 1, 0, 0, 0, 0, 0, 1, 0, 1, 0, 0, 0, 0, 0, 0, 1, 0, 1, 0, 0, 0, 0, 1, 1, 0, 0, 0, 0, 0, 1, 0, 0, 0, 0, 1,\n",
       "       1, 0, 0, 0, 1, 0, 0, 0, 0, 0, 0, 1, 0, 1, 0, 0, 0, 0, 0, 0, 0, 0, 0, 0, 0, 1, 1, 1, 1, 1, 1, 1, 0, 0, 0, 0, 1, 1, 1, 1, 1, 1, 1, 1, 1, 1, 1, 1, 1, 1, 1, 1, 1, 1, 1, 1, 1, 0, 1, 0, 0, 0, 0, 0, 0, 0, 1, 1, 1, 0, 0, 1, 1, 1, 1, 1, 1, 0, 0, 0, 1, 1, 0, 1, 0, 1, 1, 1, 1, 1, 1, 0, 0, 0, 0, 1, 1,\n",
       "       1, 1, 0, 0, 0, 0, 0, 0, 0, 0, 0, 0, 0, 0, 0, 0, 0, 0, 0, 0, 0, 0, 0, 0, 0, 0, 0, 1, 1, 1, 1, 1, 0, 0, 0, 0, 0, 0, 0, 0, 0, 0, 0, 0, 0, 0, 0, 0, 0], dtype=int8)"
      ]
     },
     "execution_count": 52,
     "metadata": {},
     "output_type": "execute_result"
    }
   ],
   "source": [
    "x.lowest().record[0][0]"
   ]
  },
  {
   "cell_type": "code",
   "execution_count": null,
   "metadata": {},
   "outputs": [],
   "source": []
  }
 ],
 "metadata": {
  "kernelspec": {
   "display_name": "vitens_wntr_1",
   "language": "python",
   "name": "python3"
  },
  "language_info": {
   "codemirror_mode": {
    "name": "ipython",
    "version": 3
   },
   "file_extension": ".py",
   "mimetype": "text/x-python",
   "name": "python",
   "nbconvert_exporter": "python",
   "pygments_lexer": "ipython3",
   "version": "3.9.0"
  }
 },
 "nbformat": 4,
 "nbformat_minor": 2
}
