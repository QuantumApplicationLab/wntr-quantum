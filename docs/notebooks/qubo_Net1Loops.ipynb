{
 "cells": [
  {
   "cell_type": "markdown",
   "metadata": {},
   "source": [
    "### Set up water network model\n",
    "\n",
    "In this example, we test our quantum solvers into a slightly larger network as contained in `Net1Loops.inp`. Let's start by setting up the model:"
   ]
  },
  {
   "cell_type": "code",
   "execution_count": 1,
   "metadata": {},
   "outputs": [
    {
     "data": {
      "image/png": "[encoded data removed]",
      "text/plain": [
       "<Figure size 640x480 with 1 Axes>"
      ]
     },
     "metadata": {},
     "output_type": "display_data"
    },
    {
     "data": {
      "text/plain": [
       "<Axes: title={'center': 'networks/Net1Loops.inp'}>"
      ]
     },
     "execution_count": 1,
     "metadata": {},
     "output_type": "execute_result"
    }
   ],
   "source": [
    "import os\n",
    "import wntr\n",
    "import wntr_quantum\n",
    "\n",
    "os.environ[\"EPANET_TMP\"] = \"/home/nico/.epanet_quantum\"\n",
    "os.environ[\"EPANET_QUANTUM\"] = \"/home/nico/QuantumApplicationLab/vitens/EPANET\"\n",
    "\n",
    "# set up network model\n",
    "inp_file = 'networks/Net1Loops.inp'\n",
    "wn = wntr.network.WaterNetworkModel(inp_file)\n",
    "\n",
    "# plot network\n",
    "wntr.graphics.plot_network(wn, title=wn.name, node_labels=True)\n",
    "\n",
    "# print options\n",
    "# dict(wn.options.hydraulic)"
   ]
  },
  {
   "cell_type": "markdown",
   "metadata": {},
   "source": [
    "### Solve model using the classical WNTR simulator\n",
    "\n",
    "For comparison, we will start with by solving the network model with the classical WNTR simulator."
   ]
  },
  {
   "cell_type": "code",
   "execution_count": 2,
   "metadata": {},
   "outputs": [
    {
     "name": "stdout",
     "output_type": "stream",
     "text": [
      "Size of the Jacobian in WNTR simulator: 9\n",
      "Size of the b vector in WNTR simulator: 9\n"
     ]
    },
    {
     "data": {
      "text/plain": [
       "(          2          3          4          5    1\n",
       " 0  57.93989  31.496198  52.434498  21.174181  0.0,\n",
       "          1         2         3         4         5\n",
       " 0  0.16387  0.059455  0.076645  0.043315  0.031685)"
      ]
     },
     "execution_count": 2,
     "metadata": {},
     "output_type": "execute_result"
    }
   ],
   "source": [
    "# define the classical WNTR simulator\n",
    "sim = wntr.sim.WNTRSimulator(wn)\n",
    "\n",
    "# run WNTR simulator\n",
    "results_wntr = sim.run_sim()\n",
    "\n",
    "# set A and b matrices\n",
    "wntr_A = sim._model.evaluate_jacobian()\n",
    "wntr_b = sim._model.evaluate_residuals()\n",
    "\n",
    "# set the size of the Jacobian (A matrix)\n",
    "wntr_A_dim = wntr_A.shape[0]\n",
    "print(f\"Size of the Jacobian in WNTR simulator: {wntr_A_dim}\")\n",
    "print(f\"Size of the b vector in WNTR simulator: {wntr_b.shape[0]}\")\n",
    "\n",
    "results_wntr.node[\"pressure\"], results_wntr.link[\"flowrate\"]"
   ]
  },
  {
   "cell_type": "markdown",
   "metadata": {},
   "source": [
    "### Solve model using the classical Epanet simulator\n",
    "\n",
    "We now solve the same problem using the classical Epanet simulator. Note that, by default, `QuantumEpanetSimulator` uses a classical `CholeskySolver` to iteratively solve the linear problem."
   ]
  },
  {
   "cell_type": "code",
   "execution_count": 3,
   "metadata": {},
   "outputs": [
    {
     "name": "stdout",
     "output_type": "stream",
     "text": [
      "/home/nico/QuantumApplicationLab/vitens/wntr-quantum/wntr_quantum/epanet/Linux/libepanet22_amd64.so\n",
      "Your EPANET quantum path: /home/nico/QuantumApplicationLab/vitens/EPANET\n",
      "Your EPANET temp dir: /home/nico/.epanet_quantum\n",
      "\n",
      "Size of the Jacobian in EPANET simulator: 4\n",
      "Size of the b vector in EPANET simulator: 4\n"
     ]
    },
    {
     "data": {
      "text/plain": [
       "(name          2          3          4          5             1\n",
       " 0     57.939995  31.496479  52.434612  21.174667  4.394531e-07,\n",
       " name         1         2         3         4         5\n",
       " 0     0.163867  0.059455  0.076645  0.043315  0.031685)"
      ]
     },
     "execution_count": 3,
     "metadata": {},
     "output_type": "execute_result"
    }
   ],
   "source": [
    "import sys\n",
    "\n",
    "# define the classical EPANET simulator\n",
    "sim = wntr_quantum.sim.QuantumEpanetSimulator(wn)\n",
    "\n",
    "# run the EPANET simulation\n",
    "results_epanet = sim.run_sim()\n",
    "\n",
    "# remember to set up EPANET Quantum environment variables!\n",
    "epanet_path = os.environ[\"EPANET_QUANTUM\"]\n",
    "epanet_tmp = os.environ[\"EPANET_TMP\"]\n",
    "\n",
    "# check paths\n",
    "print(f\"Your EPANET quantum path: {epanet_path}\")\n",
    "print(f\"Your EPANET temp dir: {epanet_tmp}\\n\")\n",
    "\n",
    "util_path = os.path.join(epanet_path, 'src/py/')\n",
    "sys.path.append(util_path)\n",
    "\n",
    "from quantum_linsolve import load_json_data\n",
    "epanet_A, epanet_b = load_json_data(os.path.join(epanet_tmp,'smat.json'))\n",
    "\n",
    "# set the size of the Jacobian (A matrix)\n",
    "epanet_A_dim = epanet_A.todense().shape[0]\n",
    "print(f\"Size of the Jacobian in EPANET simulator: {epanet_A_dim}\")\n",
    "print(f\"Size of the b vector in EPANET simulator: {epanet_b.shape[0]}\")\n",
    "\n",
    "# save number of nodes and pipes\n",
    "n_nodes = len(results_epanet.node[\"pressure\"].iloc[0]), \n",
    "n_pipes = len(results_epanet.link[\"flowrate\"].iloc[0])\n",
    "\n",
    "results_epanet.node[\"pressure\"], results_epanet.link[\"flowrate\"]"
   ]
  },
  {
   "cell_type": "markdown",
   "metadata": {},
   "source": [
    "### Define a helper function\n",
    "\n",
    "This function checks that the quantum results are within `TOL`% of those obtained classically. It also fills in lists containing the final values of pressures and flow rates obtained."
   ]
  },
  {
   "cell_type": "code",
   "execution_count": 4,
   "metadata": {},
   "outputs": [],
   "source": [
    "TOL = 5  # => per cent\n",
    "DELTA = 1.0e-12\n",
    "\n",
    "classical_res = []\n",
    "quantum_res = []\n",
    "\n",
    "\n",
    "def compare_results(classical_result, quantum_result):\n",
    "    \"\"\"\n",
    "    Helper function that compares the classical and quantum simulation results.\n",
    "    \"\"\"\n",
    "    def calculate_differences(classical_value, quantum_value):\n",
    "        \"\"\"Helper function to evaluate percentage difference between classical and quantum results.\"\"\"\n",
    "        is_close_to_classical = abs(classical_value - quantum_value) / abs(classical_value + DELTA) <= TOL / 100.0\n",
    "        if is_close_to_classical:\n",
    "            print(f\"Quantum result {quantum_value} within {TOL}% of classical result {classical_value}\")\n",
    "            quantum_res.append(quantum_value)\n",
    "            classical_res.append(classical_value)\n",
    "        return is_close_to_classical\n",
    "    \n",
    "    for link in classical_result.link[\"flowrate\"].columns:\n",
    "        classical_value = classical_result.link[\"flowrate\"][link].iloc[0]\n",
    "        quantum_value = quantum_result.link[\"flowrate\"][link].iloc[0]\n",
    "        message = f\"Flowrate {link}: {quantum_value} not within {TOL}% of classical result {classical_value}\"\n",
    "        assert calculate_differences(classical_value, quantum_value), message\n",
    "\n",
    "    for node in classical_result.node[\"pressure\"].columns:\n",
    "        classical_value = classical_result.node[\"pressure\"][node].iloc[0]\n",
    "        quantum_value = quantum_result.node[\"pressure\"][node].iloc[0]\n",
    "        message= f\"Pressure {node}: {quantum_value} not within {TOL}% of classical result {classical_value}\"\n",
    "        assert calculate_differences(classical_value, quantum_value), message"
   ]
  },
  {
   "cell_type": "markdown",
   "metadata": {},
   "source": [
    "### Solve model using QUBO solver (with daptative encoding)\n",
    "\n",
    "Finally, we solve the problem once again but now using the QUBO quantum linear solver. The results are validated using the `compare_results` helper function defined above."
   ]
  },
  {
   "cell_type": "code",
   "execution_count": 5,
   "metadata": {},
   "outputs": [
    {
     "name": "stdout",
     "output_type": "stream",
     "text": [
      "{'encoding': <class 'qubols.encodings.RangedEfficientEncoding'>, 'num_qbits': 15, 'num_reads': 100, 'range': 200, 'offset': 600, 'iterations': 5, 'temperature': 10000.0}\n",
      "/home/nico/QuantumApplicationLab/vitens/wntr-quantum/wntr_quantum/epanet/Linux/libepanet22_amd64.so\n",
      "0 [600, 600, 600, 600] 200\n",
      "1 [653.1282426905939, 675.0045779161326, 685.7962522126595, 684.3679423792956] [162.19783659021755, 147.89105361858333, 42.720160646958185, 63.89584840114656]\n",
      "2 [644.009997711067, 666.5642351746703, 685.0869875055868, 683.5021132671028] [75.45597702856479, 50.57205374895429, 10.046036109323007, 15.040310664376154]\n",
      "3 [644.0140024853814, 666.5516469026392, 685.076977352827, 683.4870178369654] [19.896996994125942, 13.32363024990175, 2.6333150952487467, 3.931600327637771]\n",
      "4 [643.992959499734, 666.5427107763383, 685.0757495165467, 683.4848733908677] [5.223353430776938, 3.5236692804443814, 0.7094092503981015, 1.0570316100466943]\n",
      "0 [600, 600, 600, 600] 200\n",
      "1 [529.6832082036257, 599.9877922236465, 681.3037905145578, 679.6923640358908] [187.54031694899425, 184.01251352913064, 65.40813181134943, 82.9597572578687]\n",
      "2 [553.6967849160075, 622.9756136853267, 681.5193822326687, 679.687300265076] [141.86200934793072, 119.2793266759492, 21.205113278968682, 26.81021946736571]\n",
      "3 [562.5637016930114, 628.3269110726221, 682.1859654797871, 680.5235342970886] [86.45389220085569, 55.73149486850337, 7.356822855631101, 9.241251388366091]\n",
      "4 [562.2824209600006, 628.292107253294, 682.1951163769494, 680.5351439694014] [31.029823241857912, 19.81284495667869, 2.552368135283411, 3.191619202770022]\n",
      "0 [600, 600, 600, 600] 200\n",
      "1 [587.4870292376244, 645.7547457730575, 684.3801501556492, 683.2082036257095] [177.77841909256463, 173.4733615301793, 64.0277190784752, 81.64108121625112]\n",
      "2 [582.1155882652249, 645.7547457730575, 683.1217160750004, 681.5687044057775] [138.88375755481923, 117.57533384594275, 20.95137784333773, 26.428166308749084]\n",
      "3 [564.7406843999353, 631.056931958952, 682.4639443033918, 680.8501785757319] [85.44204634141676, 55.44852844133298, 7.290151970627268, 9.11709602214348]\n",
      "4 [564.6847830660753, 630.1832891650187, 682.4501577380078, 680.8500849843596] [35.115707539297674, 22.39280842457061, 2.8746442515343262, 3.5854321211566336]\n",
      "Quantum result 0.1638716608285904 within 5% of classical result 0.16386687755584717\n",
      "Quantum result 0.0594572015106678 within 5% of classical result 0.05945523828268051\n",
      "Quantum result 0.07664962112903595 within 5% of classical result 0.07664506137371063\n",
      "Quantum result 0.04331611469388008 within 5% of classical result 0.043314848095178604\n",
      "Quantum result 0.03168607875704765 within 5% of classical result 0.03168521821498871\n",
      "Quantum result 57.939884185791016 within 5% of classical result 57.93999481201172\n",
      "Quantum result 31.495363235473633 within 5% of classical result 31.496479034423828\n",
      "Quantum result 52.434444427490234 within 5% of classical result 52.43461227416992\n",
      "Quantum result 21.172529220581055 within 5% of classical result 21.174667358398438\n",
      "Quantum result 4.39453117451194e-07 within 5% of classical result 4.39453117451194e-07\n"
     ]
    }
   ],
   "source": [
    "\n",
    "from quantum_newton_raphson.qubo_solver import QUBO_SOLVER\n",
    "from qubols.encodings import RangedEfficientEncoding\n",
    "\n",
    "linear_solver = QUBO_SOLVER(\n",
    "        encoding=RangedEfficientEncoding,\n",
    "        num_qbits=15,\n",
    "        num_reads=100,\n",
    "        range=200,\n",
    "        offset=600,\n",
    "        iterations=5,\n",
    "        temperature=1e4,\n",
    "        use_aequbols=True,\n",
    ")\n",
    "\n",
    "sim = wntr_quantum.sim.QuantumEpanetSimulator(wn, linear_solver=linear_solver)\n",
    "results_qubos = sim.run_sim(linear_solver=linear_solver)\n",
    "\n",
    "# check that the results are within a certain tolerance from the classical epanet\n",
    "compare_results(results_epanet, results_qubos)"
   ]
  },
  {
   "cell_type": "markdown",
   "metadata": {},
   "source": [
    "### Plot pressures and flow rates\n",
    "\n",
    "Let's check graphically the equivalence of the results."
   ]
  },
  {
   "cell_type": "code",
   "execution_count": 6,
   "metadata": {},
   "outputs": [
    {
     "data": {
      "image/png": "[encoded data removed]",
      "text/plain": [
       "<Figure size 640x480 with 1 Axes>"
      ]
     },
     "metadata": {},
     "output_type": "display_data"
    }
   ],
   "source": [
    "import matplotlib.pyplot as plt\n",
    "plt.scatter(classical_res[:n_pipes], quantum_res[:n_pipes], label=\"Flow rates\", color=\"blue\", marker=\"o\")\n",
    "plt.scatter(classical_res[n_pipes:], quantum_res[n_pipes:], label=\"Pressures\", color=\"red\", marker=\"s\", facecolors='none')\n",
    "plt.axline((0, 0), slope=1, linestyle=\"--\", color=\"gray\", label=\"\")\n",
    "plt.xlabel(\"Classical results\")\n",
    "plt.ylabel(\"Quantum results\")\n",
    "plt.legend()\n",
    "plt.show()"
   ]
  }
 ],
 "metadata": {
  "kernelspec": {
   "display_name": ".venv",
   "language": "python",
   "name": "python3"
  },
  "language_info": {
   "codemirror_mode": {
    "name": "ipython",
    "version": 3
   },
   "file_extension": ".py",
   "mimetype": "text/x-python",
   "name": "python",
   "nbconvert_exporter": "python",
   "pygments_lexer": "ipython3",
   "version": "3.9.0"
  }
 },
 "nbformat": 4,
 "nbformat_minor": 2
}
