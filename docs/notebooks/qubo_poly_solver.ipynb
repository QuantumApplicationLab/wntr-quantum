{
 "cells": [
  {
   "cell_type": "markdown",
   "metadata": {},
   "source": [
    "# Define the system  "
   ]
  },
  {
   "cell_type": "code",
   "execution_count": 1,
   "metadata": {
    "metadata": {}
   },
   "outputs": [
    {
     "data": {
      "image/png": "[encoded data removed]",
      "text/plain": [
       "<Figure size 640x480 with 1 Axes>"
      ]
     },
     "metadata": {},
     "output_type": "display_data"
    },
    {
     "data": {
      "text/plain": [
       "<Axes: title={'center': './networks/Net0.inp'}>"
      ]
     },
     "execution_count": 1,
     "metadata": {},
     "output_type": "execute_result"
    }
   ],
   "source": [
    "import wntr\n",
    "import wntr_quantum\n",
    "import numpy as np\n",
    "\n",
    "# Create a water network model\n",
    "inp_file = './networks/Net0.inp'\n",
    "# inp_file = './networks/Net2LoopsDW.inp'\n",
    "wn = wntr.network.WaterNetworkModel(inp_file)\n",
    "\n",
    "# Graph the network\n",
    "wntr.graphics.plot_network(wn, title=wn.name, node_labels=True)\n"
   ]
  },
  {
   "cell_type": "markdown",
   "metadata": {},
   "source": [
    "## Run with the original Cholesky EPANET simulator"
   ]
  },
  {
   "cell_type": "code",
   "execution_count": 2,
   "metadata": {},
   "outputs": [
    {
     "data": {
      "image/png": "[encoded data removed]",
      "text/plain": [
       "<Figure size 640x480 with 2 Axes>"
      ]
     },
     "metadata": {},
     "output_type": "display_data"
    },
    {
     "data": {
      "text/plain": [
       "<Axes: title={'center': 'Pressure at 5 hours'}>"
      ]
     },
     "execution_count": 2,
     "metadata": {},
     "output_type": "execute_result"
    }
   ],
   "source": [
    "sim = wntr.sim.EpanetSimulator(wn)\n",
    "results = sim.run_sim()\n",
    "# Plot results on the network\n",
    "pressure_at_5hr = results.node['pressure'].loc[0, :]\n",
    "wntr.graphics.plot_network(wn, node_attribute=pressure_at_5hr, node_size=50,\n",
    "                        title='Pressure at 5 hours', node_labels=False)"
   ]
  },
  {
   "cell_type": "code",
   "execution_count": 3,
   "metadata": {},
   "outputs": [
    {
     "data": {
      "text/plain": [
       "array([26.477, 22.954], dtype=float32)"
      ]
     },
     "execution_count": 3,
     "metadata": {},
     "output_type": "execute_result"
    }
   ],
   "source": [
    "ref_pressure = results.node['pressure'].values[0][:2]\n",
    "ref_pressure"
   ]
  },
  {
   "cell_type": "code",
   "execution_count": 4,
   "metadata": {},
   "outputs": [
    {
     "data": {
      "text/plain": [
       "array([0.05, 0.05], dtype=float32)"
      ]
     },
     "execution_count": 4,
     "metadata": {},
     "output_type": "execute_result"
    }
   ],
   "source": [
    "ref_rate = results.link['flowrate'].values[0]\n",
    "ref_rate"
   ]
  },
  {
   "cell_type": "code",
   "execution_count": 5,
   "metadata": {},
   "outputs": [
    {
     "data": {
      "text/plain": [
       "array([ 0.05 ,  0.05 , 26.477, 22.954], dtype=float32)"
      ]
     },
     "execution_count": 5,
     "metadata": {},
     "output_type": "execute_result"
    }
   ],
   "source": [
    "ref_values = np.append(ref_rate, ref_pressure)\n",
    "ref_values"
   ]
  },
  {
   "cell_type": "markdown",
   "metadata": {},
   "source": [
    "## Run with the QUBO Polynomial Solver"
   ]
  },
  {
   "cell_type": "code",
   "execution_count": 6,
   "metadata": {},
   "outputs": [],
   "source": [
    "wn = wntr.network.WaterNetworkModel(inp_file)"
   ]
  },
  {
   "cell_type": "code",
   "execution_count": 7,
   "metadata": {},
   "outputs": [
    {
     "name": "stdout",
     "output_type": "stream",
     "text": [
      "Head Encoding : 50.000000 => 100.000000 (res: 0.097847)\n",
      "Flow Encoding : 1.500000 => 2.000000 (res: 0.000978)\n"
     ]
    }
   ],
   "source": [
    "from wntr_quantum.sim.solvers.qubo_polynomial_solver import QuboPolynomialSolver\n",
    "from qubops.solution_vector import SolutionVector_V2 as SolutionVector\n",
    "from qubops.encodings import  RangedEfficientEncoding, PositiveQbitEncoding\n",
    "\n",
    "nqbit = 9\n",
    "step = (0.5/(2**nqbit-1))\n",
    "flow_encoding = PositiveQbitEncoding(nqbit=nqbit, step=step, offset=+1.5, var_base_name=\"x\")\n",
    "\n",
    "nqbit = 9\n",
    "step = (50/(2**nqbit-1))\n",
    "head_encoding = PositiveQbitEncoding(nqbit=nqbit, step=step, offset=+50.0, var_base_name=\"x\")\n",
    "\n",
    "net = QuboPolynomialSolver(wn, flow_encoding=flow_encoding, \n",
    "              head_encoding=head_encoding)\n",
    "net.verify_encoding()"
   ]
  },
  {
   "cell_type": "markdown",
   "metadata": {},
   "source": [
    "Solve the system classically"
   ]
  },
  {
   "cell_type": "code",
   "execution_count": 8,
   "metadata": {},
   "outputs": [
    {
     "name": "stderr",
     "output_type": "stream",
     "text": [
      "/home/nico/QuantumApplicationLab/QuantumNewtonRaphson/quantum_newton_raphson/utils.py:74: SparseEfficiencyWarning: spsolve requires A be CSC or CSR matrix format\n",
      "  warn(\"spsolve requires A be CSC or CSR matrix format\", SparseEfficiencyWarning)\n"
     ]
    },
    {
     "data": {
      "text/plain": [
       "array([1.   , 1.   , 0.999, 0.998])"
      ]
     },
     "execution_count": 8,
     "metadata": {},
     "output_type": "execute_result"
    }
   ],
   "source": [
    "from wntr_quantum.sim.qubo_hydraulics import create_hydraulic_model_for_qubo\n",
    "model, model_updater = create_hydraulic_model_for_qubo(wn)\n",
    "net.matrices = net.initialize_matrices(model)\n",
    "\n",
    "ref_sol = net.classical_solutions()\n",
    "ref_sol / ref_values"
   ]
  },
  {
   "cell_type": "code",
   "execution_count": 9,
   "metadata": {},
   "outputs": [],
   "source": [
    "from wntr_quantum.sim.qubo_hydraulics import create_hydraulic_model_for_qubo\n",
    "from dwave.samplers import SteepestDescentSolver\n",
    "\n",
    "sampler = SteepestDescentSolver()\n",
    "model, model_updater = create_hydraulic_model_for_qubo(wn)\n",
    "net.solve(model, options={\"sampler\" : sampler})\n",
    "sol = net.extract_data_from_model(model)"
   ]
  },
  {
   "cell_type": "code",
   "execution_count": 10,
   "metadata": {},
   "outputs": [
    {
     "data": {
      "image/png": "[encoded data removed]",
      "text/plain": [
       "<Figure size 640x480 with 1 Axes>"
      ]
     },
     "metadata": {},
     "output_type": "display_data"
    }
   ],
   "source": [
    "net.plot_solution_vs_reference(sol, ref_sol)"
   ]
  },
  {
   "cell_type": "code",
   "execution_count": 11,
   "metadata": {},
   "outputs": [
    {
     "name": "stdout",
     "output_type": "stream",
     "text": [
      "Head Encoding : 50.000000 => 100.000000 (res: 0.097847)\n",
      "Flow Encoding : 1.500000 => 2.000000 (res: 0.000978)\n",
      "\n",
      "\n",
      "Error (%): [ 1.528 -2.184 -0.331  0.289]\n",
      "\n",
      "\n",
      "sol :  [ 1.739  1.804 87.084 74.951]\n",
      "ref :  [ 1.766  1.766 86.797 75.168]\n",
      "diff:  [ 0.027 -0.039 -0.288  0.217]\n",
      "\n",
      "\n",
      "encoded_sol:  [ 1.739  1.804 87.084 74.951]\n",
      "encoded_ref:  [ 1.766  1.766 86.791 75.147]\n",
      "diff       :  [ 0.027 -0.038 -0.294  0.196]\n",
      "\n",
      "\n",
      "E sol   :  -1662.5979676922227\n",
      "R ref   :  -1662.6061020456154\n",
      "Delta E : 0.008134353392733829\n",
      "\n",
      "\n",
      "Residue sol   :  0.09076400808170053\n",
      "Residue ref   :  0.010186471203764017\n",
      "Delta Residue : 0.0805775368779365\n"
     ]
    }
   ],
   "source": [
    "net.diagnostic_solution(sol, ref_sol)"
   ]
  },
  {
   "cell_type": "markdown",
   "metadata": {},
   "source": [
    "# Run with the intergrated WNTR Solver"
   ]
  },
  {
   "cell_type": "code",
   "execution_count": 12,
   "metadata": {},
   "outputs": [
    {
     "data": {
      "image/png": "[encoded data removed]",
      "text/plain": [
       "<Figure size 640x480 with 2 Axes>"
      ]
     },
     "metadata": {},
     "output_type": "display_data"
    },
    {
     "data": {
      "text/plain": [
       "<Axes: title={'center': 'Pressure at 5 hours'}>"
      ]
     },
     "execution_count": 12,
     "metadata": {},
     "output_type": "execute_result"
    }
   ],
   "source": [
    "sim = wntr_quantum.sim.FullQuboPolynomialSimulator(wn, \n",
    "                                                   flow_encoding=flow_encoding, \n",
    "                                                   head_encoding=head_encoding)\n",
    "results = sim.run_sim(solver_options={\"sampler\" : sampler})\n",
    "\n",
    "# Plot results on the network\n",
    "pressure_at_5hr = results.node['pressure'].loc[0, :]\n",
    "wntr.graphics.plot_network(wn, node_attribute=pressure_at_5hr, node_size=50,\n",
    "                        title='Pressure at 5 hours', node_labels=False)"
   ]
  },
  {
   "cell_type": "code",
   "execution_count": 13,
   "metadata": {},
   "outputs": [
    {
     "data": {
      "text/plain": [
       "(array([[ 0.   ],\n",
       "        [ 1.766],\n",
       "        [99.077],\n",
       "        [ 0.652]]),\n",
       " array([[-1.   ,  1.   ,  0.   ,  0.   ],\n",
       "        [ 0.   , -1.   ,  0.   ,  0.   ],\n",
       "        [-1.547,  0.   , -1.   ,  0.   ],\n",
       "        [ 0.   , -1.547,  1.   , -1.   ]]),\n",
       " array([[[ 0.   ,  0.   ,  0.   ,  0.   ],\n",
       "         [ 0.   ,  0.   ,  0.   ,  0.   ],\n",
       "         [ 0.   ,  0.   ,  0.   ,  0.   ],\n",
       "         [ 0.   ,  0.   ,  0.   ,  0.   ]],\n",
       " \n",
       "        [[ 0.   ,  0.   ,  0.   ,  0.   ],\n",
       "         [ 0.   ,  0.   ,  0.   ,  0.   ],\n",
       "         [ 0.   ,  0.   ,  0.   ,  0.   ],\n",
       "         [ 0.   ,  0.   ,  0.   ,  0.   ]],\n",
       " \n",
       "        [[-3.063,  0.   ,  0.   ,  0.   ],\n",
       "         [ 0.   ,  0.   ,  0.   ,  0.   ],\n",
       "         [ 0.   ,  0.   ,  0.   ,  0.   ],\n",
       "         [ 0.   ,  0.   ,  0.   ,  0.   ]],\n",
       " \n",
       "        [[ 0.   ,  0.   ,  0.   ,  0.   ],\n",
       "         [ 0.   , -3.063,  0.   ,  0.   ],\n",
       "         [ 0.   ,  0.   ,  0.   ,  0.   ],\n",
       "         [ 0.   ,  0.   ,  0.   ,  0.   ]]]))"
      ]
     },
     "execution_count": 13,
     "metadata": {},
     "output_type": "execute_result"
    }
   ],
   "source": [
    "net.matrices"
   ]
  },
  {
   "cell_type": "code",
   "execution_count": null,
   "metadata": {},
   "outputs": [],
   "source": []
  }
 ],
 "metadata": {
  "kernelspec": {
   "display_name": "vitens",
   "language": "python",
   "name": "python3"
  },
  "language_info": {
   "codemirror_mode": {
    "name": "ipython",
    "version": 3
   },
   "file_extension": ".py",
   "mimetype": "text/x-python",
   "name": "python",
   "nbconvert_exporter": "python",
   "pygments_lexer": "ipython3",
   "version": "3.9.0"
  }
 },
 "nbformat": 4,
 "nbformat_minor": 2
}
