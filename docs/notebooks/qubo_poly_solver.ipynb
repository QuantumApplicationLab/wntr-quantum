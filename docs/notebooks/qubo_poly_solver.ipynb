{
 "cells": [
  {
   "cell_type": "markdown",
   "metadata": {},
   "source": [
    "# Define the system  "
   ]
  },
  {
   "cell_type": "code",
   "execution_count": 1,
   "metadata": {
    "metadata": {}
   },
   "outputs": [
    {
     "data": {
      "image/png": "[encoded data removed]",
      "text/plain": [
       "<Figure size 640x480 with 1 Axes>"
      ]
     },
     "metadata": {},
     "output_type": "display_data"
    },
    {
     "data": {
      "text/plain": [
       "<Axes: title={'center': './networks/Net0.inp'}>"
      ]
     },
     "execution_count": 1,
     "metadata": {},
     "output_type": "execute_result"
    }
   ],
   "source": [
    "import wntr\n",
    "import wntr_quantum\n",
    "import numpy as np\n",
    "\n",
    "# Create a water network model\n",
    "inp_file = './networks/Net0.inp'\n",
    "# inp_file = './networks/Net2LoopsDW.inp'\n",
    "wn = wntr.network.WaterNetworkModel(inp_file)\n",
    "\n",
    "# Graph the network\n",
    "wntr.graphics.plot_network(wn, title=wn.name, node_labels=True)\n"
   ]
  },
  {
   "cell_type": "markdown",
   "metadata": {},
   "source": [
    "## Run with the original Cholesky EPANET simulator"
   ]
  },
  {
   "cell_type": "code",
   "execution_count": 2,
   "metadata": {},
   "outputs": [
    {
     "data": {
      "image/png": "[encoded data removed]",
      "text/plain": [
       "<Figure size 640x480 with 2 Axes>"
      ]
     },
     "metadata": {},
     "output_type": "display_data"
    },
    {
     "data": {
      "text/plain": [
       "<Axes: title={'center': 'Pressure at 5 hours'}>"
      ]
     },
     "execution_count": 2,
     "metadata": {},
     "output_type": "execute_result"
    }
   ],
   "source": [
    "sim = wntr.sim.EpanetSimulator(wn)\n",
    "results = sim.run_sim()\n",
    "# Plot results on the network\n",
    "pressure_at_5hr = results.node['pressure'].loc[0, :]\n",
    "wntr.graphics.plot_network(wn, node_attribute=pressure_at_5hr, node_size=50,\n",
    "                        title='Pressure at 5 hours', node_labels=False)"
   ]
  },
  {
   "cell_type": "code",
   "execution_count": 3,
   "metadata": {},
   "outputs": [
    {
     "data": {
      "text/plain": [
       "array([26.477, 22.954], dtype=float32)"
      ]
     },
     "execution_count": 3,
     "metadata": {},
     "output_type": "execute_result"
    }
   ],
   "source": [
    "ref_pressure = results.node['pressure'].values[0][:2]\n",
    "ref_pressure"
   ]
  },
  {
   "cell_type": "code",
   "execution_count": 4,
   "metadata": {},
   "outputs": [
    {
     "data": {
      "text/plain": [
       "array([0.05, 0.05], dtype=float32)"
      ]
     },
     "execution_count": 4,
     "metadata": {},
     "output_type": "execute_result"
    }
   ],
   "source": [
    "ref_rate = results.link['flowrate'].values[0]\n",
    "ref_rate"
   ]
  },
  {
   "cell_type": "code",
   "execution_count": 5,
   "metadata": {},
   "outputs": [
    {
     "data": {
      "text/plain": [
       "array([ 0.05 ,  0.05 , 26.477, 22.954], dtype=float32)"
      ]
     },
     "execution_count": 5,
     "metadata": {},
     "output_type": "execute_result"
    }
   ],
   "source": [
    "ref_values = np.append(ref_rate, ref_pressure)\n",
    "ref_values"
   ]
  },
  {
   "cell_type": "markdown",
   "metadata": {},
   "source": [
    "## Run with the Nework QUBO solver"
   ]
  },
  {
   "cell_type": "code",
   "execution_count": 6,
   "metadata": {},
   "outputs": [],
   "source": [
    "wn = wntr.network.WaterNetworkModel(inp_file)"
   ]
  },
  {
   "cell_type": "code",
   "execution_count": 7,
   "metadata": {},
   "outputs": [
    {
     "name": "stdout",
     "output_type": "stream",
     "text": [
      "Head Encoding : 50.000000 => 100.000000 (res: 0.097847)\n",
      "Flow Encoding : 1.500000 => 2.000000 (res: 0.000978)\n"
     ]
    }
   ],
   "source": [
    "from wntr_quantum.sim.solvers.qubo_polynomial_solver import QuboPolynomialSolver\n",
    "from qubols.solution_vector import SolutionVector_V2 as SolutionVector\n",
    "from qubols.encodings import  RangedEfficientEncoding, PositiveQbitEncoding\n",
    "\n",
    "nqbit = 9\n",
    "step = (0.5/(2**nqbit-1))\n",
    "flow_encoding = PositiveQbitEncoding(nqbit=nqbit, step=step, offset=+1.5, var_base_name=\"x\")\n",
    "\n",
    "nqbit = 9\n",
    "step = (50/(2**nqbit-1))\n",
    "head_encoding = PositiveQbitEncoding(nqbit=nqbit, step=step, offset=+50.0, var_base_name=\"x\")\n",
    "\n",
    "net = QuboPolynomialSolver(wn, flow_encoding=flow_encoding, \n",
    "              head_encoding=head_encoding)\n",
    "net.verify_encoding()"
   ]
  },
  {
   "cell_type": "markdown",
   "metadata": {},
   "source": [
    "Solve the system classically"
   ]
  },
  {
   "cell_type": "code",
   "execution_count": 8,
   "metadata": {},
   "outputs": [
    {
     "name": "stderr",
     "output_type": "stream",
     "text": [
      "/home/nico/QuantumApplicationLab/QuantumNewtonRaphson/quantum_newton_raphson/utils.py:74: SparseEfficiencyWarning: spsolve requires A be CSC or CSR matrix format\n",
      "  warn(\"spsolve requires A be CSC or CSR matrix format\", SparseEfficiencyWarning)\n"
     ]
    },
    {
     "data": {
      "text/plain": [
       "array([1.   , 1.   , 0.999, 0.998])"
      ]
     },
     "execution_count": 8,
     "metadata": {},
     "output_type": "execute_result"
    }
   ],
   "source": [
    "from wntr_quantum.sim.hydraulics import create_hydraulic_model\n",
    "model, model_updater = create_hydraulic_model(wn)\n",
    "net.matrices = net.initialize_matrices(model)\n",
    "\n",
    "ref_sol = net.classical_solutions()\n",
    "ref_sol / ref_values"
   ]
  },
  {
   "cell_type": "code",
   "execution_count": 9,
   "metadata": {},
   "outputs": [],
   "source": [
    "from qubols.mixed_solution_vector import MixedSolutionVector_V2 as MixedSolutionVector\n",
    "from qubols.qubo_poly_mixed_variables import QUBO_POLY_MIXED\n",
    "from qubols.solution_vector import SolutionVector_V2 as SolutionVector\n",
    "import sparse\n",
    "\n",
    "from dwave.samplers import SimulatedAnnealingSampler\n",
    "from dwave.samplers import SteepestDescentSolver\n",
    "from dwave.samplers import TabuSampler\n",
    "from dimod import ExactSolver\n",
    "\n",
    "from wntr_quantum.sim.hydraulics import create_hydraulic_model\n",
    "\n",
    "sampler = TabuSampler()\n",
    "sampler = SteepestDescentSolver()\n",
    "# sampler = SimulatedAnnealingSampler()\n",
    "# sampler = ExactSolver() \n",
    "\n",
    "model, model_updater = create_hydraulic_model(wn)\n",
    "net.matrices = net.initialize_matrices(model)\n",
    "\n",
    "qubo = QUBO_POLY_MIXED(net.mixed_solution_vector,  options={\"sampler\" : sampler} )\n",
    "matrices = tuple(sparse.COO(m) for m in net.matrices)\n",
    "bqm = qubo.create_bqm(matrices, strength=1E6)\n",
    "sampleset = qubo.sample_bqm(bqm, num_reads=10000)\n",
    "sol = qubo.decode_solution(sampleset.lowest().record[0][0])\n",
    "sol = net.flatten_solution_vector(sol)\n"
   ]
  },
  {
   "cell_type": "code",
   "execution_count": 10,
   "metadata": {},
   "outputs": [],
   "source": [
    "sol = net.convert_solution_to_si(sol)"
   ]
  },
  {
   "cell_type": "code",
   "execution_count": 11,
   "metadata": {},
   "outputs": [
    {
     "data": {
      "image/png": "[encoded data removed]",
      "text/plain": [
       "<Figure size 640x480 with 1 Axes>"
      ]
     },
     "metadata": {},
     "output_type": "display_data"
    }
   ],
   "source": [
    "net.plot_solution_vs_reference(sol, ref_sol)"
   ]
  },
  {
   "cell_type": "code",
   "execution_count": 12,
   "metadata": {},
   "outputs": [
    {
     "name": "stdout",
     "output_type": "stream",
     "text": [
      "Head Encoding : 50.000000 => 100.000000 (res: 0.097847)\n",
      "Flow Encoding : 1.500000 => 2.000000 (res: 0.000978)\n",
      "\n",
      "\n",
      "Error (%): [-2.129  1.251  0.571  0.289]\n",
      "\n",
      "\n",
      "sol :  [ 1.803  1.744 86.301 74.951]\n",
      "ref :  [ 1.766  1.766 86.797 75.168]\n",
      "diff:  [-0.038  0.022  0.495  0.217]\n",
      "\n",
      "\n",
      "encoded_sol:  [ 1.803  1.744 86.301 74.951]\n",
      "encoded_ref:  [ 1.766  1.766 86.791 75.147]\n",
      "diff       :  [-0.037  0.023  0.489  0.196]\n",
      "\n",
      "\n",
      "E sol   :  -1662.601429066175\n",
      "R ref   :  -1662.6061020456154\n",
      "Delta E : 0.004672979440556446\n",
      "\n",
      "\n",
      "Residue sol   :  0.06911386909308725\n",
      "Residue ref   :  0.010186471203764017\n",
      "Delta Residue : 0.05892739788932324\n"
     ]
    }
   ],
   "source": [
    "net.benchmark_solution(sol, ref_sol, qubo, bqm)"
   ]
  },
  {
   "cell_type": "code",
   "execution_count": 13,
   "metadata": {},
   "outputs": [
    {
     "data": {
      "text/plain": [
       "array([ 0.049, 26.573,  0.052, 22.726])"
      ]
     },
     "execution_count": 13,
     "metadata": {},
     "output_type": "execute_result"
    }
   ],
   "source": [
    "net.solve(model, strength=1E6, num_reads=1000, options={\"sampler\" : sampler})\n",
    "model.get_x()"
   ]
  },
  {
   "cell_type": "code",
   "execution_count": 14,
   "metadata": {},
   "outputs": [
    {
     "name": "stdout",
     "output_type": "stream",
     "text": [
      "Head Encoding : 50.000000 => 100.000000 (res: 0.097847)\n",
      "Flow Encoding : 1.500000 => 2.000000 (res: 0.000978)\n",
      "\n",
      "\n",
      "Error (%): [ 1.861e+00 -5.305e+04  9.980e+01  8.092e-01]\n",
      "\n",
      "\n",
      "sol :  [1.733e+00 9.384e+02 1.708e-01 7.456e+01]\n",
      "ref :  [ 1.766  1.766 86.797 75.168]\n",
      "diff:  [ 3.286e-02 -9.367e+02  8.663e+01  6.083e-01]\n",
      "\n",
      "\n",
      "encoded_sol:  [ 1.733  2.    50.    74.56 ]\n",
      "encoded_ref:  [ 1.766  1.766 86.791 75.147]\n",
      "diff       :  [ 3.327e-02 -2.339e-01  3.679e+01  5.871e-01]\n",
      "\n",
      "\n",
      "E sol   :  1262.0976069991214\n",
      "R ref   :  -1662.6061020456154\n",
      "Delta E : 2924.7037090447366\n",
      "\n",
      "\n",
      "Residue sol   :  54.08053081077456\n",
      "Residue ref   :  0.010186471203764017\n",
      "Delta Residue : 54.070344339570795\n"
     ]
    }
   ],
   "source": [
    "net.benchmark_solution(model.get_x(), ref_sol, qubo, bqm)"
   ]
  },
  {
   "cell_type": "code",
   "execution_count": 15,
   "metadata": {},
   "outputs": [
    {
     "data": {
      "image/png": "[encoded data removed]",
      "text/plain": [
       "<Figure size 640x480 with 2 Axes>"
      ]
     },
     "metadata": {},
     "output_type": "display_data"
    },
    {
     "data": {
      "text/plain": [
       "<Axes: title={'center': 'Pressure at 5 hours'}>"
      ]
     },
     "execution_count": 15,
     "metadata": {},
     "output_type": "execute_result"
    }
   ],
   "source": [
    "sim = wntr_quantum.sim.FullQuboPolynomialSimulator(wn, \n",
    "                                                   flow_encoding=flow_encoding, \n",
    "                                                   head_encoding=head_encoding)\n",
    "results = sim.run_sim(solver_options={\"sampler\" : sampler})\n",
    "\n",
    "# Plot results on the network\n",
    "pressure_at_5hr = results.node['pressure'].loc[0, :]\n",
    "wntr.graphics.plot_network(wn, node_attribute=pressure_at_5hr, node_size=50,\n",
    "                        title='Pressure at 5 hours', node_labels=False)"
   ]
  },
  {
   "cell_type": "code",
   "execution_count": 16,
   "metadata": {},
   "outputs": [
    {
     "data": {
      "text/html": [
       "<div>\n",
       "<style scoped>\n",
       "    .dataframe tbody tr th:only-of-type {\n",
       "        vertical-align: middle;\n",
       "    }\n",
       "\n",
       "    .dataframe tbody tr th {\n",
       "        vertical-align: top;\n",
       "    }\n",
       "\n",
       "    .dataframe thead th {\n",
       "        text-align: right;\n",
       "    }\n",
       "</style>\n",
       "<table border=\"1\" class=\"dataframe\">\n",
       "  <thead>\n",
       "    <tr style=\"text-align: right;\">\n",
       "      <th></th>\n",
       "      <th>J1</th>\n",
       "      <th>D1</th>\n",
       "      <th>R1</th>\n",
       "    </tr>\n",
       "  </thead>\n",
       "  <tbody>\n",
       "    <tr>\n",
       "      <th>0</th>\n",
       "      <td>26.274834</td>\n",
       "      <td>22.338082</td>\n",
       "      <td>0.0</td>\n",
       "    </tr>\n",
       "    <tr>\n",
       "      <th>3600</th>\n",
       "      <td>26.781840</td>\n",
       "      <td>23.560861</td>\n",
       "      <td>0.0</td>\n",
       "    </tr>\n",
       "  </tbody>\n",
       "</table>\n",
       "</div>"
      ],
      "text/plain": [
       "             J1         D1   R1\n",
       "0     26.274834  22.338082  0.0\n",
       "3600  26.781840  23.560861  0.0"
      ]
     },
     "execution_count": 16,
     "metadata": {},
     "output_type": "execute_result"
    }
   ],
   "source": [
    "results.node['pressure']"
   ]
  },
  {
   "cell_type": "code",
   "execution_count": 17,
   "metadata": {},
   "outputs": [
    {
     "data": {
      "text/html": [
       "<div>\n",
       "<style scoped>\n",
       "    .dataframe tbody tr th:only-of-type {\n",
       "        vertical-align: middle;\n",
       "    }\n",
       "\n",
       "    .dataframe tbody tr th {\n",
       "        vertical-align: top;\n",
       "    }\n",
       "\n",
       "    .dataframe thead th {\n",
       "        text-align: right;\n",
       "    }\n",
       "</style>\n",
       "<table border=\"1\" class=\"dataframe\">\n",
       "  <thead>\n",
       "    <tr style=\"text-align: right;\">\n",
       "      <th></th>\n",
       "      <th>P1</th>\n",
       "      <th>P2</th>\n",
       "    </tr>\n",
       "  </thead>\n",
       "  <tbody>\n",
       "    <tr>\n",
       "      <th>0</th>\n",
       "      <td>0.051258</td>\n",
       "      <td>0.052893</td>\n",
       "    </tr>\n",
       "    <tr>\n",
       "      <th>3600</th>\n",
       "      <td>0.047435</td>\n",
       "      <td>0.047629</td>\n",
       "    </tr>\n",
       "  </tbody>\n",
       "</table>\n",
       "</div>"
      ],
      "text/plain": [
       "            P1        P2\n",
       "0     0.051258  0.052893\n",
       "3600  0.047435  0.047629"
      ]
     },
     "execution_count": 17,
     "metadata": {},
     "output_type": "execute_result"
    }
   ],
   "source": [
    "results.link['flowrate']"
   ]
  }
 ],
 "metadata": {
  "kernelspec": {
   "display_name": "vitens",
   "language": "python",
   "name": "python3"
  },
  "language_info": {
   "codemirror_mode": {
    "name": "ipython",
    "version": 3
   },
   "file_extension": ".py",
   "mimetype": "text/x-python",
   "name": "python",
   "nbconvert_exporter": "python",
   "pygments_lexer": "ipython3",
   "version": "3.9.0"
  }
 },
 "nbformat": 4,
 "nbformat_minor": 2
}
