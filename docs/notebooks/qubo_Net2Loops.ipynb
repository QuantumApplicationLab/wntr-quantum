{
 "cells": [
  {
   "cell_type": "markdown",
   "metadata": {},
   "source": [
    "### Set up water network model\n",
    "\n",
    "In this example, we test our quantum solvers into a slightly larger network as contained in `Net2Loops.inp`. Let's start by setting up the model:"
   ]
  },
  {
   "cell_type": "code",
   "execution_count": 5,
   "metadata": {},
   "outputs": [
    {
     "data": {
      "image/png": "[encoded data removed]",
      "text/plain": [
       "<Figure size 640x480 with 1 Axes>"
      ]
     },
     "metadata": {},
     "output_type": "display_data"
    },
    {
     "data": {
      "text/plain": [
       "<Axes: title={'center': 'networks/Net2Loops.inp'}>"
      ]
     },
     "execution_count": 5,
     "metadata": {},
     "output_type": "execute_result"
    }
   ],
   "source": [
    "import os\n",
    "import wntr\n",
    "import wntr_quantum\n",
    "\n",
    "# set up network model\n",
    "inp_file = 'networks/Net2Loops.inp'\n",
    "wn = wntr.network.WaterNetworkModel(inp_file)\n",
    "\n",
    "# plot network\n",
    "wntr.graphics.plot_network(wn, title=wn.name, node_labels=True)\n",
    "\n",
    "# print options\n",
    "# dict(wn.options.hydraulic)"
   ]
  },
  {
   "cell_type": "markdown",
   "metadata": {},
   "source": [
    "### Solve model using the classical WNTR simulator\n",
    "\n",
    "For comparison, we will start with by solving the network model with the classical WNTR simulator."
   ]
  },
  {
   "cell_type": "code",
   "execution_count": 6,
   "metadata": {},
   "outputs": [
    {
     "name": "stdout",
     "output_type": "stream",
     "text": [
      "Size of the Jacobian in WNTR simulator: 14\n",
      "Size of the b vector in WNTR simulator: 14\n"
     ]
    },
    {
     "data": {
      "text/plain": [
       "(          2          3          4          5          6          7    1\n",
       " 0  53.24755  30.665142  44.321299  28.810032  30.547479  27.057524  0.0,\n",
       "          1         2         3         4         5         6         7  \\\n",
       " 0  0.31109  0.051455  0.231865  0.031844  0.166691  0.075021  0.023685   \n",
       " \n",
       "           8  \n",
       " 0 -0.019471  )"
      ]
     },
     "execution_count": 6,
     "metadata": {},
     "output_type": "execute_result"
    }
   ],
   "source": [
    "# define the classical WNTR simulator\n",
    "sim = wntr.sim.WNTRSimulator(wn)\n",
    "\n",
    "# run WNTR simulator\n",
    "results_wntr = sim.run_sim()\n",
    "\n",
    "# set A and b matrices\n",
    "wntr_A = sim._model.evaluate_jacobian()\n",
    "wntr_b = sim._model.evaluate_residuals()\n",
    "\n",
    "# set the size of the Jacobian (A matrix)\n",
    "wntr_A_dim = wntr_A.shape[0]\n",
    "print(f\"Size of the Jacobian in WNTR simulator: {wntr_A_dim}\")\n",
    "print(f\"Size of the b vector in WNTR simulator: {wntr_b.shape[0]}\")\n",
    "\n",
    "results_wntr.node[\"pressure\"], results_wntr.link[\"flowrate\"]"
   ]
  },
  {
   "cell_type": "markdown",
   "metadata": {},
   "source": [
    "### Solve model using the classical Epanet simulator\n",
    "\n",
    "We now solve the same problem using the classical Epanet simulator. Note that, by default, `QuantumEpanetSimulator` uses a classical `CholeskySolver` to iteratively solve the linear problem."
   ]
  },
  {
   "cell_type": "code",
   "execution_count": 7,
   "metadata": {},
   "outputs": [
    {
     "name": "stdout",
     "output_type": "stream",
     "text": [
      "asadsa /Users/murilo/Documents/NLeSC_Projects/Vitens/EPANET\n",
      "Size of the Jacobian in EPANET simulator: 6\n",
      "Size of the b vector in EPANET simulator: 6\n"
     ]
    },
    {
     "data": {
      "text/plain": [
       "(name          2          3          4          5          6          7  \\\n",
       " 0     53.247742  30.665516  44.321564  28.810593  30.547766  27.057959   \n",
       " \n",
       " name             1  \n",
       " 0     4.394531e-07  ,\n",
       " name         1         2         3         4         5         6         7  \\\n",
       " 0     0.311088  0.051455  0.231865  0.031844  0.166692  0.075021  0.023685   \n",
       " \n",
       " name         8  \n",
       " 0    -0.019471  )"
      ]
     },
     "execution_count": 7,
     "metadata": {},
     "output_type": "execute_result"
    }
   ],
   "source": [
    "import sys\n",
    "\n",
    "# define the classical EPANET simulator\n",
    "sim = wntr_quantum.sim.QuantumEpanetSimulator(wn)\n",
    "\n",
    "# run the EPANET simulation\n",
    "results_epanet = sim.run_sim()\n",
    "\n",
    "# remember to set up EPANET Quantum environment variables!\n",
    "epanet_path = os.environ[\"EPANET_QUANTUM\"]\n",
    "epanet_tmp = os.environ[\"EPANET_TMP\"]\n",
    "\n",
    "print(f\"Your EPANET quantum path: {epanet_path}\")\n",
    "print(f\"Your EPANET temp dir\": {epanet_tmp})\n",
    "\n",
    "util_path = os.path.join(epanet_path, 'src/py/')\n",
    "sys.path.append(util_path)\n",
    "\n",
    "from quantum_linsolve import load_json_data\n",
    "epanet_A, epanet_b = load_json_data(os.path.join(epanet_tmp,'smat.json'))\n",
    "\n",
    "# set the size of the Jacobian (A matrix)\n",
    "epanet_A_dim = epanet_A.todense().shape[0]\n",
    "print(f\"Size of the Jacobian in EPANET simulator: {epanet_A_dim}\")\n",
    "print(f\"Size of the b vector in EPANET simulator: {epanet_b.shape[0]}\")\n",
    "\n",
    "# save number of nodes and pipes\n",
    "n_nodes = len(results_epanet.node[\"pressure\"].iloc[0]), \n",
    "n_pipes = len(results_epanet.link[\"flowrate\"].iloc[0])\n",
    "\n",
    "results_epanet.node[\"pressure\"], results_epanet.link[\"flowrate\"]"
   ]
  },
  {
   "cell_type": "markdown",
   "metadata": {},
   "source": [
    "### Define a helper function\n",
    "\n",
    "This function checks that the quantum results are within `TOL`% of those obtained classically. It also fills in lists containing the final values of pressures and flow rates obtained."
   ]
  },
  {
   "cell_type": "code",
   "execution_count": null,
   "metadata": {},
   "outputs": [],
   "source": [
    "TOL = 5  # => per cent\n",
    "DELTA = 1.0e-12\n",
    "\n",
    "classical_res = []\n",
    "quantum_res = []\n",
    "\n",
    "\n",
    "def compare_results(classical_result, quantum_result):\n",
    "    \"\"\"\n",
    "    Helper function that compares the classical and quantum simulation results.\n",
    "    \"\"\"\n",
    "    def calculate_differences(classical_value, quantum_value):\n",
    "        \"\"\"Helper function to evaluate percentage difference between classical and quantum results.\"\"\"\n",
    "        is_close_to_classical = abs(classical_value - quantum_value) / abs(classical_value + DELTA) <= TOL / 100.0\n",
    "        if is_close_to_classical:\n",
    "            print(f\"Quantum result {quantum_value} within {TOL}% of classical result {classical_value}\")\n",
    "            quantum_res.append(quantum_value)\n",
    "            classical_res.append(classical_value)\n",
    "        return is_close_to_classical\n",
    "    \n",
    "    for link in classical_result.link[\"flowrate\"].columns:\n",
    "        classical_value = classical_result.link[\"flowrate\"][link].iloc[0]\n",
    "        quantum_value = quantum_result.link[\"flowrate\"][link].iloc[0]\n",
    "        message = f\"Flowrate {link}: {quantum_value} not within {TOL}% of classical result {classical_value}\"\n",
    "        assert calculate_differences(classical_value, quantum_value), message\n",
    "\n",
    "    for node in classical_result.node[\"pressure\"].columns:\n",
    "        classical_value = classical_result.node[\"pressure\"][node].iloc[0]\n",
    "        quantum_value = quantum_result.node[\"pressure\"][node].iloc[0]\n",
    "        message= f\"Pressure {node}: {quantum_value} not within {TOL}% of classical result {classical_value}\"\n",
    "        assert calculate_differences(classical_value, quantum_value), message"
   ]
  },
  {
   "cell_type": "markdown",
   "metadata": {},
   "source": [
    "### Solve model using QUBO solver (with daptative encoding)\n",
    "\n",
    "Finally, we solve the problem once again but now using the QUBO quantum linear solver. The results are validated using the `compare_results` helper function defined above."
   ]
  },
  {
   "cell_type": "code",
   "execution_count": null,
   "metadata": {},
   "outputs": [],
   "source": [
    "\n",
    "from quantum_newton_raphson.qubo_solver import QUBO_SOLVER\n",
    "from qubols.encodings import RangedEfficientEncoding\n",
    "\n",
    "linear_solver = QUBO_SOLVER(\n",
    "        encoding=RangedEfficientEncoding,\n",
    "        num_qbits=15,\n",
    "        num_reads=500,\n",
    "        range=600,\n",
    "        offset=0,\n",
    "        iterations=5,\n",
    "        temperature=1e4,\n",
    "        use_aequbols=True,\n",
    ")\n",
    "\n",
    "sim = wntr_quantum.sim.QuantumEpanetSimulator(wn, linear_solver=linear_solver)\n",
    "results_qubos = sim.run_sim(linear_solver=linear_solver)\n",
    "\n",
    "# check that the results are within a certain tolerance from the classical epanet\n",
    "compare_results(results_epanet, results_qubos)"
   ]
  },
  {
   "cell_type": "markdown",
   "metadata": {},
   "source": [
    "### Plot pressures and flow rates\n",
    "\n",
    "Let's check graphically the equivalence of the results."
   ]
  },
  {
   "cell_type": "code",
   "execution_count": null,
   "metadata": {},
   "outputs": [],
   "source": [
    "import matplotlib.pyplot as plt\n",
    "plt.scatter(classical_res[:n_pipes], quantum_res[:n_pipes], label=\"Flow rates\", color=\"blue\", marker=\"o\")\n",
    "plt.scatter(classical_res[n_pipes:], quantum_res[n_pipes:], label=\"Pressures\", color=\"red\", marker=\"s\", facecolors='none')\n",
    "plt.axline((0, 0), slope=1, linestyle=\"--\", color=\"gray\", label=\"\")\n",
    "plt.xlabel(\"Classical results\")\n",
    "plt.ylabel(\"Quantum results\")\n",
    "plt.legend()\n",
    "plt.show()"
   ]
  },
  {
   "cell_type": "code",
   "execution_count": null,
   "metadata": {},
   "outputs": [],
   "source": []
  }
 ],
 "metadata": {
  "kernelspec": {
   "display_name": ".venv",
   "language": "python",
   "name": "python3"
  },
  "language_info": {
   "codemirror_mode": {
    "name": "ipython",
    "version": 3
   },
   "file_extension": ".py",
   "mimetype": "text/x-python",
   "name": "python",
   "nbconvert_exporter": "python",
   "pygments_lexer": "ipython3",
   "version": "3.11.7"
  }
 },
 "nbformat": 4,
 "nbformat_minor": 2
}
