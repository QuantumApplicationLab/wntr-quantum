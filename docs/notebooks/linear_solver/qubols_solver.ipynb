{
 "cells": [
  {
   "cell_type": "markdown",
   "metadata": {},
   "source": [
    "# QUBO Linear Solver \n",
    "\n",
    "This notebook illustrates how to use the QUBO linear solver to solve individual linear systems. We will use sparse random matrices that mimic the matrices obtained by EPANET for small water networks.\n",
    "\n",
    "Let's define the system:"
   ]
  },
  {
   "cell_type": "code",
   "execution_count": 1,
   "metadata": {},
   "outputs": [
    {
     "data": {
      "text/plain": [
       "matrix([[0.        , 0.13131305, 0.        , 0.        , 0.8399231 ,\n",
       "         0.29986541, 0.21507568, 0.38226539],\n",
       "        [0.13131305, 0.        , 0.        , 0.        , 0.19850098,\n",
       "         0.        , 0.        , 0.        ],\n",
       "        [0.        , 0.        , 0.06808472, 0.        , 0.04047348,\n",
       "         0.08200666, 0.47523295, 0.        ],\n",
       "        [0.        , 0.        , 0.        , 0.        , 0.        ,\n",
       "         0.23693   , 0.        , 0.        ],\n",
       "        [0.8399231 , 0.19850098, 0.04047348, 0.        , 0.        ,\n",
       "         0.        , 0.        , 0.        ],\n",
       "        [0.29986541, 0.        , 0.08200666, 0.23693   , 0.        ,\n",
       "         0.3827107 , 0.        , 0.        ],\n",
       "        [0.21507568, 0.        , 0.47523295, 0.        , 0.        ,\n",
       "         0.        , 0.32815036, 0.05927707],\n",
       "        [0.38226539, 0.        , 0.        , 0.        , 0.        ,\n",
       "         0.        , 0.05927707, 0.        ]])"
      ]
     },
     "execution_count": 1,
     "metadata": {},
     "output_type": "execute_result"
    }
   ],
   "source": [
    "import scipy.sparse as sp \n",
    "import numpy as np \n",
    "\n",
    "# set the seed\n",
    "np.random.seed(1234)\n",
    "\n",
    "# size of the linear system\n",
    "size = 8\n",
    "\n",
    "# create the matrix\n",
    "A = sp.random(size,size,density=0.25)\n",
    "A = (A+A.T)/2\n",
    "A = A.todense()\n",
    "A"
   ]
  },
  {
   "cell_type": "code",
   "execution_count": 2,
   "metadata": {},
   "outputs": [
    {
     "data": {
      "text/plain": [
       "array([0.89632852, 0.76430853, 0.37540494, 0.02581418, 0.90653093,\n",
       "       0.78641778, 0.61931523, 0.21158894])"
      ]
     },
     "execution_count": 2,
     "metadata": {},
     "output_type": "execute_result"
    }
   ],
   "source": [
    "# create the right hand side\n",
    "b = np.random.rand(size)\n",
    "b"
   ]
  },
  {
   "cell_type": "markdown",
   "metadata": {},
   "source": [
    "## Solve the problem classically\n",
    "We can solve this sytem with a classical linear solver to obtain a reference solution"
   ]
  },
  {
   "cell_type": "code",
   "execution_count": 3,
   "metadata": {},
   "outputs": [
    {
     "data": {
      "text/plain": [
       "array([ 0.51786703,  2.03046774,  1.692778  ,  1.90187358,  3.50782058,\n",
       "        0.10895279,  0.22987475, -6.27498497])"
      ]
     },
     "execution_count": 3,
     "metadata": {},
     "output_type": "execute_result"
    }
   ],
   "source": [
    "reference = np.linalg.solve(A,b)\n",
    "reference"
   ]
  },
  {
   "cell_type": "markdown",
   "metadata": {},
   "source": [
    "## Solve the problem with the QUBO linear solver\n",
    "We can now use the QUBO solver to solve the problem"
   ]
  },
  {
   "cell_type": "code",
   "execution_count": 4,
   "metadata": {},
   "outputs": [],
   "source": [
    "from wntr_quantum.linear_solver import QUBO_SOLVER\n",
    "\n",
    "qubols = QUBO_SOLVER(\n",
    "    num_qbits=11, # Number of qubits used to encode each float\n",
    "    num_reads=500, # number of reads of the simulated annealing\n",
    "    range=10, # max absolute value of the encoded floats \n",
    ")"
   ]
  },
  {
   "cell_type": "markdown",
   "metadata": {},
   "source": [
    "We can now use the solver to obtain the solution of the linear system "
   ]
  },
  {
   "cell_type": "code",
   "execution_count": 5,
   "metadata": {},
   "outputs": [
    {
     "name": "stderr",
     "output_type": "stream",
     "text": [
      "/home/nico/miniconda3/envs/vitens_wntr_1/lib/python3.9/site-packages/quantum_newton_raphson/utils.py:74: SparseEfficiencyWarning: spsolve requires A be CSC or CSR matrix format\n",
      "  warn(\"spsolve requires A be CSC or CSR matrix format\", SparseEfficiencyWarning)\n"
     ]
    },
    {
     "data": {
      "text/plain": [
       "QUBOResult(solution=array([ 0.567,  1.877,  1.564,  1.857,  3.118,  0.127,  0.254, -5.396]), residue=0.07552041138416518, ref=array([0., 0., 0., 0., 0., 0., 0., 0.]))"
      ]
     },
     "execution_count": 5,
     "metadata": {},
     "output_type": "execute_result"
    }
   ],
   "source": [
    "res = qubols(A, b)\n",
    "res"
   ]
  },
  {
   "cell_type": "markdown",
   "metadata": {},
   "source": [
    "We can then plot the reference solution against the qubo solution"
   ]
  },
  {
   "cell_type": "code",
   "execution_count": 6,
   "metadata": {},
   "outputs": [
    {
     "data": {
      "image/png": "[encoded data removed]",
      "text/plain": [
       "<Figure size 640x480 with 1 Axes>"
      ]
     },
     "metadata": {},
     "output_type": "display_data"
    }
   ],
   "source": [
    "import matplotlib.pyplot as plt\n",
    "plt.scatter(reference, res.solution)\n",
    "plt.axline((0, 0), slope=1, linestyle=\"--\", color=\"gray\")\n",
    "plt.show()"
   ]
  },
  {
   "cell_type": "code",
   "execution_count": null,
   "metadata": {},
   "outputs": [],
   "source": []
  }
 ],
 "metadata": {
  "kernelspec": {
   "display_name": "vitens_wntr_1",
   "language": "python",
   "name": "python3"
  },
  "language_info": {
   "codemirror_mode": {
    "name": "ipython",
    "version": 3
   },
   "file_extension": ".py",
   "mimetype": "text/x-python",
   "name": "python",
   "nbconvert_exporter": "python",
   "pygments_lexer": "ipython3",
   "version": "3.9.0"
  }
 },
 "nbformat": 4,
 "nbformat_minor": 2
}
