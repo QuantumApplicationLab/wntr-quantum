{
 "cells": [
  {
   "cell_type": "markdown",
   "metadata": {},
   "source": [
    "# QUBO Linear Solver \n",
    "\n",
    "This notebook illustrates how to use the QUBO linear solver to solve individual linear systems. We will use sparse random matrices that mimc the matrices obtained by EPANET for small water networks.\n",
    "\n",
    "Let's define the system:"
   ]
  },
  {
   "cell_type": "code",
   "execution_count": 44,
   "metadata": {},
   "outputs": [
    {
     "data": {
      "text/plain": [
       "matrix([[0.   , 0.131, 0.   , 0.   , 0.84 , 0.3  , 0.215, 0.382],\n",
       "        [0.131, 0.   , 0.   , 0.   , 0.199, 0.   , 0.   , 0.   ],\n",
       "        [0.   , 0.   , 0.068, 0.   , 0.04 , 0.082, 0.475, 0.   ],\n",
       "        [0.   , 0.   , 0.   , 0.   , 0.   , 0.237, 0.   , 0.   ],\n",
       "        [0.84 , 0.199, 0.04 , 0.   , 0.   , 0.   , 0.   , 0.   ],\n",
       "        [0.3  , 0.   , 0.082, 0.237, 0.   , 0.383, 0.   , 0.   ],\n",
       "        [0.215, 0.   , 0.475, 0.   , 0.   , 0.   , 0.328, 0.059],\n",
       "        [0.382, 0.   , 0.   , 0.   , 0.   , 0.   , 0.059, 0.   ]])"
      ]
     },
     "execution_count": 44,
     "metadata": {},
     "output_type": "execute_result"
    }
   ],
   "source": [
    "import scipy.sparse as sp \n",
    "import numpy as np \n",
    "\n",
    "# set the seed\n",
    "np.random.seed(1234)\n",
    "\n",
    "# size of the linear system\n",
    "size = 8\n",
    "\n",
    "# create the matrix\n",
    "A = sp.random(size,size,density=0.25)\n",
    "A = (A+A.T)/2\n",
    "A = A.todense()\n",
    "A"
   ]
  },
  {
   "cell_type": "code",
   "execution_count": 45,
   "metadata": {},
   "outputs": [
    {
     "data": {
      "text/plain": [
       "array([0.896, 0.764, 0.375, 0.026, 0.907, 0.786, 0.619, 0.212])"
      ]
     },
     "execution_count": 45,
     "metadata": {},
     "output_type": "execute_result"
    }
   ],
   "source": [
    "# create the right hand side\n",
    "b = np.random.rand(size)\n",
    "b"
   ]
  },
  {
   "cell_type": "markdown",
   "metadata": {},
   "source": [
    "## Solve the problem classically\n",
    "We can solve this sytem with a classical linear solver to obtain a reference solution"
   ]
  },
  {
   "cell_type": "code",
   "execution_count": 46,
   "metadata": {},
   "outputs": [
    {
     "data": {
      "text/plain": [
       "array([ 0.518,  2.03 ,  1.693,  1.902,  3.508,  0.109,  0.23 , -6.275])"
      ]
     },
     "execution_count": 46,
     "metadata": {},
     "output_type": "execute_result"
    }
   ],
   "source": [
    "reference = np.linalg.solve(A,b)\n",
    "reference"
   ]
  },
  {
   "cell_type": "markdown",
   "metadata": {},
   "source": [
    "## Solve the problem with the QUBO linear solver\n",
    "We can now use the QUBO solver to solve the problem"
   ]
  },
  {
   "cell_type": "code",
   "execution_count": 47,
   "metadata": {},
   "outputs": [],
   "source": [
    "from wntr_quantum.linear_solver import QUBO_SOLVER\n",
    "\n",
    "qubols = QUBO_SOLVER(\n",
    "    num_qbits=11, # Number of qubits used to encode each float\n",
    "    num_reads=500, # number of reads of the simulated annealing\n",
    "    range=10, # max absolute value of the encoded floats \n",
    ")"
   ]
  },
  {
   "cell_type": "code",
   "execution_count": 51,
   "metadata": {},
   "outputs": [],
   "source": [
    "res = qubols(A, b)"
   ]
  },
  {
   "cell_type": "code",
   "execution_count": 52,
   "metadata": {},
   "outputs": [
    {
     "data": {
      "text/plain": [
       "QUBOResult(solution=array([ 0.45 ,  2.297,  1.877,  2.111,  3.754, -0.01 ,  0.176, -6.794]), residue=0.06341486167248815, ref=array([0., 0., 0., 0., 0., 0., 0., 0.]))"
      ]
     },
     "execution_count": 52,
     "metadata": {},
     "output_type": "execute_result"
    }
   ],
   "source": [
    "res"
   ]
  },
  {
   "cell_type": "code",
   "execution_count": 53,
   "metadata": {},
   "outputs": [
    {
     "data": {
      "image/png": "[encoded data removed]",
      "text/plain": [
       "<Figure size 640x480 with 1 Axes>"
      ]
     },
     "metadata": {},
     "output_type": "display_data"
    }
   ],
   "source": [
    "import matplotlib.pyplot as plt\n",
    "plt.scatter(reference, res.solution)\n",
    "plt.axline((0, 0), slope=1, linestyle=\"--\", color=\"gray\")\n",
    "plt.show()"
   ]
  },
  {
   "cell_type": "code",
   "execution_count": null,
   "metadata": {},
   "outputs": [],
   "source": []
  }
 ],
 "metadata": {
  "kernelspec": {
   "display_name": "vitens_wntr_1",
   "language": "python",
   "name": "python3"
  },
  "language_info": {
   "codemirror_mode": {
    "name": "ipython",
    "version": 3
   },
   "file_extension": ".py",
   "mimetype": "text/x-python",
   "name": "python",
   "nbconvert_exporter": "python",
   "pygments_lexer": "ipython3",
   "version": "3.9.0"
  }
 },
 "nbformat": 4,
 "nbformat_minor": 2
}
