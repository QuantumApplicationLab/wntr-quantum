{
 "cells": [
  {
   "cell_type": "markdown",
   "metadata": {},
   "source": [
    "# HHL Linear Solver \n",
    "\n",
    "This notebook illustrates how to use the HHL linear solver to solve individual linear systems. We will use sparse random matrices that mimc the matrices obtained by EPANET for small water networks.\n",
    "\n",
    "Let's define the system:"
   ]
  },
  {
   "cell_type": "code",
   "execution_count": 1,
   "metadata": {},
   "outputs": [
    {
     "data": {
      "text/plain": [
       "matrix([[0.98565359, 0.        , 0.36187767, 0.        , 0.        ,\n",
       "         0.        , 0.47823527, 0.        ],\n",
       "        [0.        , 0.        , 0.3762659 , 0.10824806, 0.        ,\n",
       "         0.        , 0.        , 0.        ],\n",
       "        [0.36187767, 0.3762659 , 0.        , 0.        , 0.        ,\n",
       "         0.49122216, 0.        , 0.17939193],\n",
       "        [0.        , 0.10824806, 0.        , 0.        , 0.1658684 ,\n",
       "         0.        , 0.09509276, 0.344708  ],\n",
       "        [0.        , 0.        , 0.        , 0.1658684 , 0.        ,\n",
       "         0.4238214 , 0.        , 0.39627041],\n",
       "        [0.        , 0.        , 0.49122216, 0.        , 0.4238214 ,\n",
       "         0.91158043, 0.30766587, 0.08558759],\n",
       "        [0.47823527, 0.        , 0.        , 0.09509276, 0.        ,\n",
       "         0.30766587, 0.        , 0.        ],\n",
       "        [0.        , 0.        , 0.17939193, 0.344708  , 0.39627041,\n",
       "         0.08558759, 0.        , 0.        ]])"
      ]
     },
     "execution_count": 1,
     "metadata": {},
     "output_type": "execute_result"
    }
   ],
   "source": [
    "import scipy.sparse as sp \n",
    "import numpy as np \n",
    "\n",
    "# set the seed\n",
    "np.random.seed(134)\n",
    "\n",
    "# size of the linear system\n",
    "size = 8\n",
    "\n",
    "# create the matrix\n",
    "A = sp.random(size,size,density=0.25)\n",
    "A = (A+A.T)/2\n",
    "A = A.todense()\n",
    "A"
   ]
  },
  {
   "cell_type": "code",
   "execution_count": 2,
   "metadata": {},
   "outputs": [
    {
     "data": {
      "text/plain": [
       "array([0.37177614, 0.18457065, 0.48317348, 0.46566253, 0.34640372,\n",
       "       0.12657883, 0.12525871, 0.12461173])"
      ]
     },
     "execution_count": 2,
     "metadata": {},
     "output_type": "execute_result"
    }
   ],
   "source": [
    "# create the right hand side\n",
    "b = np.random.rand(size)\n",
    "b"
   ]
  },
  {
   "cell_type": "markdown",
   "metadata": {},
   "source": [
    "## Solve the problem classically\n",
    "We can solve this sytem with a classical linear solver to obtain a reference solution"
   ]
  },
  {
   "cell_type": "code",
   "execution_count": 3,
   "metadata": {},
   "outputs": [
    {
     "data": {
      "text/plain": [
       "array([ 0.43756972,  0.57926785,  0.54508793, -0.18963252,  0.27896845,\n",
       "       -0.21442054, -0.53691392,  1.18286343])"
      ]
     },
     "execution_count": 3,
     "metadata": {},
     "output_type": "execute_result"
    }
   ],
   "source": [
    "reference = np.linalg.solve(A,b)\n",
    "reference"
   ]
  },
  {
   "cell_type": "markdown",
   "metadata": {},
   "source": [
    "## Solve the problem with the HHL linear solver\n",
    "We can now use the VQLS solver to solve the problem"
   ]
  },
  {
   "cell_type": "code",
   "execution_count": 4,
   "metadata": {},
   "outputs": [
    {
     "name": "stderr",
     "output_type": "stream",
     "text": [
      "/tmp/ipykernel_18717/3699590503.py:5: DeprecationWarning: The class ``qiskit.primitives.estimator.Estimator`` is deprecated as of qiskit 1.2. It will be removed no earlier than 3 months after the release date. All implementations of the `BaseEstimatorV1` interface have been deprecated in favor of their V2 counterparts. The V2 alternative for the `Estimator` class is `StatevectorEstimator`.\n",
      "  estimator = Estimator()\n",
      "/tmp/ipykernel_18717/3699590503.py:6: DeprecationWarning: The class ``qiskit.primitives.sampler.Sampler`` is deprecated as of qiskit 1.2. It will be removed no earlier than 3 months after the release date. All implementations of the `BaseSamplerV1` interface have been deprecated in favor of their V2 counterparts. The V2 alternative for the `Sampler` class is `StatevectorSampler`.\n",
      "  sampler = Sampler()\n"
     ]
    }
   ],
   "source": [
    "from wntr_quantum.linear_solver import HHL_SOLVER\n",
    "from qiskit.primitives import Estimator, Sampler \n",
    "\n",
    "# define estimator\n",
    "estimator = Estimator()\n",
    "sampler = Sampler()\n",
    "\n",
    "# define the solver\n",
    "hhl = HHL_SOLVER(\n",
    "    estimator=estimator,\n",
    "    sampler=sampler)"
   ]
  },
  {
   "cell_type": "code",
   "execution_count": 6,
   "metadata": {},
   "outputs": [
    {
     "name": "stderr",
     "output_type": "stream",
     "text": [
      "/home/nico/miniconda3/envs/vitens_wntr_1/lib/python3.9/site-packages/quantum_newton_raphson/utils.py:74: SparseEfficiencyWarning: spsolve requires A be CSC or CSR matrix format\n",
      "  warn(\"spsolve requires A be CSC or CSR matrix format\", SparseEfficiencyWarning)\n"
     ]
    }
   ],
   "source": [
    "res = hhl(A, b)"
   ]
  },
  {
   "cell_type": "code",
   "execution_count": 7,
   "metadata": {},
   "outputs": [
    {
     "data": {
      "text/plain": [
       "HHLResult(solution=array([ 0.436,  0.593,  0.549, -0.181,  0.275, -0.218, -0.544,  1.182]), residue=0.007372666680640602, ref=array([0., 0., 0., 0., 0., 0., 0., 0.]))"
      ]
     },
     "execution_count": 7,
     "metadata": {},
     "output_type": "execute_result"
    }
   ],
   "source": [
    "res"
   ]
  },
  {
   "cell_type": "code",
   "execution_count": 8,
   "metadata": {},
   "outputs": [
    {
     "data": {
      "image/png": "[encoded data removed]",
      "text/plain": [
       "<Figure size 640x480 with 1 Axes>"
      ]
     },
     "metadata": {},
     "output_type": "display_data"
    }
   ],
   "source": [
    "import matplotlib.pyplot as plt\n",
    "plt.scatter(reference, res.solution)\n",
    "plt.axline((0, 0), slope=1, linestyle=\"--\", color=\"gray\")\n",
    "plt.show()"
   ]
  }
 ],
 "metadata": {
  "kernelspec": {
   "display_name": "vitens_wntr_1",
   "language": "python",
   "name": "python3"
  },
  "language_info": {
   "codemirror_mode": {
    "name": "ipython",
    "version": 3
   },
   "file_extension": ".py",
   "mimetype": "text/x-python",
   "name": "python",
   "nbconvert_exporter": "python",
   "pygments_lexer": "ipython3",
   "version": "3.9.0"
  }
 },
 "nbformat": 4,
 "nbformat_minor": 2
}
