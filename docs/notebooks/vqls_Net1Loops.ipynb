{
 "cells": [
  {
   "cell_type": "markdown",
   "metadata": {},
   "source": [
    "### Set up water network model\n",
    "\n",
    "In this example, we test our quantum solvers into a slightly larger network as contained in `Net1Loops.inp`. Let's start by setting up the model:|"
   ]
  },
  {
   "cell_type": "code",
   "execution_count": 1,
   "metadata": {},
   "outputs": [
    {
     "data": {
      "image/png": "[encoded data removed]",
      "text/plain": [
       "<Figure size 640x480 with 1 Axes>"
      ]
     },
     "metadata": {},
     "output_type": "display_data"
    },
    {
     "data": {
      "text/plain": [
       "<Axes: title={'center': 'networks/Net1Loops.inp'}>"
      ]
     },
     "execution_count": 1,
     "metadata": {},
     "output_type": "execute_result"
    }
   ],
   "source": [
    "import os\n",
    "import wntr\n",
    "import wntr_quantum\n",
    "\n",
    "os.environ[\"EPANET_TMP\"] = \"/home/nico/.epanet_quantum\"\n",
    "os.environ[\"EPANET_QUANTUM\"] = \"/home/nico/QuantumApplicationLab/vitens/EPANET\"\n",
    "# set up network model\n",
    "inp_file = 'networks/Net1Loops.inp'\n",
    "wn = wntr.network.WaterNetworkModel(inp_file)\n",
    "\n",
    "# plot network\n",
    "wntr.graphics.plot_network(wn, title=wn.name, node_labels=True)\n",
    "\n",
    "# print options\n",
    "# dict(wn.options.hydraulic)"
   ]
  },
  {
   "cell_type": "markdown",
   "metadata": {},
   "source": [
    "### Solve model using the classical Epanet simulator\n",
    "\n",
    "We now solve the same problem using the classical Epanet simulator. Note that, by default, `QuantumEpanetSimulator` uses a classical `CholeskySolver` to iteratively solve the linear problem."
   ]
  },
  {
   "cell_type": "code",
   "execution_count": 2,
   "metadata": {},
   "outputs": [
    {
     "name": "stdout",
     "output_type": "stream",
     "text": [
      "/home/nico/QuantumApplicationLab/vitens/wntr-quantum/wntr_quantum/epanet/Linux/libepanet22_amd64.so\n",
      "Your EPANET quantum path: /home/nico/QuantumApplicationLab/vitens/EPANET\n",
      "Your EPANET temp dir: /home/nico/.epanet_quantum\n",
      "\n",
      "Size of the Jacobian in EPANET simulator: 4\n",
      "Size of the b vector in EPANET simulator: 4\n"
     ]
    },
    {
     "data": {
      "text/plain": [
       "(name          2          3          4          5             1\n",
       " 0     57.939995  31.496479  52.434612  21.174667  4.394531e-07,\n",
       " name         1         2         3         4         5\n",
       " 0     0.163867  0.059455  0.076645  0.043315  0.031685)"
      ]
     },
     "execution_count": 2,
     "metadata": {},
     "output_type": "execute_result"
    }
   ],
   "source": [
    "import sys\n",
    "\n",
    "# define the classical EPANET simulator\n",
    "sim = wntr_quantum.sim.QuantumEpanetSimulator(wn)\n",
    "\n",
    "# run the EPANET simulation\n",
    "results_epanet = sim.run_sim()\n",
    "\n",
    "# remember to set up EPANET Quantum environment variables!\n",
    "epanet_path = os.environ[\"EPANET_QUANTUM\"]\n",
    "epanet_tmp = os.environ[\"EPANET_TMP\"]\n",
    "\n",
    "# check paths\n",
    "print(f\"Your EPANET quantum path: {epanet_path}\")\n",
    "print(f\"Your EPANET temp dir: {epanet_tmp}\\n\")\n",
    "\n",
    "util_path = os.path.join(epanet_path, 'src/py/')\n",
    "sys.path.append(util_path)\n",
    "\n",
    "from quantum_linsolve import load_json_data\n",
    "epanet_A, epanet_b = load_json_data(os.path.join(epanet_tmp,'smat.json'))\n",
    "\n",
    "# set the size of the Jacobian (A matrix)\n",
    "epanet_A_dim = epanet_A.todense().shape[0]\n",
    "print(f\"Size of the Jacobian in EPANET simulator: {epanet_A_dim}\")\n",
    "print(f\"Size of the b vector in EPANET simulator: {epanet_b.shape[0]}\")\n",
    "\n",
    "# save number of nodes and pipes\n",
    "n_nodes = len(results_epanet.node[\"pressure\"].iloc[0]), \n",
    "n_pipes = len(results_epanet.link[\"flowrate\"].iloc[0])\n",
    "\n",
    "results_epanet.node[\"pressure\"], results_epanet.link[\"flowrate\"]"
   ]
  },
  {
   "cell_type": "markdown",
   "metadata": {},
   "source": [
    "### Define a helper function\n",
    "\n",
    "Before proceeding to the proper quantum solution of the water network model, let's define a helper function. This function checks that the quantum results are within `TOL`% of those obtained classically. It also fills in lists containing the final values of pressures and flow rates obtained."
   ]
  },
  {
   "cell_type": "code",
   "execution_count": 3,
   "metadata": {},
   "outputs": [],
   "source": [
    "TOL = 5  # => per cent\n",
    "DELTA = 1.0e-12\n",
    "\n",
    "classical_res = []\n",
    "quantum_res = []\n",
    "\n",
    "\n",
    "def compare_results(classical_result, quantum_result):\n",
    "    \"\"\"\n",
    "    Helper function that compares the classical and quantum simulation results.\n",
    "    \"\"\"\n",
    "    def calculate_differences(classical_value, quantum_value):\n",
    "        \"\"\"Helper function to evaluate percentage difference between classical and quantum results.\"\"\"\n",
    "        is_close_to_classical = abs(classical_value - quantum_value) / abs(classical_value + DELTA) <= TOL / 100.0\n",
    "        if is_close_to_classical:\n",
    "            print(f\"Quantum result {quantum_value} within {TOL}% of classical result {classical_value}\")\n",
    "            quantum_res.append(quantum_value)\n",
    "            classical_res.append(classical_value)\n",
    "        return is_close_to_classical\n",
    "    \n",
    "    for link in classical_result.link[\"flowrate\"].columns:\n",
    "        classical_value = classical_result.link[\"flowrate\"][link].iloc[0]\n",
    "        quantum_value = quantum_result.link[\"flowrate\"][link].iloc[0]\n",
    "        message = f\"Flowrate {link}: {quantum_value} not within {TOL}% of classical result {classical_value}\"\n",
    "        assert calculate_differences(classical_value, quantum_value), message\n",
    "\n",
    "    for node in classical_result.node[\"pressure\"].columns:\n",
    "        classical_value = classical_result.node[\"pressure\"][node].iloc[0]\n",
    "        quantum_value = quantum_result.node[\"pressure\"][node].iloc[0]\n",
    "        message= f\"Pressure {node}: {quantum_value} not within {TOL}% of classical result {classical_value}\"\n",
    "        assert calculate_differences(classical_value, quantum_value), message"
   ]
  },
  {
   "cell_type": "markdown",
   "metadata": {},
   "source": [
    "### Solve water network with `QuantumEpanetSimulator` and VQLS \n",
    "\n",
    "We now solve the model using VQLS. In this example, we are **preconditioning** the initial linear system using *diagonal scaling* and also using a **mix of two classical optimizers**."
   ]
  },
  {
   "cell_type": "code",
   "execution_count": 4,
   "metadata": {},
   "outputs": [
    {
     "name": "stdout",
     "output_type": "stream",
     "text": [
      "/home/nico/QuantumApplicationLab/vitens/wntr-quantum/wntr_quantum/epanet/Linux/libepanet22_amd64.so\n",
      "VQLS Iteration 126 Cost 3.675e-08\n",
      "   Normal return from subroutine COBYLA\n",
      "\n",
      "   NFVALS =  126   F = 3.674985E-08    MAXCV = 0.000000E+00\n",
      "   X = 1.191354E-01  -1.466038E+00   7.740023E-01  -3.243196E-01   7.724003E-01\n",
      "       6.778685E-02   1.367636E+00  -1.893541E+00\n",
      "Optimization terminated successfully.\n",
      "         Current function value: 0.000000\n",
      "         Iterations: 3\n",
      "         Function evaluations: 63\n",
      "         Gradient evaluations: 7\n",
      "VQLS Iteration 133 Cost 1.504e-07\n",
      "   Normal return from subroutine COBYLA\n",
      "\n",
      "   NFVALS =  133   F = 1.503901E-07    MAXCV = 0.000000E+00\n",
      "   X = 4.679995E+00   2.867229E+00   9.799046E-01  -2.856677E+00   1.070778E+00\n",
      "      -7.620220E-01  -2.741235E+00  -1.044200E+00\n",
      "Optimization terminated successfully.\n",
      "         Current function value: 0.000000\n",
      "         Iterations: 3\n",
      "         Function evaluations: 54\n",
      "         Gradient evaluations: 6\n",
      "VQLS Iteration 149 Cost 1.424e-07\n",
      "   Normal return from subroutine COBYLA\n",
      "\n",
      "   NFVALS =  149   F = 1.423865E-07    MAXCV = 0.000000E+00\n",
      "   X =-4.624011E-01  -1.708293E+00   8.099204E-01  -3.450876E+00   1.509861E+00\n",
      "      -2.344735E+00   3.965682E+00  -1.108613E+00\n",
      "Optimization terminated successfully.\n",
      "         Current function value: 0.000000\n",
      "         Iterations: 4\n",
      "         Function evaluations: 72\n",
      "         Gradient evaluations: 8\n",
      "Quantum result 0.1638660728931427 within 5% of classical result 0.16386687755584717\n",
      "Quantum result 0.059451714158058167 within 5% of classical result 0.05945523828268051\n",
      "Quantum result 0.07663743942975998 within 5% of classical result 0.07664506137371063\n",
      "Quantum result 0.043313007801771164 within 5% of classical result 0.043314848095178604\n",
      "Quantum result 0.0316842645406723 within 5% of classical result 0.03168521821498871\n",
      "Quantum result 57.94001388549805 within 5% of classical result 57.93999481201172\n",
      "Quantum result 31.498302459716797 within 5% of classical result 31.496479034423828\n",
      "Quantum result 52.434722900390625 within 5% of classical result 52.43461227416992\n",
      "Quantum result 21.17762565612793 within 5% of classical result 21.174667358398438\n",
      "Quantum result 4.39453117451194e-07 within 5% of classical result 4.39453117451194e-07\n"
     ]
    },
    {
     "data": {
      "text/plain": [
       "(name          2          3          4          5             1\n",
       " 0     57.940014  31.498302  52.434723  21.177626  4.394531e-07,\n",
       " name         1         2         3         4         5\n",
       " 0     0.163866  0.059452  0.076637  0.043313  0.031684)"
      ]
     },
     "execution_count": 4,
     "metadata": {},
     "output_type": "execute_result"
    }
   ],
   "source": [
    "import numpy as np\n",
    "\n",
    "from qiskit.circuit.library import RealAmplitudes\n",
    "from qiskit.primitives import Estimator\n",
    "from qiskit_algorithms import optimizers as opt\n",
    "\n",
    "from quantum_newton_raphson.vqls_solver import VQLS_SOLVER\n",
    "\n",
    "n_qubits = int(np.ceil(np.log2(epanet_A_dim)))\n",
    "\n",
    "qc = RealAmplitudes(n_qubits, reps=3, entanglement=\"full\")\n",
    "estimator = Estimator()\n",
    "\n",
    "linear_solver = VQLS_SOLVER(\n",
    "    estimator=estimator,\n",
    "    ansatz=qc,\n",
    "    optimizer=[opt.COBYLA(maxiter=1000, disp=True), opt.CG(maxiter=500, disp=True)],\n",
    "    matrix_decomposition=\"symmetric\",\n",
    "    verbose=True,\n",
    "    preconditioner=\"diagonal_scaling\",\n",
    ")\n",
    "\n",
    "sim = wntr_quantum.sim.QuantumEpanetSimulator(wn, linear_solver=linear_solver)\n",
    "results_vqls = sim.run_sim(linear_solver=linear_solver)\n",
    "\n",
    "compare_results(results_epanet, results_vqls)\n",
    "\n",
    "results_vqls.node[\"pressure\"], results_vqls.link[\"flowrate\"]"
   ]
  },
  {
   "cell_type": "markdown",
   "metadata": {},
   "source": [
    "### Plot pressures and flow rates\n",
    "\n",
    "Let's check graphically the equivalence of the results."
   ]
  },
  {
   "cell_type": "code",
   "execution_count": 5,
   "metadata": {},
   "outputs": [
    {
     "data": {
      "image/png": "[encoded data removed]",
      "text/plain": [
       "<Figure size 640x480 with 1 Axes>"
      ]
     },
     "metadata": {},
     "output_type": "display_data"
    }
   ],
   "source": [
    "import matplotlib.pyplot as plt\n",
    "plt.scatter(classical_res[:n_pipes], quantum_res[:n_pipes], label=\"Flow rates\", color=\"blue\", marker=\"o\")\n",
    "plt.scatter(classical_res[n_pipes:], quantum_res[n_pipes:], label=\"Pressures\", color=\"red\", marker=\"s\", facecolors='none')\n",
    "plt.axline((0, 0), slope=1, linestyle=\"--\", color=\"gray\", label=\"\")\n",
    "plt.xlabel(\"Classical results\")\n",
    "plt.ylabel(\"Quantum results\")\n",
    "plt.legend()\n",
    "plt.show()"
   ]
  },
  {
   "cell_type": "code",
   "execution_count": null,
   "metadata": {},
   "outputs": [],
   "source": []
  }
 ],
 "metadata": {
  "kernelspec": {
   "display_name": ".venv",
   "language": "python",
   "name": "python3"
  },
  "language_info": {
   "codemirror_mode": {
    "name": "ipython",
    "version": 3
   },
   "file_extension": ".py",
   "mimetype": "text/x-python",
   "name": "python",
   "nbconvert_exporter": "python",
   "pygments_lexer": "ipython3",
   "version": "3.9.0"
  }
 },
 "nbformat": 4,
 "nbformat_minor": 2
}
