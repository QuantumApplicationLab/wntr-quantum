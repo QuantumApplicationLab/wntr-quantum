{
 "cells": [
  {
   "cell_type": "markdown",
   "metadata": {},
   "source": [
    "### Set up water network model\n",
    "\n",
    "In this example, we test our quantum solvers into a slightly larger network as contained in `Net2Loops.inp`. Let's start by setting up the model:"
   ]
  },
  {
   "cell_type": "code",
   "execution_count": 1,
   "metadata": {},
   "outputs": [
    {
     "data": {
      "image/png": "[encoded data removed]",
      "text/plain": [
       "<Figure size 640x480 with 1 Axes>"
      ]
     },
     "metadata": {},
     "output_type": "display_data"
    },
    {
     "data": {
      "text/plain": [
       "<Axes: title={'center': 'networks/Net3Loops.inp'}>"
      ]
     },
     "execution_count": 1,
     "metadata": {},
     "output_type": "execute_result"
    }
   ],
   "source": [
    "import os\n",
    "import wntr\n",
    "import wntr_quantum\n",
    "\n",
    "os.environ[\"EPANET_TMP\"] = \"/Users/murilo/scratch_dir/.epanet_quantum\"\n",
    "os.environ[\"EPANET_QUANTUM\"] = \"/Users/murilo/Documents/NLeSC_Projects/Vitens/EPANET\"\n",
    "\n",
    "# set up network model\n",
    "inp_file = 'networks/Net3Loops.inp'\n",
    "wn = wntr.network.WaterNetworkModel(inp_file)\n",
    "\n",
    "# plot network\n",
    "wntr.graphics.plot_network(wn, title=wn.name, node_labels=True)\n",
    "\n",
    "# print options\n",
    "# dict(wn.options.hydraulic)"
   ]
  },
  {
   "cell_type": "markdown",
   "metadata": {},
   "source": [
    "### Solve model using the classical Epanet simulator\n",
    "\n",
    "We now solve the same problem using the classical Epanet simulator. Note that, by default, `QuantumEpanetSimulator` uses a classical `CholeskySolver` to iteratively solve the linear problem."
   ]
  },
  {
   "cell_type": "code",
   "execution_count": 2,
   "metadata": {},
   "outputs": [
    {
     "name": "stdout",
     "output_type": "stream",
     "text": [
      "Your EPANET quantum path: /Users/murilo/Documents/NLeSC_Projects/Vitens/EPANET\n",
      "Your EPANET temp dir: /Users/murilo/scratch_dir/.epanet_quantum\n",
      "\n",
      "Size of the Jacobian in EPANET simulator: 8\n",
      "Size of the b vector in EPANET simulator: 8\n"
     ]
    },
    {
     "data": {
      "text/plain": [
       "(name          2          3          4         5         6         7  \\\n",
       " 0     46.928482  19.748489  33.252789  7.703676  13.19863 -2.124948   \n",
       " \n",
       " name          8          9             1  \n",
       " 0    -72.548164 -73.077797  4.394531e-07  ,\n",
       " name        1         2         3         4         5         6         7  \\\n",
       " 0     0.44441  0.060879  0.355762  0.039486  0.282945  0.120193  0.033109   \n",
       " \n",
       " name         8         9        10        11  \n",
       " 0    -0.002405  0.071082  0.062238  0.004422  )"
      ]
     },
     "execution_count": 2,
     "metadata": {},
     "output_type": "execute_result"
    }
   ],
   "source": [
    "import sys\n",
    "\n",
    "# define the classical EPANET simulator\n",
    "sim = wntr_quantum.sim.QuantumEpanetSimulator(wn)\n",
    "\n",
    "# run the EPANET simulation\n",
    "results_epanet = sim.run_sim()\n",
    "\n",
    "# remember to set up EPANET Quantum environment variables!\n",
    "epanet_path = os.environ[\"EPANET_QUANTUM\"]\n",
    "epanet_tmp = os.environ[\"EPANET_TMP\"]\n",
    "\n",
    "# check paths\n",
    "print(f\"Your EPANET quantum path: {epanet_path}\")\n",
    "print(f\"Your EPANET temp dir: {epanet_tmp}\\n\")\n",
    "\n",
    "util_path = os.path.join(epanet_path, 'src/py/')\n",
    "sys.path.append(util_path)\n",
    "\n",
    "from quantum_linsolve import load_json_data\n",
    "epanet_A, epanet_b = load_json_data(os.path.join(epanet_tmp,'smat.json'))\n",
    "\n",
    "# set the size of the Jacobian (A matrix)\n",
    "epanet_A_dim = epanet_A.todense().shape[0]\n",
    "print(f\"Size of the Jacobian in EPANET simulator: {epanet_A_dim}\")\n",
    "print(f\"Size of the b vector in EPANET simulator: {epanet_b.shape[0]}\")\n",
    "\n",
    "# save number of nodes and pipes\n",
    "n_nodes = len(results_epanet.node[\"pressure\"].iloc[0]), \n",
    "n_pipes = len(results_epanet.link[\"flowrate\"].iloc[0])\n",
    "\n",
    "results_epanet.node[\"pressure\"], results_epanet.link[\"flowrate\"]"
   ]
  },
  {
   "cell_type": "markdown",
   "metadata": {},
   "source": [
    "### Define a helper function\n",
    "\n",
    "Before proceeding to the proper quantum solution of the water network model, let's define a helper function. This function checks that the quantum results are within `TOL`% of those obtained classically. It also fills in lists containing the final values of pressures and flow rates obtained."
   ]
  },
  {
   "cell_type": "code",
   "execution_count": 6,
   "metadata": {},
   "outputs": [],
   "source": [
    "TOL = 5  # => per cent\n",
    "DELTA = 1.0e-12\n",
    "\n",
    "classical_res = []\n",
    "quantum_res = []\n",
    "\n",
    "\n",
    "def compare_results(classical_result, quantum_result):\n",
    "    \"\"\"\n",
    "    Helper function that compares the classical and quantum simulation results.\n",
    "    \"\"\"\n",
    "    def calculate_differences(classical_value, quantum_value):\n",
    "        \"\"\"Helper function to evaluate percentage difference between classical and quantum results.\"\"\"\n",
    "        is_close_to_classical = abs(classical_value - quantum_value) / abs(classical_value + DELTA) <= TOL / 100.0\n",
    "        if is_close_to_classical:\n",
    "            print(f\"Quantum result {quantum_value} within {TOL}% of classical result {classical_value}\")\n",
    "            quantum_res.append(quantum_value)\n",
    "            classical_res.append(classical_value)\n",
    "        return is_close_to_classical\n",
    "    \n",
    "    for link in classical_result.link[\"flowrate\"].columns:\n",
    "        classical_value = classical_result.link[\"flowrate\"][link].iloc[0]\n",
    "        quantum_value = quantum_result.link[\"flowrate\"][link].iloc[0]\n",
    "        message = f\"Flowrate {link}: {quantum_value} not within {TOL}% of classical result {classical_value}\"\n",
    "        assert calculate_differences(classical_value, quantum_value), message\n",
    "\n",
    "    for node in classical_result.node[\"pressure\"].columns:\n",
    "        classical_value = classical_result.node[\"pressure\"][node].iloc[0]\n",
    "        quantum_value = quantum_result.node[\"pressure\"][node].iloc[0]\n",
    "        message= f\"Pressure {node}: {quantum_value} not within {TOL}% of classical result {classical_value}\"\n",
    "        assert calculate_differences(classical_value, quantum_value), message"
   ]
  },
  {
   "cell_type": "markdown",
   "metadata": {},
   "source": [
    "### Solve water network with `QuantumEpanetSimulator` and VQLS \n",
    "\n",
    "We now solve the model using VQLS. In this example, we are **preconditioning** the initial linear system using *diagonal scaling* and also using a **mix of two classical optimizers**."
   ]
  },
  {
   "cell_type": "code",
   "execution_count": 5,
   "metadata": {},
   "outputs": [
    {
     "name": "stdout",
     "output_type": "stream",
     "text": [
      "VQLS Iteration 1000 Cost 7.166e-03\n",
      "   Return from subroutine COBYLA because the MAXFUN limit has been reached.\n",
      "\n",
      "   NFVALS = 1000   F = 7.165705E-03    MAXCV = 0.000000E+00\n",
      "   X =-2.764520E-01   1.353739E-01   1.106040E+00   1.714540E+00  -5.528472E-01\n",
      "       3.371128E-01   2.567670E+00   2.404768E+00  -9.545733E-02   5.489980E-02\n",
      "       2.415995E+00   7.365931E-01\n",
      "Optimization terminated successfully.\n",
      "         Current function value: 0.000000\n",
      "         Iterations: 76\n",
      "         Function evaluations: 1716\n",
      "         Gradient evaluations: 132\n",
      "HEREEE <class 'scipy.sparse._csc.csc_matrix'>\n",
      "VQLS Iteration 1000 Cost 6.139e-03\n",
      "   Return from subroutine COBYLA because the MAXFUN limit has been reached.\n",
      "\n",
      "   NFVALS = 1000   F = 6.139048E-03    MAXCV = 0.000000E+00\n",
      "   X =-3.096739E-01   2.164609E+00  -1.433605E+00   8.334888E-01   3.576160E+00\n",
      "       3.036274E+00  -1.066797E+00  -4.289338E+00   4.315791E-01   1.444831E+00\n",
      "      -7.695644E-01   9.257240E-01\n",
      "Optimization terminated successfully.\n",
      "         Current function value: 0.000000\n",
      "         Iterations: 358\n",
      "         Function evaluations: 8125\n",
      "         Gradient evaluations: 625\n",
      "HEREEE <class 'scipy.sparse._csc.csc_matrix'>\n",
      "VQLS Iteration 1000 Cost 1.325e-02\n",
      "   Return from subroutine COBYLA because the MAXFUN limit has been reached.\n",
      "\n",
      "   NFVALS = 1000   F = 1.322669E-02    MAXCV = 0.000000E+00\n",
      "   X = 2.967328E+00  -1.005145E+00   9.861634E-01  -1.088372E+00  -1.396474E+00\n",
      "      -1.492355E+00  -2.297893E+00  -8.466122E-01   1.220615E+00  -2.452594E-01\n",
      "       1.909234E+00  -2.038073E+00\n",
      "Optimization terminated successfully.\n",
      "         Current function value: 0.000000\n",
      "         Iterations: 300\n",
      "         Function evaluations: 7345\n",
      "         Gradient evaluations: 565\n",
      "HEREEE <class 'scipy.sparse._csc.csc_matrix'>\n",
      "Quantum result 0.4442620873451233 within 5% of classical result 0.44440996646881104\n",
      "Quantum result 0.060863055288791656 within 5% of classical result 0.06087860092520714\n",
      "Quantum result 0.3556312918663025 within 5% of classical result 0.3557622730731964\n",
      "Quantum result 0.03947203606367111 within 5% of classical result 0.03948649391531944\n",
      "Quantum result 0.2828381061553955 within 5% of classical result 0.2829447090625763\n",
      "Quantum result 0.12014177441596985 within 5% of classical result 0.12019320577383041\n",
      "Quantum result 0.0330936498939991 within 5% of classical result 0.033108633011579514\n",
      "Quantum result -0.0024233986623585224 within 5% of classical result -0.002404944971203804\n",
      "Quantum result 0.07103370875120163 within 5% of classical result 0.07108170539140701\n",
      "Quantum result 0.06219179555773735 within 5% of classical result 0.062238242477178574\n",
      "Quantum result 0.004419461823999882 within 5% of classical result 0.0044217417016625404\n",
      "Quantum result 46.93653869628906 within 5% of classical result 46.92848205566406\n",
      "Quantum result 19.764673233032227 within 5% of classical result 19.748489379882812\n",
      "Quantum result 33.26675796508789 within 5% of classical result 33.25278854370117\n",
      "Quantum result 7.738371849060059 within 5% of classical result 7.703676223754883\n",
      "Quantum result 13.21961498260498 within 5% of classical result 13.198630332946777\n",
      "Quantum result -2.0878713130950928 within 5% of classical result -2.124948263168335\n",
      "Quantum result -72.4135971069336 within 5% of classical result -72.54816436767578\n",
      "Quantum result -72.94271850585938 within 5% of classical result -73.07779693603516\n",
      "Quantum result 4.39453117451194e-07 within 5% of classical result 4.39453117451194e-07\n"
     ]
    },
    {
     "data": {
      "text/plain": [
       "(name          2          3          4         5          6         7  \\\n",
       " 0     46.936539  19.764673  33.266758  7.738372  13.219615 -2.087871   \n",
       " \n",
       " name          8          9             1  \n",
       " 0    -72.413597 -72.942719  4.394531e-07  ,\n",
       " name         1         2         3         4         5         6         7  \\\n",
       " 0     0.444262  0.060863  0.355631  0.039472  0.282838  0.120142  0.033094   \n",
       " \n",
       " name         8         9        10        11  \n",
       " 0    -0.002423  0.071034  0.062192  0.004419  )"
      ]
     },
     "execution_count": 5,
     "metadata": {},
     "output_type": "execute_result"
    }
   ],
   "source": [
    "import numpy as np\n",
    "\n",
    "from qiskit.circuit.library import RealAmplitudes\n",
    "from qiskit.primitives import Estimator\n",
    "from qiskit_algorithms import optimizers as opt\n",
    "\n",
    "from quantum_newton_raphson.vqls_solver import VQLS_SOLVER\n",
    "\n",
    "n_qubits = int(np.ceil(np.log2(epanet_A_dim)))\n",
    "\n",
    "qc = RealAmplitudes(n_qubits, reps=3, entanglement=\"full\")\n",
    "estimator = Estimator()\n",
    "\n",
    "linear_solver = VQLS_SOLVER(\n",
    "    estimator=estimator,\n",
    "    ansatz=qc,\n",
    "    optimizer=[opt.COBYLA(maxiter=1000, disp=True), opt.CG(maxiter=500, disp=True)],\n",
    "    matrix_decomposition=\"symmetric\",\n",
    "    verbose=True,\n",
    "    preconditioner=\"diagonal_scaling\",\n",
    ")\n",
    "\n",
    "sim = wntr_quantum.sim.QuantumEpanetSimulator(wn, linear_solver=linear_solver)\n",
    "results_vqls = sim.run_sim(linear_solver=linear_solver)\n",
    "\n",
    "compare_results(results_epanet, results_vqls)\n",
    "\n",
    "results_vqls.node[\"pressure\"], results_vqls.link[\"flowrate\"]"
   ]
  },
  {
   "cell_type": "markdown",
   "metadata": {},
   "source": [
    "### Plot pressures and flow rates\n",
    "\n",
    "Let's check graphically the equivalence of the results."
   ]
  },
  {
   "cell_type": "code",
   "execution_count": null,
   "metadata": {},
   "outputs": [
    {
     "data": {
      "image/png": "[encoded data removed]",
      "text/plain": [
       "<Figure size 640x480 with 1 Axes>"
      ]
     },
     "metadata": {},
     "output_type": "display_data"
    }
   ],
   "source": [
    "import matplotlib.pyplot as plt\n",
    "plt.scatter(classical_res[:n_pipes], quantum_res[:n_pipes], label=\"Flow rates\", color=\"blue\", marker=\"o\")\n",
    "plt.scatter(classical_res[n_pipes:], quantum_res[n_pipes:], label=\"Pressures\", color=\"red\", marker=\"s\", facecolors='none')\n",
    "plt.axline((0, 0), slope=1, linestyle=\"--\", color=\"gray\", label=\"\")\n",
    "plt.xlabel(\"Classical results\")\n",
    "plt.ylabel(\"Quantum results\")\n",
    "plt.legend()\n",
    "plt.show()"
   ]
  },
  {
   "cell_type": "code",
   "execution_count": null,
   "metadata": {},
   "outputs": [],
   "source": []
  }
 ],
 "metadata": {
  "kernelspec": {
   "display_name": ".venv",
   "language": "python",
   "name": "python3"
  },
  "language_info": {
   "codemirror_mode": {
    "name": "ipython",
    "version": 3
   },
   "file_extension": ".py",
   "mimetype": "text/x-python",
   "name": "python",
   "nbconvert_exporter": "python",
   "pygments_lexer": "ipython3",
   "version": "3.11.7"
  }
 },
 "nbformat": 4,
 "nbformat_minor": 2
}
