{
 "cells": [
  {
   "cell_type": "markdown",
   "metadata": {},
   "source": [
    "### Set up water network model\n",
    "\n",
    "In this example, we test our quantum solvers into a slightly larger network as contained in `Net2Loops.inp`. Let's start by setting up the model:"
   ]
  },
  {
   "cell_type": "code",
   "execution_count": 1,
   "metadata": {},
   "outputs": [
    {
     "data": {
      "image/png": "[encoded data removed]",
      "text/plain": [
       "<Figure size 640x480 with 1 Axes>"
      ]
     },
     "metadata": {},
     "output_type": "display_data"
    },
    {
     "data": {
      "text/plain": [
       "{'duration': 0.0,\n",
       " 'hydraulic_timestep': 3600,\n",
       " 'quality_timestep': 300,\n",
       " 'rule_timestep': 360,\n",
       " 'pattern_timestep': 7200,\n",
       " 'pattern_start': 0.0,\n",
       " 'report_timestep': 3600,\n",
       " 'report_start': 0.0,\n",
       " 'start_clocktime': 0.0,\n",
       " 'statistic': 'NONE',\n",
       " 'pattern_interpolation': False}"
      ]
     },
     "execution_count": 1,
     "metadata": {},
     "output_type": "execute_result"
    }
   ],
   "source": [
    "import os\n",
    "from pathlib import Path\n",
    "import wntr\n",
    "import wntr_quantum\n",
    "\n",
    "# Define the directory path\n",
    "epanet_tmp_dir = Path(\"/Users/murilo/scratch_dir/.epanet_quantum\")\n",
    "\n",
    "# check if the directory exists\n",
    "if not epanet_tmp_dir.exists():\n",
    "    epanet_tmp_dir.mkdir(parents=True, exist_ok=True)\n",
    "\n",
    "# set the environment variables\n",
    "os.environ[\"EPANET_TMP\"] = str(epanet_tmp_dir)\n",
    "os.environ[\"EPANET_QUANTUM\"] = \"/Users/murilo/Documents/NLeSC_Projects/Vitens/EPANET\"\n",
    "\n",
    "# set up network model\n",
    "inp_file = 'networks/Net2Loops.inp'\n",
    "wn = wntr.network.WaterNetworkModel(inp_file)\n",
    "\n",
    "# plot network\n",
    "wntr.graphics.plot_network(wn, title=wn.name, node_labels=True)\n",
    "\n",
    "# explicitly set Darcy-Weisbach head loss formulas and pressure dependent demand mode\n",
    "wn.options.hydraulic.headloss = 'D-W'\n",
    "wn.options.hydraulic.demand_model = 'PDD'\n",
    "\n",
    "# required pressure: the pressure above which the consumer should receive the desired demand\n",
    "wn.options.hydraulic.required_pressure = 30.00 # psi (21.097 m)\n",
    "# minimum pressure: this is the pressure below which the consumer cannot receive any water\n",
    "wn.options.hydraulic.minimum_pressure  = 5.00  # psi (3.516 m)\n",
    "\n",
    "# set time duration of the simulation (in seconds)\n",
    "wn.options.time.duration = 0\n",
    "\n",
    "# print options\n",
    "dict(wn.options.hydraulic)\n",
    "dict(wn.options.time)"
   ]
  },
  {
   "cell_type": "markdown",
   "metadata": {},
   "source": [
    "### Solve model using the classical Epanet simulator\n",
    "\n",
    "We now solve the same problem using the classical Epanet simulator. Note that, by default, `QuantumEpanetSimulator` uses a classical `CholeskySolver` to iteratively solve the linear problem."
   ]
  },
  {
   "cell_type": "code",
   "execution_count": 2,
   "metadata": {},
   "outputs": [
    {
     "name": "stdout",
     "output_type": "stream",
     "text": [
      "Your EPANET quantum path: /Users/murilo/Documents/NLeSC_Projects/Vitens/EPANET\n",
      "Your EPANET temp dir: /Users/murilo/scratch_dir/.epanet_quantum\n",
      "\n",
      "Size of the Jacobian in EPANET simulator: 6\n",
      "Size of the b vector in EPANET simulator: 6\n"
     ]
    },
    {
     "data": {
      "text/plain": [
       "(name          2         3          4         5          6         7  \\\n",
       " 0     42.140068  8.600555  28.180336  6.061879  11.256944  6.757542   \n",
       " \n",
       " name             1  \n",
       " 0     4.394531e-07  ,\n",
       " name        1         2         3         4         5         6         7  \\\n",
       " 0     0.14645  0.015092  0.103587  0.006699  0.064794  0.018934  0.004553   \n",
       " \n",
       " name         8  \n",
       " 0    -0.004205  )"
      ]
     },
     "execution_count": 2,
     "metadata": {},
     "output_type": "execute_result"
    }
   ],
   "source": [
    "import sys\n",
    "\n",
    "# define the classical EPANET simulator\n",
    "sim = wntr_quantum.sim.QuantumEpanetSimulator(wn)\n",
    "\n",
    "# run the EPANET simulation\n",
    "results_epanet = sim.run_sim()\n",
    "\n",
    "# remember to set up EPANET Quantum environment variables!\n",
    "epanet_path = os.environ[\"EPANET_QUANTUM\"]\n",
    "epanet_tmp = os.environ[\"EPANET_TMP\"]\n",
    "\n",
    "# check paths\n",
    "print(f\"Your EPANET quantum path: {epanet_path}\")\n",
    "print(f\"Your EPANET temp dir: {epanet_tmp}\\n\")\n",
    "\n",
    "# load EPANET A and b matrices from temp\n",
    "epanet_A, epanet_b = wntr_quantum.sim.epanet.load_epanet_matrix()\n",
    "\n",
    "# set the size of the Jacobian (A matrix)\n",
    "epanet_A_dim = epanet_A.todense().shape[0]\n",
    "print(f\"Size of the Jacobian in EPANET simulator: {epanet_A_dim}\")\n",
    "print(f\"Size of the b vector in EPANET simulator: {epanet_b.shape[0]}\")\n",
    "\n",
    "# save number of nodes and pipes\n",
    "n_nodes = len(results_epanet.node[\"pressure\"].iloc[0]), \n",
    "n_pipes = len(results_epanet.link[\"flowrate\"].iloc[0])\n",
    "\n",
    "results_epanet.node[\"pressure\"], results_epanet.link[\"flowrate\"]"
   ]
  },
  {
   "cell_type": "markdown",
   "metadata": {},
   "source": [
    "### Define a helper function\n",
    "\n",
    "Before proceeding to the proper quantum solution of the water network model, let's define a helper function. This function checks that the quantum results are within `TOL`% of those obtained classically. It also fills in lists containing the final values of pressures and flow rates obtained."
   ]
  },
  {
   "cell_type": "code",
   "execution_count": 3,
   "metadata": {},
   "outputs": [],
   "source": [
    "TOL = 5  # => per cent\n",
    "DELTA = 1.0e-12\n",
    "\n",
    "classical_res = []\n",
    "quantum_res = []\n",
    "\n",
    "\n",
    "def compare_results(classical_result, quantum_result):\n",
    "    \"\"\"\n",
    "    Helper function that compares the classical and quantum simulation results.\n",
    "    \"\"\"\n",
    "    def calculate_differences(classical_value, quantum_value):\n",
    "        \"\"\"Helper function to evaluate percentage difference between classical and quantum results.\"\"\"\n",
    "        is_close_to_classical = abs(classical_value - quantum_value) / abs(classical_value + DELTA) <= TOL / 100.0\n",
    "        if is_close_to_classical:\n",
    "            print(f\"Quantum result {quantum_value} within {TOL}% of classical result {classical_value}\")\n",
    "            quantum_res.append(quantum_value)\n",
    "            classical_res.append(classical_value)\n",
    "        return is_close_to_classical\n",
    "    \n",
    "    for link in classical_result.link[\"flowrate\"].columns:\n",
    "        classical_value = classical_result.link[\"flowrate\"][link].iloc[0]\n",
    "        quantum_value = quantum_result.link[\"flowrate\"][link].iloc[0]\n",
    "        message = f\"Flowrate {link}: {quantum_value} not within {TOL}% of classical result {classical_value}\"\n",
    "        assert calculate_differences(classical_value, quantum_value), message\n",
    "\n",
    "    for node in classical_result.node[\"pressure\"].columns:\n",
    "        classical_value = classical_result.node[\"pressure\"][node].iloc[0]\n",
    "        quantum_value = quantum_result.node[\"pressure\"][node].iloc[0]\n",
    "        message= f\"Pressure {node}: {quantum_value} not within {TOL}% of classical result {classical_value}\"\n",
    "        assert calculate_differences(classical_value, quantum_value), message"
   ]
  },
  {
   "cell_type": "markdown",
   "metadata": {},
   "source": [
    "### Solve water network with `QuantumEpanetSimulator` and VQLS \n",
    "\n",
    "We now solve the model using VQLS. In this example, we are **preconditioning** the initial linear system using *diagonal scaling* and also using a **mix of two classical optimizers**."
   ]
  },
  {
   "cell_type": "code",
   "execution_count": 4,
   "metadata": {},
   "outputs": [
    {
     "name": "stderr",
     "output_type": "stream",
     "text": [
      "/Users/murilo/Library/CloudStorage/OneDrive-NetherlandseScienceCenter/Documents/NLeSC_Projects/Vitens/wntr-quantum/.venv/lib/python3.11/site-packages/numpy/linalg/linalg.py:2180: RuntimeWarning: divide by zero encountered in det\n",
      "  r = _umath_linalg.det(a, signature=signature)\n",
      "/Users/murilo/Library/CloudStorage/OneDrive-NetherlandseScienceCenter/Documents/NLeSC_Projects/Vitens/wntr-quantum/.venv/lib/python3.11/site-packages/numpy/linalg/linalg.py:2180: RuntimeWarning: invalid value encountered in det\n",
      "  r = _umath_linalg.det(a, signature=signature)\n"
     ]
    },
    {
     "name": "stdout",
     "output_type": "stream",
     "text": [
      "VQLS Iteration 805 Cost 1.154e-06\n",
      "   Normal return from subroutine COBYLA\n",
      "\n",
      "   NFVALS =  805   F = 1.154141E-06    MAXCV = 0.000000E+00\n",
      "   X =-2.682622E+00   1.454230E+00   3.132382E+00   1.629009E-02   1.195964E-01\n",
      "       1.017855E-01   3.692687E+00  -1.386119E+00  -2.103534E-01   8.844173E-02\n",
      "       2.858262E-01   2.127582E+00\n",
      "Optimization terminated successfully.\n",
      "         Current function value: 0.000000\n",
      "         Iterations: 18\n",
      "         Function evaluations: 390\n",
      "         Gradient evaluations: 30\n",
      "VQLS Iteration 512 Cost 1.024e-07\n",
      "   Normal return from subroutine COBYLA\n",
      "\n",
      "   NFVALS =  512   F = 1.024475E-07    MAXCV = 0.000000E+00\n",
      "   X = 3.405629E+00  -1.700984E-01   2.393167E+00   3.114244E+00   3.541048E-01\n",
      "      -3.056769E+00  -1.902705E+00   2.231159E-01   3.367774E+00  -2.998507E+00\n",
      "       6.042482E-01  -4.831022E-01\n",
      "Optimization terminated successfully.\n",
      "         Current function value: 0.000000\n",
      "         Iterations: 11\n",
      "         Function evaluations: 247\n",
      "         Gradient evaluations: 19\n",
      "VQLS Iteration 1000 Cost 6.959e-04\n",
      "   Return from subroutine COBYLA because the MAXFUN limit has been reached.\n",
      "\n",
      "   NFVALS = 1000   F = 6.924971E-04    MAXCV = 0.000000E+00\n",
      "   X =-2.575724E+00  -9.556176E-02   1.389662E+00  -2.068126E-02   8.992494E-01\n",
      "       2.974732E+00   1.809492E+00   2.746601E+00   3.027658E+00  -1.081774E+00\n",
      "       2.175202E+00   3.840337E-01\n",
      "Optimization terminated successfully.\n",
      "         Current function value: 0.000000\n",
      "         Iterations: 28\n",
      "         Function evaluations: 650\n",
      "         Gradient evaluations: 50\n",
      "VQLS Iteration 838 Cost 2.333e-07\n",
      "   Normal return from subroutine COBYLA\n",
      "\n",
      "   NFVALS =  838   F = 2.333392E-07    MAXCV = 0.000000E+00\n",
      "   X = 1.473939E+00  -1.104180E+00  -2.532988E+00   1.102964E+00  -1.916294E+00\n",
      "       1.239928E+00  -2.982504E+00   6.562489E-01  -1.614165E+00   1.075788E+00\n",
      "      -9.696605E-01   2.646231E+00\n",
      "Optimization terminated successfully.\n",
      "         Current function value: 0.000000\n",
      "         Iterations: 7\n",
      "         Function evaluations: 182\n",
      "         Gradient evaluations: 14\n",
      "VQLS Iteration 414 Cost 5.572e-08\n",
      "   Normal return from subroutine COBYLA\n",
      "\n",
      "   NFVALS =  414   F = 5.572106E-08    MAXCV = 0.000000E+00\n",
      "   X = 4.050855E+00   1.539618E+00  -1.308815E+00  -1.752529E+00   1.666911E-01\n",
      "       2.434378E+00  -9.624990E-01  -1.880780E+00   2.144741E+00  -3.395764E-01\n",
      "      -3.288762E+00   1.941429E+00\n",
      "Optimization terminated successfully.\n",
      "         Current function value: 0.000000\n",
      "         Iterations: 7\n",
      "         Function evaluations: 169\n",
      "         Gradient evaluations: 13\n",
      "VQLS Iteration 436 Cost 1.422e-07\n",
      "   Normal return from subroutine COBYLA\n",
      "\n",
      "   NFVALS =  436   F = 1.422423E-07    MAXCV = 0.000000E+00\n",
      "   X = 2.661590E+00  -1.565064E+00   2.745299E+00  -2.447380E+00  -2.326865E+00\n",
      "       1.332962E+00  -1.776358E-01  -2.194073E+00   7.532579E-01   1.305098E+00\n",
      "      -1.344190E-01  -9.546378E-01\n",
      "Optimization terminated successfully.\n",
      "         Current function value: 0.000000\n",
      "         Iterations: 11\n",
      "         Function evaluations: 273\n",
      "         Gradient evaluations: 21\n",
      "Quantum result 0.14644768834114075 within 5% of classical result 0.14645035564899445\n",
      "Quantum result 0.015092364512383938 within 5% of classical result 0.015092053450644016\n",
      "Quantum result 0.10358912497758865 within 5% of classical result 0.10358740389347076\n",
      "Quantum result 0.006698909681290388 within 5% of classical result 0.0066988482140004635\n",
      "Quantum result 0.06479514390230179 within 5% of classical result 0.06479410827159882\n",
      "Quantum result 0.018933970481157303 within 5% of classical result 0.018933765590190887\n",
      "Quantum result 0.004553265403956175 within 5% of classical result 0.0045532952062785625\n",
      "Quantum result -0.004204956814646721 within 5% of classical result -0.004204942379146814\n",
      "Quantum result 42.140716552734375 within 5% of classical result 42.14006805419922\n",
      "Quantum result 8.600238800048828 within 5% of classical result 8.600555419921875\n",
      "Quantum result 28.180688858032227 within 5% of classical result 28.180335998535156\n",
      "Quantum result 6.061729907989502 within 5% of classical result 6.061878681182861\n",
      "Quantum result 11.257074356079102 within 5% of classical result 11.256943702697754\n",
      "Quantum result 6.757467746734619 within 5% of classical result 6.757542133331299\n",
      "Quantum result 4.39453117451194e-07 within 5% of classical result 4.39453117451194e-07\n"
     ]
    },
    {
     "data": {
      "text/plain": [
       "(name          2         3          4        5          6         7  \\\n",
       " 0     42.140717  8.600239  28.180689  6.06173  11.257074  6.757468   \n",
       " \n",
       " name             1  \n",
       " 0     4.394531e-07  ,\n",
       " name         1         2         3         4         5         6         7  \\\n",
       " 0     0.146448  0.015092  0.103589  0.006699  0.064795  0.018934  0.004553   \n",
       " \n",
       " name         8  \n",
       " 0    -0.004205  )"
      ]
     },
     "execution_count": 4,
     "metadata": {},
     "output_type": "execute_result"
    }
   ],
   "source": [
    "import numpy as np\n",
    "\n",
    "from qiskit.circuit.library import RealAmplitudes\n",
    "from qiskit.primitives import Estimator\n",
    "from qiskit_algorithms import optimizers as opt\n",
    "\n",
    "from quantum_newton_raphson.vqls_solver import VQLS_SOLVER\n",
    "\n",
    "n_qubits = int(np.ceil(np.log2(epanet_A_dim)))\n",
    "\n",
    "qc = RealAmplitudes(n_qubits, reps=3, entanglement=\"full\")\n",
    "estimator = Estimator()\n",
    "\n",
    "linear_solver = VQLS_SOLVER(\n",
    "    estimator=estimator,\n",
    "    ansatz=qc,\n",
    "    optimizer=[opt.COBYLA(maxiter=1000, disp=True), opt.CG(maxiter=500, disp=True)],\n",
    "    matrix_decomposition=\"symmetric\",\n",
    "    verbose=True,\n",
    "    preconditioner=\"diagonal_scaling\",\n",
    "    reorder=True,\n",
    ")\n",
    "\n",
    "sim = wntr_quantum.sim.QuantumEpanetSimulator(wn, linear_solver=linear_solver)\n",
    "results_vqls = sim.run_sim(linear_solver=linear_solver)\n",
    "\n",
    "compare_results(results_epanet, results_vqls)\n",
    "\n",
    "results_vqls.node[\"pressure\"], results_vqls.link[\"flowrate\"]"
   ]
  },
  {
   "cell_type": "markdown",
   "metadata": {},
   "source": [
    "### Plot pressures and flow rates\n",
    "\n",
    "Let's check graphically the equivalence of the results."
   ]
  },
  {
   "cell_type": "code",
   "execution_count": 5,
   "metadata": {},
   "outputs": [
    {
     "data": {
      "image/png": "[encoded data removed]",
      "text/plain": [
       "<Figure size 640x480 with 1 Axes>"
      ]
     },
     "metadata": {},
     "output_type": "display_data"
    }
   ],
   "source": [
    "import matplotlib.pyplot as plt\n",
    "plt.scatter(classical_res[:n_pipes], quantum_res[:n_pipes], label=\"Flow rates\", color=\"blue\", marker=\"o\")\n",
    "plt.scatter(classical_res[n_pipes:], quantum_res[n_pipes:], label=\"Pressures\", color=\"red\", marker=\"s\", facecolors='none')\n",
    "plt.axline((0, 0), slope=1, linestyle=\"--\", color=\"gray\", label=\"\")\n",
    "plt.xlabel(\"Classical results\")\n",
    "plt.ylabel(\"Quantum results\")\n",
    "plt.legend()\n",
    "plt.show()"
   ]
  }
 ],
 "metadata": {
  "kernelspec": {
   "display_name": ".venv",
   "language": "python",
   "name": "python3"
  },
  "language_info": {
   "codemirror_mode": {
    "name": "ipython",
    "version": 3
   },
   "file_extension": ".py",
   "mimetype": "text/x-python",
   "name": "python",
   "nbconvert_exporter": "python",
   "pygments_lexer": "ipython3",
   "version": "3.11.7"
  }
 },
 "nbformat": 4,
 "nbformat_minor": 2
}
