{
 "cells": [
  {
   "cell_type": "markdown",
   "metadata": {},
   "source": [
    "### Set up water network model\n",
    "\n",
    "In this example, we test our quantum solvers into a slightly larger network as contained in `Net2Loops.inp`. Let's start by setting up the model:"
   ]
  },
  {
   "cell_type": "code",
   "execution_count": 1,
   "metadata": {},
   "outputs": [
    {
     "data": {
      "image/png": "[encoded data removed]",
      "text/plain": [
       "<Figure size 640x480 with 1 Axes>"
      ]
     },
     "metadata": {},
     "output_type": "display_data"
    },
    {
     "data": {
      "text/plain": [
       "{'headloss': 'H-W',\n",
       " 'hydraulics': None,\n",
       " 'hydraulics_filename': None,\n",
       " 'viscosity': 1.0,\n",
       " 'specific_gravity': 1.0,\n",
       " 'pattern': None,\n",
       " 'demand_multiplier': 1.0,\n",
       " 'demand_model': 'DDA',\n",
       " 'minimum_pressure': 0.0,\n",
       " 'required_pressure': 0.07,\n",
       " 'pressure_exponent': 0.5,\n",
       " 'emitter_exponent': 0.5,\n",
       " 'trials': 40,\n",
       " 'accuracy': 0.001,\n",
       " 'unbalanced': 'CONTINUE',\n",
       " 'unbalanced_value': 10,\n",
       " 'checkfreq': 2,\n",
       " 'maxcheck': 10,\n",
       " 'damplimit': 0.0,\n",
       " 'headerror': 0.0,\n",
       " 'flowchange': 0.0,\n",
       " 'inpfile_units': 'LPS',\n",
       " 'inpfile_pressure_units': None}"
      ]
     },
     "execution_count": 1,
     "metadata": {},
     "output_type": "execute_result"
    }
   ],
   "source": [
    "import os\n",
    "from pathlib import Path\n",
    "import wntr\n",
    "import wntr_quantum\n",
    "\n",
    "\n",
    "# Define the directory path\n",
    "epanet_tmp_dir = Path(\"/Users/murilo/scratch_dir/.epanet_quantum\")\n",
    "\n",
    "# check if the directory exists\n",
    "if not epanet_tmp_dir.exists():\n",
    "    epanet_tmp_dir.mkdir(parents=True, exist_ok=True)\n",
    "\n",
    "# set the environment variables\n",
    "os.environ[\"EPANET_TMP\"] = str(epanet_tmp_dir)\n",
    "os.environ[\"EPANET_QUANTUM\"] = \"/Users/murilo/Documents/NLeSC_Projects/Vitens/EPANET\"\n",
    "\n",
    "# set up network model\n",
    "inp_file = 'networks/Net2Loops.inp'\n",
    "wn = wntr.network.WaterNetworkModel(inp_file)\n",
    "\n",
    "# plot network\n",
    "wntr.graphics.plot_network(wn, title=wn.name, node_labels=True)\n",
    "\n",
    "# explicitly set Darcy-Weisbach head loss formulas and pressure dependent demand mode\n",
    "# wn.options.hydraulic.headloss = 'D-W'\n",
    "# wn.options.hydraulic.demand_model = 'PDD'\n",
    "\n",
    "# print options\n",
    "dict(wn.options.hydraulic)"
   ]
  },
  {
   "cell_type": "markdown",
   "metadata": {},
   "source": [
    "### Solve model using the classical Epanet simulator\n",
    "\n",
    "We now solve the same problem using the classical Epanet simulator. Note that, by default, `QuantumEpanetSimulator` uses a classical `CholeskySolver` to iteratively solve the linear problem."
   ]
  },
  {
   "cell_type": "code",
   "execution_count": 2,
   "metadata": {},
   "outputs": [
    {
     "name": "stdout",
     "output_type": "stream",
     "text": [
      "Your EPANET quantum path: /Users/murilo/Documents/NLeSC_Projects/Vitens/EPANET\n",
      "Your EPANET temp dir: /Users/murilo/scratch_dir/.epanet_quantum\n",
      "\n",
      "Size of the Jacobian in EPANET simulator: 6\n",
      "Size of the b vector in EPANET simulator: 6\n"
     ]
    },
    {
     "data": {
      "text/plain": [
       "(name          2          3          4          5          6          7  \\\n",
       " 0     53.247742  30.665516  44.321564  28.810593  30.547766  27.057959   \n",
       " \n",
       " name             1  \n",
       " 0     4.394531e-07  ,\n",
       " name         1         2         3         4         5         6         7  \\\n",
       " 0     0.311088  0.051455  0.231865  0.031844  0.166692  0.075021  0.023685   \n",
       " \n",
       " name         8  \n",
       " 0    -0.019471  )"
      ]
     },
     "execution_count": 2,
     "metadata": {},
     "output_type": "execute_result"
    }
   ],
   "source": [
    "import sys\n",
    "\n",
    "# define the classical EPANET simulator\n",
    "sim = wntr_quantum.sim.QuantumEpanetSimulator(wn)\n",
    "\n",
    "# run the EPANET simulation\n",
    "results_epanet = sim.run_sim()\n",
    "\n",
    "# remember to set up EPANET Quantum environment variables!\n",
    "epanet_path = os.environ[\"EPANET_QUANTUM\"]\n",
    "epanet_tmp = os.environ[\"EPANET_TMP\"]\n",
    "\n",
    "# check paths\n",
    "print(f\"Your EPANET quantum path: {epanet_path}\")\n",
    "print(f\"Your EPANET temp dir: {epanet_tmp}\\n\")\n",
    "\n",
    "# load EPANET A and b matrices from temp\n",
    "epanet_A, epanet_b = wntr_quantum.sim.epanet.load_epanet_matrix()\n",
    "\n",
    "# set the size of the Jacobian (A matrix)\n",
    "epanet_A_dim = epanet_A.todense().shape[0]\n",
    "print(f\"Size of the Jacobian in EPANET simulator: {epanet_A_dim}\")\n",
    "print(f\"Size of the b vector in EPANET simulator: {epanet_b.shape[0]}\")\n",
    "\n",
    "# save number of nodes and pipes\n",
    "n_nodes = len(results_epanet.node[\"pressure\"].iloc[0]), \n",
    "n_pipes = len(results_epanet.link[\"flowrate\"].iloc[0])\n",
    "\n",
    "results_epanet.node[\"pressure\"], results_epanet.link[\"flowrate\"]"
   ]
  },
  {
   "cell_type": "markdown",
   "metadata": {},
   "source": [
    "### Define a helper function\n",
    "\n",
    "Before proceeding to the proper quantum solution of the water network model, let's define a helper function. This function checks that the quantum results are within `TOL`% of those obtained classically. It also fills in lists containing the final values of pressures and flow rates obtained."
   ]
  },
  {
   "cell_type": "code",
   "execution_count": 3,
   "metadata": {},
   "outputs": [],
   "source": [
    "TOL = 5  # => per cent\n",
    "DELTA = 1.0e-12\n",
    "\n",
    "classical_res = []\n",
    "quantum_res = []\n",
    "\n",
    "\n",
    "def compare_results(classical_result, quantum_result):\n",
    "    \"\"\"\n",
    "    Helper function that compares the classical and quantum simulation results.\n",
    "    \"\"\"\n",
    "    def calculate_differences(classical_value, quantum_value):\n",
    "        \"\"\"Helper function to evaluate percentage difference between classical and quantum results.\"\"\"\n",
    "        is_close_to_classical = abs(classical_value - quantum_value) / abs(classical_value + DELTA) <= TOL / 100.0\n",
    "        if is_close_to_classical:\n",
    "            print(f\"Quantum result {quantum_value} within {TOL}% of classical result {classical_value}\")\n",
    "            quantum_res.append(quantum_value)\n",
    "            classical_res.append(classical_value)\n",
    "        return is_close_to_classical\n",
    "    \n",
    "    for link in classical_result.link[\"flowrate\"].columns:\n",
    "        classical_value = classical_result.link[\"flowrate\"][link].iloc[0]\n",
    "        quantum_value = quantum_result.link[\"flowrate\"][link].iloc[0]\n",
    "        message = f\"Flowrate {link}: {quantum_value} not within {TOL}% of classical result {classical_value}\"\n",
    "        assert calculate_differences(classical_value, quantum_value), message\n",
    "\n",
    "    for node in classical_result.node[\"pressure\"].columns:\n",
    "        classical_value = classical_result.node[\"pressure\"][node].iloc[0]\n",
    "        quantum_value = quantum_result.node[\"pressure\"][node].iloc[0]\n",
    "        message= f\"Pressure {node}: {quantum_value} not within {TOL}% of classical result {classical_value}\"\n",
    "        assert calculate_differences(classical_value, quantum_value), message"
   ]
  },
  {
   "cell_type": "markdown",
   "metadata": {},
   "source": [
    "### Solve water network with `QuantumEpanetSimulator` and VQLS \n",
    "\n",
    "We now solve the model using VQLS. In this example, we are **preconditioning** the initial linear system using *diagonal scaling* and also using a **mix of two classical optimizers**."
   ]
  },
  {
   "cell_type": "code",
   "execution_count": 4,
   "metadata": {},
   "outputs": [
    {
     "name": "stderr",
     "output_type": "stream",
     "text": [
      "/Users/murilo/Library/CloudStorage/OneDrive-NetherlandseScienceCenter/Documents/NLeSC_Projects/Vitens/wntr-quantum/.venv/lib/python3.11/site-packages/numpy/linalg/linalg.py:2180: RuntimeWarning: divide by zero encountered in det\n",
      "  r = _umath_linalg.det(a, signature=signature)\n",
      "/Users/murilo/Library/CloudStorage/OneDrive-NetherlandseScienceCenter/Documents/NLeSC_Projects/Vitens/wntr-quantum/.venv/lib/python3.11/site-packages/numpy/linalg/linalg.py:2180: RuntimeWarning: invalid value encountered in det\n",
      "  r = _umath_linalg.det(a, signature=signature)\n"
     ]
    },
    {
     "name": "stdout",
     "output_type": "stream",
     "text": [
      "VQLS Iteration 1000 Cost 4.350e-02\n",
      "   Return from subroutine COBYLA because the MAXFUN limit has been reached.\n",
      "\n",
      "   NFVALS = 1000   F = 4.350311E-02    MAXCV = 0.000000E+00\n",
      "   X =-3.074658E+00   1.122056E+00   1.396269E+00  -2.899802E+00  -1.120645E+00\n",
      "      -2.725037E-01  -9.698461E-01   1.951248E+00   3.687562E+00  -4.299176E-01\n",
      "       3.065963E+00  -2.206733E+00\n",
      "Optimization terminated successfully.\n",
      "         Current function value: 0.000000\n",
      "         Iterations: 45\n",
      "         Function evaluations: 1066\n",
      "         Gradient evaluations: 82\n"
     ]
    },
    {
     "name": "stderr",
     "output_type": "stream",
     "text": [
      "/Users/murilo/Library/CloudStorage/OneDrive-NetherlandseScienceCenter/Documents/NLeSC_Projects/Vitens/wntr-quantum/.venv/lib/python3.11/site-packages/numpy/linalg/linalg.py:2180: RuntimeWarning: divide by zero encountered in det\n",
      "  r = _umath_linalg.det(a, signature=signature)\n",
      "/Users/murilo/Library/CloudStorage/OneDrive-NetherlandseScienceCenter/Documents/NLeSC_Projects/Vitens/wntr-quantum/.venv/lib/python3.11/site-packages/numpy/linalg/linalg.py:2180: RuntimeWarning: invalid value encountered in det\n",
      "  r = _umath_linalg.det(a, signature=signature)\n"
     ]
    },
    {
     "name": "stdout",
     "output_type": "stream",
     "text": [
      "VQLS Iteration 1000 Cost 1.752e-06\n",
      "   Return from subroutine COBYLA because the MAXFUN limit has been reached.\n",
      "\n",
      "   NFVALS = 1000   F = 1.651806E-06    MAXCV = 0.000000E+00\n",
      "   X = 5.516211E-01   2.278483E+00   1.809365E+00  -5.181499E-01   1.286606E+00\n",
      "      -1.016184E+00  -2.303380E+00  -1.790190E-01  -2.201638E+00  -3.264874E+00\n",
      "       3.826323E-02  -9.018411E-01\n",
      "Optimization terminated successfully.\n",
      "         Current function value: 0.000000\n",
      "         Iterations: 13\n",
      "         Function evaluations: 351\n",
      "         Gradient evaluations: 27\n"
     ]
    },
    {
     "name": "stderr",
     "output_type": "stream",
     "text": [
      "/Users/murilo/Library/CloudStorage/OneDrive-NetherlandseScienceCenter/Documents/NLeSC_Projects/Vitens/wntr-quantum/.venv/lib/python3.11/site-packages/numpy/linalg/linalg.py:2180: RuntimeWarning: divide by zero encountered in det\n",
      "  r = _umath_linalg.det(a, signature=signature)\n",
      "/Users/murilo/Library/CloudStorage/OneDrive-NetherlandseScienceCenter/Documents/NLeSC_Projects/Vitens/wntr-quantum/.venv/lib/python3.11/site-packages/numpy/linalg/linalg.py:2180: RuntimeWarning: invalid value encountered in det\n",
      "  r = _umath_linalg.det(a, signature=signature)\n"
     ]
    },
    {
     "name": "stdout",
     "output_type": "stream",
     "text": [
      "VQLS Iteration 1000 Cost 2.484e-02\n",
      "   Return from subroutine COBYLA because the MAXFUN limit has been reached.\n",
      "\n",
      "   NFVALS = 1000   F = 2.483883E-02    MAXCV = 0.000000E+00\n",
      "   X = 1.449844E+00  -2.262282E+00  -2.123202E+00   1.590068E+00   7.667114E-01\n",
      "       2.618956E+00  -2.862024E+00   6.870512E-01   3.072765E+00   1.017234E+00\n",
      "       2.292962E+00  -3.155717E+00\n",
      "Optimization terminated successfully.\n",
      "         Current function value: 0.000000\n",
      "         Iterations: 55\n",
      "         Function evaluations: 1183\n",
      "         Gradient evaluations: 91\n"
     ]
    },
    {
     "name": "stderr",
     "output_type": "stream",
     "text": [
      "/Users/murilo/Library/CloudStorage/OneDrive-NetherlandseScienceCenter/Documents/NLeSC_Projects/Vitens/wntr-quantum/.venv/lib/python3.11/site-packages/numpy/linalg/linalg.py:2180: RuntimeWarning: divide by zero encountered in det\n",
      "  r = _umath_linalg.det(a, signature=signature)\n",
      "/Users/murilo/Library/CloudStorage/OneDrive-NetherlandseScienceCenter/Documents/NLeSC_Projects/Vitens/wntr-quantum/.venv/lib/python3.11/site-packages/numpy/linalg/linalg.py:2180: RuntimeWarning: invalid value encountered in det\n",
      "  r = _umath_linalg.det(a, signature=signature)\n"
     ]
    },
    {
     "name": "stdout",
     "output_type": "stream",
     "text": [
      "VQLS Iteration 684 Cost 2.773e-07\n",
      "   Normal return from subroutine COBYLA\n",
      "\n",
      "   NFVALS =  684   F = 2.773062E-07    MAXCV = 0.000000E+00\n",
      "   X =-2.866845E+00  -1.758719E+00  -2.884255E+00  -9.171539E-01   5.303679E+00\n",
      "      -3.012142E-01  -2.980795E+00   1.103940E+00  -3.411324E+00   6.426955E-01\n",
      "      -3.903515E+00  -9.643186E-01\n",
      "Optimization terminated successfully.\n",
      "         Current function value: 0.000000\n",
      "         Iterations: 14\n",
      "         Function evaluations: 325\n",
      "         Gradient evaluations: 25\n",
      "Quantum result 0.31110554933547974 within 5% of classical result 0.3110875189304352\n",
      "Quantum result 0.051455918699502945 within 5% of classical result 0.05145493522286415\n",
      "Quantum result 0.23188114166259766 within 5% of classical result 0.2318645417690277\n",
      "Quantum result 0.03184514120221138 within 5% of classical result 0.0318441279232502\n",
      "Quantum result 0.16670048236846924 within 5% of classical result 0.1666916012763977\n",
      "Quantum result 0.07502385228872299 within 5% of classical result 0.07502065598964691\n",
      "Quantum result 0.023686330765485764 within 5% of classical result 0.023684944957494736\n",
      "Quantum result -0.019471026957035065 within 5% of classical result -0.019470814615488052\n",
      "Quantum result 53.24701690673828 within 5% of classical result 53.24774169921875\n",
      "Quantum result 30.664342880249023 within 5% of classical result 30.665515899658203\n",
      "Quantum result 44.320316314697266 within 5% of classical result 44.321563720703125\n",
      "Quantum result 28.808135986328125 within 5% of classical result 28.810592651367188\n",
      "Quantum result 30.5461483001709 within 5% of classical result 30.547765731811523\n",
      "Quantum result 27.0556697845459 within 5% of classical result 27.057958602905273\n",
      "Quantum result 4.39453117451194e-07 within 5% of classical result 4.39453117451194e-07\n"
     ]
    },
    {
     "data": {
      "text/plain": [
       "(name          2          3          4          5          6         7  \\\n",
       " 0     53.247017  30.664343  44.320316  28.808136  30.546148  27.05567   \n",
       " \n",
       " name             1  \n",
       " 0     4.394531e-07  ,\n",
       " name         1         2         3         4       5         6         7  \\\n",
       " 0     0.311106  0.051456  0.231881  0.031845  0.1667  0.075024  0.023686   \n",
       " \n",
       " name         8  \n",
       " 0    -0.019471  )"
      ]
     },
     "execution_count": 4,
     "metadata": {},
     "output_type": "execute_result"
    }
   ],
   "source": [
    "import numpy as np\n",
    "\n",
    "from qiskit.circuit.library import RealAmplitudes\n",
    "from qiskit.primitives import Estimator\n",
    "from qiskit_algorithms import optimizers as opt\n",
    "\n",
    "from quantum_newton_raphson.vqls_solver import VQLS_SOLVER\n",
    "\n",
    "n_qubits = int(np.ceil(np.log2(epanet_A_dim)))\n",
    "\n",
    "qc = RealAmplitudes(n_qubits, reps=3, entanglement=\"full\")\n",
    "estimator = Estimator()\n",
    "\n",
    "linear_solver = VQLS_SOLVER(\n",
    "    estimator=estimator,\n",
    "    ansatz=qc,\n",
    "    optimizer=[opt.COBYLA(maxiter=1000, disp=True), opt.CG(maxiter=500, disp=True)],\n",
    "    matrix_decomposition=\"symmetric\",\n",
    "    verbose=True,\n",
    "    preconditioner=\"diagonal_scaling\",\n",
    "    reorder=True,\n",
    ")\n",
    "\n",
    "sim = wntr_quantum.sim.QuantumEpanetSimulator(wn, linear_solver=linear_solver)\n",
    "results_vqls = sim.run_sim(linear_solver=linear_solver)\n",
    "\n",
    "compare_results(results_epanet, results_vqls)\n",
    "\n",
    "results_vqls.node[\"pressure\"], results_vqls.link[\"flowrate\"]"
   ]
  },
  {
   "cell_type": "markdown",
   "metadata": {},
   "source": [
    "### Plot pressures and flow rates\n",
    "\n",
    "Let's check graphically the equivalence of the results."
   ]
  },
  {
   "cell_type": "code",
   "execution_count": 5,
   "metadata": {},
   "outputs": [
    {
     "data": {
      "image/png": "[encoded data removed]",
      "text/plain": [
       "<Figure size 640x480 with 1 Axes>"
      ]
     },
     "metadata": {},
     "output_type": "display_data"
    }
   ],
   "source": [
    "import matplotlib.pyplot as plt\n",
    "plt.scatter(classical_res[:n_pipes], quantum_res[:n_pipes], label=\"Flow rates\", color=\"blue\", marker=\"o\")\n",
    "plt.scatter(classical_res[n_pipes:], quantum_res[n_pipes:], label=\"Pressures\", color=\"red\", marker=\"s\", facecolors='none')\n",
    "plt.axline((0, 0), slope=1, linestyle=\"--\", color=\"gray\", label=\"\")\n",
    "plt.xlabel(\"Classical results\")\n",
    "plt.ylabel(\"Quantum results\")\n",
    "plt.legend()\n",
    "plt.show()"
   ]
  },
  {
   "cell_type": "code",
   "execution_count": null,
   "metadata": {},
   "outputs": [],
   "source": []
  }
 ],
 "metadata": {
  "kernelspec": {
   "display_name": ".venv",
   "language": "python",
   "name": "python3"
  },
  "language_info": {
   "codemirror_mode": {
    "name": "ipython",
    "version": 3
   },
   "file_extension": ".py",
   "mimetype": "text/x-python",
   "name": "python",
   "nbconvert_exporter": "python",
   "pygments_lexer": "ipython3",
   "version": "3.11.7"
  }
 },
 "nbformat": 4,
 "nbformat_minor": 2
}
