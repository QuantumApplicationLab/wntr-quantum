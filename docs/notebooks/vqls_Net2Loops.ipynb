{
 "cells": [
  {
   "cell_type": "markdown",
   "metadata": {},
   "source": [
    "### Set up water network model\n",
    "\n",
    "In this example, we test our quantum solvers into a slightly larger network as contained in `Net2Loops.inp`. Let's start by setting up the model:"
   ]
  },
  {
   "cell_type": "code",
   "execution_count": 1,
   "metadata": {},
   "outputs": [
    {
     "data": {
      "image/png": "[encoded data removed]",
      "text/plain": [
       "<Figure size 640x480 with 1 Axes>"
      ]
     },
     "metadata": {},
     "output_type": "display_data"
    },
    {
     "data": {
      "text/plain": [
       "<Axes: title={'center': 'networks/Net2Loops.inp'}>"
      ]
     },
     "execution_count": 1,
     "metadata": {},
     "output_type": "execute_result"
    }
   ],
   "source": [
    "import os\n",
    "import wntr\n",
    "import wntr_quantum\n",
    "\n",
    "os.environ[\"EPANET_TMP\"] = \"/Users/murilo/scratch_dir/.epanet_quantum\"\n",
    "os.environ[\"EPANET_QUANTUM\"] = \"/Users/murilo/Documents/NLeSC_Projects/Vitens/EPANET\"\n",
    "\n",
    "# set up network model\n",
    "inp_file = 'networks/Net2Loops.inp'\n",
    "wn = wntr.network.WaterNetworkModel(inp_file)\n",
    "\n",
    "# plot network\n",
    "wntr.graphics.plot_network(wn, title=wn.name, node_labels=True)\n",
    "\n",
    "# print options\n",
    "# dict(wn.options.hydraulic)"
   ]
  },
  {
   "cell_type": "markdown",
   "metadata": {},
   "source": [
    "### Solve model using the classical Epanet simulator\n",
    "\n",
    "We now solve the same problem using the classical Epanet simulator. Note that, by default, `QuantumEpanetSimulator` uses a classical `CholeskySolver` to iteratively solve the linear problem."
   ]
  },
  {
   "cell_type": "code",
   "execution_count": 2,
   "metadata": {},
   "outputs": [
    {
     "name": "stdout",
     "output_type": "stream",
     "text": [
      "Your EPANET quantum path: /Users/murilo/Documents/NLeSC_Projects/Vitens/EPANET\n",
      "Your EPANET temp dir: /Users/murilo/scratch_dir/.epanet_quantum\n",
      "\n",
      "Size of the Jacobian in EPANET simulator: 6\n",
      "Size of the b vector in EPANET simulator: 6\n"
     ]
    },
    {
     "data": {
      "text/plain": [
       "(name          2          3          4          5          6          7  \\\n",
       " 0     53.247742  30.665516  44.321564  28.810593  30.547766  27.057959   \n",
       " \n",
       " name             1  \n",
       " 0     4.394531e-07  ,\n",
       " name         1         2         3         4         5         6         7  \\\n",
       " 0     0.311088  0.051455  0.231865  0.031844  0.166692  0.075021  0.023685   \n",
       " \n",
       " name         8  \n",
       " 0    -0.019471  )"
      ]
     },
     "execution_count": 2,
     "metadata": {},
     "output_type": "execute_result"
    }
   ],
   "source": [
    "import sys\n",
    "\n",
    "# define the classical EPANET simulator\n",
    "sim = wntr_quantum.sim.QuantumEpanetSimulator(wn)\n",
    "\n",
    "# run the EPANET simulation\n",
    "results_epanet = sim.run_sim()\n",
    "\n",
    "# remember to set up EPANET Quantum environment variables!\n",
    "epanet_path = os.environ[\"EPANET_QUANTUM\"]\n",
    "epanet_tmp = os.environ[\"EPANET_TMP\"]\n",
    "\n",
    "# check paths\n",
    "print(f\"Your EPANET quantum path: {epanet_path}\")\n",
    "print(f\"Your EPANET temp dir: {epanet_tmp}\\n\")\n",
    "\n",
    "util_path = os.path.join(epanet_path, 'src/py/')\n",
    "sys.path.append(util_path)\n",
    "\n",
    "from quantum_linsolve import load_json_data\n",
    "epanet_A, epanet_b = load_json_data(os.path.join(epanet_tmp,'smat.json'))\n",
    "\n",
    "# set the size of the Jacobian (A matrix)\n",
    "epanet_A_dim = epanet_A.todense().shape[0]\n",
    "print(f\"Size of the Jacobian in EPANET simulator: {epanet_A_dim}\")\n",
    "print(f\"Size of the b vector in EPANET simulator: {epanet_b.shape[0]}\")\n",
    "\n",
    "# save number of nodes and pipes\n",
    "n_nodes = len(results_epanet.node[\"pressure\"].iloc[0]), \n",
    "n_pipes = len(results_epanet.link[\"flowrate\"].iloc[0])\n",
    "\n",
    "results_epanet.node[\"pressure\"], results_epanet.link[\"flowrate\"]"
   ]
  },
  {
   "cell_type": "markdown",
   "metadata": {},
   "source": [
    "### Define a helper function\n",
    "\n",
    "Before proceeding to the proper quantum solution of the water network model, let's define a helper function. This function checks that the quantum results are within `TOL`% of those obtained classically. It also fills in lists containing the final values of pressures and flow rates obtained."
   ]
  },
  {
   "cell_type": "code",
   "execution_count": 3,
   "metadata": {},
   "outputs": [],
   "source": [
    "TOL = 5  # => per cent\n",
    "DELTA = 1.0e-12\n",
    "\n",
    "classical_res = []\n",
    "quantum_res = []\n",
    "\n",
    "\n",
    "def compare_results(classical_result, quantum_result):\n",
    "    \"\"\"\n",
    "    Helper function that compares the classical and quantum simulation results.\n",
    "    \"\"\"\n",
    "    def calculate_differences(classical_value, quantum_value):\n",
    "        \"\"\"Helper function to evaluate percentage difference between classical and quantum results.\"\"\"\n",
    "        is_close_to_classical = abs(classical_value - quantum_value) / abs(classical_value + DELTA) <= TOL / 100.0\n",
    "        if is_close_to_classical:\n",
    "            print(f\"Quantum result {quantum_value} within {TOL}% of classical result {classical_value}\")\n",
    "            quantum_res.append(quantum_value)\n",
    "            classical_res.append(classical_value)\n",
    "        return is_close_to_classical\n",
    "    \n",
    "    for link in classical_result.link[\"flowrate\"].columns:\n",
    "        classical_value = classical_result.link[\"flowrate\"][link].iloc[0]\n",
    "        quantum_value = quantum_result.link[\"flowrate\"][link].iloc[0]\n",
    "        message = f\"Flowrate {link}: {quantum_value} not within {TOL}% of classical result {classical_value}\"\n",
    "        assert calculate_differences(classical_value, quantum_value), message\n",
    "\n",
    "    for node in classical_result.node[\"pressure\"].columns:\n",
    "        classical_value = classical_result.node[\"pressure\"][node].iloc[0]\n",
    "        quantum_value = quantum_result.node[\"pressure\"][node].iloc[0]\n",
    "        message= f\"Pressure {node}: {quantum_value} not within {TOL}% of classical result {classical_value}\"\n",
    "        assert calculate_differences(classical_value, quantum_value), message"
   ]
  },
  {
   "cell_type": "markdown",
   "metadata": {},
   "source": [
    "### Solve water network with `QuantumEpanetSimulator` and VQLS \n",
    "\n",
    "We now solve the model using VQLS. In this example, we are **preconditioning** the initial linear system using *diagonal scaling* and also using a **mix of two classical optimizers**."
   ]
  },
  {
   "cell_type": "code",
   "execution_count": 4,
   "metadata": {},
   "outputs": [
    {
     "name": "stdout",
     "output_type": "stream",
     "text": [
      "VQLS Iteration 1000 Cost 5.222e-06\n",
      "   Return from subroutine COBYLA because the MAXFUN limit has been reached.\n",
      "\n",
      "   NFVALS = 1000   F = 5.196665E-06    MAXCV = 0.000000E+00\n",
      "   X =-5.766454E-01   4.072015E+00   1.308971E+00  -6.627046E-01   2.877822E+00\n",
      "       2.469099E+00   5.295002E-01  -2.719813E+00   3.043446E+00  -4.968667E+00\n",
      "      -5.853443E-01  -1.903109E+00\n",
      "Optimization terminated successfully.\n",
      "         Current function value: 0.000000\n",
      "         Iterations: 18\n",
      "         Function evaluations: 429\n",
      "         Gradient evaluations: 33\n",
      "VQLS Iteration 1000 Cost 5.041e-06\n",
      "   Return from subroutine COBYLA because the MAXFUN limit has been reached.\n",
      "\n",
      "   NFVALS = 1000   F = 5.022286E-06    MAXCV = 0.000000E+00\n",
      "   X =-2.632186E+00  -3.671251E+00   4.125213E+00   5.793802E-01   1.029085E+00\n",
      "      -8.201373E-01  -2.124385E+00   5.334193E-01   8.209542E-01   1.362555E+00\n",
      "       8.694356E-02  -4.256370E+00\n",
      "Optimization terminated successfully.\n",
      "         Current function value: 0.000000\n",
      "         Iterations: 16\n",
      "         Function evaluations: 416\n",
      "         Gradient evaluations: 32\n",
      "VQLS Iteration 1000 Cost 7.897e-03\n",
      "   Return from subroutine COBYLA because the MAXFUN limit has been reached.\n",
      "\n",
      "   NFVALS = 1000   F = 7.893821E-03    MAXCV = 0.000000E+00\n",
      "   X = 2.105191E+00   5.760668E-01  -1.055404E+00  -2.671816E+00   1.782325E+00\n",
      "       2.944145E+00  -1.492638E+00  -2.778178E-01   1.172085E-01   4.800170E-02\n",
      "       2.620640E+00  -1.617242E+00\n",
      "Optimization terminated successfully.\n",
      "         Current function value: 0.000000\n",
      "         Iterations: 22\n",
      "         Function evaluations: 598\n",
      "         Gradient evaluations: 46\n",
      "VQLS Iteration 1000 Cost 2.301e-03\n",
      "   Return from subroutine COBYLA because the MAXFUN limit has been reached.\n",
      "\n",
      "   NFVALS = 1000   F = 2.300819E-03    MAXCV = 0.000000E+00\n",
      "   X =-3.742379E+00   5.176999E-01  -1.020583E+00   1.695553E+00  -3.607252E+00\n",
      "       2.055811E+00   2.707310E+00   2.464520E-01  -2.574579E+00  -2.505150E+00\n",
      "      -9.722766E-01   1.861777E+00\n",
      "Optimization terminated successfully.\n",
      "         Current function value: 0.000000\n",
      "         Iterations: 37\n",
      "         Function evaluations: 819\n",
      "         Gradient evaluations: 63\n",
      "Quantum result 0.3111199140548706 within 5% of classical result 0.3110875189304352\n",
      "Quantum result 0.05145670101046562 within 5% of classical result 0.05145493522286415\n",
      "Quantum result 0.2318936288356781 within 5% of classical result 0.2318645417690277\n",
      "Quantum result 0.031845033168792725 within 5% of classical result 0.0318441279232502\n",
      "Quantum result 0.1667044758796692 within 5% of classical result 0.1666916012763977\n",
      "Quantum result 0.07502252608537674 within 5% of classical result 0.07502065598964691\n",
      "Quantum result 0.023686228320002556 within 5% of classical result 0.023684944957494736\n",
      "Quantum result -0.019471002742648125 within 5% of classical result -0.019470814615488052\n",
      "Quantum result 53.24644088745117 within 5% of classical result 53.24774169921875\n",
      "Quantum result 30.663414001464844 within 5% of classical result 30.665515899658203\n",
      "Quantum result 44.31935119628906 within 5% of classical result 44.321563720703125\n",
      "Quantum result 28.807300567626953 within 5% of classical result 28.810592651367188\n",
      "Quantum result 30.545013427734375 within 5% of classical result 30.547765731811523\n",
      "Quantum result 27.0548152923584 within 5% of classical result 27.057958602905273\n",
      "Quantum result 4.39453117451194e-07 within 5% of classical result 4.39453117451194e-07\n"
     ]
    },
    {
     "data": {
      "text/plain": [
       "(name          2          3          4          5          6          7  \\\n",
       " 0     53.246441  30.663414  44.319351  28.807301  30.545013  27.054815   \n",
       " \n",
       " name             1  \n",
       " 0     4.394531e-07  ,\n",
       " name        1         2         3         4         5         6         7  \\\n",
       " 0     0.31112  0.051457  0.231894  0.031845  0.166704  0.075023  0.023686   \n",
       " \n",
       " name         8  \n",
       " 0    -0.019471  )"
      ]
     },
     "execution_count": 4,
     "metadata": {},
     "output_type": "execute_result"
    }
   ],
   "source": [
    "import numpy as np\n",
    "\n",
    "from qiskit.circuit.library import RealAmplitudes\n",
    "from qiskit.primitives import Estimator\n",
    "from qiskit_algorithms import optimizers as opt\n",
    "\n",
    "from quantum_newton_raphson.vqls_solver import VQLS_SOLVER\n",
    "\n",
    "n_qubits = int(np.ceil(np.log2(epanet_A_dim)))\n",
    "\n",
    "qc = RealAmplitudes(n_qubits, reps=3, entanglement=\"full\")\n",
    "estimator = Estimator()\n",
    "\n",
    "linear_solver = VQLS_SOLVER(\n",
    "    estimator=estimator,\n",
    "    ansatz=qc,\n",
    "    optimizer=[opt.COBYLA(maxiter=1000, disp=True), opt.CG(maxiter=500, disp=True)],\n",
    "    matrix_decomposition=\"symmetric\",\n",
    "    verbose=True,\n",
    "    preconditioner=\"diagonal_scaling\",\n",
    ")\n",
    "\n",
    "sim = wntr_quantum.sim.QuantumEpanetSimulator(wn, linear_solver=linear_solver)\n",
    "results_vqls = sim.run_sim(linear_solver=linear_solver)\n",
    "\n",
    "compare_results(results_epanet, results_vqls)\n",
    "\n",
    "results_vqls.node[\"pressure\"], results_vqls.link[\"flowrate\"]"
   ]
  },
  {
   "cell_type": "markdown",
   "metadata": {},
   "source": [
    "### Plot pressures and flow rates\n",
    "\n",
    "Let's check graphically the equivalence of the results."
   ]
  },
  {
   "cell_type": "code",
   "execution_count": 5,
   "metadata": {},
   "outputs": [
    {
     "data": {
      "image/png": "[encoded data removed]",
      "text/plain": [
       "<Figure size 640x480 with 1 Axes>"
      ]
     },
     "metadata": {},
     "output_type": "display_data"
    }
   ],
   "source": [
    "import matplotlib.pyplot as plt\n",
    "plt.scatter(classical_res[:n_pipes], quantum_res[:n_pipes], label=\"Flow rates\", color=\"blue\", marker=\"o\")\n",
    "plt.scatter(classical_res[n_pipes:], quantum_res[n_pipes:], label=\"Pressures\", color=\"red\", marker=\"s\", facecolors='none')\n",
    "plt.axline((0, 0), slope=1, linestyle=\"--\", color=\"gray\", label=\"\")\n",
    "plt.xlabel(\"Classical results\")\n",
    "plt.ylabel(\"Quantum results\")\n",
    "plt.legend()\n",
    "plt.show()"
   ]
  },
  {
   "cell_type": "code",
   "execution_count": null,
   "metadata": {},
   "outputs": [],
   "source": []
  }
 ],
 "metadata": {
  "kernelspec": {
   "display_name": ".venv",
   "language": "python",
   "name": "python3"
  },
  "language_info": {
   "codemirror_mode": {
    "name": "ipython",
    "version": 3
   },
   "file_extension": ".py",
   "mimetype": "text/x-python",
   "name": "python",
   "nbconvert_exporter": "python",
   "pygments_lexer": "ipython3",
   "version": "3.11.7"
  }
 },
 "nbformat": 4,
 "nbformat_minor": 2
}
