{
 "cells": [
  {
   "cell_type": "markdown",
   "metadata": {},
   "source": [
    "# Quantum Newton Raphson on Net0 with VQLS linear solver and noise model\n",
    "\n",
    "In this example, we use the VQLS solver to drive the Newton-Raphson algorithm to obtain the pressure and flow rate of a small network, Net0:"
   ]
  },
  {
   "cell_type": "code",
   "execution_count": 1,
   "metadata": {},
   "outputs": [
    {
     "data": {
      "image/png": "[encoded data removed]",
      "text/plain": [
       "<Figure size 640x480 with 1 Axes>"
      ]
     },
     "metadata": {},
     "output_type": "display_data"
    },
    {
     "data": {
      "text/plain": [
       "<Axes: title={'center': 'networks/Net0.inp'}>"
      ]
     },
     "execution_count": 1,
     "metadata": {},
     "output_type": "execute_result"
    }
   ],
   "source": [
    "import os\n",
    "import wntr\n",
    "import wntr_quantum\n",
    "\n",
    "os.environ[\"EPANET_TMP\"] = \"/Users/murilo/scratch_dir/.epanet_quantum\"\n",
    "os.environ[\"EPANET_QUANTUM\"] = \"/Users/murilo/Documents/NLeSC_Projects/Vitens/EPANET\"\n",
    "\n",
    "# set up network model\n",
    "inp_file = \"networks/Net0.inp\"\n",
    "wn = wntr.network.WaterNetworkModel(inp_file)\n",
    "\n",
    "# plot network\n",
    "wntr.graphics.plot_network(wn, title=wn.name, node_labels=True)"
   ]
  },
  {
   "cell_type": "markdown",
   "metadata": {},
   "source": [
    "### Solve model using the classical Epanet simulator\n",
    "\n",
    "We now solve the same problem using the classical Epanet simulator. Note that, by default, `QuantumEpanetSimulator` uses a classical `CholeskySolver` to iteratively solve the linear problem."
   ]
  },
  {
   "cell_type": "code",
   "execution_count": null,
   "metadata": {},
   "outputs": [
    {
     "name": "stdout",
     "output_type": "stream",
     "text": [
      "Your EPANET quantum path: /Users/murilo/Documents/NLeSC_Projects/Vitens/EPANET\n",
      "Your EPANET temp dir: /Users/murilo/scratch_dir/.epanet_quantum\n",
      "\n",
      "* Size of the Jacobian in EPANET simulator: 2\n",
      "* Size of the b vector in EPANET simulator: 2\n"
     ]
    },
    {
     "data": {
      "text/plain": [
       "(name         J1         D1            R1\n",
       " 0     29.647690  19.167675 -9.338379e-07\n",
       " 3600  29.647692  19.167675 -9.338379e-07,\n",
       " name    P1    P2\n",
       " 0     0.05  0.05\n",
       " 3600  0.05  0.05)"
      ]
     },
     "execution_count": 2,
     "metadata": {},
     "output_type": "execute_result"
    }
   ],
   "source": [
    "# define the classical EPANET simulator\n",
    "sim = wntr.sim.EpanetSimulator(wn)\n",
    "\n",
    "# run the EPANET simulation\n",
    "results_epanet = sim.run_sim()\n",
    "\n",
    "# save number of nodes and pipes\n",
    "n_nodes = (len(results_epanet.node[\"pressure\"].iloc[0]),)\n",
    "n_pipes = len(results_epanet.link[\"flowrate\"].iloc[0])\n",
    "\n",
    "results_epanet.node[\"pressure\"], results_epanet.link[\"flowrate\"]"
   ]
  },
  {
   "cell_type": "markdown",
   "metadata": {},
   "source": [
    "### Solve water network with `QuantumEpanetSimulator` and VQLS \n",
    "\n",
    "We now solve the model using VQLS and a noisy model."
   ]
  },
  {
   "cell_type": "code",
   "execution_count": null,
   "metadata": {},
   "outputs": [
    {
     "name": "stdout",
     "output_type": "stream",
     "text": [
      "* Building a noise model from a real ibm hardware: ibm_brisbane\n"
     ]
    },
    {
     "name": "stderr",
     "output_type": "stream",
     "text": [
      "100%|██████████| 4/4 [00:00<00:00, 2191.67it/s]\n"
     ]
    },
    {
     "name": "stdout",
     "output_type": "stream",
     "text": [
      "VQLS Iteration 1000 Cost 2.886e-02\n",
      "   Return from subroutine COBYLA because the MAXFUN limit has been reached.\n",
      "\n",
      "   NFVALS = 1000   F = 2.885574E-02    MAXCV = 0.000000E+00\n",
      "   X = 4.239053E-01   3.526549E+00  -5.011262E-01  -6.743614E-01\n"
     ]
    },
    {
     "name": "stderr",
     "output_type": "stream",
     "text": [
      "100%|██████████| 4/4 [00:00<00:00, 6932.73it/s]\n"
     ]
    },
    {
     "name": "stdout",
     "output_type": "stream",
     "text": [
      "Optimization terminated successfully.\n",
      "         Current function value: 0.027902\n",
      "         Iterations: 28\n",
      "         Function evaluations: 420\n",
      "         Gradient evaluations: 84\n"
     ]
    },
    {
     "name": "stderr",
     "output_type": "stream",
     "text": [
      "100%|██████████| 4/4 [00:00<00:00, 2326.94it/s]\n"
     ]
    },
    {
     "name": "stdout",
     "output_type": "stream",
     "text": [
      "VQLS Iteration 1000 Cost 2.924e-02\n",
      "   Return from subroutine COBYLA because the MAXFUN limit has been reached.\n",
      "\n",
      "   NFVALS = 1000   F = 2.924093E-02    MAXCV = 0.000000E+00\n",
      "   X =-9.235175E-01  -2.525637E+00  -5.359695E-01   6.135941E-01\n"
     ]
    },
    {
     "name": "stderr",
     "output_type": "stream",
     "text": [
      "100%|██████████| 4/4 [00:00<00:00, 6061.13it/s]\n"
     ]
    },
    {
     "name": "stdout",
     "output_type": "stream",
     "text": [
      "Optimization terminated successfully.\n",
      "         Current function value: 0.028445\n",
      "         Iterations: 18\n",
      "         Function evaluations: 295\n",
      "         Gradient evaluations: 59\n"
     ]
    },
    {
     "name": "stderr",
     "output_type": "stream",
     "text": [
      "100%|██████████| 4/4 [00:00<00:00, 1733.00it/s]\n"
     ]
    },
    {
     "name": "stdout",
     "output_type": "stream",
     "text": [
      "VQLS Iteration 1000 Cost 2.977e-02\n",
      "   Return from subroutine COBYLA because the MAXFUN limit has been reached.\n",
      "\n",
      "   NFVALS = 1000   F = 2.977499E-02    MAXCV = 0.000000E+00\n",
      "   X = 1.309584E+00  -4.101737E-01  -3.067846E+00  -1.203542E+00\n"
     ]
    },
    {
     "name": "stderr",
     "output_type": "stream",
     "text": [
      "100%|██████████| 4/4 [00:00<00:00, 5797.24it/s]\n"
     ]
    },
    {
     "name": "stdout",
     "output_type": "stream",
     "text": [
      "Optimization terminated successfully.\n",
      "         Current function value: 0.028445\n",
      "         Iterations: 20\n",
      "         Function evaluations: 345\n",
      "         Gradient evaluations: 69\n",
      "Quantum result 0.05019662156701088 within 0.39306212125652684% of classical result 0.05000009015202522\n",
      "Quantum result 0.050194356590509415 within 0.3887116851026803% of classical result 0.05000000074505806\n",
      "Quantum result 29.645105361938477 within 0.008717230290824522% of classical result 29.647689819335938\n",
      "Quantum result 19.088565826416016 within 0.41272189672954857% of classical result 19.167675018310547\n",
      "Quantum result -9.338378959000693e-07 within 0.0% of classical result -9.338378959000693e-07\n"
     ]
    },
    {
     "data": {
      "text/plain": [
       "(name         J1         D1            R1\n",
       " 0     29.645105  19.088566 -9.338379e-07\n",
       " 3600  29.645031  19.086334 -9.338379e-07,\n",
       " name        P1        P2\n",
       " 0     0.050197  0.050194\n",
       " 3600  0.050201  0.050198)"
      ]
     },
     "execution_count": 4,
     "metadata": {},
     "output_type": "execute_result"
    }
   ],
   "source": [
    "import numpy as np\n",
    "\n",
    "from qiskit.circuit.library import RealAmplitudes\n",
    "from qiskit.primitives import Estimator\n",
    "from qiskit_algorithms import optimizers as opt\n",
    "\n",
    "from qiskit_aer import AerSimulator\n",
    "from qiskit_aer.primitives import EstimatorV2 as qiskit_aer_EstimatorV2\n",
    "from qiskit_aer.noise import NoiseModel, depolarizing_error\n",
    "from qiskit_ibm_runtime.fake_provider import FakeManilaV2\n",
    "from qiskit_ibm_runtime import QiskitRuntimeService\n",
    "\n",
    "from quantum_newton_raphson.vqls_solver import VQLS_SOLVER\n",
    "from utils import compare_results \n",
    "\n",
    "n_qubits = 1\n",
    "\n",
    "# create a noise model from a backend\n",
    "# the model is created from a real hardware\n",
    "service = QiskitRuntimeService()\n",
    "# real_hardware = service.backend(\"ibm_kyoto\")  # => asking for a specific backend\n",
    "real_hardware = service.least_busy()\n",
    "print(f\"* Building a noise model from a real ibm hardware: {real_hardware.name}\")\n",
    "noise_model = NoiseModel.from_backend(real_hardware)\n",
    "\n",
    "# noise_model = NoiseModel()\n",
    "# cx_depolarizing_prob = 0.001  # => add later a 0.1% on every two-qubit CNOT gate\n",
    "# noise_model.add_all_qubit_quantum_error(\n",
    "#     depolarizing_error(cx_depolarizing_prob, 2), [\"cx\"]\n",
    "# )\n",
    "\n",
    "# set up quantum backend and estimator\n",
    "backend = AerSimulator()\n",
    "estimator = qiskit_aer_EstimatorV2(\n",
    "    options=dict(\n",
    "        backend_options=dict(noise_model=noise_model),\n",
    "        run_options=dict(shots=10_000, seed=42),\n",
    "    )\n",
    ")\n",
    "\n",
    "qc = RealAmplitudes(n_qubits, reps=3, entanglement=\"full\")\n",
    "\n",
    "linear_solver = VQLS_SOLVER(\n",
    "    estimator=estimator,\n",
    "    ansatz=qc,\n",
    "    optimizer=[opt.COBYLA(maxiter=1000, disp=True), opt.CG(maxiter=500, disp=True)],\n",
    "    matrix_decomposition=\"pauli\",\n",
    "    verbose=True,\n",
    "    preconditioner=\"diagonal_scaling\",\n",
    "    reorder=True,\n",
    ")\n",
    "\n",
    "sim = wntr_quantum.sim.QuantumEpanetSimulator(wn, linear_solver=linear_solver)\n",
    "results_vqls = sim.run_sim(linear_solver=linear_solver)\n",
    "\n",
    "results_classical, results_quantum = compare_results(results_epanet, results_vqls)\n",
    "\n",
    "results_vqls.node[\"pressure\"], results_vqls.link[\"flowrate\"]"
   ]
  },
  {
   "cell_type": "markdown",
   "metadata": {},
   "source": [
    "### Plot Network model with absolute percent errors\n",
    "\n",
    "To compare the results, we plot the network together with the absolute percent errors (with respect to the classical results) for the predicted pressures and flow rates."
   ]
  },
  {
   "cell_type": "code",
   "execution_count": null,
   "metadata": {},
   "outputs": [
    {
     "data": {
      "image/png": "[encoded data removed]",
      "text/plain": [
       "<Figure size 640x480 with 3 Axes>"
      ]
     },
     "metadata": {},
     "output_type": "display_data"
    },
    {
     "data": {
      "text/plain": [
       "<Axes: title={'center': 'networks/Net0.inp: Absolute Percent Error'}>"
      ]
     },
     "execution_count": 5,
     "metadata": {},
     "output_type": "execute_result"
    }
   ],
   "source": [
    "from utils import get_ape_from_pd_series\n",
    "\n",
    "wntr.graphics.plot_network(\n",
    "    wn,\n",
    "    node_attribute=get_ape_from_pd_series(\n",
    "        results_vqls.node[\"pressure\"].iloc[0], results_epanet.node[\"pressure\"].iloc[0]\n",
    "    ),\n",
    "    link_attribute=get_ape_from_pd_series(\n",
    "        results_vqls.link[\"flowrate\"].iloc[0],\n",
    "        results_epanet.link[\"flowrate\"].iloc[0],\n",
    "    ),\n",
    "    node_colorbar_label=\"Pressures\",\n",
    "    link_colorbar_label=\"Flows\",\n",
    "    node_size=50,\n",
    "    title=f\"{inp_file}: Absolute Percent Error\",\n",
    "    node_labels=False,\n",
    ")"
   ]
  },
  {
   "cell_type": "markdown",
   "metadata": {},
   "source": [
    "### Plot pressures and flow rates\n",
    "\n",
    "Let's check graphically the equivalence of the results."
   ]
  },
  {
   "cell_type": "code",
   "execution_count": 6,
   "metadata": {},
   "outputs": [
    {
     "data": {
      "image/png": "[encoded data removed]",
      "text/plain": [
       "<Figure size 640x480 with 1 Axes>"
      ]
     },
     "metadata": {},
     "output_type": "display_data"
    },
    {
     "data": {
      "text/plain": [
       "([0.05000009, 0.05, 29.64769, 19.167675, -9.338379e-07],\n",
       " [0.05019662, 0.050194357, 29.645105, 19.088566, -9.338379e-07])"
      ]
     },
     "execution_count": 6,
     "metadata": {},
     "output_type": "execute_result"
    }
   ],
   "source": [
    "import matplotlib.pyplot as plt\n",
    "\n",
    "plt.scatter(\n",
    "    results_classical[:n_pipes],\n",
    "    results_quantum[:n_pipes],\n",
    "    label=\"Flow rates\",\n",
    "    color=\"blue\",\n",
    "    marker=\"o\",\n",
    ")\n",
    "plt.scatter(\n",
    "    results_classical[n_pipes:],\n",
    "    results_quantum[n_pipes:],\n",
    "    label=\"Pressures\",\n",
    "    color=\"red\",\n",
    "    marker=\"s\",\n",
    "    facecolors=\"none\",\n",
    ")\n",
    "plt.axline((0, 0), slope=1, linestyle=\"--\", color=\"gray\", label=\"\")\n",
    "plt.xlabel(\"Classical results\")\n",
    "plt.ylabel(\"Quantum results\")\n",
    "plt.legend()\n",
    "plt.show()\n",
    "\n",
    "results_classical, results_quantum"
   ]
  },
  {
   "cell_type": "code",
   "execution_count": null,
   "metadata": {},
   "outputs": [],
   "source": []
  }
 ],
 "metadata": {
  "kernelspec": {
   "display_name": ".venv",
   "language": "python",
   "name": "python3"
  },
  "language_info": {
   "codemirror_mode": {
    "name": "ipython",
    "version": 3
   },
   "file_extension": ".py",
   "mimetype": "text/x-python",
   "name": "python",
   "nbconvert_exporter": "python",
   "pygments_lexer": "ipython3",
   "version": "3.11.7"
  }
 },
 "nbformat": 4,
 "nbformat_minor": 2
}
