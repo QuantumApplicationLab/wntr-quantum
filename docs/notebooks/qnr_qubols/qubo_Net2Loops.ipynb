{
 "cells": [
  {
   "cell_type": "markdown",
   "metadata": {},
   "source": [
    "### Set up water network model\n",
    "\n",
    "In this example, we test our quantum solvers into a slightly larger network as contained in `Net2Loops.inp`. Let's start by setting up the model:"
   ]
  },
  {
   "cell_type": "code",
   "execution_count": 5,
   "metadata": {},
   "outputs": [
    {
     "data": {
      "image/png": "[encoded data removed]",
      "text/plain": [
       "<Figure size 640x480 with 1 Axes>"
      ]
     },
     "metadata": {},
     "output_type": "display_data"
    },
    {
     "data": {
      "text/plain": [
       "<Axes: title={'center': 'networks/Net2Loops.inp'}>"
      ]
     },
     "execution_count": 5,
     "metadata": {},
     "output_type": "execute_result"
    }
   ],
   "source": [
    "import os\n",
    "import wntr\n",
    "import wntr_quantum\n",
    "\n",
    "# set up network model\n",
    "inp_file = \"networks/Net2Loops.inp\"\n",
    "wn = wntr.network.WaterNetworkModel(inp_file)\n",
    "\n",
    "# plot network\n",
    "wntr.graphics.plot_network(wn, title=wn.name, node_labels=True)\n",
    "\n",
    "# print options\n",
    "# dict(wn.options.hydraulic)"
   ]
  },
  {
   "cell_type": "markdown",
   "metadata": {},
   "source": [
    "### Solve model using the classical WNTR simulator\n",
    "\n",
    "For comparison, we will start with by solving the network model with the classical WNTR simulator."
   ]
  },
  {
   "cell_type": "code",
   "execution_count": 6,
   "metadata": {},
   "outputs": [
    {
     "name": "stdout",
     "output_type": "stream",
     "text": [
      "Size of the Jacobian in WNTR simulator: 14\n",
      "Size of the b vector in WNTR simulator: 14\n"
     ]
    },
    {
     "data": {
      "text/plain": [
       "(          2          3          4          5          6          7    1\n",
       " 0  53.24755  30.665142  44.321299  28.810032  30.547479  27.057524  0.0,\n",
       "          1         2         3         4         5         6         7  \\\n",
       " 0  0.31109  0.051455  0.231865  0.031844  0.166691  0.075021  0.023685   \n",
       " \n",
       "           8  \n",
       " 0 -0.019471  )"
      ]
     },
     "execution_count": 6,
     "metadata": {},
     "output_type": "execute_result"
    }
   ],
   "source": [
    "# define the classical WNTR simulator\n",
    "sim = wntr.sim.WNTRSimulator(wn)\n",
    "\n",
    "# run WNTR simulator\n",
    "results_wntr = sim.run_sim()\n",
    "\n",
    "# set A and b matrices\n",
    "wntr_A = sim._model.evaluate_jacobian()\n",
    "wntr_b = sim._model.evaluate_residuals()\n",
    "\n",
    "# set the size of the Jacobian (A matrix)\n",
    "wntr_A_dim = wntr_A.shape[0]\n",
    "print(f\"Size of the Jacobian in WNTR simulator: {wntr_A_dim}\")\n",
    "print(f\"Size of the b vector in WNTR simulator: {wntr_b.shape[0]}\")\n",
    "\n",
    "results_wntr.node[\"pressure\"], results_wntr.link[\"flowrate\"]"
   ]
  },
  {
   "cell_type": "markdown",
   "metadata": {},
   "source": [
    "### Solve model using the classical Epanet simulator\n",
    "\n",
    "We now solve the same problem using the classical Epanet simulator. Note that, by default, `QuantumEpanetSimulator` uses a classical `CholeskySolver` to iteratively solve the linear problem."
   ]
  },
  {
   "cell_type": "code",
   "execution_count": 11,
   "metadata": {},
   "outputs": [
    {
     "name": "stdout",
     "output_type": "stream",
     "text": [
      "Your EPANET quantum path: /Users/murilo/Documents/NLeSC_Projects/Vitens/EPANET\n",
      "Your EPANET temp dir: /Users/murilo/scratch_dir/.epanet_quantum\n",
      "\n",
      "Size of the Jacobian in EPANET simulator: 6\n",
      "Size of the b vector in EPANET simulator: 6\n"
     ]
    },
    {
     "data": {
      "text/plain": [
       "(name          2          3          4          5          6          7  \\\n",
       " 0     53.247742  30.665516  44.321564  28.810593  30.547766  27.057959   \n",
       " \n",
       " name             1  \n",
       " 0     4.394531e-07  ,\n",
       " name         1         2         3         4         5         6         7  \\\n",
       " 0     0.311088  0.051455  0.231865  0.031844  0.166692  0.075021  0.023685   \n",
       " \n",
       " name         8  \n",
       " 0    -0.019471  )"
      ]
     },
     "execution_count": 11,
     "metadata": {},
     "output_type": "execute_result"
    }
   ],
   "source": [
    "import sys\n",
    "\n",
    "# define the classical EPANET simulator\n",
    "sim = wntr_quantum.sim.QuantumEpanetSimulator(wn)\n",
    "\n",
    "# run the EPANET simulation\n",
    "results_epanet = sim.run_sim()\n",
    "\n",
    "# remember to set up EPANET Quantum environment variables!\n",
    "epanet_path = os.environ[\"EPANET_QUANTUM\"]\n",
    "epanet_tmp = os.environ[\"EPANET_TMP\"]\n",
    "\n",
    "# check paths\n",
    "print(f\"Your EPANET quantum path: {epanet_path}\")\n",
    "print(f\"Your EPANET temp dir: {epanet_tmp}\\n\")\n",
    "\n",
    "util_path = os.path.join(epanet_path, \"src/py/\")\n",
    "sys.path.append(util_path)\n",
    "\n",
    "from quantum_linsolve import load_json_data\n",
    "\n",
    "epanet_A, epanet_b = load_json_data(os.path.join(epanet_tmp, \"smat.json\"))\n",
    "\n",
    "# set the size of the Jacobian (A matrix)\n",
    "epanet_A_dim = epanet_A.todense().shape[0]\n",
    "print(f\"Size of the Jacobian in EPANET simulator: {epanet_A_dim}\")\n",
    "print(f\"Size of the b vector in EPANET simulator: {epanet_b.shape[0]}\")\n",
    "\n",
    "# save number of nodes and pipes\n",
    "n_nodes = (len(results_epanet.node[\"pressure\"].iloc[0]),)\n",
    "n_pipes = len(results_epanet.link[\"flowrate\"].iloc[0])\n",
    "\n",
    "results_epanet.node[\"pressure\"], results_epanet.link[\"flowrate\"]"
   ]
  },
  {
   "cell_type": "markdown",
   "metadata": {},
   "source": [
    "### Define a helper function\n",
    "\n",
    "This function checks that the quantum results are within `TOL`% of those obtained classically. It also fills in lists containing the final values of pressures and flow rates obtained."
   ]
  },
  {
   "cell_type": "code",
   "execution_count": 12,
   "metadata": {},
   "outputs": [],
   "source": [
    "TOL = 5  # => per cent\n",
    "DELTA = 1.0e-12\n",
    "\n",
    "classical_res = []\n",
    "quantum_res = []\n",
    "\n",
    "\n",
    "def compare_results(classical_result, quantum_result):\n",
    "    \"\"\"\n",
    "    Helper function that compares the classical and quantum simulation results.\n",
    "    \"\"\"\n",
    "\n",
    "    def calculate_differences(classical_value, quantum_value):\n",
    "        \"\"\"Helper function to evaluate percentage difference between classical and quantum results.\"\"\"\n",
    "        is_close_to_classical = (\n",
    "            abs(classical_value - quantum_value) / abs(classical_value + DELTA)\n",
    "            <= TOL / 100.0\n",
    "        )\n",
    "        if is_close_to_classical:\n",
    "            print(\n",
    "                f\"Quantum result {quantum_value} within {TOL}% of classical result {classical_value}\"\n",
    "            )\n",
    "            quantum_res.append(quantum_value)\n",
    "            classical_res.append(classical_value)\n",
    "        return is_close_to_classical\n",
    "\n",
    "    for link in classical_result.link[\"flowrate\"].columns:\n",
    "        classical_value = classical_result.link[\"flowrate\"][link].iloc[0]\n",
    "        quantum_value = quantum_result.link[\"flowrate\"][link].iloc[0]\n",
    "        message = f\"Flowrate {link}: {quantum_value} not within {TOL}% of classical result {classical_value}\"\n",
    "        assert calculate_differences(classical_value, quantum_value), message\n",
    "\n",
    "    for node in classical_result.node[\"pressure\"].columns:\n",
    "        classical_value = classical_result.node[\"pressure\"][node].iloc[0]\n",
    "        quantum_value = quantum_result.node[\"pressure\"][node].iloc[0]\n",
    "        message = f\"Pressure {node}: {quantum_value} not within {TOL}% of classical result {classical_value}\"\n",
    "        assert calculate_differences(classical_value, quantum_value), message"
   ]
  },
  {
   "cell_type": "markdown",
   "metadata": {},
   "source": [
    "### Solve model using QUBO solver (with daptative encoding)\n",
    "\n",
    "Finally, we solve the problem once again but now using the QUBO quantum linear solver. The results are validated using the `compare_results` helper function defined above."
   ]
  },
  {
   "cell_type": "code",
   "execution_count": 13,
   "metadata": {},
   "outputs": [
    {
     "name": "stdout",
     "output_type": "stream",
     "text": [
      "{'encoding': <class 'qubols.encodings.RangedEfficientEncoding'>, 'num_qbits': 15, 'num_reads': 500, 'range': 600, 'offset': 0, 'iterations': 5, 'temperature': 10000.0}\n",
      "0 [0, 0, 0, 0, 0, 0] 600\n",
      "1 [375.6821095037539, 493.35286577549897, 542.8309833363853, 600.0, 370.81120673869253, 264.23731917231277] [343.00939088792046, 293.98356810212135, 230.7651907774218, 143.59211265362597, 302.6152756743076, 304.31350578508136]\n",
      "2 [622.2142206986061, 649.5411693072614, 660.0094989975812, 671.7916739758194, 620.2291440780184, 568.5508249573941] [168.24051197743037, 107.08380647959665, 78.70479103738079, 46.109362218611984, 144.77030569103925, 190.86560545705714]\n",
      "3 [656.3798914151362, 668.3525710681281, 674.4120481967552, 680.5249554849663, 662.0705282840289, 641.900629752464] [61.23823510614794, 37.71447565137372, 27.648908619784923, 16.190862835933927, 54.37300816186817, 77.5206805704735]\n",
      "4 [658.0058837435066, 669.1974232071531, 675.0044163190612, 680.870850742582, 663.3449734513185, 643.7696811401195] [21.632749448357, 13.29838968720091, 9.7327611386132, 5.680723286521678, 18.824330330872915, 26.954802496214928]\n",
      "0 [0, 0, 0, 0, 0, 0] 600\n",
      "1 [412.52517853872916, 513.4956967588354, 553.1221388024171, 600.0, 414.94231825672955, 328.14502838308] [322.0108888768258, 288.29762378175707, 240.6078998287295, 163.56309347997234, 315.2085517594682, 288.1937030045801]\n",
      "2 [608.9984035410334, 639.1408798023406, 652.1234116306821, 665.6828170667605, 621.81055658413, 580.312319634417] [166.46006510185447, 110.27367943752371, 86.01940117501563, 55.69952290286658, 154.86009512539303, 187.29799961154026]\n",
      "3 [612.452985860184, 640.8572802330661, 653.4675468135431, 666.5565750711579, 625.2890718137068, 586.8859843952454] [66.05410729986475, 41.90279140273877, 32.54479386585735, 21.051576119618986, 62.41275612370245, 81.73277570313071]\n",
      "4 [613.6597894716512, 641.576800358717, 653.9747248784165, 666.8640782759186, 626.0142633689185, 588.1548052622404] [26.44088491272561, 16.56491666880564, 12.802689303990338, 8.244123925884637, 24.49368948767522, 32.57596896052344]\n",
      "0 [0, 0, 0, 0, 0, 0] 600\n",
      "1 [420.7288042483062, 518.0003662332906, 555.5026551913569, 600.0, 409.6685588720014, 337.5206006225966] [331.1168065896379, 292.3489282428696, 240.74771679390358, 162.42463494547795, 311.7403266314186, 283.7807318407874]\n",
      "2 [614.4310244982659, 641.9671613564802, 654.2528631419784, 667.020114278913, 626.1152545585294, 587.4894549956908] [163.91259976565382, 107.51827204483779, 84.01114027010675, 54.801087156835536, 153.3018143432537, 181.72987566115216]\n",
      "3 [614.3874202491089, 641.9597174717128, 654.2465804342054, 667.0181381522146, 626.131134964166, 587.4817203468655] [65.24888725532259, 40.88965886333298, 31.60607981346713, 20.388824580056678, 60.85389150257749, 80.40485357159668]\n",
      "4 [614.3606638932998, 641.9527962711617, 654.2420082382033, 667.0157872147901, 626.1284823283257, 587.4631097473286] [25.38992510637867, 15.876805020991535, 12.240724585215448, 7.8846292042557735, 23.411643147640504, 31.102099347177003]\n",
      "0 [0, 0, 0, 0, 0, 0] 600\n",
      "1 [412.52517853872916, 513.6788134041384, 553.1221388024171, 600.0, 413.5872550814869, 321.91906244277607] [326.80740401399464, 283.98853011711634, 233.99394090205544, 158.1405936896263, 310.0956232747919, 288.1251914781597]\n",
      "2 [622.5372855679262, 646.806562369496, 657.771690471181, 669.1810800813985, 631.977250890835, 596.5551480267925] [168.10369749341902, 109.33842991747788, 85.28523578000156, 55.56553257123051, 158.16642858182368, 190.21847523609358]\n",
      "3 [614.8108566957694, 642.2749873274422, 654.5181183316156, 667.2274850889655, 627.0342483007175, 588.2534810675172] [68.22732541203443, 42.96237509420345, 33.3711592740945, 21.617422352163008, 64.42712727908884, 84.36114620469425]\n",
      "4 [614.2280180793767, 641.8869523147102, 654.192220463744, 666.9833591859257, 626.0037024278059, 587.2596685086197] [26.09313163249966, 16.283166237945494, 12.612857785262895, 8.143940196866243, 24.476036869360108, 32.43037284126803]\n",
      "0 [0, 0, 0, 0, 0, 0] 600\n",
      "1 [412.52517853872916, 513.6421900750778, 553.1221388024171, 600.0, 414.2098516755173, 323.45724226332175] [328.7784866029223, 276.4282740716485, 225.8086118708027, 151.30644704543158, 315.4925240309906, 291.12249975033063]\n",
      "2 [618.0242753350377, 643.2284381704804, 654.9972930830296, 667.3781522836789, 626.8355689658412, 590.5270878194378] [161.9905746957872, 104.61859466684464, 81.56572697375891, 53.0747183545767, 152.2808257748505, 186.0882195777782]\n",
      "3 [612.9518731608977, 641.1275093024226, 653.6231771918767, 666.6233204838487, 624.96726365053, 585.7905446000073] [65.83011829105904, 41.02881612839227, 31.631298361621393, 20.383120370309896, 61.01844736505769, 80.73515366198745]\n",
      "4 [613.381507685891, 641.3637022719348, 653.7900667689594, 666.7243025498724, 625.2399329476789, 586.2382062731529] [25.682672849036475, 15.874427147144575, 12.179422528228962, 7.812779647660771, 23.074609495580013, 31.012563536251577]\n",
      "Quantum result 0.31115150451660156 within 5% of classical result 0.3110875189304352\n",
      "Quantum result 0.0514703132212162 within 5% of classical result 0.05145493522286415\n",
      "Quantum result 0.23190975189208984 within 5% of classical result 0.2318645417690277\n",
      "Quantum result 0.03185334801673889 within 5% of classical result 0.0318441279232502\n",
      "Quantum result 0.16672007739543915 within 5% of classical result 0.1666916012763977\n",
      "Quantum result 0.07504110783338547 within 5% of classical result 0.07502065598964691\n",
      "Quantum result 0.023690827190876007 within 5% of classical result 0.023684944957494736\n",
      "Quantum result -0.019477857276797295 within 5% of classical result -0.019470814615488052\n",
      "Quantum result 53.245174407958984 within 5% of classical result 53.24774169921875\n",
      "Quantum result 30.655990600585938 within 5% of classical result 30.665515899658203\n",
      "Quantum result 44.31758117675781 within 5% of classical result 44.321563720703125\n",
      "Quantum result 28.795616149902344 within 5% of classical result 28.810592651367188\n",
      "Quantum result 30.54259490966797 within 5% of classical result 30.547765731811523\n",
      "Quantum result 27.048507690429688 within 5% of classical result 27.057958602905273\n",
      "Quantum result 4.39453117451194e-07 within 5% of classical result 4.39453117451194e-07\n"
     ]
    }
   ],
   "source": [
    "from quantum_newton_raphson.qubo_solver import QUBO_SOLVER\n",
    "from qubols.encodings import RangedEfficientEncoding\n",
    "\n",
    "linear_solver = QUBO_SOLVER(\n",
    "    encoding=RangedEfficientEncoding,\n",
    "    num_qbits=15,\n",
    "    num_reads=500,\n",
    "    range=600,\n",
    "    offset=0,\n",
    "    iterations=5,\n",
    "    temperature=1e4,\n",
    "    use_aequbols=True,\n",
    ")\n",
    "\n",
    "sim = wntr_quantum.sim.QuantumEpanetSimulator(wn, linear_solver=linear_solver)\n",
    "results_qubos = sim.run_sim(linear_solver=linear_solver)\n",
    "\n",
    "# check that the results are within a certain tolerance from the classical epanet\n",
    "compare_results(results_epanet, results_qubos)"
   ]
  },
  {
   "cell_type": "markdown",
   "metadata": {},
   "source": [
    "### Plot pressures and flow rates\n",
    "\n",
    "Let's check graphically the equivalence of the results."
   ]
  },
  {
   "cell_type": "code",
   "execution_count": 14,
   "metadata": {},
   "outputs": [
    {
     "data": {
      "image/png": "[encoded data removed]",
      "text/plain": [
       "<Figure size 640x480 with 1 Axes>"
      ]
     },
     "metadata": {},
     "output_type": "display_data"
    }
   ],
   "source": [
    "import matplotlib.pyplot as plt\n",
    "\n",
    "plt.scatter(\n",
    "    classical_res[:n_pipes],\n",
    "    quantum_res[:n_pipes],\n",
    "    label=\"Flow rates\",\n",
    "    color=\"blue\",\n",
    "    marker=\"o\",\n",
    ")\n",
    "plt.scatter(\n",
    "    classical_res[n_pipes:],\n",
    "    quantum_res[n_pipes:],\n",
    "    label=\"Pressures\",\n",
    "    color=\"red\",\n",
    "    marker=\"s\",\n",
    "    facecolors=\"none\",\n",
    ")\n",
    "plt.axline((0, 0), slope=1, linestyle=\"--\", color=\"gray\", label=\"\")\n",
    "plt.xlabel(\"Classical results\")\n",
    "plt.ylabel(\"Quantum results\")\n",
    "plt.legend()\n",
    "plt.show()"
   ]
  }
 ],
 "metadata": {
  "kernelspec": {
   "display_name": ".venv",
   "language": "python",
   "name": "python3"
  },
  "language_info": {
   "codemirror_mode": {
    "name": "ipython",
    "version": 3
   },
   "file_extension": ".py",
   "mimetype": "text/x-python",
   "name": "python",
   "nbconvert_exporter": "python",
   "pygments_lexer": "ipython3",
   "version": "3.11.7"
  }
 },
 "nbformat": 4,
 "nbformat_minor": 2
}
